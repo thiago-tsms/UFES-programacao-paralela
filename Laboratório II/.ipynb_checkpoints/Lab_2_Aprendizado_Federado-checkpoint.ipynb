{
 "cells": [
  {
   "cell_type": "markdown",
   "metadata": {
    "id": "nGCwhCOx_9BR"
   },
   "source": [
    "<h1><center>Sistemas Distribuídos – 2023/1\n",
    "\n",
    "Prof. Rodolfo da Silva Villaça – rodolfo.villaca@ufes.br \\\\\n",
    "Monitor: Eduardo M. Moraes Sarmento – eduardo.sarmento@ufes.br\n",
    "\n",
    "Laboratório II – Aprendizado Federado usando a biblioteca Flower</h1></center>"
   ]
  },
  {
   "cell_type": "markdown",
   "metadata": {
    "id": "HfbB0PxwAq-q"
   },
   "source": [
    "<u>Objetivo</u>:\\\n",
    "Experimentar o treinamento de modelos de aprendizado de máquina por meio do *framework* de aprendizado *flwr*, disponível na biblioteca *flower* Comparar os resultados atingidos pelo modelo treinado de maneira local e federada."
   ]
  },
  {
   "cell_type": "markdown",
   "metadata": {
    "id": "Uh8VLSKIFsFV"
   },
   "source": [
    "Este roteiro de laboratório foi testado usando o [Google Colab](https://colab.research.google.com/), ambiente de desenvolvimento colaborativo Python disponibilizado pelo Google como um serviço em nuvem.\\\n",
    "\\\n",
    "Para a execução do código deste roteiro são necessárias as bibliotecas *tensorflow* (versão 2.12.0), *numpy* (versão 1.22.4), *ray* (versão 2.2.0), *matplotlib* (versão 3.7.1) e *flower* (versão 1.3.0). As quatro primeiras já vem instaladas no **Google Colab**,. ntão, caso esteja executando por ele, não é necessária sua instalação. A biblioteca flower não vem instalada,  então precisamos instalá-la, e também o seu módulo de simulação, para podermos simular o treinamento federado no *notebook*."
   ]
  },
  {
   "cell_type": "markdown",
   "metadata": {
    "id": "CzNS6Vh14t8O"
   },
   "source": [
    "A célula seguinte executa a instalação de todas as bibliotecas necessárias. Caso esteja fora do Colab, é preciso descomentar as linhas de 3 a 5."
   ]
  },
  {
   "cell_type": "code",
   "execution_count": 1,
   "metadata": {
    "colab": {
     "base_uri": "https://localhost:8080/"
    },
    "id": "ZR5l58I7JhXc",
    "outputId": "02a37624-9f29-4452-8c44-205fe8cb714a",
    "scrolled": false
   },
   "outputs": [
    {
     "name": "stdout",
     "output_type": "stream",
     "text": [
      "Looking in indexes: https://pypi.org/simple, https://us-python.pkg.dev/colab-wheels/public/simple/\n",
      "Collecting flwr==1.3.0\n",
      "  Downloading flwr-1.3.0-py3-none-any.whl (139 kB)\n",
      "\u001b[2K     \u001b[90m━━━━━━━━━━━━━━━━━━━━━━━━━━━━━━━━━━━━━━━\u001b[0m \u001b[32m139.3/139.3 kB\u001b[0m \u001b[31m3.5 MB/s\u001b[0m eta \u001b[36m0:00:00\u001b[0m\n",
      "\u001b[?25hRequirement already satisfied: numpy<2.0.0,>=1.21.0 in /usr/local/lib/python3.9/dist-packages (from flwr==1.3.0) (1.22.4)\n",
      "Collecting iterators<0.0.3,>=0.0.2\n",
      "  Downloading iterators-0.0.2-py3-none-any.whl (3.9 kB)\n",
      "Requirement already satisfied: grpcio!=1.52.0,<2.0.0,>=1.43.0 in /usr/local/lib/python3.9/dist-packages (from flwr==1.3.0) (1.53.0)\n",
      "Requirement already satisfied: protobuf<4.0.0,>=3.19.0 in /usr/local/lib/python3.9/dist-packages (from flwr==1.3.0) (3.20.3)\n",
      "Installing collected packages: iterators, flwr\n",
      "Successfully installed flwr-1.3.0 iterators-0.0.2\n",
      "Looking in indexes: https://pypi.org/simple, https://us-python.pkg.dev/colab-wheels/public/simple/\n",
      "Requirement already satisfied: flwr[simulation] in /usr/local/lib/python3.9/dist-packages (1.3.0)\n",
      "Requirement already satisfied: protobuf<4.0.0,>=3.19.0 in /usr/local/lib/python3.9/dist-packages (from flwr[simulation]) (3.20.3)\n",
      "Requirement already satisfied: iterators<0.0.3,>=0.0.2 in /usr/local/lib/python3.9/dist-packages (from flwr[simulation]) (0.0.2)\n",
      "Requirement already satisfied: grpcio!=1.52.0,<2.0.0,>=1.43.0 in /usr/local/lib/python3.9/dist-packages (from flwr[simulation]) (1.53.0)\n",
      "Requirement already satisfied: numpy<2.0.0,>=1.21.0 in /usr/local/lib/python3.9/dist-packages (from flwr[simulation]) (1.22.4)\n",
      "Collecting ray[default]<2.3.0,>=2.2.0\n",
      "  Downloading ray-2.2.0-cp39-cp39-manylinux2014_x86_64.whl (57.4 MB)\n",
      "\u001b[2K     \u001b[90m━━━━━━━━━━━━━━━━━━━━━━━━━━━━━━━━━━━━━━━━\u001b[0m \u001b[32m57.4/57.4 MB\u001b[0m \u001b[31m7.3 MB/s\u001b[0m eta \u001b[36m0:00:00\u001b[0m\n",
      "\u001b[?25hRequirement already satisfied: requests in /usr/local/lib/python3.9/dist-packages (from ray[default]<2.3.0,>=2.2.0->flwr[simulation]) (2.27.1)\n",
      "Collecting frozenlist\n",
      "  Downloading frozenlist-1.3.3-cp39-cp39-manylinux_2_5_x86_64.manylinux1_x86_64.manylinux_2_17_x86_64.manylinux2014_x86_64.whl (158 kB)\n",
      "\u001b[2K     \u001b[90m━━━━━━━━━━━━━━━━━━━━━━━━━━━━━━━━━━━━━━━\u001b[0m \u001b[32m158.8/158.8 kB\u001b[0m \u001b[31m7.0 MB/s\u001b[0m eta \u001b[36m0:00:00\u001b[0m\n",
      "\u001b[?25hRequirement already satisfied: msgpack<2.0.0,>=1.0.0 in /usr/local/lib/python3.9/dist-packages (from ray[default]<2.3.0,>=2.2.0->flwr[simulation]) (1.0.5)\n",
      "Requirement already satisfied: attrs in /usr/local/lib/python3.9/dist-packages (from ray[default]<2.3.0,>=2.2.0->flwr[simulation]) (22.2.0)\n",
      "Requirement already satisfied: pyyaml in /usr/local/lib/python3.9/dist-packages (from ray[default]<2.3.0,>=2.2.0->flwr[simulation]) (6.0)\n",
      "Collecting virtualenv>=20.0.24\n",
      "  Downloading virtualenv-20.21.0-py3-none-any.whl (8.7 MB)\n",
      "\u001b[2K     \u001b[90m━━━━━━━━━━━━━━━━━━━━━━━━━━━━━━━━━━━━━━━━\u001b[0m \u001b[32m8.7/8.7 MB\u001b[0m \u001b[31m31.0 MB/s\u001b[0m eta \u001b[36m0:00:00\u001b[0m\n",
      "\u001b[?25hRequirement already satisfied: click>=7.0 in /usr/local/lib/python3.9/dist-packages (from ray[default]<2.3.0,>=2.2.0->flwr[simulation]) (8.1.3)\n",
      "Requirement already satisfied: filelock in /usr/local/lib/python3.9/dist-packages (from ray[default]<2.3.0,>=2.2.0->flwr[simulation]) (3.11.0)\n",
      "Requirement already satisfied: jsonschema in /usr/local/lib/python3.9/dist-packages (from ray[default]<2.3.0,>=2.2.0->flwr[simulation]) (4.3.3)\n",
      "Collecting aiosignal\n",
      "  Downloading aiosignal-1.3.1-py3-none-any.whl (7.6 kB)\n",
      "Requirement already satisfied: smart-open in /usr/local/lib/python3.9/dist-packages (from ray[default]<2.3.0,>=2.2.0->flwr[simulation]) (6.3.0)\n",
      "Collecting py-spy>=0.2.0\n",
      "  Downloading py_spy-0.3.14-py2.py3-none-manylinux_2_5_x86_64.manylinux1_x86_64.whl (3.0 MB)\n",
      "\u001b[2K     \u001b[90m━━━━━━━━━━━━━━━━━━━━━━━━━━━━━━━━━━━━━━━━\u001b[0m \u001b[32m3.0/3.0 MB\u001b[0m \u001b[31m23.9 MB/s\u001b[0m eta \u001b[36m0:00:00\u001b[0m\n",
      "\u001b[?25hRequirement already satisfied: pydantic in /usr/local/lib/python3.9/dist-packages (from ray[default]<2.3.0,>=2.2.0->flwr[simulation]) (1.10.7)\n",
      "Collecting colorful\n",
      "  Downloading colorful-0.5.5-py2.py3-none-any.whl (201 kB)\n",
      "\u001b[2K     \u001b[90m━━━━━━━━━━━━━━━━━━━━━━━━━━━━━━━━━━━━━━\u001b[0m \u001b[32m201.4/201.4 kB\u001b[0m \u001b[31m11.5 MB/s\u001b[0m eta \u001b[36m0:00:00\u001b[0m\n",
      "\u001b[?25hCollecting opencensus\n",
      "  Downloading opencensus-0.11.2-py2.py3-none-any.whl (128 kB)\n",
      "\u001b[2K     \u001b[90m━━━━━━━━━━━━━━━━━━━━━━━━━━━━━━━━━━━━━━━\u001b[0m \u001b[32m128.2/128.2 kB\u001b[0m \u001b[31m6.2 MB/s\u001b[0m eta \u001b[36m0:00:00\u001b[0m\n",
      "\u001b[?25hCollecting prometheus-client<0.14.0,>=0.7.1\n",
      "  Downloading prometheus_client-0.13.1-py3-none-any.whl (57 kB)\n",
      "\u001b[2K     \u001b[90m━━━━━━━━━━━━━━━━━━━━━━━━━━━━━━━━━━━━━━━━\u001b[0m \u001b[32m57.1/57.1 kB\u001b[0m \u001b[31m2.8 MB/s\u001b[0m eta \u001b[36m0:00:00\u001b[0m\n",
      "\u001b[?25hCollecting gpustat>=1.0.0\n",
      "  Downloading gpustat-1.1.tar.gz (97 kB)\n",
      "\u001b[2K     \u001b[90m━━━━━━━━━━━━━━━━━━━━━━━━━━━━━━━━━━━━━━━━\u001b[0m \u001b[32m97.9/97.9 kB\u001b[0m \u001b[31m2.9 MB/s\u001b[0m eta \u001b[36m0:00:00\u001b[0m\n",
      "\u001b[?25h  Installing build dependencies ... \u001b[?25l\u001b[?25hdone\n",
      "  Getting requirements to build wheel ... \u001b[?25l\u001b[?25hdone\n",
      "  Preparing metadata (pyproject.toml) ... \u001b[?25l\u001b[?25hdone\n",
      "Collecting aiohttp-cors\n",
      "  Downloading aiohttp_cors-0.7.0-py3-none-any.whl (27 kB)\n",
      "Collecting aiohttp>=3.7\n",
      "  Downloading aiohttp-3.8.4-cp39-cp39-manylinux_2_17_x86_64.manylinux2014_x86_64.whl (1.0 MB)\n",
      "\u001b[2K     \u001b[90m━━━━━━━━━━━━━━━━━━━━━━━━━━━━━━━━━━━━━━━━\u001b[0m \u001b[32m1.0/1.0 MB\u001b[0m \u001b[31m56.3 MB/s\u001b[0m eta \u001b[36m0:00:00\u001b[0m\n",
      "\u001b[?25hCollecting async-timeout<5.0,>=4.0.0a3\n",
      "  Downloading async_timeout-4.0.2-py3-none-any.whl (5.8 kB)\n",
      "Requirement already satisfied: charset-normalizer<4.0,>=2.0 in /usr/local/lib/python3.9/dist-packages (from aiohttp>=3.7->ray[default]<2.3.0,>=2.2.0->flwr[simulation]) (2.0.12)\n",
      "Collecting multidict<7.0,>=4.5\n",
      "  Downloading multidict-6.0.4-cp39-cp39-manylinux_2_17_x86_64.manylinux2014_x86_64.whl (114 kB)\n",
      "\u001b[2K     \u001b[90m━━━━━━━━━━━━━━━━━━━━━━━━━━━━━━━━━━━━━━\u001b[0m \u001b[32m114.2/114.2 kB\u001b[0m \u001b[31m11.3 MB/s\u001b[0m eta \u001b[36m0:00:00\u001b[0m\n",
      "\u001b[?25hCollecting yarl<2.0,>=1.0\n",
      "  Downloading yarl-1.8.2-cp39-cp39-manylinux_2_17_x86_64.manylinux2014_x86_64.whl (264 kB)\n",
      "\u001b[2K     \u001b[90m━━━━━━━━━━━━━━━━━━━━━━━━━━━━━━━━━━━━━━\u001b[0m \u001b[32m264.6/264.6 kB\u001b[0m \u001b[31m25.6 MB/s\u001b[0m eta \u001b[36m0:00:00\u001b[0m\n",
      "\u001b[?25hCollecting nvidia-ml-py>=11.450.129\n",
      "  Downloading nvidia_ml_py-11.525.112-py3-none-any.whl (35 kB)\n",
      "Requirement already satisfied: psutil>=5.6.0 in /usr/local/lib/python3.9/dist-packages (from gpustat>=1.0.0->ray[default]<2.3.0,>=2.2.0->flwr[simulation]) (5.9.4)\n",
      "Collecting blessed>=1.17.1\n",
      "  Downloading blessed-1.20.0-py2.py3-none-any.whl (58 kB)\n",
      "\u001b[2K     \u001b[90m━━━━━━━━━━━━━━━━━━━━━━━━━━━━━━━━━━━━━━━━\u001b[0m \u001b[32m58.4/58.4 kB\u001b[0m \u001b[31m6.2 MB/s\u001b[0m eta \u001b[36m0:00:00\u001b[0m\n",
      "\u001b[?25hCollecting distlib<1,>=0.3.6\n",
      "  Downloading distlib-0.3.6-py2.py3-none-any.whl (468 kB)\n",
      "\u001b[2K     \u001b[90m━━━━━━━━━━━━━━━━━━━━━━━━━━━━━━━━━━━━━━\u001b[0m \u001b[32m468.5/468.5 kB\u001b[0m \u001b[31m41.9 MB/s\u001b[0m eta \u001b[36m0:00:00\u001b[0m\n",
      "\u001b[?25hRequirement already satisfied: platformdirs<4,>=2.4 in /usr/local/lib/python3.9/dist-packages (from virtualenv>=20.0.24->ray[default]<2.3.0,>=2.2.0->flwr[simulation]) (3.2.0)\n",
      "Requirement already satisfied: pyrsistent!=0.17.0,!=0.17.1,!=0.17.2,>=0.14.0 in /usr/local/lib/python3.9/dist-packages (from jsonschema->ray[default]<2.3.0,>=2.2.0->flwr[simulation]) (0.19.3)\n",
      "Collecting opencensus-context>=0.1.3\n",
      "  Downloading opencensus_context-0.1.3-py2.py3-none-any.whl (5.1 kB)\n",
      "Requirement already satisfied: google-api-core<3.0.0,>=1.0.0 in /usr/local/lib/python3.9/dist-packages (from opencensus->ray[default]<2.3.0,>=2.2.0->flwr[simulation]) (2.11.0)\n",
      "Requirement already satisfied: typing-extensions>=4.2.0 in /usr/local/lib/python3.9/dist-packages (from pydantic->ray[default]<2.3.0,>=2.2.0->flwr[simulation]) (4.5.0)\n",
      "Requirement already satisfied: urllib3<1.27,>=1.21.1 in /usr/local/lib/python3.9/dist-packages (from requests->ray[default]<2.3.0,>=2.2.0->flwr[simulation]) (1.26.15)\n",
      "Requirement already satisfied: certifi>=2017.4.17 in /usr/local/lib/python3.9/dist-packages (from requests->ray[default]<2.3.0,>=2.2.0->flwr[simulation]) (2022.12.7)\n",
      "Requirement already satisfied: idna<4,>=2.5 in /usr/local/lib/python3.9/dist-packages (from requests->ray[default]<2.3.0,>=2.2.0->flwr[simulation]) (3.4)\n",
      "Requirement already satisfied: six>=1.9.0 in /usr/local/lib/python3.9/dist-packages (from blessed>=1.17.1->gpustat>=1.0.0->ray[default]<2.3.0,>=2.2.0->flwr[simulation]) (1.16.0)\n",
      "Requirement already satisfied: wcwidth>=0.1.4 in /usr/local/lib/python3.9/dist-packages (from blessed>=1.17.1->gpustat>=1.0.0->ray[default]<2.3.0,>=2.2.0->flwr[simulation]) (0.2.6)\n",
      "Requirement already satisfied: googleapis-common-protos<2.0dev,>=1.56.2 in /usr/local/lib/python3.9/dist-packages (from google-api-core<3.0.0,>=1.0.0->opencensus->ray[default]<2.3.0,>=2.2.0->flwr[simulation]) (1.59.0)\n",
      "Requirement already satisfied: google-auth<3.0dev,>=2.14.1 in /usr/local/lib/python3.9/dist-packages (from google-api-core<3.0.0,>=1.0.0->opencensus->ray[default]<2.3.0,>=2.2.0->flwr[simulation]) (2.17.2)\n",
      "Requirement already satisfied: pyasn1-modules>=0.2.1 in /usr/local/lib/python3.9/dist-packages (from google-auth<3.0dev,>=2.14.1->google-api-core<3.0.0,>=1.0.0->opencensus->ray[default]<2.3.0,>=2.2.0->flwr[simulation]) (0.2.8)\n",
      "Requirement already satisfied: rsa<5,>=3.1.4 in /usr/local/lib/python3.9/dist-packages (from google-auth<3.0dev,>=2.14.1->google-api-core<3.0.0,>=1.0.0->opencensus->ray[default]<2.3.0,>=2.2.0->flwr[simulation]) (4.9)\n",
      "Requirement already satisfied: cachetools<6.0,>=2.0.0 in /usr/local/lib/python3.9/dist-packages (from google-auth<3.0dev,>=2.14.1->google-api-core<3.0.0,>=1.0.0->opencensus->ray[default]<2.3.0,>=2.2.0->flwr[simulation]) (5.3.0)\n",
      "Requirement already satisfied: pyasn1<0.5.0,>=0.4.6 in /usr/local/lib/python3.9/dist-packages (from pyasn1-modules>=0.2.1->google-auth<3.0dev,>=2.14.1->google-api-core<3.0.0,>=1.0.0->opencensus->ray[default]<2.3.0,>=2.2.0->flwr[simulation]) (0.4.8)\n",
      "Building wheels for collected packages: gpustat\n",
      "  Building wheel for gpustat (pyproject.toml) ... \u001b[?25l\u001b[?25hdone\n",
      "  Created wheel for gpustat: filename=gpustat-1.1-py3-none-any.whl size=26298 sha256=8ec01a0624a34429c890ec0e149544451a12cd500de2ebfb85ceef17a93acb50\n",
      "  Stored in directory: /root/.cache/pip/wheels/91/f0/b3/8566d6821307110981a5db015cbf8fd88697446f81e5f40a27\n",
      "Successfully built gpustat\n",
      "Installing collected packages: py-spy, opencensus-context, nvidia-ml-py, distlib, colorful, virtualenv, prometheus-client, multidict, frozenlist, blessed, async-timeout, yarl, gpustat, aiosignal, ray, aiohttp, opencensus, aiohttp-cors\n",
      "  Attempting uninstall: prometheus-client\n",
      "    Found existing installation: prometheus-client 0.16.0\n",
      "    Uninstalling prometheus-client-0.16.0:\n",
      "      Successfully uninstalled prometheus-client-0.16.0\n",
      "Successfully installed aiohttp-3.8.4 aiohttp-cors-0.7.0 aiosignal-1.3.1 async-timeout-4.0.2 blessed-1.20.0 colorful-0.5.5 distlib-0.3.6 frozenlist-1.3.3 gpustat-1.1 multidict-6.0.4 nvidia-ml-py-11.525.112 opencensus-0.11.2 opencensus-context-0.1.3 prometheus-client-0.13.1 py-spy-0.3.14 ray-2.2.0 virtualenv-20.21.0 yarl-1.8.2\n"
     ]
    }
   ],
   "source": [
    "!pip install flwr==1.3.0\n",
    "!pip install -U flwr[\"simulation\"]\n",
    "#!pip install ray==2.2.0\n",
    "#!pip install tensorflow==2.12.0\n",
    "#!pip install numpy==1.22.4\n",
    "#!pip install matplotlib==3.7.1"
   ]
  },
  {
   "cell_type": "markdown",
   "metadata": {
    "id": "Xt4gBsQ7VYUA"
   },
   "source": [
    "###Célula de Importação "
   ]
  },
  {
   "cell_type": "markdown",
   "metadata": {
    "id": "6wD8STHmJcZZ"
   },
   "source": [
    "Importamos a biblioteca *os*, que lida com o sistema operacional. Utilizamos ela para configurar a *flag* \"TF_CPP_MIN_LOG_LEVEL\" com o valor 3, isto faz com que os logs do *tensorflow* sejam menos verbosos durante o treinamento.\\\n",
    "Depois, importamos as demais bibliotecas: \n",
    "\n",
    "1.   *flower*, para efetuar o aprendizado federado;\n",
    "2.   *tensorflow*, para definir uma arquitetura de rede neural, incluindo todas as camadas e otimizador que usaremos;\n",
    "3.   *numpy*, biblioteca de maniupulação eficiente de vetores numéricos;\n",
    "4.   *ray*, biblioteca utilizada pelo *flower* para instanciar a simulação do aprendizado federado.\n",
    "5.   *matplotlib*, biblioteca para plotar gráficos.\n",
    "\n",
    "\n",
    "\n"
   ]
  },
  {
   "cell_type": "code",
   "execution_count": 2,
   "metadata": {
    "id": "3dwfd_R6JSkE"
   },
   "outputs": [],
   "source": [
    "import os\n",
    "# Make TensorFlow logs less verbose\n",
    "os.environ[\"TF_CPP_MIN_LOG_LEVEL\"] = \"3\"\n",
    "import flwr as fl\n",
    "import tensorflow as tf\n",
    "from tensorflow.keras.models import Sequential\n",
    "from tensorflow.keras.layers import Conv2D, MaxPool2D,Flatten,Dense\n",
    "from tensorflow.keras.optimizers import SGD\n",
    "import numpy as np\n",
    "import ray\n",
    "from matplotlib import pyplot as plt"
   ]
  },
  {
   "cell_type": "markdown",
   "metadata": {
    "id": "WMrrg_-wTSSg"
   },
   "source": [
    "#### Importação e Pré-rocessamento dos Dados"
   ]
  },
  {
   "cell_type": "markdown",
   "metadata": {
    "id": "LpgFLN0YGu2P"
   },
   "source": [
    "Neste laboratório usaremos o *dataset* MNIST, muito usado como referência na literatura. Este *dataset* é composto por imagens monocromáticas de 28 por 28 píxels (*28x28*), representando dígitos de 0 a 9 escritos a mão e anotadas com o valor do dígito. Ele contém dois *subdatasets*: o de treino e o de teste. O *subdataset* de treino é formado por 60 mil imagens, enquanto o *subdataset* de treino contém 10 mil imagens.\n",
    "\n",
    "O *tensorflow* já nos provê esse *dataset*, separando os *subdatasets* de treino entre: atributos alvo, tambem chamados de classes ou *targets* (*y_train e y_test*), e atributos não alvo (*x_train* e *x_test*), ou *features*. Sendo assim, para carregar este *dataset* basta instanciar (atribuição da variavel *mnist*) e carregar (método *load_data*)."
   ]
  },
  {
   "cell_type": "code",
   "execution_count": 3,
   "metadata": {
    "colab": {
     "base_uri": "https://localhost:8080/"
    },
    "id": "Vh4cJYFwJuWl",
    "outputId": "7976451e-9bc9-45cb-80d6-f20aa64891ea"
   },
   "outputs": [
    {
     "name": "stdout",
     "output_type": "stream",
     "text": [
      "Downloading data from https://storage.googleapis.com/tensorflow/tf-keras-datasets/mnist.npz\n",
      "11490434/11490434 [==============================] - 0s 0us/step\n"
     ]
    }
   ],
   "source": [
    "mnist = tf.keras.datasets.mnist\n",
    "(x_train, y_train), (x_test, y_test) = mnist.load_data()"
   ]
  },
  {
   "cell_type": "markdown",
   "metadata": {
    "id": "7bhElqYx8io1"
   },
   "source": [
    "Plotamos, como exemplo, os 10 primeiros dígitos do *dataset* de treino com suas classes. Por meio desse *plot* conseguiremos visualizar bem o tipo de dado que o *dataset* descreve.\n",
    "\n",
    " Vemos que as classes são o valor numérico que o digito representa e as imagens são dígitos escritos a mão, em preto e branco."
   ]
  },
  {
   "cell_type": "code",
   "execution_count": 4,
   "metadata": {
    "colab": {
     "base_uri": "https://localhost:8080/",
     "height": 380
    },
    "id": "YqbYR3v-7DyU",
    "outputId": "ba89af59-87b9-411b-fa21-337bad7fd1f0"
   },
   "outputs": [
    {
     "data": {
      "image/png": "[encoded data removed]",
      "text/plain": [
       "<Figure size 750x400 with 10 Axes>"
      ]
     },
     "metadata": {},
     "output_type": "display_data"
    }
   ],
   "source": [
    "num = 10\n",
    "images = x_train[:num]\n",
    "labels = y_train[:num]\n",
    "num_row = 2\n",
    "num_col = 5\n",
    "# plot images\n",
    "fig, axes = plt.subplots(num_row, num_col, figsize=(1.5*num_col,2*num_row))\n",
    "for i in range(num):\n",
    "    ax = axes[i//num_col, i%num_col]\n",
    "    ax.imshow(images[i], cmap='gray')\n",
    "    ax.set_title('Label: {}'.format(labels[i]))\n",
    "plt.tight_layout()\n",
    "plt.show()"
   ]
  },
  {
   "cell_type": "markdown",
   "metadata": {
    "id": "__UjhTmBJBaY"
   },
   "source": [
    "**Pré-Processamento dos Dados**\n",
    "\n",
    " Primeiro trabalhamos com os dados dos atributos não alvo (*features*), checando o formato dos *datasets* nas variáveis *x_train e x_test*. emos que eles têm os formatos (60000, 28, 28) e (10000, 28, 28) respectivamente.\n",
    "\n",
    " O primeiro número indica a quantidade de imagens contidas em cada *dataset*: 60000 para o treino e 10000 para o teste. Os outros dois números são a quantidade de pixeis de cada imagem, 28 píxeis verticais e 28 píxeis horizontais.\n",
    "\n",
    "Sendo assim, cada imagem é representada como matrizes de números (28 x 28). Já que as imagens são monocromáticas, cada elemento da matriz significa a luminosidade doassociad àquela posição do *pixel*,em valores que vão de 0 a 255."
   ]
  },
  {
   "cell_type": "code",
   "execution_count": 5,
   "metadata": {
    "colab": {
     "base_uri": "https://localhost:8080/"
    },
    "id": "SU2vN7wXJpMR",
    "outputId": "9b3a3a99-1a33-41ed-9cc8-4a877cf0902a"
   },
   "outputs": [
    {
     "name": "stdout",
     "output_type": "stream",
     "text": [
      "(60000, 28, 28)\n",
      "(10000, 28, 28)\n"
     ]
    }
   ],
   "source": [
    "print(x_train.shape)\n",
    "print(x_test.shape)"
   ]
  },
  {
   "cell_type": "markdown",
   "metadata": {
    "id": "F2-4DkEMOfzR"
   },
   "source": [
    "Para usar os *datasets* no treinamento e teste de modelos de aprendizado de máquina é necessario, inicialmente, pré-processar os dados.\n",
    "\n",
    "Primeiro fazemos o *reshape*, incluindo uma nova dimensão que indica que as imagens são monocromaticas (*reshape(x_train.shape[0], x_train.shape[1], x_train.shape[2], 1)*). \n",
    "\n",
    "Depois normalizamos os dados dos atributos não alvo, dividindo os valores de luminosidade dos pixeis pelo maior valor possivel, *255*, com isso fazendo com que estes valores fiquem na faixa entre 0 e 1. \n",
    "\n",
    "Com essas duas ações encerramos  pré-processamento dos atributos não alvo (*features*)."
   ]
  },
  {
   "cell_type": "code",
   "execution_count": 6,
   "metadata": {
    "id": "HW1ZnGTP7BY3"
   },
   "outputs": [],
   "source": [
    "x_train=x_train.reshape(x_train.shape[0], x_train.shape[1], x_train.shape[2], 1)\n",
    "x_train=x_train / 255.0\n",
    "x_test = x_test.reshape(x_test.shape[0], x_test.shape[1], x_test.shape[2], 1)\n",
    "x_test=x_test/255.0"
   ]
  },
  {
   "cell_type": "markdown",
   "metadata": {
    "id": "FI_Yh2zuQTTx"
   },
   "source": [
    "Para os atributos alvo (*target*) é necessário fazer o *one hot enconding* das classes. Esta operação consistem em transformar as classes adicionando novas colunas, que indicam a presença ou não da classe. Isto é, como neste *dataset* as classes são os números de 0 a 9, adicionamos 9 novas colunas, numeradas de 0 a 9. Para cada amostra, cada uma destas novas colunas terá os valores 0 ou 1, onde 0 indica   que a amostra não é daquela classe e 1 indica que a amostra é daquela classe. \n",
    "\n",
    "Printamos a primeira amostra do conjunto de treinamento , antes e depois da aplicação da operação, para vermos seu efeito sobre a amostra."
   ]
  },
  {
   "cell_type": "code",
   "execution_count": 7,
   "metadata": {
    "colab": {
     "base_uri": "https://localhost:8080/"
    },
    "id": "zT-Dx92e4_IG",
    "outputId": "82ee97e5-5a1b-4639-a22a-da85acbb590a"
   },
   "outputs": [
    {
     "name": "stdout",
     "output_type": "stream",
     "text": [
      "5\n",
      "tf.Tensor([0. 0. 0. 0. 0. 1. 0. 0. 0. 0.], shape=(10,), dtype=float32)\n"
     ]
    }
   ],
   "source": [
    "print(y_train[0])\n",
    "y_train = tf.one_hot(y_train.astype(np.int32), depth=10)\n",
    "y_test = tf.one_hot(y_test.astype(np.int32), depth=10)\n",
    "print(y_train[0])"
   ]
  },
  {
   "cell_type": "markdown",
   "metadata": {
    "id": "OVboMW3UTdOp"
   },
   "source": [
    "#### Treinamento Local"
   ]
  },
  {
   "cell_type": "markdown",
   "metadata": {
    "id": "bgSqVuHrQcla"
   },
   "source": [
    "A técnica de aprendizado federado foi desenvolvida inicialmente para o treinamento de redes neurais, por isso precisamos definir uma rede neural para podermos usá-la localmente e,  futuramente, comparar os  resultados do  modelos gerados localmente e federado.\n",
    "\n",
    "Esta próxima célula define uma função que monta uma rede neural convolucional simples, que usaremos na etapa de treinamento. A rede neural recebe como atributos: o formato dos dados de entrada (*input_shape*) e o numero de classes do problema (*num_classes*)."
   ]
  },
  {
   "cell_type": "code",
   "execution_count": 8,
   "metadata": {
    "id": "9WcxuXm3AK-n"
   },
   "outputs": [],
   "source": [
    "def define_model(input_shape,num_classes):\n",
    "  model = Sequential()\n",
    "  model.add(Conv2D(32, (3, 3), activation='relu', kernel_initializer='he_uniform', input_shape=input_shape))\n",
    "  model.add(MaxPool2D((2, 2)))\n",
    "  model.add(Flatten())\n",
    "  model.add(Dense(100, activation='relu', kernel_initializer='he_uniform'))\n",
    "  model.add(Dense(num_classes, activation='softmax'))\n",
    "  # compile model\n",
    "  opt = SGD(learning_rate=0.01, momentum=0.9)\n",
    "  model.compile(optimizer=opt, loss='categorical_crossentropy', metrics=['accuracy'])\n",
    "  return model"
   ]
  },
  {
   "cell_type": "markdown",
   "metadata": {
    "id": "xPW2kMNcRtzX"
   },
   "source": [
    "Conforme explicado anteriorment,  após o pré-processamento,  cada imagem do *dataset* terá o seguinte formato: 28 pixeis verticais, 28 pixeis horizontais e 1 canal de cor. Desta forma o formato de entrada dos dados é (28, 28, 1). \n",
    "\n",
    "Temos digitos de 0 a 9 em nosso *dataset*, ou seja, 10 possiveis classes. Com isso instanciamos uma rede neural usando a função *define_model* na variavel model."
   ]
  },
  {
   "cell_type": "code",
   "execution_count": 9,
   "metadata": {
    "id": "4GycOgcz7JFs"
   },
   "outputs": [],
   "source": [
    "input_shape = (28, 28, 1)\n",
    "num_classes = 10\n",
    "\n",
    "model = define_model(input_shape,num_classes)"
   ]
  },
  {
   "cell_type": "markdown",
   "metadata": {
    "id": "t0VpTq8oShd4"
   },
   "source": [
    "Inicialmente treinaremos a rede neural localmente para termos um *baseline* de comparação. A rede neural  é treinada por 5 épocas, usando 10% do *dataset* de treino para validação durante o treinamento. \n",
    "\n",
    "Usamos 64 como *batch_size*, isso significa que  expomos a rede neural a 64 amostras (lote, ou *batch*) antes de atualizarmos o valor da função de perda. Esse processo  é repetido até que todas as amostras tenham sido expostas à rede neural, terminando uma época de treinamento. "
   ]
  },
  {
   "cell_type": "code",
   "execution_count": 10,
   "metadata": {
    "colab": {
     "base_uri": "https://localhost:8080/"
    },
    "id": "SjWO0dJa7VL-",
    "outputId": "72de2b3b-f702-4ba0-87da-6ab1fa3cf977"
   },
   "outputs": [
    {
     "name": "stdout",
     "output_type": "stream",
     "text": [
      "Epoch 1/5\n",
      "844/844 [==============================] - 36s 42ms/step - loss: 0.2285 - accuracy: 0.9292 - val_loss: 0.0964 - val_accuracy: 0.9740\n",
      "Epoch 2/5\n",
      "844/844 [==============================] - 33s 39ms/step - loss: 0.0923 - accuracy: 0.9722 - val_loss: 0.0634 - val_accuracy: 0.9815\n",
      "Epoch 3/5\n",
      "844/844 [==============================] - 31s 37ms/step - loss: 0.0594 - accuracy: 0.9821 - val_loss: 0.0596 - val_accuracy: 0.9840\n",
      "Epoch 4/5\n",
      "844/844 [==============================] - 33s 39ms/step - loss: 0.0422 - accuracy: 0.9875 - val_loss: 0.0540 - val_accuracy: 0.9852\n",
      "Epoch 5/5\n",
      "844/844 [==============================] - 31s 37ms/step - loss: 0.0323 - accuracy: 0.9904 - val_loss: 0.0503 - val_accuracy: 0.9865\n"
     ]
    }
   ],
   "source": [
    "batch_size = 64\n",
    "epochs = 5\n",
    "history = model.fit(x_train, y_train,\n",
    "                    batch_size=batch_size,\n",
    "                    epochs=epochs,\n",
    "                    validation_split=0.1)"
   ]
  },
  {
   "cell_type": "markdown",
   "metadata": {
    "id": "WftT7AFCSud_"
   },
   "source": [
    "Como conclusão, com o conjunto de teste usado neste laboratório, e usando  o nosso modelo,  obtivemos uma acurácia de ~98,39%, que é um resultado aceitável com relação a este *dataset*, comparando-se com os resultados de referência encontrados na literatura. Ver [referência](https://paperswithcode.com/sota/image-classification-on-mnist)."
   ]
  },
  {
   "cell_type": "code",
   "execution_count": 11,
   "metadata": {
    "colab": {
     "base_uri": "https://localhost:8080/"
    },
    "id": "sXIiIk8d7eGS",
    "outputId": "6167f283-d53e-42ab-aac8-1f6f76dc410f"
   },
   "outputs": [
    {
     "name": "stdout",
     "output_type": "stream",
     "text": [
      "313/313 [==============================] - 3s 11ms/step - loss: 0.0452 - accuracy: 0.9844\n"
     ]
    }
   ],
   "source": [
    "test_loss, test_acc = model.evaluate(x_test, y_test)"
   ]
  },
  {
   "cell_type": "markdown",
   "metadata": {
    "id": "gR1XwzYWTiOa"
   },
   "source": [
    "#### Treinamento Federado"
   ]
  },
  {
   "cell_type": "markdown",
   "metadata": {
    "id": "b3dPiK8tVRn1"
   },
   "source": [
    "Agora começaremos o treinamento federado desta mesma rede neural usando a biblioteca *flower*. Esta biblioteca implementa a arquitetura de aprendizado federado, onde no treinamento temos dois agentes: o servidor e os clientes. \n",
    " \n",
    "* Os clientes (treinadores) têm como tarefa treinar seus modelos usando seus dados locais e, após o treinamento, enviar os pesos encontrados para o servidor de agregação. Quando receberem os pesos agregados pelo servidor, os clientes atualizam seus modelos locai com estes pesos e recomeçam o treinamento, assim iniciando uma nova rodada (época).\n",
    "* O servidor de agregação, por sua vez, recebe estes pesos e usa algum algoritmo para agregar os diferentes pesos dos modelos gerados pelos clientes treinadores. Em seguida o servidor deve enviar de volta os pesos agregados para os clientes. \n",
    "\n",
    "Ao final desse processo,  os  pesos agregados representam o modelo global que está sendo treinado por esse conjunto de treinadores.\n",
    "\n",
    "\n",
    "\n",
    "\n",
    "\n"
   ]
  },
  {
   "cell_type": "markdown",
   "metadata": {
    "id": "GTwlQHH6W5Fa"
   },
   "source": [
    "Sabendo disso, para o uso da biblioteca *flower* temos, como primeiro passo, que implementar o código dos clientes. Para isso definimos uma classe cliente que herda da super classe *NumPyClient* provida pela biblioteca *numpy*. Para seu uso temos que implementar obrigatoriamente 3 métodos em nosso cliente:\n",
    "\n",
    "\n",
    "1.  *get_parameters(self, config)*: este método recebe um dicionário de configuração e é chamado pelo servidor como um procedimento remoto. Ele retorna os pesos do modelo do cliente na rodada atual.\n",
    "2.  *fit(self, parameters, config)*: por este método, chamado via RPC pelo servidor, o cliente recebe os pesos do modelo global e um dicionário de configuração. Ele realiza o treinamento do modelo, primeiro setando os pesos do modelo com os recebidos pelo cliente do servidor e depois treinando um novo modelo com esses novos pesos iniciais. Ela retorna: os pesos encontrados após essa rodada de treinamento, o tamanho do conjunto de treinamento e um dicionário de métricas de avaliação do modelo. O dicionário pode ser retornado vazio.\n",
    "3.  *evaluate(self, parameters, config)*: por este método, chamado remotamente pelo servidor, o cliente recebe os pesos do modelo global e um dicionário de configuração. Ele avalia localmente o modelo treinado e retorna o valor da função de perda encontrado para este cliente, o tamanho do conjunto de teste e um dicionário de métricas de avaliação do modelo. Neste caso, retornaremos a acurácia.\n",
    "\n",
    "Também definimos um método opcional *\\_\\_init\\_\\_(self, model, x_train, y_train, x_test, y_test)* que é o de inicialização do objeto, recebendo o modelo pré-instanciado e os conjuntos de teste e treino.\n",
    "\n"
   ]
  },
  {
   "cell_type": "code",
   "execution_count": 12,
   "metadata": {
    "id": "Y9mL7lqLWQTG"
   },
   "outputs": [],
   "source": [
    "class FlowerClient(fl.client.NumPyClient):\n",
    "    def __init__(self, model, x_train, y_train, x_test, y_test) -> None:\n",
    "        self.model = model\n",
    "        self.x_train = x_train\n",
    "        self.y_train = y_train\n",
    "        self.x_test = x_test\n",
    "        self.y_test = y_test\n",
    "\n",
    "    def get_parameters(self, config):\n",
    "        return self.model.get_weights()\n",
    "\n",
    "    def fit(self, parameters, config):\n",
    "        self.model.set_weights(parameters)\n",
    "        self.model.fit(self.x_train, self.y_train, epochs=1, verbose=2)\n",
    "        return self.model.get_weights(), len(self.x_train), {}\n",
    "\n",
    "    def evaluate(self, parameters, config):\n",
    "        self.model.set_weights(parameters)\n",
    "        loss, acc = self.model.evaluate(self.x_test, self.y_test, verbose=2)\n",
    "        return loss, len(self.x_test), {\"accuracy\": acc}"
   ]
  },
  {
   "cell_type": "markdown",
   "metadata": {
    "id": "JkXB2eVJbeQk"
   },
   "source": [
    "Como estamos usando um *notebook*, não podemos instanciar clientes e servidores do *flower* diretamente. Por isso a biblioteca prove uma alternativa que é o módulo de simulação. Ele simula o aprendizado federado sem o uso de conexões de rede.\\\n",
    "\\\n",
    "Para o seu uso temos que definir uma função que instancias os clientes com a assinatura *fn(str) -> fl.client.Client*. Esta função recebe uma *string* que é um identificador único do cliente usado pela simulação e nos retorna o cliente instanciado. Internamente ela particiona o *dataset*, amostrando, sem reposição, um número aleatório de imagens, compondo um conjunto de dados que representa os dados locais daquele cliente. \n",
    "\n",
    "A seguir faremos os mesmos passos anteriores de pré-processamento e instanciamento da rede neural. Finalmente instanciaremos um cliente *flower* e retornamos."
   ]
  },
  {
   "cell_type": "code",
   "execution_count": 13,
   "metadata": {
    "id": "CHd05AShiI46"
   },
   "outputs": [],
   "source": [
    "def client_fn_random(cid: str) -> fl.client.Client:\n",
    "    input_shape = (28, 28, 1)\n",
    "    num_classes = 10\n",
    "    num_clients = 10\n",
    "    partition_size = 500\n",
    "    \n",
    "\n",
    "    (x_train, y_train), (x_test, y_test) = tf.keras.datasets.mnist.load_data()\n",
    "    #sample_size_train = int(cid) * partition_size\n",
    "    #sample_size_test = int(cid) * partition_size\n",
    "    sample_size_train = int((1/num_clients)*len(x_train))\n",
    "    sample_size_test = int((1/num_clients)*len(x_test))\n",
    "    idx_train = np.random.choice(np.arange(len(x_train)), sample_size_train, replace=False)\n",
    "    x_train = x_train[idx_train]/255.0\n",
    "    y_train = y_train[idx_train]\n",
    "    y_train = tf.one_hot(y_train.astype(np.int32), depth=10)\n",
    "    idx_test = np.random.choice(np.arange(len(x_test)), sample_size_test, replace=False)\n",
    "    x_test = x_test[idx_test]/255.0\n",
    "    y_test = y_test[idx_test]\n",
    "    y_test = tf.one_hot(y_test.astype(np.int32), depth=10)\n",
    "    model = define_model(input_shape,num_classes)\n",
    "    # Create and return client\n",
    "    return FlowerClient(model, x_train, y_train, x_test, y_test)"
   ]
  },
  {
   "cell_type": "markdown",
   "metadata": {
    "id": "Txp65BZCdFkD"
   },
   "source": [
    "Para a avaliação do modelo precisamos de uma função de agregação de métricas. Isto é necessário pois, a priori, a simulação não sabe que tipo de métrica será usada para avaliar o modelo. Por isso o programador tem que criar uma função que lide com a agregação dos valores de métricas que ele esta usando para avaliar seu modelo. Desta maneira esta função é usada para que a simulação consiga retornar a evolução dos valores das métricas em cada *round* usando um objeto do tipo *history*.\n",
    "\n",
    "\n",
    "Aqui definimos a função de agregação como a média ponderada da acurácia pelo tamanho do conjunto de dados de cada cliente."
   ]
  },
  {
   "cell_type": "code",
   "execution_count": 14,
   "metadata": {
    "id": "1ZZ0onPuExOM"
   },
   "outputs": [],
   "source": [
    "def weighted_average(metrics):\n",
    "    # Multiply accuracy of each client by number of examples used\n",
    "    acc = [num_examples * m[\"accuracy\"] for num_examples, m in metrics]\n",
    "    examples = [num_examples for num_examples, _ in metrics]\n",
    "\n",
    "    # Aggregate and return custom metric (weighted average)\n",
    "    results = {\"accuracy\": sum(acc) / sum(examples)}\n",
    "    return results"
   ]
  },
  {
   "cell_type": "markdown",
   "metadata": {
    "id": "1VQnCBXtd0fr"
   },
   "source": [
    "Precisamos agora definir o número de clientes que participação do aprendizado federado, 10 clientes neste exemplo, e uma estratégia de agregação dos pesos a ser usada pelo servidor.\n",
    "\n",
    "Esta estratégia é um objeto do tipo *strategy* da biblioteca *flower*. Além de definir o algoritmo de agregação dos pesos, no caso usamos o *Federated Average (FedAvg)*, também é preciso configurar o comportamento do servidor durante o processo de treinamento. Com essa biblioteca nós configuramos o servidor para:\n",
    "\n",
    "1.   Escolher aleatoriamente 90% dos clientes (9 clientes neste exemplo) para o treinamento (*fraction_fit*);\n",
    "2.   Usar todos os clientes para a avaliação do modelo (*fraction_evaluate*);\n",
    "3.   Nunca usar menos que 9 clientes para o treinamento (*min_fit_clients*);\n",
    "4.   Nunca usar menos que 9 clientes para a avaliação do modelo (*min_evaluate_clients*);\n",
    "5.   Esperar que tenha pelo menos 9 clientes prontos antes de começar o treinamento(*min_available_clients*);\n",
    "6.   Usar a função *weighted_average*, definida anteriormente, como função de agregação de métricas\n",
    "\n",
    "Finalmente iniciamos a simulação usando a função *fl.simulation.start_simulation*. Passamos para essa função a função de instanciamento de clientes (*client_fn_random*), o número de clientes (*num_clients*), um dicionário de configuração, que diz para o servidor quantos *rounds* de treinamento queremos (*fl.server.ServerConfig(num_rounds=5)*) e a estratégia de treinamento (*strategy*). \n"
   ]
  },
  {
   "cell_type": "code",
   "execution_count": 15,
   "metadata": {
    "colab": {
     "base_uri": "https://localhost:8080/"
    },
    "id": "MRvT4OOdXADa",
    "outputId": "c2c2ae57-16ce-4d84-bbae-68a97d6a99a5"
   },
   "outputs": [
    {
     "name": "stderr",
     "output_type": "stream",
     "text": [
      "INFO flwr 2023-04-11 20:34:44,217 | app.py:145 | Starting Flower simulation, config: ServerConfig(num_rounds=5, round_timeout=None)\n",
      "INFO:flwr:Starting Flower simulation, config: ServerConfig(num_rounds=5, round_timeout=None)\n",
      "2023-04-11 20:34:47,363\tINFO worker.py:1529 -- Started a local Ray instance. View the dashboard at \u001b[1m\u001b[32m127.0.0.1:8265 \u001b[39m\u001b[22m\n",
      "INFO flwr 2023-04-11 20:34:49,487 | app.py:179 | Flower VCE: Ray initialized with resources: {'node:172.28.0.12': 1.0, 'CPU': 2.0, 'object_store_memory': 3916728729.0, 'memory': 7833457460.0}\n",
      "INFO:flwr:Flower VCE: Ray initialized with resources: {'node:172.28.0.12': 1.0, 'CPU': 2.0, 'object_store_memory': 3916728729.0, 'memory': 7833457460.0}\n",
      "INFO flwr 2023-04-11 20:34:49,495 | server.py:86 | Initializing global parameters\n",
      "INFO:flwr:Initializing global parameters\n",
      "INFO flwr 2023-04-11 20:34:49,502 | server.py:270 | Requesting initial parameters from one random client\n",
      "INFO:flwr:Requesting initial parameters from one random client\n",
      "INFO flwr 2023-04-11 20:34:54,600 | server.py:274 | Received initial parameters from one random client\n",
      "INFO:flwr:Received initial parameters from one random client\n",
      "INFO flwr 2023-04-11 20:34:54,605 | server.py:88 | Evaluating initial parameters\n",
      "INFO:flwr:Evaluating initial parameters\n",
      "INFO flwr 2023-04-11 20:34:54,608 | server.py:101 | FL starting\n",
      "INFO:flwr:FL starting\n",
      "DEBUG flwr 2023-04-11 20:34:54,612 | server.py:215 | fit_round 1: strategy sampled 9 clients (out of 10)\n",
      "DEBUG:flwr:fit_round 1: strategy sampled 9 clients (out of 10)\n"
     ]
    },
    {
     "name": "stdout",
     "output_type": "stream",
     "text": [
      "\u001b[2m\u001b[36m(launch_and_fit pid=7138)\u001b[0m 188/188 - 9s - loss: 0.4961 - accuracy: 0.8423 - 9s/epoch - 47ms/step\n",
      "\u001b[2m\u001b[36m(launch_and_fit pid=7137)\u001b[0m 188/188 - 9s - loss: 0.5206 - accuracy: 0.8342 - 9s/epoch - 47ms/step\n",
      "\u001b[2m\u001b[36m(launch_and_fit pid=7138)\u001b[0m 188/188 - 9s - loss: 0.4906 - accuracy: 0.8507 - 9s/epoch - 48ms/step\n",
      "\u001b[2m\u001b[36m(launch_and_fit pid=7137)\u001b[0m 188/188 - 8s - loss: 0.4985 - accuracy: 0.8442 - 8s/epoch - 42ms/step\n",
      "\u001b[2m\u001b[36m(launch_and_fit pid=7138)\u001b[0m 188/188 - 8s - loss: 0.5006 - accuracy: 0.8435 - 8s/epoch - 43ms/step\n",
      "\u001b[2m\u001b[36m(launch_and_fit pid=7137)\u001b[0m 188/188 - 10s - loss: 0.5004 - accuracy: 0.8427 - 10s/epoch - 54ms/step\n",
      "\u001b[2m\u001b[36m(launch_and_fit pid=7138)\u001b[0m 188/188 - 11s - loss: 0.5089 - accuracy: 0.8467 - 11s/epoch - 56ms/step\n",
      "\u001b[2m\u001b[36m(launch_and_fit pid=7137)\u001b[0m 188/188 - 7s - loss: 0.5165 - accuracy: 0.8350 - 7s/epoch - 38ms/step\n"
     ]
    },
    {
     "name": "stderr",
     "output_type": "stream",
     "text": [
      "DEBUG flwr 2023-04-11 20:35:44,062 | server.py:229 | fit_round 1 received 9 results and 0 failures\n",
      "DEBUG:flwr:fit_round 1 received 9 results and 0 failures\n",
      "WARNING flwr 2023-04-11 20:35:44,128 | fedavg.py:242 | No fit_metrics_aggregation_fn provided\n",
      "WARNING:flwr:No fit_metrics_aggregation_fn provided\n",
      "DEBUG flwr 2023-04-11 20:35:44,136 | server.py:165 | evaluate_round 1: strategy sampled 10 clients (out of 10)\n",
      "DEBUG:flwr:evaluate_round 1: strategy sampled 10 clients (out of 10)\n"
     ]
    },
    {
     "name": "stdout",
     "output_type": "stream",
     "text": [
      "\u001b[2m\u001b[36m(launch_and_fit pid=7138)\u001b[0m 188/188 - 7s - loss: 0.5246 - accuracy: 0.8338 - 7s/epoch - 37ms/step\n",
      "\u001b[2m\u001b[36m(launch_and_evaluate pid=7138)\u001b[0m 32/32 - 1s - loss: 0.2527 - accuracy: 0.9390 - 852ms/epoch - 27ms/step\n",
      "\u001b[2m\u001b[36m(launch_and_evaluate pid=7137)\u001b[0m 32/32 - 1s - loss: 0.2163 - accuracy: 0.9450 - 869ms/epoch - 27ms/step\n",
      "\u001b[2m\u001b[36m(launch_and_evaluate pid=7137)\u001b[0m 32/32 - 2s - loss: 0.2762 - accuracy: 0.9290 - 2s/epoch - 48ms/step\n",
      "\u001b[2m\u001b[36m(launch_and_evaluate pid=7138)\u001b[0m 32/32 - 2s - loss: 0.2361 - accuracy: 0.9290 - 2s/epoch - 50ms/step\n",
      "\u001b[2m\u001b[36m(launch_and_evaluate pid=7138)\u001b[0m 32/32 - 2s - loss: 0.2413 - accuracy: 0.9360 - 2s/epoch - 50ms/step\n",
      "\u001b[2m\u001b[36m(launch_and_evaluate pid=7137)\u001b[0m 32/32 - 2s - loss: 0.2681 - accuracy: 0.9160 - 2s/epoch - 47ms/step\n",
      "\u001b[2m\u001b[36m(launch_and_evaluate pid=7138)\u001b[0m 32/32 - 1s - loss: 0.2456 - accuracy: 0.9310 - 880ms/epoch - 27ms/step\n",
      "\u001b[2m\u001b[36m(launch_and_evaluate pid=7137)\u001b[0m 32/32 - 1s - loss: 0.2241 - accuracy: 0.9410 - 802ms/epoch - 25ms/step\n"
     ]
    },
    {
     "name": "stderr",
     "output_type": "stream",
     "text": [
      "DEBUG flwr 2023-04-11 20:35:55,149 | server.py:179 | evaluate_round 1 received 10 results and 0 failures\n",
      "DEBUG:flwr:evaluate_round 1 received 10 results and 0 failures\n",
      "DEBUG flwr 2023-04-11 20:35:55,152 | server.py:215 | fit_round 2: strategy sampled 9 clients (out of 10)\n",
      "DEBUG:flwr:fit_round 2: strategy sampled 9 clients (out of 10)\n"
     ]
    },
    {
     "name": "stdout",
     "output_type": "stream",
     "text": [
      "\u001b[2m\u001b[36m(launch_and_evaluate pid=7137)\u001b[0m 32/32 - 1s - loss: 0.2511 - accuracy: 0.9270 - 756ms/epoch - 24ms/step\n",
      "\u001b[2m\u001b[36m(launch_and_evaluate pid=7138)\u001b[0m 32/32 - 1s - loss: 0.2888 - accuracy: 0.9170 - 1s/epoch - 34ms/step\n",
      "\u001b[2m\u001b[36m(launch_and_fit pid=7138)\u001b[0m 188/188 - 7s - loss: 0.2437 - accuracy: 0.9265 - 7s/epoch - 40ms/step\n",
      "\u001b[2m\u001b[36m(launch_and_fit pid=7137)\u001b[0m 188/188 - 8s - loss: 0.2417 - accuracy: 0.9238 - 8s/epoch - 41ms/step\n",
      "\u001b[2m\u001b[36m(launch_and_fit pid=7138)\u001b[0m 188/188 - 10s - loss: 0.2513 - accuracy: 0.9275 - 10s/epoch - 55ms/step\n",
      "\u001b[2m\u001b[36m(launch_and_fit pid=7137)\u001b[0m 188/188 - 10s - loss: 0.2454 - accuracy: 0.9267 - 10s/epoch - 55ms/step\n",
      "\u001b[2m\u001b[36m(launch_and_fit pid=7138)\u001b[0m 188/188 - 10s - loss: 0.2580 - accuracy: 0.9215 - 10s/epoch - 51ms/step\n",
      "\u001b[2m\u001b[36m(launch_and_fit pid=7137)\u001b[0m 188/188 - 10s - loss: 0.2689 - accuracy: 0.9213 - 10s/epoch - 54ms/step\n",
      "\u001b[2m\u001b[36m(launch_and_fit pid=7138)\u001b[0m 188/188 - 7s - loss: 0.2470 - accuracy: 0.9217 - 7s/epoch - 38ms/step\n",
      "\u001b[2m\u001b[36m(launch_and_fit pid=7137)\u001b[0m 188/188 - 7s - loss: 0.2573 - accuracy: 0.9263 - 7s/epoch - 38ms/step\n"
     ]
    },
    {
     "name": "stderr",
     "output_type": "stream",
     "text": [
      "DEBUG flwr 2023-04-11 20:36:40,288 | server.py:229 | fit_round 2 received 9 results and 0 failures\n",
      "DEBUG:flwr:fit_round 2 received 9 results and 0 failures\n",
      "DEBUG flwr 2023-04-11 20:36:40,344 | server.py:165 | evaluate_round 2: strategy sampled 10 clients (out of 10)\n",
      "DEBUG:flwr:evaluate_round 2: strategy sampled 10 clients (out of 10)\n"
     ]
    },
    {
     "name": "stdout",
     "output_type": "stream",
     "text": [
      "\u001b[2m\u001b[36m(launch_and_fit pid=7138)\u001b[0m 188/188 - 5s - loss: 0.2362 - accuracy: 0.9232 - 5s/epoch - 28ms/step\n",
      "\u001b[2m\u001b[36m(launch_and_evaluate pid=7138)\u001b[0m 32/32 - 2s - loss: 0.1294 - accuracy: 0.9620 - 2s/epoch - 51ms/step\n",
      "\u001b[2m\u001b[36m(launch_and_evaluate pid=7137)\u001b[0m 32/32 - 2s - loss: 0.1505 - accuracy: 0.9520 - 2s/epoch - 52ms/step\n",
      "\u001b[2m\u001b[36m(launch_and_evaluate pid=7138)\u001b[0m 32/32 - 1s - loss: 0.1476 - accuracy: 0.9530 - 782ms/epoch - 24ms/step\n",
      "\u001b[2m\u001b[36m(launch_and_evaluate pid=7137)\u001b[0m 32/32 - 1s - loss: 0.1576 - accuracy: 0.9510 - 787ms/epoch - 25ms/step\n",
      "\u001b[2m\u001b[36m(launch_and_evaluate pid=7138)\u001b[0m 32/32 - 1s - loss: 0.1380 - accuracy: 0.9600 - 760ms/epoch - 24ms/step\n",
      "\u001b[2m\u001b[36m(launch_and_evaluate pid=7137)\u001b[0m 32/32 - 1s - loss: 0.1801 - accuracy: 0.9500 - 751ms/epoch - 23ms/step\n",
      "\u001b[2m\u001b[36m(launch_and_evaluate pid=7138)\u001b[0m 32/32 - 1s - loss: 0.1362 - accuracy: 0.9590 - 788ms/epoch - 25ms/step\n",
      "\u001b[2m\u001b[36m(launch_and_evaluate pid=7137)\u001b[0m 32/32 - 1s - loss: 0.1673 - accuracy: 0.9500 - 805ms/epoch - 25ms/step\n"
     ]
    },
    {
     "name": "stderr",
     "output_type": "stream",
     "text": [
      "DEBUG flwr 2023-04-11 20:36:49,662 | server.py:179 | evaluate_round 2 received 10 results and 0 failures\n",
      "DEBUG:flwr:evaluate_round 2 received 10 results and 0 failures\n",
      "DEBUG flwr 2023-04-11 20:36:49,666 | server.py:215 | fit_round 3: strategy sampled 9 clients (out of 10)\n",
      "DEBUG:flwr:fit_round 3: strategy sampled 9 clients (out of 10)\n"
     ]
    },
    {
     "name": "stdout",
     "output_type": "stream",
     "text": [
      "\u001b[2m\u001b[36m(launch_and_evaluate pid=7138)\u001b[0m 32/32 - 1s - loss: 0.1252 - accuracy: 0.9640 - 775ms/epoch - 24ms/step\n",
      "\u001b[2m\u001b[36m(launch_and_evaluate pid=7137)\u001b[0m 32/32 - 1s - loss: 0.1752 - accuracy: 0.9450 - 783ms/epoch - 24ms/step\n",
      "\u001b[2m\u001b[36m(launch_and_fit pid=7138)\u001b[0m 188/188 - 11s - loss: 0.1770 - accuracy: 0.9458 - 11s/epoch - 59ms/step\n",
      "\u001b[2m\u001b[36m(launch_and_fit pid=7137)\u001b[0m 188/188 - 11s - loss: 0.1787 - accuracy: 0.9465 - 11s/epoch - 59ms/step\n",
      "\u001b[2m\u001b[36m(launch_and_fit pid=7138)\u001b[0m 188/188 - 7s - loss: 0.1960 - accuracy: 0.9433 - 7s/epoch - 38ms/step\n",
      "\u001b[2m\u001b[36m(launch_and_fit pid=7137)\u001b[0m 188/188 - 7s - loss: 0.1833 - accuracy: 0.9458 - 7s/epoch - 38ms/step\n",
      "\u001b[2m\u001b[36m(launch_and_fit pid=7137)\u001b[0m 188/188 - 10s - loss: 0.1830 - accuracy: 0.9433 - 10s/epoch - 55ms/step\n",
      "\u001b[2m\u001b[36m(launch_and_fit pid=7138)\u001b[0m 188/188 - 10s - loss: 0.1911 - accuracy: 0.9417 - 10s/epoch - 55ms/step\n",
      "\u001b[2m\u001b[36m(launch_and_fit pid=7137)\u001b[0m 188/188 - 7s - loss: 0.1927 - accuracy: 0.9412 - 7s/epoch - 38ms/step\n",
      "\u001b[2m\u001b[36m(launch_and_fit pid=7138)\u001b[0m 188/188 - 7s - loss: 0.1939 - accuracy: 0.9395 - 7s/epoch - 39ms/step\n"
     ]
    },
    {
     "name": "stderr",
     "output_type": "stream",
     "text": [
      "DEBUG flwr 2023-04-11 20:37:35,782 | server.py:229 | fit_round 3 received 9 results and 0 failures\n",
      "DEBUG:flwr:fit_round 3 received 9 results and 0 failures\n",
      "DEBUG flwr 2023-04-11 20:37:35,832 | server.py:165 | evaluate_round 3: strategy sampled 10 clients (out of 10)\n",
      "DEBUG:flwr:evaluate_round 3: strategy sampled 10 clients (out of 10)\n"
     ]
    },
    {
     "name": "stdout",
     "output_type": "stream",
     "text": [
      "\u001b[2m\u001b[36m(launch_and_fit pid=7137)\u001b[0m 188/188 - 6s - loss: 0.1885 - accuracy: 0.9438 - 6s/epoch - 33ms/step\n",
      "\u001b[2m\u001b[36m(launch_and_evaluate pid=7137)\u001b[0m 32/32 - 1s - loss: 0.1163 - accuracy: 0.9650 - 796ms/epoch - 25ms/step\n",
      "\u001b[2m\u001b[36m(launch_and_evaluate pid=7138)\u001b[0m 32/32 - 1s - loss: 0.1380 - accuracy: 0.9580 - 844ms/epoch - 26ms/step\n",
      "\u001b[2m\u001b[36m(launch_and_evaluate pid=7137)\u001b[0m 32/32 - 1s - loss: 0.1566 - accuracy: 0.9470 - 787ms/epoch - 25ms/step\n",
      "\u001b[2m\u001b[36m(launch_and_evaluate pid=7138)\u001b[0m 32/32 - 1s - loss: 0.1602 - accuracy: 0.9480 - 834ms/epoch - 26ms/step\n",
      "\u001b[2m\u001b[36m(launch_and_evaluate pid=7138)\u001b[0m 32/32 - 1s - loss: 0.1296 - accuracy: 0.9550 - 795ms/epoch - 25ms/step\n",
      "\u001b[2m\u001b[36m(launch_and_evaluate pid=7137)\u001b[0m 32/32 - 1s - loss: 0.1289 - accuracy: 0.9590 - 803ms/epoch - 25ms/step\n",
      "\u001b[2m\u001b[36m(launch_and_evaluate pid=7137)\u001b[0m 32/32 - 1s - loss: 0.1187 - accuracy: 0.9690 - 766ms/epoch - 24ms/step\n",
      "\u001b[2m\u001b[36m(launch_and_evaluate pid=7138)\u001b[0m 32/32 - 1s - loss: 0.1361 - accuracy: 0.9590 - 768ms/epoch - 24ms/step\n"
     ]
    },
    {
     "name": "stderr",
     "output_type": "stream",
     "text": [
      "DEBUG flwr 2023-04-11 20:37:43,347 | server.py:179 | evaluate_round 3 received 10 results and 0 failures\n",
      "DEBUG:flwr:evaluate_round 3 received 10 results and 0 failures\n",
      "DEBUG flwr 2023-04-11 20:37:43,352 | server.py:215 | fit_round 4: strategy sampled 9 clients (out of 10)\n",
      "DEBUG:flwr:fit_round 4: strategy sampled 9 clients (out of 10)\n"
     ]
    },
    {
     "name": "stdout",
     "output_type": "stream",
     "text": [
      "\u001b[2m\u001b[36m(launch_and_evaluate pid=7138)\u001b[0m 32/32 - 1s - loss: 0.1240 - accuracy: 0.9590 - 740ms/epoch - 23ms/step\n",
      "\u001b[2m\u001b[36m(launch_and_evaluate pid=7137)\u001b[0m 32/32 - 1s - loss: 0.1205 - accuracy: 0.9650 - 761ms/epoch - 24ms/step\n",
      "\u001b[2m\u001b[36m(launch_and_fit pid=7138)\u001b[0m 188/188 - 10s - loss: 0.1585 - accuracy: 0.9527 - 10s/epoch - 55ms/step\n",
      "\u001b[2m\u001b[36m(launch_and_fit pid=7137)\u001b[0m 188/188 - 10s - loss: 0.1631 - accuracy: 0.9505 - 10s/epoch - 55ms/step\n",
      "\u001b[2m\u001b[36m(launch_and_fit pid=7137)\u001b[0m 188/188 - 7s - loss: 0.1598 - accuracy: 0.9547 - 7s/epoch - 39ms/step\n",
      "\u001b[2m\u001b[36m(launch_and_fit pid=7138)\u001b[0m 188/188 - 8s - loss: 0.1656 - accuracy: 0.9500 - 8s/epoch - 44ms/step\n",
      "\u001b[2m\u001b[36m(launch_and_fit pid=7137)\u001b[0m 188/188 - 9s - loss: 0.1581 - accuracy: 0.9530 - 9s/epoch - 49ms/step\n",
      "\u001b[2m\u001b[36m(launch_and_fit pid=7138)\u001b[0m 188/188 - 9s - loss: 0.1666 - accuracy: 0.9472 - 9s/epoch - 49ms/step\n",
      "\u001b[2m\u001b[36m(launch_and_fit pid=7137)\u001b[0m 188/188 - 9s - loss: 0.1553 - accuracy: 0.9543 - 9s/epoch - 48ms/step\n",
      "\u001b[2m\u001b[36m(launch_and_fit pid=7138)\u001b[0m 188/188 - 10s - loss: 0.1519 - accuracy: 0.9545 - 10s/epoch - 51ms/step\n"
     ]
    },
    {
     "name": "stderr",
     "output_type": "stream",
     "text": [
      "DEBUG flwr 2023-04-11 20:38:28,931 | server.py:229 | fit_round 4 received 9 results and 0 failures\n",
      "DEBUG:flwr:fit_round 4 received 9 results and 0 failures\n",
      "DEBUG flwr 2023-04-11 20:38:28,975 | server.py:165 | evaluate_round 4: strategy sampled 10 clients (out of 10)\n",
      "DEBUG:flwr:evaluate_round 4: strategy sampled 10 clients (out of 10)\n"
     ]
    },
    {
     "name": "stdout",
     "output_type": "stream",
     "text": [
      "\u001b[2m\u001b[36m(launch_and_fit pid=7137)\u001b[0m 188/188 - 4s - loss: 0.1470 - accuracy: 0.9572 - 4s/epoch - 23ms/step\n",
      "\u001b[2m\u001b[36m(launch_and_evaluate pid=7138)\u001b[0m 32/32 - 1s - loss: 0.1159 - accuracy: 0.9650 - 749ms/epoch - 23ms/step\n",
      "\u001b[2m\u001b[36m(launch_and_evaluate pid=7137)\u001b[0m 32/32 - 1s - loss: 0.1071 - accuracy: 0.9660 - 806ms/epoch - 25ms/step\n",
      "\u001b[2m\u001b[36m(launch_and_evaluate pid=7138)\u001b[0m 32/32 - 1s - loss: 0.1201 - accuracy: 0.9650 - 735ms/epoch - 23ms/step\n",
      "\u001b[2m\u001b[36m(launch_and_evaluate pid=7137)\u001b[0m 32/32 - 1s - loss: 0.1059 - accuracy: 0.9690 - 808ms/epoch - 25ms/step\n",
      "\u001b[2m\u001b[36m(launch_and_evaluate pid=7138)\u001b[0m 32/32 - 1s - loss: 0.0904 - accuracy: 0.9730 - 799ms/epoch - 25ms/step\n",
      "\u001b[2m\u001b[36m(launch_and_evaluate pid=7137)\u001b[0m 32/32 - 1s - loss: 0.1061 - accuracy: 0.9680 - 759ms/epoch - 24ms/step\n",
      "\u001b[2m\u001b[36m(launch_and_evaluate pid=7138)\u001b[0m 32/32 - 1s - loss: 0.1010 - accuracy: 0.9660 - 757ms/epoch - 24ms/step\n",
      "\u001b[2m\u001b[36m(launch_and_evaluate pid=7137)\u001b[0m 32/32 - 1s - loss: 0.1070 - accuracy: 0.9700 - 810ms/epoch - 25ms/step\n",
      "\u001b[2m\u001b[36m(launch_and_evaluate pid=7138)\u001b[0m 32/32 - 1s - loss: 0.0959 - accuracy: 0.9710 - 1s/epoch - 34ms/step\n"
     ]
    },
    {
     "name": "stderr",
     "output_type": "stream",
     "text": [
      "DEBUG flwr 2023-04-11 20:38:37,444 | server.py:179 | evaluate_round 4 received 10 results and 0 failures\n",
      "DEBUG:flwr:evaluate_round 4 received 10 results and 0 failures\n",
      "DEBUG flwr 2023-04-11 20:38:37,448 | server.py:215 | fit_round 5: strategy sampled 9 clients (out of 10)\n",
      "DEBUG:flwr:fit_round 5: strategy sampled 9 clients (out of 10)\n"
     ]
    },
    {
     "name": "stdout",
     "output_type": "stream",
     "text": [
      "\u001b[2m\u001b[36m(launch_and_evaluate pid=7137)\u001b[0m 32/32 - 1s - loss: 0.1145 - accuracy: 0.9610 - 751ms/epoch - 23ms/step\n",
      "\u001b[2m\u001b[36m(launch_and_fit pid=7137)\u001b[0m 188/188 - 9s - loss: 0.1302 - accuracy: 0.9598 - 9s/epoch - 46ms/step\n",
      "\u001b[2m\u001b[36m(launch_and_fit pid=7138)\u001b[0m 188/188 - 9s - loss: 0.1236 - accuracy: 0.9610 - 9s/epoch - 47ms/step\n",
      "\u001b[2m\u001b[36m(launch_and_fit pid=7137)\u001b[0m 188/188 - 10s - loss: 0.1343 - accuracy: 0.9575 - 10s/epoch - 51ms/step\n",
      "\u001b[2m\u001b[36m(launch_and_fit pid=7138)\u001b[0m 188/188 - 10s - loss: 0.1232 - accuracy: 0.9630 - 10s/epoch - 52ms/step\n",
      "\u001b[2m\u001b[36m(launch_and_fit pid=7137)\u001b[0m 188/188 - 7s - loss: 0.1279 - accuracy: 0.9622 - 7s/epoch - 38ms/step\n",
      "\u001b[2m\u001b[36m(launch_and_fit pid=7138)\u001b[0m 188/188 - 7s - loss: 0.1271 - accuracy: 0.9600 - 7s/epoch - 38ms/step\n",
      "\u001b[2m\u001b[36m(launch_and_fit pid=7137)\u001b[0m 188/188 - 10s - loss: 0.1313 - accuracy: 0.9622 - 10s/epoch - 55ms/step\n",
      "\u001b[2m\u001b[36m(launch_and_fit pid=7138)\u001b[0m 188/188 - 10s - loss: 0.1203 - accuracy: 0.9623 - 10s/epoch - 55ms/step\n"
     ]
    },
    {
     "name": "stderr",
     "output_type": "stream",
     "text": [
      "DEBUG flwr 2023-04-11 20:39:22,175 | server.py:229 | fit_round 5 received 9 results and 0 failures\n",
      "DEBUG:flwr:fit_round 5 received 9 results and 0 failures\n",
      "DEBUG flwr 2023-04-11 20:39:22,218 | server.py:165 | evaluate_round 5: strategy sampled 10 clients (out of 10)\n",
      "DEBUG:flwr:evaluate_round 5: strategy sampled 10 clients (out of 10)\n"
     ]
    },
    {
     "name": "stdout",
     "output_type": "stream",
     "text": [
      "\u001b[2m\u001b[36m(launch_and_fit pid=7137)\u001b[0m 188/188 - 4s - loss: 0.1358 - accuracy: 0.9592 - 4s/epoch - 20ms/step\n",
      "\u001b[2m\u001b[36m(launch_and_evaluate pid=7137)\u001b[0m 32/32 - 1s - loss: 0.0911 - accuracy: 0.9700 - 754ms/epoch - 24ms/step\n",
      "\u001b[2m\u001b[36m(launch_and_evaluate pid=7138)\u001b[0m 32/32 - 1s - loss: 0.1026 - accuracy: 0.9640 - 778ms/epoch - 24ms/step\n",
      "\u001b[2m\u001b[36m(launch_and_evaluate pid=7137)\u001b[0m 32/32 - 1s - loss: 0.0914 - accuracy: 0.9700 - 766ms/epoch - 24ms/step\n",
      "\u001b[2m\u001b[36m(launch_and_evaluate pid=7138)\u001b[0m 32/32 - 1s - loss: 0.0850 - accuracy: 0.9680 - 760ms/epoch - 24ms/step\n",
      "\u001b[2m\u001b[36m(launch_and_evaluate pid=7137)\u001b[0m 32/32 - 1s - loss: 0.0900 - accuracy: 0.9700 - 791ms/epoch - 25ms/step\n",
      "\u001b[2m\u001b[36m(launch_and_evaluate pid=7138)\u001b[0m 32/32 - 1s - loss: 0.0941 - accuracy: 0.9680 - 801ms/epoch - 25ms/step\n",
      "\u001b[2m\u001b[36m(launch_and_evaluate pid=7138)\u001b[0m 32/32 - 1s - loss: 0.0936 - accuracy: 0.9650 - 1s/epoch - 45ms/step\n",
      "\u001b[2m\u001b[36m(launch_and_evaluate pid=7137)\u001b[0m 32/32 - 2s - loss: 0.0698 - accuracy: 0.9770 - 2s/epoch - 51ms/step\n"
     ]
    },
    {
     "name": "stderr",
     "output_type": "stream",
     "text": [
      "DEBUG flwr 2023-04-11 20:39:32,235 | server.py:179 | evaluate_round 5 received 10 results and 0 failures\n",
      "DEBUG:flwr:evaluate_round 5 received 10 results and 0 failures\n",
      "INFO flwr 2023-04-11 20:39:32,242 | server.py:144 | FL finished in 277.6301998440001\n",
      "INFO:flwr:FL finished in 277.6301998440001\n",
      "INFO flwr 2023-04-11 20:39:32,248 | app.py:202 | app_fit: losses_distributed [(1, 0.2500474140048027), (2, 0.1506955549120903), (3, 0.13290280476212502), (4, 0.10638886392116546), (5, 0.09099504575133324)]\n",
      "INFO:flwr:app_fit: losses_distributed [(1, 0.2500474140048027), (2, 0.1506955549120903), (3, 0.13290280476212502), (4, 0.10638886392116546), (5, 0.09099504575133324)]\n",
      "INFO flwr 2023-04-11 20:39:32,253 | app.py:203 | app_fit: metrics_distributed {'accuracy': [(1, 0.9310000002384186), (2, 0.9545999944210053), (3, 0.9583999931812286), (4, 0.9674000024795533), (5, 0.9688000023365021)]}\n",
      "INFO:flwr:app_fit: metrics_distributed {'accuracy': [(1, 0.9310000002384186), (2, 0.9545999944210053), (3, 0.9583999931812286), (4, 0.9674000024795533), (5, 0.9688000023365021)]}\n",
      "INFO flwr 2023-04-11 20:39:32,259 | app.py:204 | app_fit: losses_centralized []\n",
      "INFO:flwr:app_fit: losses_centralized []\n",
      "INFO flwr 2023-04-11 20:39:32,282 | app.py:205 | app_fit: metrics_centralized {}\n",
      "INFO:flwr:app_fit: metrics_centralized {}\n"
     ]
    },
    {
     "name": "stdout",
     "output_type": "stream",
     "text": [
      "\u001b[2m\u001b[36m(launch_and_evaluate pid=7138)\u001b[0m 32/32 - 1s - loss: 0.0839 - accuracy: 0.9720 - 1s/epoch - 43ms/step\n",
      "\u001b[2m\u001b[36m(launch_and_evaluate pid=7137)\u001b[0m 32/32 - 1s - loss: 0.1085 - accuracy: 0.9640 - 1s/epoch - 43ms/step\n"
     ]
    }
   ],
   "source": [
    "num_clients = 10\n",
    "\n",
    "# Create FedAvg strategy\n",
    "strategy = fl.server.strategy.FedAvg(\n",
    "    fraction_fit=0.9,  \n",
    "    fraction_evaluate=1,  \n",
    "    min_fit_clients=9,  \n",
    "    min_evaluate_clients=9,  \n",
    "    min_available_clients=int(\n",
    "        num_clients * 0.9\n",
    "    ),  \n",
    "    evaluate_metrics_aggregation_fn=weighted_average,\n",
    ")\n",
    "\n",
    "# Start simulation\n",
    "history = fl.simulation.start_simulation(\n",
    "    client_fn=client_fn_random,\n",
    "    num_clients=num_clients,\n",
    "    config=fl.server.ServerConfig(num_rounds=5),\n",
    "    strategy=strategy,\n",
    "    \n",
    ")"
   ]
  },
  {
   "cell_type": "markdown",
   "metadata": {
    "id": "ZjQznojrgy46"
   },
   "source": [
    "Printamos os resultados do treinamento retornados no formato do objeto *history*. Ele tem dois atributos: um dicionário com a média da função de perda a cada *round* e um dicionário com os valores das métricas agregadas a cada *round*, calculadas pela função de agregação. \n",
    "\n",
    "Podemos observar a evolução destes dois valores a cada *round*. Para os 4 primeiros *rounds* tivemos uma melhora do valor da função de perda e da acurácia, mas no último *round* a função de perda diminuiu pouco e a acurácia se manteve estável.\n",
    "\n",
    "O número de *rounds* de treinamento é um valor muito importante para o aprendizado federado. Similar ao número de épocas de treinamento no aprendizado local, precisamos de *rounds* suficientes para que o modelo convirja com pesos adequados, mas temos que tomar cuidado para não causar o *overfitting* da rede, caso tenhamos muitos *rounds*."
   ]
  },
  {
   "cell_type": "code",
   "execution_count": 16,
   "metadata": {
    "colab": {
     "base_uri": "https://localhost:8080/"
    },
    "id": "DLw296UPIIIw",
    "outputId": "622775bf-2f62-46ee-f710-30719d6e9407"
   },
   "outputs": [
    {
     "name": "stdout",
     "output_type": "stream",
     "text": [
      "History (loss, distributed):\n",
      "\tround 1: 0.2500474140048027\n",
      "\tround 2: 0.1506955549120903\n",
      "\tround 3: 0.13290280476212502\n",
      "\tround 4: 0.10638886392116546\n",
      "\tround 5: 0.09099504575133324\n",
      "History (metrics, distributed):\n",
      "{'accuracy': [(1, 0.9310000002384186), (2, 0.9545999944210053), (3, 0.9583999931812286), (4, 0.9674000024795533), (5, 0.9688000023365021)]}\n"
     ]
    }
   ],
   "source": [
    "print(history)"
   ]
  },
  {
   "cell_type": "markdown",
   "metadata": {
    "id": "QbSgu-8-lDm5"
   },
   "source": [
    "A seguir plotaremos a acurácia por *round*. Observe que ela parece estar tendendo a aumentar a cada *round* e, **talvez**, se aumentássemos o numero de *rounds* teríamos uma acurácia ainda melhor."
   ]
  },
  {
   "cell_type": "code",
   "execution_count": 17,
   "metadata": {
    "colab": {
     "base_uri": "https://localhost:8080/",
     "height": 449
    },
    "id": "K0OJfjkxW9NX",
    "outputId": "d115a3bd-dddf-4306-9824-97364c6d7aee"
   },
   "outputs": [
    {
     "data": {
      "image/png": "[encoded data removed]",
      "text/plain": [
       "<Figure size 640x480 with 1 Axes>"
      ]
     },
     "metadata": {},
     "output_type": "display_data"
    }
   ],
   "source": [
    "plt.plot(*zip(*history.metrics_distributed['accuracy']))\n",
    "plt.xlabel(\"Rounds\")\n",
    "plt.ylabel(\"Accuracy\")\n",
    "plt.show()"
   ]
  },
  {
   "cell_type": "markdown",
   "metadata": {
    "id": "5R6RJStQTnCc"
   },
   "source": [
    "#### Atividades"
   ]
  },
  {
   "cell_type": "markdown",
   "metadata": {
    "id": "n8LqayNw6xLV"
   },
   "source": [
    "**Atividade 1** \n",
    "\n",
    "Durante a configuração do treinamento federado definimos valores para muitos hyper-parâmetros. Um dos mais importantes é foi o número de *rounds*. Por isso nesta tarefa vocês deverão treinar a rede de maneira federada variando o número de rounds em diferentes valores. \n",
    "\n",
    " \n",
    "\n",
    "*   Os valores a serem usados para o número de *rounds* são 10, 15, 20;\n",
    "*   Para cada valor deve-se plotar um gráfico de linha que relaciona o número de *rounds* com a acurácia obtida naquele número de *rounds*.\n",
    "\n",
    "Além   disso deve-se comparar a desempenho do modelo federado com os diferentes valores de *rounds* e o  desempenho encontrado quando treinamos localmente a rede neural.\n",
    "\n",
    "\n",
    "\n"
   ]
  },
  {
   "cell_type": "markdown",
   "metadata": {
    "id": "tkS1L8VxF3wz"
   },
   "source": [
    "##Simulação com 10 rounds"
   ]
  },
  {
   "cell_type": "code",
   "execution_count": 18,
   "metadata": {
    "colab": {
     "base_uri": "https://localhost:8080/"
    },
    "id": "0zJ4uBCWEsS1",
    "outputId": "2eb4136d-bd28-44f0-d6d8-9dece1b2e778"
   },
   "outputs": [
    {
     "name": "stderr",
     "output_type": "stream",
     "text": [
      "INFO flwr 2023-04-11 20:50:09,185 | app.py:145 | Starting Flower simulation, config: ServerConfig(num_rounds=10, round_timeout=None)\n",
      "INFO:flwr:Starting Flower simulation, config: ServerConfig(num_rounds=10, round_timeout=None)\n",
      "2023-04-11 20:50:15,118\tINFO worker.py:1529 -- Started a local Ray instance. View the dashboard at \u001b[1m\u001b[32m127.0.0.1:8265 \u001b[39m\u001b[22m\n",
      "INFO flwr 2023-04-11 20:50:17,333 | app.py:179 | Flower VCE: Ray initialized with resources: {'node:172.28.0.12': 1.0, 'object_store_memory': 3864815616.0, 'CPU': 2.0, 'memory': 7729631232.0}\n",
      "INFO:flwr:Flower VCE: Ray initialized with resources: {'node:172.28.0.12': 1.0, 'object_store_memory': 3864815616.0, 'CPU': 2.0, 'memory': 7729631232.0}\n",
      "INFO flwr 2023-04-11 20:50:17,341 | server.py:86 | Initializing global parameters\n",
      "INFO:flwr:Initializing global parameters\n",
      "INFO flwr 2023-04-11 20:50:17,344 | server.py:270 | Requesting initial parameters from one random client\n",
      "INFO:flwr:Requesting initial parameters from one random client\n",
      "INFO flwr 2023-04-11 20:50:21,686 | server.py:274 | Received initial parameters from one random client\n",
      "INFO:flwr:Received initial parameters from one random client\n",
      "INFO flwr 2023-04-11 20:50:21,697 | server.py:88 | Evaluating initial parameters\n",
      "INFO:flwr:Evaluating initial parameters\n",
      "INFO flwr 2023-04-11 20:50:21,703 | server.py:101 | FL starting\n",
      "INFO:flwr:FL starting\n",
      "DEBUG flwr 2023-04-11 20:50:21,712 | server.py:215 | fit_round 1: strategy sampled 9 clients (out of 10)\n",
      "DEBUG:flwr:fit_round 1: strategy sampled 9 clients (out of 10)\n"
     ]
    },
    {
     "name": "stdout",
     "output_type": "stream",
     "text": [
      "\u001b[2m\u001b[36m(launch_and_fit pid=12276)\u001b[0m 188/188 - 9s - loss: 0.4801 - accuracy: 0.8498 - 9s/epoch - 46ms/step\n",
      "\u001b[2m\u001b[36m(launch_and_fit pid=12277)\u001b[0m 188/188 - 8s - loss: 0.4959 - accuracy: 0.8470 - 8s/epoch - 43ms/step\n",
      "\u001b[2m\u001b[36m(launch_and_fit pid=12276)\u001b[0m 188/188 - 7s - loss: 0.4994 - accuracy: 0.8448 - 7s/epoch - 40ms/step\n",
      "\u001b[2m\u001b[36m(launch_and_fit pid=12277)\u001b[0m 188/188 - 10s - loss: 0.5095 - accuracy: 0.8415 - 10s/epoch - 55ms/step\n",
      "\u001b[2m\u001b[36m(launch_and_fit pid=12276)\u001b[0m 188/188 - 10s - loss: 0.4856 - accuracy: 0.8490 - 10s/epoch - 55ms/step\n",
      "\u001b[2m\u001b[36m(launch_and_fit pid=12276)\u001b[0m 188/188 - 7s - loss: 0.5109 - accuracy: 0.8385 - 7s/epoch - 38ms/step\n",
      "\u001b[2m\u001b[36m(launch_and_fit pid=12277)\u001b[0m 188/188 - 7s - loss: 0.5198 - accuracy: 0.8373 - 7s/epoch - 38ms/step\n",
      "\u001b[2m\u001b[36m(launch_and_fit pid=12276)\u001b[0m 188/188 - 10s - loss: 0.5179 - accuracy: 0.8368 - 10s/epoch - 55ms/step\n",
      "\u001b[2m\u001b[36m(launch_and_fit pid=12277)\u001b[0m 188/188 - 10s - loss: 0.4967 - accuracy: 0.8365 - 10s/epoch - 55ms/step\n"
     ]
    },
    {
     "name": "stderr",
     "output_type": "stream",
     "text": [
      "DEBUG flwr 2023-04-11 20:51:10,800 | server.py:229 | fit_round 1 received 9 results and 0 failures\n",
      "DEBUG:flwr:fit_round 1 received 9 results and 0 failures\n",
      "WARNING flwr 2023-04-11 20:51:10,853 | fedavg.py:242 | No fit_metrics_aggregation_fn provided\n",
      "WARNING:flwr:No fit_metrics_aggregation_fn provided\n",
      "DEBUG flwr 2023-04-11 20:51:10,857 | server.py:165 | evaluate_round 1: strategy sampled 10 clients (out of 10)\n",
      "DEBUG:flwr:evaluate_round 1: strategy sampled 10 clients (out of 10)\n"
     ]
    },
    {
     "name": "stdout",
     "output_type": "stream",
     "text": [
      "\u001b[2m\u001b[36m(launch_and_evaluate pid=12276)\u001b[0m 32/32 - 1s - loss: 0.2587 - accuracy: 0.9190 - 849ms/epoch - 27ms/step\n",
      "\u001b[2m\u001b[36m(launch_and_evaluate pid=12277)\u001b[0m 32/32 - 1s - loss: 0.2470 - accuracy: 0.9310 - 871ms/epoch - 27ms/step\n",
      "\u001b[2m\u001b[36m(launch_and_evaluate pid=12276)\u001b[0m 32/32 - 1s - loss: 0.2434 - accuracy: 0.9290 - 748ms/epoch - 23ms/step\n",
      "\u001b[2m\u001b[36m(launch_and_evaluate pid=12277)\u001b[0m 32/32 - 1s - loss: 0.2509 - accuracy: 0.9270 - 780ms/epoch - 24ms/step\n",
      "\u001b[2m\u001b[36m(launch_and_evaluate pid=12276)\u001b[0m 32/32 - 1s - loss: 0.2570 - accuracy: 0.9210 - 815ms/epoch - 25ms/step\n",
      "\u001b[2m\u001b[36m(launch_and_evaluate pid=12277)\u001b[0m 32/32 - 1s - loss: 0.2229 - accuracy: 0.9350 - 788ms/epoch - 25ms/step\n",
      "\u001b[2m\u001b[36m(launch_and_evaluate pid=12276)\u001b[0m 32/32 - 1s - loss: 0.2172 - accuracy: 0.9390 - 1s/epoch - 37ms/step\n",
      "\u001b[2m\u001b[36m(launch_and_evaluate pid=12277)\u001b[0m 32/32 - 1s - loss: 0.2332 - accuracy: 0.9350 - 1s/epoch - 40ms/step\n",
      "\u001b[2m\u001b[36m(launch_and_evaluate pid=12277)\u001b[0m 32/32 - 1s - loss: 0.2642 - accuracy: 0.9220 - 1s/epoch - 39ms/step\n"
     ]
    },
    {
     "name": "stderr",
     "output_type": "stream",
     "text": [
      "DEBUG flwr 2023-04-11 20:51:20,573 | server.py:179 | evaluate_round 1 received 10 results and 0 failures\n",
      "DEBUG:flwr:evaluate_round 1 received 10 results and 0 failures\n",
      "DEBUG flwr 2023-04-11 20:51:20,579 | server.py:215 | fit_round 2: strategy sampled 9 clients (out of 10)\n",
      "DEBUG:flwr:fit_round 2: strategy sampled 9 clients (out of 10)\n"
     ]
    },
    {
     "name": "stdout",
     "output_type": "stream",
     "text": [
      "\u001b[2m\u001b[36m(launch_and_evaluate pid=12276)\u001b[0m 32/32 - 2s - loss: 0.2394 - accuracy: 0.9230 - 2s/epoch - 64ms/step\n",
      "\u001b[2m\u001b[36m(launch_and_fit pid=12276)\u001b[0m 188/188 - 9s - loss: 0.2444 - accuracy: 0.9220 - 9s/epoch - 47ms/step\n",
      "\u001b[2m\u001b[36m(launch_and_fit pid=12277)\u001b[0m 188/188 - 9s - loss: 0.2634 - accuracy: 0.9227 - 9s/epoch - 47ms/step\n",
      "\u001b[2m\u001b[36m(launch_and_fit pid=12276)\u001b[0m 188/188 - 10s - loss: 0.2520 - accuracy: 0.9240 - 10s/epoch - 56ms/step\n",
      "\u001b[2m\u001b[36m(launch_and_fit pid=12277)\u001b[0m 188/188 - 11s - loss: 0.2539 - accuracy: 0.9217 - 11s/epoch - 56ms/step\n",
      "\u001b[2m\u001b[36m(launch_and_fit pid=12276)\u001b[0m 188/188 - 7s - loss: 0.2529 - accuracy: 0.9243 - 7s/epoch - 38ms/step\n",
      "\u001b[2m\u001b[36m(launch_and_fit pid=12277)\u001b[0m 188/188 - 7s - loss: 0.2444 - accuracy: 0.9278 - 7s/epoch - 38ms/step\n",
      "\u001b[2m\u001b[36m(launch_and_fit pid=12276)\u001b[0m 188/188 - 10s - loss: 0.2569 - accuracy: 0.9225 - 10s/epoch - 52ms/step\n",
      "\u001b[2m\u001b[36m(launch_and_fit pid=12277)\u001b[0m 188/188 - 11s - loss: 0.2405 - accuracy: 0.9273 - 11s/epoch - 56ms/step\n"
     ]
    },
    {
     "name": "stderr",
     "output_type": "stream",
     "text": [
      "DEBUG flwr 2023-04-11 20:52:05,451 | server.py:229 | fit_round 2 received 9 results and 0 failures\n",
      "DEBUG:flwr:fit_round 2 received 9 results and 0 failures\n",
      "DEBUG flwr 2023-04-11 20:52:05,505 | server.py:165 | evaluate_round 2: strategy sampled 10 clients (out of 10)\n",
      "DEBUG:flwr:evaluate_round 2: strategy sampled 10 clients (out of 10)\n"
     ]
    },
    {
     "name": "stdout",
     "output_type": "stream",
     "text": [
      "\u001b[2m\u001b[36m(launch_and_fit pid=12276)\u001b[0m 188/188 - 4s - loss: 0.2298 - accuracy: 0.9275 - 4s/epoch - 22ms/step\n",
      "\u001b[2m\u001b[36m(launch_and_evaluate pid=12277)\u001b[0m 32/32 - 1s - loss: 0.1419 - accuracy: 0.9580 - 787ms/epoch - 25ms/step\n",
      "\u001b[2m\u001b[36m(launch_and_evaluate pid=12276)\u001b[0m 32/32 - 1s - loss: 0.1190 - accuracy: 0.9670 - 794ms/epoch - 25ms/step\n",
      "\u001b[2m\u001b[36m(launch_and_evaluate pid=12277)\u001b[0m 32/32 - 1s - loss: 0.1752 - accuracy: 0.9450 - 1s/epoch - 36ms/step\n",
      "\u001b[2m\u001b[36m(launch_and_evaluate pid=12276)\u001b[0m 32/32 - 2s - loss: 0.1430 - accuracy: 0.9580 - 2s/epoch - 49ms/step\n",
      "\u001b[2m\u001b[36m(launch_and_evaluate pid=12277)\u001b[0m 32/32 - 1s - loss: 0.1656 - accuracy: 0.9550 - 1s/epoch - 38ms/step\n",
      "\u001b[2m\u001b[36m(launch_and_evaluate pid=12276)\u001b[0m 32/32 - 2s - loss: 0.1519 - accuracy: 0.9480 - 2s/epoch - 50ms/step\n",
      "\u001b[2m\u001b[36m(launch_and_evaluate pid=12277)\u001b[0m 32/32 - 1s - loss: 0.1651 - accuracy: 0.9460 - 1s/epoch - 40ms/step\n",
      "\u001b[2m\u001b[36m(launch_and_evaluate pid=12276)\u001b[0m 32/32 - 2s - loss: 0.1280 - accuracy: 0.9550 - 2s/epoch - 49ms/step\n",
      "\u001b[2m\u001b[36m(launch_and_evaluate pid=12277)\u001b[0m 32/32 - 1s - loss: 0.1829 - accuracy: 0.9480 - 770ms/epoch - 24ms/step\n"
     ]
    },
    {
     "name": "stderr",
     "output_type": "stream",
     "text": [
      "DEBUG flwr 2023-04-11 20:52:16,368 | server.py:179 | evaluate_round 2 received 10 results and 0 failures\n",
      "DEBUG:flwr:evaluate_round 2 received 10 results and 0 failures\n",
      "DEBUG flwr 2023-04-11 20:52:16,376 | server.py:215 | fit_round 3: strategy sampled 9 clients (out of 10)\n",
      "DEBUG:flwr:fit_round 3: strategy sampled 9 clients (out of 10)\n"
     ]
    },
    {
     "name": "stdout",
     "output_type": "stream",
     "text": [
      "\u001b[2m\u001b[36m(launch_and_evaluate pid=12276)\u001b[0m 32/32 - 1s - loss: 0.1265 - accuracy: 0.9660 - 624ms/epoch - 20ms/step\n",
      "\u001b[2m\u001b[36m(launch_and_fit pid=12276)\u001b[0m 188/188 - 7s - loss: 0.1947 - accuracy: 0.9398 - 7s/epoch - 38ms/step\n",
      "\u001b[2m\u001b[36m(launch_and_fit pid=12277)\u001b[0m 188/188 - 7s - loss: 0.1850 - accuracy: 0.9432 - 7s/epoch - 38ms/step\n",
      "\u001b[2m\u001b[36m(launch_and_fit pid=12276)\u001b[0m 188/188 - 10s - loss: 0.1807 - accuracy: 0.9442 - 10s/epoch - 55ms/step\n",
      "\u001b[2m\u001b[36m(launch_and_fit pid=12277)\u001b[0m 188/188 - 11s - loss: 0.1903 - accuracy: 0.9400 - 11s/epoch - 58ms/step\n",
      "\u001b[2m\u001b[36m(launch_and_fit pid=12276)\u001b[0m 188/188 - 15s - loss: 0.1853 - accuracy: 0.9435 - 15s/epoch - 77ms/step\n",
      "\u001b[2m\u001b[36m(launch_and_fit pid=12277)\u001b[0m 188/188 - 14s - loss: 0.1925 - accuracy: 0.9403 - 14s/epoch - 75ms/step\n",
      "\u001b[2m\u001b[36m(launch_and_fit pid=12276)\u001b[0m 188/188 - 10s - loss: 0.1837 - accuracy: 0.9447 - 10s/epoch - 55ms/step\n",
      "\u001b[2m\u001b[36m(launch_and_fit pid=12277)\u001b[0m 188/188 - 10s - loss: 0.1854 - accuracy: 0.9427 - 10s/epoch - 55ms/step\n"
     ]
    },
    {
     "name": "stderr",
     "output_type": "stream",
     "text": [
      "DEBUG flwr 2023-04-11 20:53:08,567 | server.py:229 | fit_round 3 received 9 results and 0 failures\n",
      "DEBUG:flwr:fit_round 3 received 9 results and 0 failures\n",
      "DEBUG flwr 2023-04-11 20:53:08,614 | server.py:165 | evaluate_round 3: strategy sampled 10 clients (out of 10)\n",
      "DEBUG:flwr:evaluate_round 3: strategy sampled 10 clients (out of 10)\n"
     ]
    },
    {
     "name": "stdout",
     "output_type": "stream",
     "text": [
      "\u001b[2m\u001b[36m(launch_and_fit pid=12276)\u001b[0m 188/188 - 5s - loss: 0.1851 - accuracy: 0.9428 - 5s/epoch - 26ms/step\n",
      "\u001b[2m\u001b[36m(launch_and_evaluate pid=12276)\u001b[0m 32/32 - 1s - loss: 0.1208 - accuracy: 0.9580 - 835ms/epoch - 26ms/step\n",
      "\u001b[2m\u001b[36m(launch_and_evaluate pid=12277)\u001b[0m 32/32 - 1s - loss: 0.1391 - accuracy: 0.9640 - 819ms/epoch - 26ms/step\n",
      "\u001b[2m\u001b[36m(launch_and_evaluate pid=12276)\u001b[0m 32/32 - 1s - loss: 0.1130 - accuracy: 0.9620 - 759ms/epoch - 24ms/step\n",
      "\u001b[2m\u001b[36m(launch_and_evaluate pid=12277)\u001b[0m 32/32 - 1s - loss: 0.1139 - accuracy: 0.9600 - 754ms/epoch - 24ms/step\n",
      "\u001b[2m\u001b[36m(launch_and_evaluate pid=12276)\u001b[0m 32/32 - 1s - loss: 0.1175 - accuracy: 0.9530 - 760ms/epoch - 24ms/step\n",
      "\u001b[2m\u001b[36m(launch_and_evaluate pid=12277)\u001b[0m 32/32 - 1s - loss: 0.1498 - accuracy: 0.9540 - 757ms/epoch - 24ms/step\n",
      "\u001b[2m\u001b[36m(launch_and_evaluate pid=12276)\u001b[0m 32/32 - 1s - loss: 0.1381 - accuracy: 0.9600 - 745ms/epoch - 23ms/step\n",
      "\u001b[2m\u001b[36m(launch_and_evaluate pid=12277)\u001b[0m 32/32 - 1s - loss: 0.1058 - accuracy: 0.9670 - 757ms/epoch - 24ms/step\n"
     ]
    },
    {
     "name": "stderr",
     "output_type": "stream",
     "text": [
      "DEBUG flwr 2023-04-11 20:53:16,103 | server.py:179 | evaluate_round 3 received 10 results and 0 failures\n",
      "DEBUG:flwr:evaluate_round 3 received 10 results and 0 failures\n",
      "DEBUG flwr 2023-04-11 20:53:16,109 | server.py:215 | fit_round 4: strategy sampled 9 clients (out of 10)\n",
      "DEBUG:flwr:fit_round 4: strategy sampled 9 clients (out of 10)\n"
     ]
    },
    {
     "name": "stdout",
     "output_type": "stream",
     "text": [
      "\u001b[2m\u001b[36m(launch_and_evaluate pid=12276)\u001b[0m 32/32 - 1s - loss: 0.1333 - accuracy: 0.9540 - 830ms/epoch - 26ms/step\n",
      "\u001b[2m\u001b[36m(launch_and_evaluate pid=12277)\u001b[0m 32/32 - 1s - loss: 0.1309 - accuracy: 0.9650 - 857ms/epoch - 27ms/step\n",
      "\u001b[2m\u001b[36m(launch_and_fit pid=12277)\u001b[0m 188/188 - 13s - loss: 0.1481 - accuracy: 0.9555 - 13s/epoch - 71ms/step\n",
      "\u001b[2m\u001b[36m(launch_and_fit pid=12276)\u001b[0m 188/188 - 15s - loss: 0.1393 - accuracy: 0.9552 - 15s/epoch - 79ms/step\n",
      "\u001b[2m\u001b[36m(launch_and_fit pid=12277)\u001b[0m 188/188 - 15s - loss: 0.1415 - accuracy: 0.9587 - 15s/epoch - 79ms/step\n",
      "\u001b[2m\u001b[36m(launch_and_fit pid=12276)\u001b[0m 188/188 - 12s - loss: 0.1526 - accuracy: 0.9550 - 12s/epoch - 63ms/step\n",
      "\u001b[2m\u001b[36m(launch_and_fit pid=12277)\u001b[0m 188/188 - 12s - loss: 0.1422 - accuracy: 0.9562 - 12s/epoch - 63ms/step\n",
      "\u001b[2m\u001b[36m(launch_and_fit pid=12276)\u001b[0m 188/188 - 12s - loss: 0.1583 - accuracy: 0.9527 - 12s/epoch - 63ms/step\n",
      "\u001b[2m\u001b[36m(launch_and_fit pid=12277)\u001b[0m 188/188 - 10s - loss: 0.1416 - accuracy: 0.9552 - 10s/epoch - 52ms/step\n",
      "\u001b[2m\u001b[36m(launch_and_fit pid=12276)\u001b[0m 188/188 - 12s - loss: 0.1390 - accuracy: 0.9597 - 12s/epoch - 62ms/step\n"
     ]
    },
    {
     "name": "stderr",
     "output_type": "stream",
     "text": [
      "DEBUG flwr 2023-04-11 20:54:19,256 | server.py:229 | fit_round 4 received 9 results and 0 failures\n",
      "DEBUG:flwr:fit_round 4 received 9 results and 0 failures\n",
      "DEBUG flwr 2023-04-11 20:54:19,301 | server.py:165 | evaluate_round 4: strategy sampled 10 clients (out of 10)\n",
      "DEBUG:flwr:evaluate_round 4: strategy sampled 10 clients (out of 10)\n"
     ]
    },
    {
     "name": "stdout",
     "output_type": "stream",
     "text": [
      "\u001b[2m\u001b[36m(launch_and_fit pid=12277)\u001b[0m 188/188 - 5s - loss: 0.1449 - accuracy: 0.9573 - 5s/epoch - 29ms/step\n",
      "\u001b[2m\u001b[36m(launch_and_evaluate pid=12276)\u001b[0m 32/32 - 1s - loss: 0.1106 - accuracy: 0.9620 - 827ms/epoch - 26ms/step\n",
      "\u001b[2m\u001b[36m(launch_and_evaluate pid=12277)\u001b[0m 32/32 - 1s - loss: 0.1051 - accuracy: 0.9660 - 828ms/epoch - 26ms/step\n",
      "\u001b[2m\u001b[36m(launch_and_evaluate pid=12276)\u001b[0m 32/32 - 1s - loss: 0.0891 - accuracy: 0.9740 - 713ms/epoch - 22ms/step\n",
      "\u001b[2m\u001b[36m(launch_and_evaluate pid=12277)\u001b[0m 32/32 - 1s - loss: 0.1070 - accuracy: 0.9660 - 1s/epoch - 43ms/step\n",
      "\u001b[2m\u001b[36m(launch_and_evaluate pid=12276)\u001b[0m 32/32 - 1s - loss: 0.1029 - accuracy: 0.9730 - 787ms/epoch - 25ms/step\n",
      "\u001b[2m\u001b[36m(launch_and_evaluate pid=12277)\u001b[0m 32/32 - 1s - loss: 0.1048 - accuracy: 0.9630 - 762ms/epoch - 24ms/step\n",
      "\u001b[2m\u001b[36m(launch_and_evaluate pid=12276)\u001b[0m 32/32 - 1s - loss: 0.1007 - accuracy: 0.9700 - 800ms/epoch - 25ms/step\n",
      "\u001b[2m\u001b[36m(launch_and_evaluate pid=12277)\u001b[0m 32/32 - 2s - loss: 0.1003 - accuracy: 0.9660 - 2s/epoch - 70ms/step\n",
      "\u001b[2m\u001b[36m(launch_and_evaluate pid=12276)\u001b[0m 32/32 - 2s - loss: 0.1094 - accuracy: 0.9720 - 2s/epoch - 76ms/step\n"
     ]
    },
    {
     "name": "stderr",
     "output_type": "stream",
     "text": [
      "DEBUG flwr 2023-04-11 20:54:31,351 | server.py:179 | evaluate_round 4 received 10 results and 0 failures\n",
      "DEBUG:flwr:evaluate_round 4 received 10 results and 0 failures\n",
      "DEBUG flwr 2023-04-11 20:54:31,356 | server.py:215 | fit_round 5: strategy sampled 9 clients (out of 10)\n",
      "DEBUG:flwr:fit_round 5: strategy sampled 9 clients (out of 10)\n"
     ]
    },
    {
     "name": "stdout",
     "output_type": "stream",
     "text": [
      "\u001b[2m\u001b[36m(launch_and_evaluate pid=12277)\u001b[0m 32/32 - 1s - loss: 0.0998 - accuracy: 0.9660 - 1s/epoch - 37ms/step\n",
      "\u001b[2m\u001b[36m(launch_and_fit pid=12276)\u001b[0m 188/188 - 8s - loss: 0.1282 - accuracy: 0.9618 - 8s/epoch - 44ms/step\n",
      "\u001b[2m\u001b[36m(launch_and_fit pid=12277)\u001b[0m 188/188 - 8s - loss: 0.1175 - accuracy: 0.9627 - 8s/epoch - 45ms/step\n",
      "\u001b[2m\u001b[36m(launch_and_fit pid=12276)\u001b[0m 188/188 - 12s - loss: 0.1227 - accuracy: 0.9625 - 12s/epoch - 66ms/step\n",
      "\u001b[2m\u001b[36m(launch_and_fit pid=12277)\u001b[0m 188/188 - 13s - loss: 0.1283 - accuracy: 0.9598 - 13s/epoch - 68ms/step\n",
      "\u001b[2m\u001b[36m(launch_and_fit pid=12276)\u001b[0m 188/188 - 11s - loss: 0.1184 - accuracy: 0.9647 - 11s/epoch - 59ms/step\n",
      "\u001b[2m\u001b[36m(launch_and_fit pid=12277)\u001b[0m 188/188 - 11s - loss: 0.1190 - accuracy: 0.9643 - 11s/epoch - 60ms/step\n",
      "\u001b[2m\u001b[36m(launch_and_fit pid=12276)\u001b[0m 188/188 - 8s - loss: 0.1247 - accuracy: 0.9605 - 8s/epoch - 42ms/step\n",
      "\u001b[2m\u001b[36m(launch_and_fit pid=12277)\u001b[0m 188/188 - 8s - loss: 0.1222 - accuracy: 0.9647 - 8s/epoch - 42ms/step\n"
     ]
    },
    {
     "name": "stderr",
     "output_type": "stream",
     "text": [
      "DEBUG flwr 2023-04-11 20:55:24,046 | server.py:229 | fit_round 5 received 9 results and 0 failures\n",
      "DEBUG:flwr:fit_round 5 received 9 results and 0 failures\n",
      "DEBUG flwr 2023-04-11 20:55:24,090 | server.py:165 | evaluate_round 5: strategy sampled 10 clients (out of 10)\n",
      "DEBUG:flwr:evaluate_round 5: strategy sampled 10 clients (out of 10)\n"
     ]
    },
    {
     "name": "stdout",
     "output_type": "stream",
     "text": [
      "\u001b[2m\u001b[36m(launch_and_fit pid=12276)\u001b[0m 188/188 - 7s - loss: 0.1173 - accuracy: 0.9678 - 7s/epoch - 38ms/step\n",
      "\u001b[2m\u001b[36m(launch_and_evaluate pid=12276)\u001b[0m 32/32 - 1s - loss: 0.0870 - accuracy: 0.9700 - 826ms/epoch - 26ms/step\n",
      "\u001b[2m\u001b[36m(launch_and_evaluate pid=12277)\u001b[0m 32/32 - 1s - loss: 0.0926 - accuracy: 0.9770 - 771ms/epoch - 24ms/step\n",
      "\u001b[2m\u001b[36m(launch_and_evaluate pid=12277)\u001b[0m 32/32 - 1s - loss: 0.1056 - accuracy: 0.9630 - 752ms/epoch - 23ms/step\n",
      "\u001b[2m\u001b[36m(launch_and_evaluate pid=12276)\u001b[0m 32/32 - 1s - loss: 0.1052 - accuracy: 0.9680 - 778ms/epoch - 24ms/step\n",
      "\u001b[2m\u001b[36m(launch_and_evaluate pid=12276)\u001b[0m 32/32 - 1s - loss: 0.0940 - accuracy: 0.9710 - 754ms/epoch - 24ms/step\n",
      "\u001b[2m\u001b[36m(launch_and_evaluate pid=12277)\u001b[0m 32/32 - 1s - loss: 0.0616 - accuracy: 0.9830 - 778ms/epoch - 24ms/step\n",
      "\u001b[2m\u001b[36m(launch_and_evaluate pid=12277)\u001b[0m 32/32 - 1s - loss: 0.0909 - accuracy: 0.9640 - 1s/epoch - 39ms/step\n",
      "\u001b[2m\u001b[36m(launch_and_evaluate pid=12276)\u001b[0m 32/32 - 1s - loss: 0.0818 - accuracy: 0.9710 - 1s/epoch - 40ms/step\n"
     ]
    },
    {
     "name": "stderr",
     "output_type": "stream",
     "text": [
      "DEBUG flwr 2023-04-11 20:55:32,497 | server.py:179 | evaluate_round 5 received 10 results and 0 failures\n",
      "DEBUG:flwr:evaluate_round 5 received 10 results and 0 failures\n",
      "DEBUG flwr 2023-04-11 20:55:32,501 | server.py:215 | fit_round 6: strategy sampled 9 clients (out of 10)\n",
      "DEBUG:flwr:fit_round 6: strategy sampled 9 clients (out of 10)\n"
     ]
    },
    {
     "name": "stdout",
     "output_type": "stream",
     "text": [
      "\u001b[2m\u001b[36m(launch_and_evaluate pid=12277)\u001b[0m 32/32 - 1s - loss: 0.0936 - accuracy: 0.9700 - 739ms/epoch - 23ms/step\n",
      "\u001b[2m\u001b[36m(launch_and_evaluate pid=12276)\u001b[0m 32/32 - 1s - loss: 0.0660 - accuracy: 0.9790 - 700ms/epoch - 22ms/step\n",
      "\u001b[2m\u001b[36m(launch_and_fit pid=12276)\u001b[0m 188/188 - 11s - loss: 0.1016 - accuracy: 0.9705 - 11s/epoch - 57ms/step\n",
      "\u001b[2m\u001b[36m(launch_and_fit pid=12277)\u001b[0m 188/188 - 11s - loss: 0.1163 - accuracy: 0.9663 - 11s/epoch - 58ms/step\n",
      "\u001b[2m\u001b[36m(launch_and_fit pid=12276)\u001b[0m 188/188 - 8s - loss: 0.0939 - accuracy: 0.9723 - 8s/epoch - 43ms/step\n",
      "\u001b[2m\u001b[36m(launch_and_fit pid=12277)\u001b[0m 188/188 - 8s - loss: 0.1042 - accuracy: 0.9690 - 8s/epoch - 43ms/step\n",
      "\u001b[2m\u001b[36m(launch_and_fit pid=12277)\u001b[0m 188/188 - 8s - loss: 0.1131 - accuracy: 0.9692 - 8s/epoch - 45ms/step\n",
      "\u001b[2m\u001b[36m(launch_and_fit pid=12276)\u001b[0m 188/188 - 9s - loss: 0.1100 - accuracy: 0.9650 - 9s/epoch - 47ms/step\n",
      "\u001b[2m\u001b[36m(launch_and_fit pid=12277)\u001b[0m 188/188 - 10s - loss: 0.1031 - accuracy: 0.9722 - 10s/epoch - 52ms/step\n",
      "\u001b[2m\u001b[36m(launch_and_fit pid=12276)\u001b[0m 188/188 - 11s - loss: 0.1100 - accuracy: 0.9668 - 11s/epoch - 57ms/step\n"
     ]
    },
    {
     "name": "stderr",
     "output_type": "stream",
     "text": [
      "DEBUG flwr 2023-04-11 20:56:18,722 | server.py:229 | fit_round 6 received 9 results and 0 failures\n",
      "DEBUG:flwr:fit_round 6 received 9 results and 0 failures\n",
      "DEBUG flwr 2023-04-11 20:56:18,764 | server.py:165 | evaluate_round 6: strategy sampled 10 clients (out of 10)\n",
      "DEBUG:flwr:evaluate_round 6: strategy sampled 10 clients (out of 10)\n"
     ]
    },
    {
     "name": "stdout",
     "output_type": "stream",
     "text": [
      "\u001b[2m\u001b[36m(launch_and_fit pid=12277)\u001b[0m 188/188 - 4s - loss: 0.1095 - accuracy: 0.9670 - 4s/epoch - 20ms/step\n",
      "\u001b[2m\u001b[36m(launch_and_evaluate pid=12276)\u001b[0m 32/32 - 1s - loss: 0.0702 - accuracy: 0.9760 - 785ms/epoch - 25ms/step\n",
      "\u001b[2m\u001b[36m(launch_and_evaluate pid=12277)\u001b[0m 32/32 - 1s - loss: 0.0814 - accuracy: 0.9650 - 795ms/epoch - 25ms/step\n",
      "\u001b[2m\u001b[36m(launch_and_evaluate pid=12276)\u001b[0m 32/32 - 1s - loss: 0.0951 - accuracy: 0.9670 - 762ms/epoch - 24ms/step\n",
      "\u001b[2m\u001b[36m(launch_and_evaluate pid=12277)\u001b[0m 32/32 - 1s - loss: 0.0915 - accuracy: 0.9720 - 791ms/epoch - 25ms/step\n",
      "\u001b[2m\u001b[36m(launch_and_evaluate pid=12277)\u001b[0m 32/32 - 1s - loss: 0.0875 - accuracy: 0.9700 - 782ms/epoch - 24ms/step\n",
      "\u001b[2m\u001b[36m(launch_and_evaluate pid=12276)\u001b[0m 32/32 - 1s - loss: 0.0778 - accuracy: 0.9780 - 830ms/epoch - 26ms/step\n",
      "\u001b[2m\u001b[36m(launch_and_evaluate pid=12277)\u001b[0m 32/32 - 1s - loss: 0.0864 - accuracy: 0.9720 - 745ms/epoch - 23ms/step\n",
      "\u001b[2m\u001b[36m(launch_and_evaluate pid=12276)\u001b[0m 32/32 - 1s - loss: 0.0654 - accuracy: 0.9810 - 756ms/epoch - 24ms/step\n"
     ]
    },
    {
     "name": "stderr",
     "output_type": "stream",
     "text": [
      "DEBUG flwr 2023-04-11 20:56:27,416 | server.py:179 | evaluate_round 6 received 10 results and 0 failures\n",
      "DEBUG:flwr:evaluate_round 6 received 10 results and 0 failures\n",
      "DEBUG flwr 2023-04-11 20:56:27,420 | server.py:215 | fit_round 7: strategy sampled 9 clients (out of 10)\n",
      "DEBUG:flwr:fit_round 7: strategy sampled 9 clients (out of 10)\n"
     ]
    },
    {
     "name": "stdout",
     "output_type": "stream",
     "text": [
      "\u001b[2m\u001b[36m(launch_and_evaluate pid=12276)\u001b[0m 32/32 - 1s - loss: 0.0741 - accuracy: 0.9740 - 1s/epoch - 45ms/step\n",
      "\u001b[2m\u001b[36m(launch_and_evaluate pid=12277)\u001b[0m 32/32 - 2s - loss: 0.0642 - accuracy: 0.9770 - 2s/epoch - 48ms/step\n",
      "\u001b[2m\u001b[36m(launch_and_fit pid=12276)\u001b[0m 188/188 - 8s - loss: 0.0993 - accuracy: 0.9717 - 8s/epoch - 45ms/step\n",
      "\u001b[2m\u001b[36m(launch_and_fit pid=12277)\u001b[0m 188/188 - 8s - loss: 0.0953 - accuracy: 0.9733 - 8s/epoch - 45ms/step\n",
      "\u001b[2m\u001b[36m(launch_and_fit pid=12276)\u001b[0m 188/188 - 10s - loss: 0.0869 - accuracy: 0.9740 - 10s/epoch - 54ms/step\n",
      "\u001b[2m\u001b[36m(launch_and_fit pid=12277)\u001b[0m 188/188 - 10s - loss: 0.1036 - accuracy: 0.9688 - 10s/epoch - 54ms/step\n",
      "\u001b[2m\u001b[36m(launch_and_fit pid=12276)\u001b[0m 188/188 - 7s - loss: 0.0865 - accuracy: 0.9750 - 7s/epoch - 37ms/step\n",
      "\u001b[2m\u001b[36m(launch_and_fit pid=12277)\u001b[0m 188/188 - 8s - loss: 0.0877 - accuracy: 0.9737 - 8s/epoch - 41ms/step\n",
      "\u001b[2m\u001b[36m(launch_and_fit pid=12276)\u001b[0m 188/188 - 10s - loss: 0.1036 - accuracy: 0.9690 - 10s/epoch - 55ms/step\n",
      "\u001b[2m\u001b[36m(launch_and_fit pid=12277)\u001b[0m 188/188 - 10s - loss: 0.0770 - accuracy: 0.9773 - 10s/epoch - 56ms/step\n"
     ]
    },
    {
     "name": "stderr",
     "output_type": "stream",
     "text": [
      "DEBUG flwr 2023-04-11 20:57:12,060 | server.py:229 | fit_round 7 received 9 results and 0 failures\n",
      "DEBUG:flwr:fit_round 7 received 9 results and 0 failures\n",
      "DEBUG flwr 2023-04-11 20:57:12,105 | server.py:165 | evaluate_round 7: strategy sampled 10 clients (out of 10)\n",
      "DEBUG:flwr:evaluate_round 7: strategy sampled 10 clients (out of 10)\n"
     ]
    },
    {
     "name": "stdout",
     "output_type": "stream",
     "text": [
      "\u001b[2m\u001b[36m(launch_and_fit pid=12276)\u001b[0m 188/188 - 4s - loss: 0.1098 - accuracy: 0.9657 - 4s/epoch - 21ms/step\n",
      "\u001b[2m\u001b[36m(launch_and_evaluate pid=12276)\u001b[0m 32/32 - 1s - loss: 0.0637 - accuracy: 0.9750 - 745ms/epoch - 23ms/step\n",
      "\u001b[2m\u001b[36m(launch_and_evaluate pid=12277)\u001b[0m 32/32 - 1s - loss: 0.0729 - accuracy: 0.9800 - 776ms/epoch - 24ms/step\n",
      "\u001b[2m\u001b[36m(launch_and_evaluate pid=12276)\u001b[0m 32/32 - 1s - loss: 0.0699 - accuracy: 0.9810 - 774ms/epoch - 24ms/step\n",
      "\u001b[2m\u001b[36m(launch_and_evaluate pid=12277)\u001b[0m 32/32 - 1s - loss: 0.0726 - accuracy: 0.9770 - 764ms/epoch - 24ms/step\n",
      "\u001b[2m\u001b[36m(launch_and_evaluate pid=12276)\u001b[0m 32/32 - 2s - loss: 0.0701 - accuracy: 0.9800 - 2s/epoch - 68ms/step\n",
      "\u001b[2m\u001b[36m(launch_and_evaluate pid=12277)\u001b[0m 32/32 - 2s - loss: 0.0752 - accuracy: 0.9740 - 2s/epoch - 70ms/step\n",
      "\u001b[2m\u001b[36m(launch_and_evaluate pid=12276)\u001b[0m 32/32 - 2s - loss: 0.0663 - accuracy: 0.9790 - 2s/epoch - 48ms/step\n",
      "\u001b[2m\u001b[36m(launch_and_evaluate pid=12277)\u001b[0m 32/32 - 2s - loss: 0.0886 - accuracy: 0.9670 - 2s/epoch - 51ms/step\n"
     ]
    },
    {
     "name": "stderr",
     "output_type": "stream",
     "text": [
      "DEBUG flwr 2023-04-11 20:57:23,524 | server.py:179 | evaluate_round 7 received 10 results and 0 failures\n",
      "DEBUG:flwr:evaluate_round 7 received 10 results and 0 failures\n",
      "DEBUG flwr 2023-04-11 20:57:23,531 | server.py:215 | fit_round 8: strategy sampled 9 clients (out of 10)\n",
      "DEBUG:flwr:fit_round 8: strategy sampled 9 clients (out of 10)\n"
     ]
    },
    {
     "name": "stdout",
     "output_type": "stream",
     "text": [
      "\u001b[2m\u001b[36m(launch_and_evaluate pid=12276)\u001b[0m 32/32 - 1s - loss: 0.0507 - accuracy: 0.9850 - 849ms/epoch - 27ms/step\n",
      "\u001b[2m\u001b[36m(launch_and_evaluate pid=12277)\u001b[0m 32/32 - 1s - loss: 0.0772 - accuracy: 0.9790 - 761ms/epoch - 24ms/step\n",
      "\u001b[2m\u001b[36m(launch_and_fit pid=12276)\u001b[0m 188/188 - 7s - loss: 0.0868 - accuracy: 0.9767 - 7s/epoch - 37ms/step\n",
      "\u001b[2m\u001b[36m(launch_and_fit pid=12277)\u001b[0m 188/188 - 7s - loss: 0.0730 - accuracy: 0.9788 - 7s/epoch - 39ms/step\n",
      "\u001b[2m\u001b[36m(launch_and_fit pid=12276)\u001b[0m 188/188 - 10s - loss: 0.0821 - accuracy: 0.9737 - 10s/epoch - 55ms/step\n",
      "\u001b[2m\u001b[36m(launch_and_fit pid=12277)\u001b[0m 188/188 - 11s - loss: 0.0893 - accuracy: 0.9753 - 11s/epoch - 56ms/step\n",
      "\u001b[2m\u001b[36m(launch_and_fit pid=12276)\u001b[0m 188/188 - 7s - loss: 0.0884 - accuracy: 0.9743 - 7s/epoch - 40ms/step\n",
      "\u001b[2m\u001b[36m(launch_and_fit pid=12277)\u001b[0m 188/188 - 8s - loss: 0.0856 - accuracy: 0.9742 - 8s/epoch - 41ms/step\n",
      "\u001b[2m\u001b[36m(launch_and_fit pid=12276)\u001b[0m 188/188 - 9s - loss: 0.0828 - accuracy: 0.9747 - 9s/epoch - 48ms/step\n",
      "\u001b[2m\u001b[36m(launch_and_fit pid=12277)\u001b[0m 188/188 - 9s - loss: 0.0782 - accuracy: 0.9788 - 9s/epoch - 49ms/step\n"
     ]
    },
    {
     "name": "stderr",
     "output_type": "stream",
     "text": [
      "DEBUG flwr 2023-04-11 20:58:05,893 | server.py:229 | fit_round 8 received 9 results and 0 failures\n",
      "DEBUG:flwr:fit_round 8 received 9 results and 0 failures\n",
      "DEBUG flwr 2023-04-11 20:58:05,934 | server.py:165 | evaluate_round 8: strategy sampled 10 clients (out of 10)\n",
      "DEBUG:flwr:evaluate_round 8: strategy sampled 10 clients (out of 10)\n"
     ]
    },
    {
     "name": "stdout",
     "output_type": "stream",
     "text": [
      "\u001b[2m\u001b[36m(launch_and_fit pid=12276)\u001b[0m 188/188 - 4s - loss: 0.0827 - accuracy: 0.9742 - 4s/epoch - 21ms/step\n",
      "\u001b[2m\u001b[36m(launch_and_evaluate pid=12276)\u001b[0m 32/32 - 1s - loss: 0.0476 - accuracy: 0.9820 - 1s/epoch - 43ms/step\n",
      "\u001b[2m\u001b[36m(launch_and_evaluate pid=12277)\u001b[0m 32/32 - 1s - loss: 0.0675 - accuracy: 0.9770 - 1s/epoch - 46ms/step\n",
      "\u001b[2m\u001b[36m(launch_and_evaluate pid=12276)\u001b[0m 32/32 - 1s - loss: 0.0654 - accuracy: 0.9720 - 1s/epoch - 46ms/step\n",
      "\u001b[2m\u001b[36m(launch_and_evaluate pid=12277)\u001b[0m 32/32 - 2s - loss: 0.0660 - accuracy: 0.9820 - 2s/epoch - 50ms/step\n",
      "\u001b[2m\u001b[36m(launch_and_evaluate pid=12276)\u001b[0m 32/32 - 1s - loss: 0.0590 - accuracy: 0.9790 - 1s/epoch - 39ms/step\n",
      "\u001b[2m\u001b[36m(launch_and_evaluate pid=12277)\u001b[0m 32/32 - 1s - loss: 0.0766 - accuracy: 0.9690 - 1s/epoch - 38ms/step\n",
      "\u001b[2m\u001b[36m(launch_and_evaluate pid=12276)\u001b[0m 32/32 - 1s - loss: 0.0365 - accuracy: 0.9890 - 756ms/epoch - 24ms/step\n",
      "\u001b[2m\u001b[36m(launch_and_evaluate pid=12277)\u001b[0m 32/32 - 1s - loss: 0.0675 - accuracy: 0.9750 - 757ms/epoch - 24ms/step\n"
     ]
    },
    {
     "name": "stderr",
     "output_type": "stream",
     "text": [
      "DEBUG flwr 2023-04-11 20:58:16,570 | server.py:179 | evaluate_round 8 received 10 results and 0 failures\n",
      "DEBUG:flwr:evaluate_round 8 received 10 results and 0 failures\n",
      "DEBUG flwr 2023-04-11 20:58:16,573 | server.py:215 | fit_round 9: strategy sampled 9 clients (out of 10)\n",
      "DEBUG:flwr:fit_round 9: strategy sampled 9 clients (out of 10)\n"
     ]
    },
    {
     "name": "stdout",
     "output_type": "stream",
     "text": [
      "\u001b[2m\u001b[36m(launch_and_evaluate pid=12276)\u001b[0m 32/32 - 1s - loss: 0.0848 - accuracy: 0.9750 - 770ms/epoch - 24ms/step\n",
      "\u001b[2m\u001b[36m(launch_and_evaluate pid=12277)\u001b[0m 32/32 - 1s - loss: 0.0778 - accuracy: 0.9740 - 728ms/epoch - 23ms/step\n",
      "\u001b[2m\u001b[36m(launch_and_fit pid=12277)\u001b[0m 188/188 - 8s - loss: 0.0719 - accuracy: 0.9792 - 8s/epoch - 42ms/step\n",
      "\u001b[2m\u001b[36m(launch_and_fit pid=12276)\u001b[0m 188/188 - 9s - loss: 0.0757 - accuracy: 0.9775 - 9s/epoch - 49ms/step\n",
      "\u001b[2m\u001b[36m(launch_and_fit pid=12277)\u001b[0m 188/188 - 8s - loss: 0.0777 - accuracy: 0.9768 - 8s/epoch - 45ms/step\n",
      "\u001b[2m\u001b[36m(launch_and_fit pid=12276)\u001b[0m 188/188 - 8s - loss: 0.0811 - accuracy: 0.9765 - 8s/epoch - 44ms/step\n",
      "\u001b[2m\u001b[36m(launch_and_fit pid=12277)\u001b[0m 188/188 - 10s - loss: 0.0889 - accuracy: 0.9732 - 10s/epoch - 53ms/step\n",
      "\u001b[2m\u001b[36m(launch_and_fit pid=12276)\u001b[0m 188/188 - 10s - loss: 0.0741 - accuracy: 0.9780 - 10s/epoch - 54ms/step\n",
      "\u001b[2m\u001b[36m(launch_and_fit pid=12277)\u001b[0m 188/188 - 7s - loss: 0.0809 - accuracy: 0.9767 - 7s/epoch - 38ms/step\n",
      "\u001b[2m\u001b[36m(launch_and_fit pid=12276)\u001b[0m 188/188 - 7s - loss: 0.0759 - accuracy: 0.9752 - 7s/epoch - 38ms/step\n"
     ]
    },
    {
     "name": "stderr",
     "output_type": "stream",
     "text": [
      "DEBUG flwr 2023-04-11 20:59:00,909 | server.py:229 | fit_round 9 received 9 results and 0 failures\n",
      "DEBUG:flwr:fit_round 9 received 9 results and 0 failures\n",
      "DEBUG flwr 2023-04-11 20:59:00,962 | server.py:165 | evaluate_round 9: strategy sampled 10 clients (out of 10)\n",
      "DEBUG:flwr:evaluate_round 9: strategy sampled 10 clients (out of 10)\n"
     ]
    },
    {
     "name": "stdout",
     "output_type": "stream",
     "text": [
      "\u001b[2m\u001b[36m(launch_and_fit pid=12277)\u001b[0m 188/188 - 5s - loss: 0.0707 - accuracy: 0.9778 - 5s/epoch - 29ms/step\n",
      "\u001b[2m\u001b[36m(launch_and_evaluate pid=12276)\u001b[0m 32/32 - 1s - loss: 0.0900 - accuracy: 0.9720 - 1s/epoch - 47ms/step\n",
      "\u001b[2m\u001b[36m(launch_and_evaluate pid=12277)\u001b[0m 32/32 - 2s - loss: 0.0771 - accuracy: 0.9730 - 2s/epoch - 51ms/step\n",
      "\u001b[2m\u001b[36m(launch_and_evaluate pid=12276)\u001b[0m 32/32 - 1s - loss: 0.0603 - accuracy: 0.9810 - 788ms/epoch - 25ms/step\n",
      "\u001b[2m\u001b[36m(launch_and_evaluate pid=12277)\u001b[0m 32/32 - 1s - loss: 0.0629 - accuracy: 0.9760 - 768ms/epoch - 24ms/step\n",
      "\u001b[2m\u001b[36m(launch_and_evaluate pid=12276)\u001b[0m 32/32 - 1s - loss: 0.0480 - accuracy: 0.9870 - 761ms/epoch - 24ms/step\n",
      "\u001b[2m\u001b[36m(launch_and_evaluate pid=12277)\u001b[0m 32/32 - 1s - loss: 0.0633 - accuracy: 0.9780 - 767ms/epoch - 24ms/step\n",
      "\u001b[2m\u001b[36m(launch_and_evaluate pid=12276)\u001b[0m 32/32 - 1s - loss: 0.0595 - accuracy: 0.9810 - 759ms/epoch - 24ms/step\n",
      "\u001b[2m\u001b[36m(launch_and_evaluate pid=12277)\u001b[0m 32/32 - 1s - loss: 0.0601 - accuracy: 0.9760 - 776ms/epoch - 24ms/step\n"
     ]
    },
    {
     "name": "stderr",
     "output_type": "stream",
     "text": [
      "DEBUG flwr 2023-04-11 20:59:09,732 | server.py:179 | evaluate_round 9 received 10 results and 0 failures\n",
      "DEBUG:flwr:evaluate_round 9 received 10 results and 0 failures\n",
      "DEBUG flwr 2023-04-11 20:59:09,738 | server.py:215 | fit_round 10: strategy sampled 9 clients (out of 10)\n",
      "DEBUG:flwr:fit_round 10: strategy sampled 9 clients (out of 10)\n"
     ]
    },
    {
     "name": "stdout",
     "output_type": "stream",
     "text": [
      "\u001b[2m\u001b[36m(launch_and_evaluate pid=12276)\u001b[0m 32/32 - 1s - loss: 0.0716 - accuracy: 0.9730 - 763ms/epoch - 24ms/step\n",
      "\u001b[2m\u001b[36m(launch_and_evaluate pid=12277)\u001b[0m 32/32 - 1s - loss: 0.0610 - accuracy: 0.9800 - 749ms/epoch - 23ms/step\n",
      "\u001b[2m\u001b[36m(launch_and_fit pid=12276)\u001b[0m 188/188 - 10s - loss: 0.0711 - accuracy: 0.9793 - 10s/epoch - 53ms/step\n",
      "\u001b[2m\u001b[36m(launch_and_fit pid=12277)\u001b[0m 188/188 - 11s - loss: 0.0745 - accuracy: 0.9773 - 11s/epoch - 59ms/step\n",
      "\u001b[2m\u001b[36m(launch_and_fit pid=12276)\u001b[0m 188/188 - 7s - loss: 0.0661 - accuracy: 0.9780 - 7s/epoch - 37ms/step\n",
      "\u001b[2m\u001b[36m(launch_and_fit pid=12277)\u001b[0m 188/188 - 7s - loss: 0.0705 - accuracy: 0.9795 - 7s/epoch - 39ms/step\n",
      "\u001b[2m\u001b[36m(launch_and_fit pid=12276)\u001b[0m 188/188 - 10s - loss: 0.0768 - accuracy: 0.9765 - 10s/epoch - 55ms/step\n",
      "\u001b[2m\u001b[36m(launch_and_fit pid=12277)\u001b[0m 188/188 - 10s - loss: 0.0719 - accuracy: 0.9777 - 10s/epoch - 55ms/step\n",
      "\u001b[2m\u001b[36m(launch_and_fit pid=12276)\u001b[0m 188/188 - 7s - loss: 0.0691 - accuracy: 0.9802 - 7s/epoch - 38ms/step\n",
      "\u001b[2m\u001b[36m(launch_and_fit pid=12277)\u001b[0m 188/188 - 7s - loss: 0.0764 - accuracy: 0.9760 - 7s/epoch - 40ms/step\n"
     ]
    },
    {
     "name": "stderr",
     "output_type": "stream",
     "text": [
      "DEBUG flwr 2023-04-11 20:59:55,363 | server.py:229 | fit_round 10 received 9 results and 0 failures\n",
      "DEBUG:flwr:fit_round 10 received 9 results and 0 failures\n",
      "DEBUG flwr 2023-04-11 20:59:55,403 | server.py:165 | evaluate_round 10: strategy sampled 10 clients (out of 10)\n",
      "DEBUG:flwr:evaluate_round 10: strategy sampled 10 clients (out of 10)\n"
     ]
    },
    {
     "name": "stdout",
     "output_type": "stream",
     "text": [
      "\u001b[2m\u001b[36m(launch_and_fit pid=12276)\u001b[0m 188/188 - 6s - loss: 0.0727 - accuracy: 0.9782 - 6s/epoch - 33ms/step\n",
      "\u001b[2m\u001b[36m(launch_and_evaluate pid=12276)\u001b[0m 32/32 - 1s - loss: 0.0486 - accuracy: 0.9860 - 815ms/epoch - 25ms/step\n",
      "\u001b[2m\u001b[36m(launch_and_evaluate pid=12277)\u001b[0m 32/32 - 1s - loss: 0.0688 - accuracy: 0.9730 - 800ms/epoch - 25ms/step\n",
      "\u001b[2m\u001b[36m(launch_and_evaluate pid=12277)\u001b[0m 32/32 - 1s - loss: 0.0521 - accuracy: 0.9810 - 765ms/epoch - 24ms/step\n",
      "\u001b[2m\u001b[36m(launch_and_evaluate pid=12276)\u001b[0m 32/32 - 1s - loss: 0.0430 - accuracy: 0.9890 - 754ms/epoch - 24ms/step\n",
      "\u001b[2m\u001b[36m(launch_and_evaluate pid=12276)\u001b[0m 32/32 - 1s - loss: 0.0540 - accuracy: 0.9800 - 746ms/epoch - 23ms/step\n",
      "\u001b[2m\u001b[36m(launch_and_evaluate pid=12277)\u001b[0m 32/32 - 1s - loss: 0.0545 - accuracy: 0.9830 - 775ms/epoch - 24ms/step\n",
      "\u001b[2m\u001b[36m(launch_and_evaluate pid=12277)\u001b[0m 32/32 - 1s - loss: 0.0560 - accuracy: 0.9790 - 737ms/epoch - 23ms/step\n",
      "\u001b[2m\u001b[36m(launch_and_evaluate pid=12276)\u001b[0m 32/32 - 1s - loss: 0.0743 - accuracy: 0.9710 - 791ms/epoch - 25ms/step\n"
     ]
    },
    {
     "name": "stderr",
     "output_type": "stream",
     "text": [
      "DEBUG flwr 2023-04-11 21:00:02,946 | server.py:179 | evaluate_round 10 received 10 results and 0 failures\n",
      "DEBUG:flwr:evaluate_round 10 received 10 results and 0 failures\n",
      "INFO flwr 2023-04-11 21:00:02,953 | server.py:144 | FL finished in 581.240980476\n",
      "INFO:flwr:FL finished in 581.240980476\n",
      "INFO flwr 2023-04-11 21:00:02,956 | app.py:202 | app_fit: losses_distributed [(1, 0.2434030294418335), (2, 0.1499159887433052), (3, 0.1262172728776932), (4, 0.10295120850205422), (5, 0.0878297246992588), (6, 0.07935490682721139), (7, 0.07071862071752548), (8, 0.06487101279199123), (9, 0.06537436060607434), (10, 0.05664627738296986)]\n",
      "INFO:flwr:app_fit: losses_distributed [(1, 0.2434030294418335), (2, 0.1499159887433052), (3, 0.1262172728776932), (4, 0.10295120850205422), (5, 0.0878297246992588), (6, 0.07935490682721139), (7, 0.07071862071752548), (8, 0.06487101279199123), (9, 0.06537436060607434), (10, 0.05664627738296986)]\n",
      "INFO flwr 2023-04-11 21:00:02,959 | app.py:203 | app_fit: metrics_distributed {'accuracy': [(1, 0.9281000018119812), (2, 0.9546000003814697), (3, 0.9596999943256378), (4, 0.9678000092506409), (5, 0.9716000020503998), (6, 0.973199999332428), (7, 0.977700001001358), (8, 0.9773999989032746), (9, 0.977700001001358), (10, 0.9805000007152558)]}\n",
      "INFO:flwr:app_fit: metrics_distributed {'accuracy': [(1, 0.9281000018119812), (2, 0.9546000003814697), (3, 0.9596999943256378), (4, 0.9678000092506409), (5, 0.9716000020503998), (6, 0.973199999332428), (7, 0.977700001001358), (8, 0.9773999989032746), (9, 0.977700001001358), (10, 0.9805000007152558)]}\n",
      "INFO flwr 2023-04-11 21:00:02,961 | app.py:204 | app_fit: losses_centralized []\n",
      "INFO:flwr:app_fit: losses_centralized []\n",
      "INFO flwr 2023-04-11 21:00:02,964 | app.py:205 | app_fit: metrics_centralized {}\n",
      "INFO:flwr:app_fit: metrics_centralized {}\n"
     ]
    }
   ],
   "source": [
    "history10 = fl.simulation.start_simulation(\n",
    "    client_fn=client_fn_random,\n",
    "    num_clients=num_clients,\n",
    "    config=fl.server.ServerConfig(num_rounds=10),\n",
    "    strategy=strategy,\n",
    ")"
   ]
  },
  {
   "cell_type": "code",
   "execution_count": 19,
   "metadata": {
    "colab": {
     "base_uri": "https://localhost:8080/",
     "height": 449
    },
    "id": "64ZI1eIfFEXb",
    "outputId": "fd6dc0c6-1b2e-4820-c5d6-73e48baf41b1"
   },
   "outputs": [
    {
     "data": {
      "image/png": "[encoded data removed]",
      "text/plain": [
       "<Figure size 640x480 with 1 Axes>"
      ]
     },
     "metadata": {},
     "output_type": "display_data"
    }
   ],
   "source": [
    "plt.plot(*zip(*history10.metrics_distributed['accuracy']))\n",
    "plt.xlabel(\"Rounds\")\n",
    "plt.ylabel(\"Accuracy\")\n",
    "plt.show()"
   ]
  },
  {
   "cell_type": "markdown",
   "metadata": {
    "id": "8oZ6hqQvGIc_"
   },
   "source": [
    "##Simulação com 15 rouds"
   ]
  },
  {
   "cell_type": "code",
   "execution_count": 20,
   "metadata": {
    "colab": {
     "base_uri": "https://localhost:8080/"
    },
    "id": "OakC344EF90g",
    "outputId": "93d4c239-4fe9-4ec3-f1c2-b6002a369806"
   },
   "outputs": [
    {
     "name": "stderr",
     "output_type": "stream",
     "text": [
      "INFO flwr 2023-04-11 21:01:11,575 | app.py:145 | Starting Flower simulation, config: ServerConfig(num_rounds=15, round_timeout=None)\n",
      "INFO:flwr:Starting Flower simulation, config: ServerConfig(num_rounds=15, round_timeout=None)\n",
      "2023-04-11 21:01:17,634\tINFO worker.py:1529 -- Started a local Ray instance. View the dashboard at \u001b[1m\u001b[32m127.0.0.1:8265 \u001b[39m\u001b[22m\n",
      "INFO flwr 2023-04-11 21:01:20,143 | app.py:179 | Flower VCE: Ray initialized with resources: {'memory': 7717665179.0, 'object_store_memory': 3858832588.0, 'CPU': 2.0, 'node:172.28.0.12': 1.0}\n",
      "INFO:flwr:Flower VCE: Ray initialized with resources: {'memory': 7717665179.0, 'object_store_memory': 3858832588.0, 'CPU': 2.0, 'node:172.28.0.12': 1.0}\n",
      "INFO flwr 2023-04-11 21:01:20,158 | server.py:86 | Initializing global parameters\n",
      "INFO:flwr:Initializing global parameters\n",
      "INFO flwr 2023-04-11 21:01:20,173 | server.py:270 | Requesting initial parameters from one random client\n",
      "INFO:flwr:Requesting initial parameters from one random client\n",
      "INFO flwr 2023-04-11 21:01:24,961 | server.py:274 | Received initial parameters from one random client\n",
      "INFO:flwr:Received initial parameters from one random client\n",
      "INFO flwr 2023-04-11 21:01:24,965 | server.py:88 | Evaluating initial parameters\n",
      "INFO:flwr:Evaluating initial parameters\n",
      "INFO flwr 2023-04-11 21:01:24,968 | server.py:101 | FL starting\n",
      "INFO:flwr:FL starting\n",
      "DEBUG flwr 2023-04-11 21:01:24,970 | server.py:215 | fit_round 1: strategy sampled 9 clients (out of 10)\n",
      "DEBUG:flwr:fit_round 1: strategy sampled 9 clients (out of 10)\n"
     ]
    },
    {
     "name": "stdout",
     "output_type": "stream",
     "text": [
      "\u001b[2m\u001b[36m(launch_and_fit pid=16966)\u001b[0m 188/188 - 8s - loss: 0.5057 - accuracy: 0.8372 - 8s/epoch - 41ms/step\n",
      "\u001b[2m\u001b[36m(launch_and_fit pid=16965)\u001b[0m 188/188 - 10s - loss: 0.5163 - accuracy: 0.8322 - 10s/epoch - 53ms/step\n",
      "\u001b[2m\u001b[36m(launch_and_fit pid=16966)\u001b[0m 188/188 - 9s - loss: 0.5358 - accuracy: 0.8315 - 9s/epoch - 48ms/step\n",
      "\u001b[2m\u001b[36m(launch_and_fit pid=16965)\u001b[0m 188/188 - 9s - loss: 0.4945 - accuracy: 0.8458 - 9s/epoch - 47ms/step\n",
      "\u001b[2m\u001b[36m(launch_and_fit pid=16966)\u001b[0m 188/188 - 10s - loss: 0.5222 - accuracy: 0.8330 - 10s/epoch - 52ms/step\n",
      "\u001b[2m\u001b[36m(launch_and_fit pid=16965)\u001b[0m 188/188 - 8s - loss: 0.5156 - accuracy: 0.8362 - 8s/epoch - 43ms/step\n",
      "\u001b[2m\u001b[36m(launch_and_fit pid=16966)\u001b[0m 188/188 - 7s - loss: 0.5191 - accuracy: 0.8402 - 7s/epoch - 38ms/step\n",
      "\u001b[2m\u001b[36m(launch_and_fit pid=16965)\u001b[0m 188/188 - 10s - loss: 0.5036 - accuracy: 0.8437 - 10s/epoch - 56ms/step\n"
     ]
    },
    {
     "name": "stderr",
     "output_type": "stream",
     "text": [
      "DEBUG flwr 2023-04-11 21:02:13,776 | server.py:229 | fit_round 1 received 9 results and 0 failures\n",
      "DEBUG:flwr:fit_round 1 received 9 results and 0 failures\n",
      "WARNING flwr 2023-04-11 21:02:13,830 | fedavg.py:242 | No fit_metrics_aggregation_fn provided\n",
      "WARNING:flwr:No fit_metrics_aggregation_fn provided\n",
      "DEBUG flwr 2023-04-11 21:02:13,835 | server.py:165 | evaluate_round 1: strategy sampled 10 clients (out of 10)\n",
      "DEBUG:flwr:evaluate_round 1: strategy sampled 10 clients (out of 10)\n"
     ]
    },
    {
     "name": "stdout",
     "output_type": "stream",
     "text": [
      "\u001b[2m\u001b[36m(launch_and_fit pid=16966)\u001b[0m 188/188 - 10s - loss: 0.5103 - accuracy: 0.8405 - 10s/epoch - 53ms/step\n",
      "\u001b[2m\u001b[36m(launch_and_evaluate pid=16966)\u001b[0m 32/32 - 1s - loss: 0.2329 - accuracy: 0.9470 - 848ms/epoch - 27ms/step\n",
      "\u001b[2m\u001b[36m(launch_and_evaluate pid=16965)\u001b[0m 32/32 - 1s - loss: 0.2600 - accuracy: 0.9230 - 922ms/epoch - 29ms/step\n",
      "\u001b[2m\u001b[36m(launch_and_evaluate pid=16966)\u001b[0m 32/32 - 1s - loss: 0.2467 - accuracy: 0.9340 - 771ms/epoch - 24ms/step\n",
      "\u001b[2m\u001b[36m(launch_and_evaluate pid=16965)\u001b[0m 32/32 - 1s - loss: 0.2613 - accuracy: 0.9280 - 779ms/epoch - 24ms/step\n",
      "\u001b[2m\u001b[36m(launch_and_evaluate pid=16966)\u001b[0m 32/32 - 1s - loss: 0.2614 - accuracy: 0.9270 - 784ms/epoch - 24ms/step\n",
      "\u001b[2m\u001b[36m(launch_and_evaluate pid=16965)\u001b[0m 32/32 - 1s - loss: 0.2295 - accuracy: 0.9320 - 770ms/epoch - 24ms/step\n",
      "\u001b[2m\u001b[36m(launch_and_evaluate pid=16966)\u001b[0m 32/32 - 1s - loss: 0.2476 - accuracy: 0.9380 - 812ms/epoch - 25ms/step\n",
      "\u001b[2m\u001b[36m(launch_and_evaluate pid=16965)\u001b[0m 32/32 - 1s - loss: 0.2363 - accuracy: 0.9320 - 812ms/epoch - 25ms/step\n",
      "\u001b[2m\u001b[36m(launch_and_evaluate pid=16965)\u001b[0m 32/32 - 1s - loss: 0.2385 - accuracy: 0.9410 - 761ms/epoch - 24ms/step\n"
     ]
    },
    {
     "name": "stderr",
     "output_type": "stream",
     "text": [
      "DEBUG flwr 2023-04-11 21:02:21,674 | server.py:179 | evaluate_round 1 received 10 results and 0 failures\n",
      "DEBUG:flwr:evaluate_round 1 received 10 results and 0 failures\n",
      "DEBUG flwr 2023-04-11 21:02:21,678 | server.py:215 | fit_round 2: strategy sampled 9 clients (out of 10)\n",
      "DEBUG:flwr:fit_round 2: strategy sampled 9 clients (out of 10)\n"
     ]
    },
    {
     "name": "stdout",
     "output_type": "stream",
     "text": [
      "\u001b[2m\u001b[36m(launch_and_evaluate pid=16966)\u001b[0m 32/32 - 1s - loss: 0.2442 - accuracy: 0.9380 - 1s/epoch - 32ms/step\n",
      "\u001b[2m\u001b[36m(launch_and_fit pid=16965)\u001b[0m 188/188 - 10s - loss: 0.2324 - accuracy: 0.9327 - 10s/epoch - 55ms/step\n",
      "\u001b[2m\u001b[36m(launch_and_fit pid=16966)\u001b[0m 188/188 - 11s - loss: 0.2490 - accuracy: 0.9258 - 11s/epoch - 56ms/step\n",
      "\u001b[2m\u001b[36m(launch_and_fit pid=16966)\u001b[0m 188/188 - 8s - loss: 0.2306 - accuracy: 0.9285 - 8s/epoch - 42ms/step\n",
      "\u001b[2m\u001b[36m(launch_and_fit pid=16965)\u001b[0m 188/188 - 8s - loss: 0.2292 - accuracy: 0.9320 - 8s/epoch - 42ms/step\n",
      "\u001b[2m\u001b[36m(launch_and_fit pid=16966)\u001b[0m 188/188 - 9s - loss: 0.2483 - accuracy: 0.9297 - 9s/epoch - 46ms/step\n",
      "\u001b[2m\u001b[36m(launch_and_fit pid=16965)\u001b[0m 188/188 - 9s - loss: 0.2255 - accuracy: 0.9330 - 9s/epoch - 47ms/step\n",
      "\u001b[2m\u001b[36m(launch_and_fit pid=16966)\u001b[0m 188/188 - 9s - loss: 0.2379 - accuracy: 0.9253 - 9s/epoch - 50ms/step\n",
      "\u001b[2m\u001b[36m(launch_and_fit pid=16965)\u001b[0m 188/188 - 10s - loss: 0.2304 - accuracy: 0.9302 - 10s/epoch - 54ms/step\n"
     ]
    },
    {
     "name": "stderr",
     "output_type": "stream",
     "text": [
      "DEBUG flwr 2023-04-11 21:03:07,376 | server.py:229 | fit_round 2 received 9 results and 0 failures\n",
      "DEBUG:flwr:fit_round 2 received 9 results and 0 failures\n",
      "DEBUG flwr 2023-04-11 21:03:07,419 | server.py:165 | evaluate_round 2: strategy sampled 10 clients (out of 10)\n",
      "DEBUG:flwr:evaluate_round 2: strategy sampled 10 clients (out of 10)\n"
     ]
    },
    {
     "name": "stdout",
     "output_type": "stream",
     "text": [
      "\u001b[2m\u001b[36m(launch_and_fit pid=16966)\u001b[0m 188/188 - 4s - loss: 0.2450 - accuracy: 0.9220 - 4s/epoch - 21ms/step\n",
      "\u001b[2m\u001b[36m(launch_and_evaluate pid=16966)\u001b[0m 32/32 - 1s - loss: 0.1476 - accuracy: 0.9560 - 779ms/epoch - 24ms/step\n",
      "\u001b[2m\u001b[36m(launch_and_evaluate pid=16965)\u001b[0m 32/32 - 1s - loss: 0.1369 - accuracy: 0.9620 - 845ms/epoch - 26ms/step\n",
      "\u001b[2m\u001b[36m(launch_and_evaluate pid=16966)\u001b[0m 32/32 - 1s - loss: 0.1483 - accuracy: 0.9580 - 773ms/epoch - 24ms/step\n",
      "\u001b[2m\u001b[36m(launch_and_evaluate pid=16965)\u001b[0m 32/32 - 1s - loss: 0.1278 - accuracy: 0.9590 - 790ms/epoch - 25ms/step\n",
      "\u001b[2m\u001b[36m(launch_and_evaluate pid=16966)\u001b[0m 32/32 - 1s - loss: 0.1290 - accuracy: 0.9620 - 841ms/epoch - 26ms/step\n",
      "\u001b[2m\u001b[36m(launch_and_evaluate pid=16965)\u001b[0m 32/32 - 1s - loss: 0.1454 - accuracy: 0.9540 - 761ms/epoch - 24ms/step\n",
      "\u001b[2m\u001b[36m(launch_and_evaluate pid=16966)\u001b[0m 32/32 - 1s - loss: 0.1405 - accuracy: 0.9590 - 758ms/epoch - 24ms/step\n",
      "\u001b[2m\u001b[36m(launch_and_evaluate pid=16965)\u001b[0m 32/32 - 1s - loss: 0.1717 - accuracy: 0.9480 - 782ms/epoch - 24ms/step\n"
     ]
    },
    {
     "name": "stderr",
     "output_type": "stream",
     "text": [
      "DEBUG flwr 2023-04-11 21:03:15,909 | server.py:179 | evaluate_round 2 received 10 results and 0 failures\n",
      "DEBUG:flwr:evaluate_round 2 received 10 results and 0 failures\n",
      "DEBUG flwr 2023-04-11 21:03:15,916 | server.py:215 | fit_round 3: strategy sampled 9 clients (out of 10)\n",
      "DEBUG:flwr:fit_round 3: strategy sampled 9 clients (out of 10)\n"
     ]
    },
    {
     "name": "stdout",
     "output_type": "stream",
     "text": [
      "\u001b[2m\u001b[36m(launch_and_evaluate pid=16965)\u001b[0m 32/32 - 2s - loss: 0.1748 - accuracy: 0.9460 - 2s/epoch - 48ms/step\n",
      "\u001b[2m\u001b[36m(launch_and_evaluate pid=16966)\u001b[0m 32/32 - 2s - loss: 0.1436 - accuracy: 0.9620 - 2s/epoch - 48ms/step\n",
      "\u001b[2m\u001b[36m(launch_and_fit pid=16966)\u001b[0m 188/188 - 8s - loss: 0.1676 - accuracy: 0.9483 - 8s/epoch - 45ms/step\n",
      "\u001b[2m\u001b[36m(launch_and_fit pid=16965)\u001b[0m 188/188 - 9s - loss: 0.1641 - accuracy: 0.9503 - 9s/epoch - 46ms/step\n",
      "\u001b[2m\u001b[36m(launch_and_fit pid=16965)\u001b[0m 188/188 - 10s - loss: 0.1695 - accuracy: 0.9487 - 10s/epoch - 51ms/step\n",
      "\u001b[2m\u001b[36m(launch_and_fit pid=16966)\u001b[0m 188/188 - 10s - loss: 0.1586 - accuracy: 0.9528 - 10s/epoch - 53ms/step\n",
      "\u001b[2m\u001b[36m(launch_and_fit pid=16965)\u001b[0m 188/188 - 7s - loss: 0.1579 - accuracy: 0.9517 - 7s/epoch - 38ms/step\n",
      "\u001b[2m\u001b[36m(launch_and_fit pid=16966)\u001b[0m 188/188 - 7s - loss: 0.1675 - accuracy: 0.9515 - 7s/epoch - 38ms/step\n",
      "\u001b[2m\u001b[36m(launch_and_fit pid=16966)\u001b[0m 188/188 - 10s - loss: 0.1674 - accuracy: 0.9510 - 10s/epoch - 55ms/step\n",
      "\u001b[2m\u001b[36m(launch_and_fit pid=16965)\u001b[0m 188/188 - 10s - loss: 0.1707 - accuracy: 0.9485 - 10s/epoch - 54ms/step\n"
     ]
    },
    {
     "name": "stderr",
     "output_type": "stream",
     "text": [
      "DEBUG flwr 2023-04-11 21:04:00,175 | server.py:229 | fit_round 3 received 9 results and 0 failures\n",
      "DEBUG:flwr:fit_round 3 received 9 results and 0 failures\n",
      "DEBUG flwr 2023-04-11 21:04:00,215 | server.py:165 | evaluate_round 3: strategy sampled 10 clients (out of 10)\n",
      "DEBUG:flwr:evaluate_round 3: strategy sampled 10 clients (out of 10)\n"
     ]
    },
    {
     "name": "stdout",
     "output_type": "stream",
     "text": [
      "\u001b[2m\u001b[36m(launch_and_fit pid=16965)\u001b[0m 188/188 - 4s - loss: 0.1581 - accuracy: 0.9537 - 4s/epoch - 20ms/step\n",
      "\u001b[2m\u001b[36m(launch_and_evaluate pid=16966)\u001b[0m 32/32 - 1s - loss: 0.1037 - accuracy: 0.9690 - 766ms/epoch - 24ms/step\n",
      "\u001b[2m\u001b[36m(launch_and_evaluate pid=16965)\u001b[0m 32/32 - 1s - loss: 0.1358 - accuracy: 0.9600 - 792ms/epoch - 25ms/step\n",
      "\u001b[2m\u001b[36m(launch_and_evaluate pid=16966)\u001b[0m 32/32 - 1s - loss: 0.1133 - accuracy: 0.9680 - 782ms/epoch - 24ms/step\n",
      "\u001b[2m\u001b[36m(launch_and_evaluate pid=16965)\u001b[0m 32/32 - 1s - loss: 0.1381 - accuracy: 0.9570 - 785ms/epoch - 25ms/step\n",
      "\u001b[2m\u001b[36m(launch_and_evaluate pid=16966)\u001b[0m 32/32 - 1s - loss: 0.1403 - accuracy: 0.9590 - 792ms/epoch - 25ms/step\n",
      "\u001b[2m\u001b[36m(launch_and_evaluate pid=16965)\u001b[0m 32/32 - 1s - loss: 0.1294 - accuracy: 0.9650 - 783ms/epoch - 24ms/step\n",
      "\u001b[2m\u001b[36m(launch_and_evaluate pid=16966)\u001b[0m 32/32 - 1s - loss: 0.0987 - accuracy: 0.9690 - 1s/epoch - 45ms/step\n",
      "\u001b[2m\u001b[36m(launch_and_evaluate pid=16965)\u001b[0m 32/32 - 2s - loss: 0.1339 - accuracy: 0.9570 - 2s/epoch - 48ms/step\n"
     ]
    },
    {
     "name": "stderr",
     "output_type": "stream",
     "text": [
      "DEBUG flwr 2023-04-11 21:04:10,176 | server.py:179 | evaluate_round 3 received 10 results and 0 failures\n",
      "DEBUG:flwr:evaluate_round 3 received 10 results and 0 failures\n",
      "DEBUG flwr 2023-04-11 21:04:10,183 | server.py:215 | fit_round 4: strategy sampled 9 clients (out of 10)\n",
      "DEBUG:flwr:fit_round 4: strategy sampled 9 clients (out of 10)\n"
     ]
    },
    {
     "name": "stdout",
     "output_type": "stream",
     "text": [
      "\u001b[2m\u001b[36m(launch_and_evaluate pid=16966)\u001b[0m 32/32 - 1s - loss: 0.1079 - accuracy: 0.9670 - 1s/epoch - 41ms/step\n",
      "\u001b[2m\u001b[36m(launch_and_evaluate pid=16965)\u001b[0m 32/32 - 1s - loss: 0.0978 - accuracy: 0.9740 - 1s/epoch - 40ms/step\n",
      "\u001b[2m\u001b[36m(launch_and_fit pid=16966)\u001b[0m 188/188 - 7s - loss: 0.1386 - accuracy: 0.9598 - 7s/epoch - 38ms/step\n",
      "\u001b[2m\u001b[36m(launch_and_fit pid=16965)\u001b[0m 188/188 - 7s - loss: 0.1360 - accuracy: 0.9615 - 7s/epoch - 38ms/step\n",
      "\u001b[2m\u001b[36m(launch_and_fit pid=16965)\u001b[0m 188/188 - 10s - loss: 0.1250 - accuracy: 0.9627 - 10s/epoch - 54ms/step\n",
      "\u001b[2m\u001b[36m(launch_and_fit pid=16966)\u001b[0m 188/188 - 11s - loss: 0.1318 - accuracy: 0.9578 - 11s/epoch - 58ms/step\n",
      "\u001b[2m\u001b[36m(launch_and_fit pid=16965)\u001b[0m 188/188 - 7s - loss: 0.1320 - accuracy: 0.9602 - 7s/epoch - 37ms/step\n",
      "\u001b[2m\u001b[36m(launch_and_fit pid=16966)\u001b[0m 188/188 - 7s - loss: 0.1245 - accuracy: 0.9630 - 7s/epoch - 38ms/step\n",
      "\u001b[2m\u001b[36m(launch_and_fit pid=16965)\u001b[0m 188/188 - 10s - loss: 0.1218 - accuracy: 0.9625 - 10s/epoch - 54ms/step\n",
      "\u001b[2m\u001b[36m(launch_and_fit pid=16966)\u001b[0m 188/188 - 10s - loss: 0.1247 - accuracy: 0.9628 - 10s/epoch - 54ms/step\n"
     ]
    },
    {
     "name": "stderr",
     "output_type": "stream",
     "text": [
      "DEBUG flwr 2023-04-11 21:04:53,085 | server.py:229 | fit_round 4 received 9 results and 0 failures\n",
      "DEBUG:flwr:fit_round 4 received 9 results and 0 failures\n",
      "DEBUG flwr 2023-04-11 21:04:53,129 | server.py:165 | evaluate_round 4: strategy sampled 10 clients (out of 10)\n",
      "DEBUG:flwr:evaluate_round 4: strategy sampled 10 clients (out of 10)\n"
     ]
    },
    {
     "name": "stdout",
     "output_type": "stream",
     "text": [
      "\u001b[2m\u001b[36m(launch_and_fit pid=16965)\u001b[0m 188/188 - 4s - loss: 0.1356 - accuracy: 0.9610 - 4s/epoch - 21ms/step\n",
      "\u001b[2m\u001b[36m(launch_and_evaluate pid=16966)\u001b[0m 32/32 - 1s - loss: 0.0831 - accuracy: 0.9710 - 789ms/epoch - 25ms/step\n",
      "\u001b[2m\u001b[36m(launch_and_evaluate pid=16965)\u001b[0m 32/32 - 1s - loss: 0.0861 - accuracy: 0.9760 - 834ms/epoch - 26ms/step\n",
      "\u001b[2m\u001b[36m(launch_and_evaluate pid=16966)\u001b[0m 32/32 - 1s - loss: 0.0955 - accuracy: 0.9690 - 942ms/epoch - 29ms/step\n",
      "\u001b[2m\u001b[36m(launch_and_evaluate pid=16965)\u001b[0m 32/32 - 2s - loss: 0.0941 - accuracy: 0.9710 - 2s/epoch - 48ms/step\n",
      "\u001b[2m\u001b[36m(launch_and_evaluate pid=16966)\u001b[0m 32/32 - 2s - loss: 0.0955 - accuracy: 0.9740 - 2s/epoch - 48ms/step\n",
      "\u001b[2m\u001b[36m(launch_and_evaluate pid=16965)\u001b[0m 32/32 - 1s - loss: 0.0838 - accuracy: 0.9730 - 1s/epoch - 44ms/step\n",
      "\u001b[2m\u001b[36m(launch_and_evaluate pid=16966)\u001b[0m 32/32 - 1s - loss: 0.0961 - accuracy: 0.9690 - 1s/epoch - 44ms/step\n",
      "\u001b[2m\u001b[36m(launch_and_evaluate pid=16965)\u001b[0m 32/32 - 1s - loss: 0.0965 - accuracy: 0.9730 - 838ms/epoch - 26ms/step\n",
      "\u001b[2m\u001b[36m(launch_and_evaluate pid=16966)\u001b[0m 32/32 - 1s - loss: 0.1056 - accuracy: 0.9670 - 782ms/epoch - 24ms/step\n"
     ]
    },
    {
     "name": "stderr",
     "output_type": "stream",
     "text": [
      "DEBUG flwr 2023-04-11 21:05:04,183 | server.py:179 | evaluate_round 4 received 10 results and 0 failures\n",
      "DEBUG:flwr:evaluate_round 4 received 10 results and 0 failures\n",
      "DEBUG flwr 2023-04-11 21:05:04,189 | server.py:215 | fit_round 5: strategy sampled 9 clients (out of 10)\n",
      "DEBUG:flwr:fit_round 5: strategy sampled 9 clients (out of 10)\n"
     ]
    },
    {
     "name": "stdout",
     "output_type": "stream",
     "text": [
      "\u001b[2m\u001b[36m(launch_and_evaluate pid=16965)\u001b[0m 32/32 - 1s - loss: 0.0666 - accuracy: 0.9860 - 503ms/epoch - 16ms/step\n",
      "\u001b[2m\u001b[36m(launch_and_fit pid=16966)\u001b[0m 188/188 - 7s - loss: 0.1151 - accuracy: 0.9658 - 7s/epoch - 38ms/step\n",
      "\u001b[2m\u001b[36m(launch_and_fit pid=16965)\u001b[0m 188/188 - 7s - loss: 0.1077 - accuracy: 0.9675 - 7s/epoch - 38ms/step\n",
      "\u001b[2m\u001b[36m(launch_and_fit pid=16966)\u001b[0m 188/188 - 10s - loss: 0.1048 - accuracy: 0.9678 - 10s/epoch - 52ms/step\n",
      "\u001b[2m\u001b[36m(launch_and_fit pid=16965)\u001b[0m 188/188 - 10s - loss: 0.1202 - accuracy: 0.9620 - 10s/epoch - 52ms/step\n",
      "\u001b[2m\u001b[36m(launch_and_fit pid=16966)\u001b[0m 188/188 - 8s - loss: 0.1127 - accuracy: 0.9665 - 8s/epoch - 44ms/step\n",
      "\u001b[2m\u001b[36m(launch_and_fit pid=16965)\u001b[0m 188/188 - 9s - loss: 0.1068 - accuracy: 0.9673 - 9s/epoch - 47ms/step\n",
      "\u001b[2m\u001b[36m(launch_and_fit pid=16966)\u001b[0m 188/188 - 8s - loss: 0.1068 - accuracy: 0.9653 - 8s/epoch - 43ms/step\n",
      "\u001b[2m\u001b[36m(launch_and_fit pid=16965)\u001b[0m 188/188 - 8s - loss: 0.1141 - accuracy: 0.9637 - 8s/epoch - 43ms/step\n"
     ]
    },
    {
     "name": "stderr",
     "output_type": "stream",
     "text": [
      "DEBUG flwr 2023-04-11 21:05:46,645 | server.py:229 | fit_round 5 received 9 results and 0 failures\n",
      "DEBUG:flwr:fit_round 5 received 9 results and 0 failures\n",
      "DEBUG flwr 2023-04-11 21:05:46,692 | server.py:165 | evaluate_round 5: strategy sampled 10 clients (out of 10)\n",
      "DEBUG:flwr:evaluate_round 5: strategy sampled 10 clients (out of 10)\n"
     ]
    },
    {
     "name": "stdout",
     "output_type": "stream",
     "text": [
      "\u001b[2m\u001b[36m(launch_and_fit pid=16966)\u001b[0m 188/188 - 4s - loss: 0.1182 - accuracy: 0.9640 - 4s/epoch - 21ms/step\n",
      "\u001b[2m\u001b[36m(launch_and_evaluate pid=16966)\u001b[0m 32/32 - 2s - loss: 0.0698 - accuracy: 0.9820 - 2s/epoch - 49ms/step\n",
      "\u001b[2m\u001b[36m(launch_and_evaluate pid=16965)\u001b[0m 32/32 - 2s - loss: 0.0778 - accuracy: 0.9780 - 2s/epoch - 54ms/step\n",
      "\u001b[2m\u001b[36m(launch_and_evaluate pid=16966)\u001b[0m 32/32 - 2s - loss: 0.0982 - accuracy: 0.9680 - 2s/epoch - 48ms/step\n",
      "\u001b[2m\u001b[36m(launch_and_evaluate pid=16965)\u001b[0m 32/32 - 2s - loss: 0.0808 - accuracy: 0.9760 - 2s/epoch - 51ms/step\n",
      "\u001b[2m\u001b[36m(launch_and_evaluate pid=16966)\u001b[0m 32/32 - 1s - loss: 0.0877 - accuracy: 0.9720 - 808ms/epoch - 25ms/step\n",
      "\u001b[2m\u001b[36m(launch_and_evaluate pid=16965)\u001b[0m 32/32 - 1s - loss: 0.0689 - accuracy: 0.9800 - 816ms/epoch - 26ms/step\n",
      "\u001b[2m\u001b[36m(launch_and_evaluate pid=16966)\u001b[0m 32/32 - 1s - loss: 0.0962 - accuracy: 0.9650 - 756ms/epoch - 24ms/step\n",
      "\u001b[2m\u001b[36m(launch_and_evaluate pid=16965)\u001b[0m 32/32 - 1s - loss: 0.0605 - accuracy: 0.9820 - 788ms/epoch - 25ms/step\n"
     ]
    },
    {
     "name": "stderr",
     "output_type": "stream",
     "text": [
      "DEBUG flwr 2023-04-11 21:05:57,143 | server.py:179 | evaluate_round 5 received 10 results and 0 failures\n",
      "DEBUG:flwr:evaluate_round 5 received 10 results and 0 failures\n",
      "DEBUG flwr 2023-04-11 21:05:57,147 | server.py:215 | fit_round 6: strategy sampled 9 clients (out of 10)\n",
      "DEBUG:flwr:fit_round 6: strategy sampled 9 clients (out of 10)\n"
     ]
    },
    {
     "name": "stdout",
     "output_type": "stream",
     "text": [
      "\u001b[2m\u001b[36m(launch_and_evaluate pid=16966)\u001b[0m 32/32 - 1s - loss: 0.0723 - accuracy: 0.9770 - 829ms/epoch - 26ms/step\n",
      "\u001b[2m\u001b[36m(launch_and_evaluate pid=16965)\u001b[0m 32/32 - 1s - loss: 0.0806 - accuracy: 0.9730 - 733ms/epoch - 23ms/step\n",
      "\u001b[2m\u001b[36m(launch_and_fit pid=16966)\u001b[0m 188/188 - 9s - loss: 0.1009 - accuracy: 0.9707 - 9s/epoch - 48ms/step\n",
      "\u001b[2m\u001b[36m(launch_and_fit pid=16965)\u001b[0m 188/188 - 9s - loss: 0.1012 - accuracy: 0.9690 - 9s/epoch - 49ms/step\n",
      "\u001b[2m\u001b[36m(launch_and_fit pid=16966)\u001b[0m 188/188 - 8s - loss: 0.1009 - accuracy: 0.9715 - 8s/epoch - 42ms/step\n",
      "\u001b[2m\u001b[36m(launch_and_fit pid=16965)\u001b[0m 188/188 - 8s - loss: 0.1018 - accuracy: 0.9705 - 8s/epoch - 40ms/step\n",
      "\u001b[2m\u001b[36m(launch_and_fit pid=16966)\u001b[0m 188/188 - 10s - loss: 0.0981 - accuracy: 0.9723 - 10s/epoch - 55ms/step\n",
      "\u001b[2m\u001b[36m(launch_and_fit pid=16965)\u001b[0m 188/188 - 10s - loss: 0.1097 - accuracy: 0.9658 - 10s/epoch - 55ms/step\n",
      "\u001b[2m\u001b[36m(launch_and_fit pid=16966)\u001b[0m 188/188 - 7s - loss: 0.0960 - accuracy: 0.9712 - 7s/epoch - 38ms/step\n",
      "\u001b[2m\u001b[36m(launch_and_fit pid=16965)\u001b[0m 188/188 - 7s - loss: 0.1001 - accuracy: 0.9710 - 7s/epoch - 38ms/step\n"
     ]
    },
    {
     "name": "stderr",
     "output_type": "stream",
     "text": [
      "DEBUG flwr 2023-04-11 21:06:41,641 | server.py:229 | fit_round 6 received 9 results and 0 failures\n",
      "DEBUG:flwr:fit_round 6 received 9 results and 0 failures\n",
      "DEBUG flwr 2023-04-11 21:06:41,704 | server.py:165 | evaluate_round 6: strategy sampled 10 clients (out of 10)\n",
      "DEBUG:flwr:evaluate_round 6: strategy sampled 10 clients (out of 10)\n"
     ]
    },
    {
     "name": "stdout",
     "output_type": "stream",
     "text": [
      "\u001b[2m\u001b[36m(launch_and_fit pid=16966)\u001b[0m 188/188 - 6s - loss: 0.0957 - accuracy: 0.9703 - 6s/epoch - 32ms/step\n",
      "\u001b[2m\u001b[36m(launch_and_evaluate pid=16966)\u001b[0m 32/32 - 1s - loss: 0.0678 - accuracy: 0.9770 - 949ms/epoch - 30ms/step\n",
      "\u001b[2m\u001b[36m(launch_and_evaluate pid=16965)\u001b[0m 32/32 - 1s - loss: 0.0757 - accuracy: 0.9760 - 1s/epoch - 31ms/step\n",
      "\u001b[2m\u001b[36m(launch_and_evaluate pid=16965)\u001b[0m 32/32 - 1s - loss: 0.0776 - accuracy: 0.9720 - 746ms/epoch - 23ms/step\n",
      "\u001b[2m\u001b[36m(launch_and_evaluate pid=16966)\u001b[0m 32/32 - 1s - loss: 0.0752 - accuracy: 0.9750 - 1s/epoch - 46ms/step\n",
      "\u001b[2m\u001b[36m(launch_and_evaluate pid=16965)\u001b[0m 32/32 - 1s - loss: 0.0492 - accuracy: 0.9820 - 753ms/epoch - 24ms/step\n",
      "\u001b[2m\u001b[36m(launch_and_evaluate pid=16966)\u001b[0m 32/32 - 1s - loss: 0.0855 - accuracy: 0.9720 - 770ms/epoch - 24ms/step\n",
      "\u001b[2m\u001b[36m(launch_and_evaluate pid=16965)\u001b[0m 32/32 - 1s - loss: 0.0964 - accuracy: 0.9680 - 775ms/epoch - 24ms/step\n",
      "\u001b[2m\u001b[36m(launch_and_evaluate pid=16966)\u001b[0m 32/32 - 1s - loss: 0.0576 - accuracy: 0.9830 - 808ms/epoch - 25ms/step\n",
      "\u001b[2m\u001b[36m(launch_and_evaluate pid=16965)\u001b[0m 32/32 - 1s - loss: 0.0875 - accuracy: 0.9710 - 798ms/epoch - 25ms/step\n"
     ]
    },
    {
     "name": "stderr",
     "output_type": "stream",
     "text": [
      "DEBUG flwr 2023-04-11 21:06:50,271 | server.py:179 | evaluate_round 6 received 10 results and 0 failures\n",
      "DEBUG:flwr:evaluate_round 6 received 10 results and 0 failures\n",
      "DEBUG flwr 2023-04-11 21:06:50,278 | server.py:215 | fit_round 7: strategy sampled 9 clients (out of 10)\n",
      "DEBUG:flwr:fit_round 7: strategy sampled 9 clients (out of 10)\n"
     ]
    },
    {
     "name": "stdout",
     "output_type": "stream",
     "text": [
      "\u001b[2m\u001b[36m(launch_and_evaluate pid=16966)\u001b[0m 32/32 - 0s - loss: 0.0766 - accuracy: 0.9720 - 482ms/epoch - 15ms/step\n",
      "\u001b[2m\u001b[36m(launch_and_fit pid=16966)\u001b[0m 188/188 - 10s - loss: 0.0889 - accuracy: 0.9738 - 10s/epoch - 55ms/step\n",
      "\u001b[2m\u001b[36m(launch_and_fit pid=16965)\u001b[0m 188/188 - 10s - loss: 0.0956 - accuracy: 0.9725 - 10s/epoch - 55ms/step\n",
      "\u001b[2m\u001b[36m(launch_and_fit pid=16965)\u001b[0m 188/188 - 7s - loss: 0.0810 - accuracy: 0.9765 - 7s/epoch - 38ms/step\n",
      "\u001b[2m\u001b[36m(launch_and_fit pid=16966)\u001b[0m 188/188 - 7s - loss: 0.0776 - accuracy: 0.9788 - 7s/epoch - 38ms/step\n",
      "\u001b[2m\u001b[36m(launch_and_fit pid=16966)\u001b[0m 188/188 - 10s - loss: 0.0760 - accuracy: 0.9768 - 10s/epoch - 53ms/step\n",
      "\u001b[2m\u001b[36m(launch_and_fit pid=16965)\u001b[0m 188/188 - 11s - loss: 0.0798 - accuracy: 0.9762 - 11s/epoch - 61ms/step\n",
      "\u001b[2m\u001b[36m(launch_and_fit pid=16966)\u001b[0m 188/188 - 7s - loss: 0.0928 - accuracy: 0.9707 - 7s/epoch - 39ms/step\n",
      "\u001b[2m\u001b[36m(launch_and_fit pid=16965)\u001b[0m 188/188 - 8s - loss: 0.0897 - accuracy: 0.9755 - 8s/epoch - 43ms/step\n"
     ]
    },
    {
     "name": "stderr",
     "output_type": "stream",
     "text": [
      "DEBUG flwr 2023-04-11 21:07:35,726 | server.py:229 | fit_round 7 received 9 results and 0 failures\n",
      "DEBUG:flwr:fit_round 7 received 9 results and 0 failures\n",
      "DEBUG flwr 2023-04-11 21:07:35,767 | server.py:165 | evaluate_round 7: strategy sampled 10 clients (out of 10)\n",
      "DEBUG:flwr:evaluate_round 7: strategy sampled 10 clients (out of 10)\n"
     ]
    },
    {
     "name": "stdout",
     "output_type": "stream",
     "text": [
      "\u001b[2m\u001b[36m(launch_and_fit pid=16966)\u001b[0m 188/188 - 6s - loss: 0.0841 - accuracy: 0.9740 - 6s/epoch - 30ms/step\n",
      "\u001b[2m\u001b[36m(launch_and_evaluate pid=16966)\u001b[0m 32/32 - 1s - loss: 0.0462 - accuracy: 0.9870 - 760ms/epoch - 24ms/step\n",
      "\u001b[2m\u001b[36m(launch_and_evaluate pid=16965)\u001b[0m 32/32 - 1s - loss: 0.0860 - accuracy: 0.9760 - 778ms/epoch - 24ms/step\n",
      "\u001b[2m\u001b[36m(launch_and_evaluate pid=16966)\u001b[0m 32/32 - 1s - loss: 0.0731 - accuracy: 0.9750 - 766ms/epoch - 24ms/step\n",
      "\u001b[2m\u001b[36m(launch_and_evaluate pid=16965)\u001b[0m 32/32 - 1s - loss: 0.0553 - accuracy: 0.9810 - 793ms/epoch - 25ms/step\n",
      "\u001b[2m\u001b[36m(launch_and_evaluate pid=16966)\u001b[0m 32/32 - 1s - loss: 0.0632 - accuracy: 0.9770 - 752ms/epoch - 24ms/step\n",
      "\u001b[2m\u001b[36m(launch_and_evaluate pid=16965)\u001b[0m 32/32 - 1s - loss: 0.0725 - accuracy: 0.9770 - 838ms/epoch - 26ms/step\n",
      "\u001b[2m\u001b[36m(launch_and_evaluate pid=16966)\u001b[0m 32/32 - 1s - loss: 0.0691 - accuracy: 0.9770 - 763ms/epoch - 24ms/step\n",
      "\u001b[2m\u001b[36m(launch_and_evaluate pid=16965)\u001b[0m 32/32 - 1s - loss: 0.0604 - accuracy: 0.9800 - 768ms/epoch - 24ms/step\n"
     ]
    },
    {
     "name": "stderr",
     "output_type": "stream",
     "text": [
      "DEBUG flwr 2023-04-11 21:07:43,149 | server.py:179 | evaluate_round 7 received 10 results and 0 failures\n",
      "DEBUG:flwr:evaluate_round 7 received 10 results and 0 failures\n",
      "DEBUG flwr 2023-04-11 21:07:43,154 | server.py:215 | fit_round 8: strategy sampled 9 clients (out of 10)\n",
      "DEBUG:flwr:fit_round 8: strategy sampled 9 clients (out of 10)\n"
     ]
    },
    {
     "name": "stdout",
     "output_type": "stream",
     "text": [
      "\u001b[2m\u001b[36m(launch_and_evaluate pid=16966)\u001b[0m 32/32 - 1s - loss: 0.0736 - accuracy: 0.9690 - 827ms/epoch - 26ms/step\n",
      "\u001b[2m\u001b[36m(launch_and_evaluate pid=16965)\u001b[0m 32/32 - 1s - loss: 0.0601 - accuracy: 0.9790 - 749ms/epoch - 23ms/step\n",
      "\u001b[2m\u001b[36m(launch_and_fit pid=16966)\u001b[0m 188/188 - 10s - loss: 0.0621 - accuracy: 0.9822 - 10s/epoch - 55ms/step\n",
      "\u001b[2m\u001b[36m(launch_and_fit pid=16965)\u001b[0m 188/188 - 10s - loss: 0.0694 - accuracy: 0.9793 - 10s/epoch - 55ms/step\n",
      "\u001b[2m\u001b[36m(launch_and_fit pid=16966)\u001b[0m 188/188 - 8s - loss: 0.0644 - accuracy: 0.9800 - 8s/epoch - 42ms/step\n",
      "\u001b[2m\u001b[36m(launch_and_fit pid=16965)\u001b[0m 188/188 - 8s - loss: 0.0715 - accuracy: 0.9777 - 8s/epoch - 43ms/step\n",
      "\u001b[2m\u001b[36m(launch_and_fit pid=16966)\u001b[0m 188/188 - 9s - loss: 0.0825 - accuracy: 0.9742 - 9s/epoch - 46ms/step\n",
      "\u001b[2m\u001b[36m(launch_and_fit pid=16965)\u001b[0m 188/188 - 9s - loss: 0.0801 - accuracy: 0.9750 - 9s/epoch - 47ms/step\n",
      "\u001b[2m\u001b[36m(launch_and_fit pid=16966)\u001b[0m 188/188 - 10s - loss: 0.0747 - accuracy: 0.9775 - 10s/epoch - 53ms/step\n",
      "\u001b[2m\u001b[36m(launch_and_fit pid=16965)\u001b[0m 188/188 - 10s - loss: 0.0727 - accuracy: 0.9785 - 10s/epoch - 53ms/step\n"
     ]
    },
    {
     "name": "stderr",
     "output_type": "stream",
     "text": [
      "DEBUG flwr 2023-04-11 21:08:28,623 | server.py:229 | fit_round 8 received 9 results and 0 failures\n",
      "DEBUG:flwr:fit_round 8 received 9 results and 0 failures\n",
      "DEBUG flwr 2023-04-11 21:08:28,662 | server.py:165 | evaluate_round 8: strategy sampled 10 clients (out of 10)\n",
      "DEBUG:flwr:evaluate_round 8: strategy sampled 10 clients (out of 10)\n"
     ]
    },
    {
     "name": "stdout",
     "output_type": "stream",
     "text": [
      "\u001b[2m\u001b[36m(launch_and_fit pid=16966)\u001b[0m 188/188 - 4s - loss: 0.0699 - accuracy: 0.9810 - 4s/epoch - 20ms/step\n",
      "\u001b[2m\u001b[36m(launch_and_evaluate pid=16965)\u001b[0m 32/32 - 1s - loss: 0.0632 - accuracy: 0.9800 - 762ms/epoch - 24ms/step\n",
      "\u001b[2m\u001b[36m(launch_and_evaluate pid=16966)\u001b[0m 32/32 - 1s - loss: 0.0909 - accuracy: 0.9710 - 781ms/epoch - 24ms/step\n",
      "\u001b[2m\u001b[36m(launch_and_evaluate pid=16966)\u001b[0m 32/32 - 1s - loss: 0.0543 - accuracy: 0.9840 - 786ms/epoch - 25ms/step\n",
      "\u001b[2m\u001b[36m(launch_and_evaluate pid=16965)\u001b[0m 32/32 - 1s - loss: 0.0716 - accuracy: 0.9790 - 756ms/epoch - 24ms/step\n",
      "\u001b[2m\u001b[36m(launch_and_evaluate pid=16966)\u001b[0m 32/32 - 1s - loss: 0.0698 - accuracy: 0.9720 - 749ms/epoch - 23ms/step\n",
      "\u001b[2m\u001b[36m(launch_and_evaluate pid=16965)\u001b[0m 32/32 - 1s - loss: 0.0763 - accuracy: 0.9800 - 759ms/epoch - 24ms/step\n",
      "\u001b[2m\u001b[36m(launch_and_evaluate pid=16966)\u001b[0m 32/32 - 1s - loss: 0.0612 - accuracy: 0.9810 - 774ms/epoch - 24ms/step\n",
      "\u001b[2m\u001b[36m(launch_and_evaluate pid=16965)\u001b[0m 32/32 - 1s - loss: 0.0537 - accuracy: 0.9870 - 818ms/epoch - 26ms/step\n"
     ]
    },
    {
     "name": "stderr",
     "output_type": "stream",
     "text": [
      "DEBUG flwr 2023-04-11 21:08:37,238 | server.py:179 | evaluate_round 8 received 10 results and 0 failures\n",
      "DEBUG:flwr:evaluate_round 8 received 10 results and 0 failures\n",
      "DEBUG flwr 2023-04-11 21:08:37,248 | server.py:215 | fit_round 9: strategy sampled 9 clients (out of 10)\n",
      "DEBUG:flwr:fit_round 9: strategy sampled 9 clients (out of 10)\n"
     ]
    },
    {
     "name": "stdout",
     "output_type": "stream",
     "text": [
      "\u001b[2m\u001b[36m(launch_and_evaluate pid=16965)\u001b[0m 32/32 - 2s - loss: 0.0651 - accuracy: 0.9780 - 2s/epoch - 49ms/step\n",
      "\u001b[2m\u001b[36m(launch_and_evaluate pid=16966)\u001b[0m 32/32 - 2s - loss: 0.0708 - accuracy: 0.9710 - 2s/epoch - 49ms/step\n",
      "\u001b[2m\u001b[36m(launch_and_fit pid=16966)\u001b[0m 188/188 - 8s - loss: 0.0726 - accuracy: 0.9788 - 8s/epoch - 44ms/step\n",
      "\u001b[2m\u001b[36m(launch_and_fit pid=16965)\u001b[0m 188/188 - 9s - loss: 0.0713 - accuracy: 0.9765 - 9s/epoch - 45ms/step\n",
      "\u001b[2m\u001b[36m(launch_and_fit pid=16965)\u001b[0m 188/188 - 10s - loss: 0.0687 - accuracy: 0.9783 - 10s/epoch - 55ms/step\n",
      "\u001b[2m\u001b[36m(launch_and_fit pid=16966)\u001b[0m 188/188 - 11s - loss: 0.0724 - accuracy: 0.9793 - 11s/epoch - 58ms/step\n",
      "\u001b[2m\u001b[36m(launch_and_fit pid=16965)\u001b[0m 188/188 - 7s - loss: 0.0641 - accuracy: 0.9822 - 7s/epoch - 38ms/step\n",
      "\u001b[2m\u001b[36m(launch_and_fit pid=16966)\u001b[0m 188/188 - 7s - loss: 0.0730 - accuracy: 0.9797 - 7s/epoch - 38ms/step\n",
      "\u001b[2m\u001b[36m(launch_and_fit pid=16965)\u001b[0m 188/188 - 7s - loss: 0.0743 - accuracy: 0.9785 - 7s/epoch - 37ms/step\n",
      "\u001b[2m\u001b[36m(launch_and_fit pid=16966)\u001b[0m 188/188 - 9s - loss: 0.0760 - accuracy: 0.9765 - 9s/epoch - 45ms/step\n"
     ]
    },
    {
     "name": "stderr",
     "output_type": "stream",
     "text": [
      "DEBUG flwr 2023-04-11 21:09:21,860 | server.py:229 | fit_round 9 received 9 results and 0 failures\n",
      "DEBUG:flwr:fit_round 9 received 9 results and 0 failures\n",
      "DEBUG flwr 2023-04-11 21:09:21,909 | server.py:165 | evaluate_round 9: strategy sampled 10 clients (out of 10)\n",
      "DEBUG:flwr:evaluate_round 9: strategy sampled 10 clients (out of 10)\n"
     ]
    },
    {
     "name": "stdout",
     "output_type": "stream",
     "text": [
      "\u001b[2m\u001b[36m(launch_and_fit pid=16965)\u001b[0m 188/188 - 7s - loss: 0.0750 - accuracy: 0.9793 - 7s/epoch - 35ms/step\n",
      "\u001b[2m\u001b[36m(launch_and_evaluate pid=16965)\u001b[0m 32/32 - 1s - loss: 0.0659 - accuracy: 0.9790 - 757ms/epoch - 24ms/step\n",
      "\u001b[2m\u001b[36m(launch_and_evaluate pid=16966)\u001b[0m 32/32 - 1s - loss: 0.0627 - accuracy: 0.9770 - 766ms/epoch - 24ms/step\n",
      "\u001b[2m\u001b[36m(launch_and_evaluate pid=16965)\u001b[0m 32/32 - 1s - loss: 0.0614 - accuracy: 0.9820 - 739ms/epoch - 23ms/step\n",
      "\u001b[2m\u001b[36m(launch_and_evaluate pid=16966)\u001b[0m 32/32 - 1s - loss: 0.0636 - accuracy: 0.9790 - 780ms/epoch - 24ms/step\n",
      "\u001b[2m\u001b[36m(launch_and_evaluate pid=16965)\u001b[0m 32/32 - 1s - loss: 0.0700 - accuracy: 0.9770 - 1s/epoch - 46ms/step\n",
      "\u001b[2m\u001b[36m(launch_and_evaluate pid=16966)\u001b[0m 32/32 - 2s - loss: 0.0592 - accuracy: 0.9840 - 2s/epoch - 51ms/step\n",
      "\u001b[2m\u001b[36m(launch_and_evaluate pid=16966)\u001b[0m 32/32 - 1s - loss: 0.0513 - accuracy: 0.9880 - 1s/epoch - 43ms/step\n",
      "\u001b[2m\u001b[36m(launch_and_evaluate pid=16965)\u001b[0m 32/32 - 2s - loss: 0.0643 - accuracy: 0.9790 - 2s/epoch - 48ms/step\n"
     ]
    },
    {
     "name": "stderr",
     "output_type": "stream",
     "text": [
      "DEBUG flwr 2023-04-11 21:09:32,401 | server.py:179 | evaluate_round 9 received 10 results and 0 failures\n",
      "DEBUG:flwr:evaluate_round 9 received 10 results and 0 failures\n",
      "DEBUG flwr 2023-04-11 21:09:32,408 | server.py:215 | fit_round 10: strategy sampled 9 clients (out of 10)\n",
      "DEBUG:flwr:fit_round 10: strategy sampled 9 clients (out of 10)\n"
     ]
    },
    {
     "name": "stdout",
     "output_type": "stream",
     "text": [
      "\u001b[2m\u001b[36m(launch_and_evaluate pid=16966)\u001b[0m 32/32 - 1s - loss: 0.0566 - accuracy: 0.9770 - 1s/epoch - 33ms/step\n",
      "\u001b[2m\u001b[36m(launch_and_evaluate pid=16965)\u001b[0m 32/32 - 1s - loss: 0.0595 - accuracy: 0.9830 - 957ms/epoch - 30ms/step\n",
      "\u001b[2m\u001b[36m(launch_and_fit pid=16966)\u001b[0m 188/188 - 7s - loss: 0.0572 - accuracy: 0.9832 - 7s/epoch - 38ms/step\n",
      "\u001b[2m\u001b[36m(launch_and_fit pid=16965)\u001b[0m 188/188 - 8s - loss: 0.0668 - accuracy: 0.9802 - 8s/epoch - 42ms/step\n",
      "\u001b[2m\u001b[36m(launch_and_fit pid=16966)\u001b[0m 188/188 - 10s - loss: 0.0618 - accuracy: 0.9832 - 10s/epoch - 53ms/step\n",
      "\u001b[2m\u001b[36m(launch_and_fit pid=16965)\u001b[0m 188/188 - 11s - loss: 0.0685 - accuracy: 0.9798 - 11s/epoch - 58ms/step\n",
      "\u001b[2m\u001b[36m(launch_and_fit pid=16966)\u001b[0m 188/188 - 7s - loss: 0.0692 - accuracy: 0.9780 - 7s/epoch - 39ms/step\n",
      "\u001b[2m\u001b[36m(launch_and_fit pid=16965)\u001b[0m 188/188 - 8s - loss: 0.0609 - accuracy: 0.9807 - 8s/epoch - 43ms/step\n",
      "\u001b[2m\u001b[36m(launch_and_fit pid=16966)\u001b[0m 188/188 - 9s - loss: 0.0594 - accuracy: 0.9805 - 9s/epoch - 46ms/step\n",
      "\u001b[2m\u001b[36m(launch_and_fit pid=16965)\u001b[0m 188/188 - 9s - loss: 0.0704 - accuracy: 0.9783 - 9s/epoch - 48ms/step\n"
     ]
    },
    {
     "name": "stderr",
     "output_type": "stream",
     "text": [
      "DEBUG flwr 2023-04-11 21:10:15,206 | server.py:229 | fit_round 10 received 9 results and 0 failures\n",
      "DEBUG:flwr:fit_round 10 received 9 results and 0 failures\n",
      "DEBUG flwr 2023-04-11 21:10:15,248 | server.py:165 | evaluate_round 10: strategy sampled 10 clients (out of 10)\n",
      "DEBUG:flwr:evaluate_round 10: strategy sampled 10 clients (out of 10)\n"
     ]
    },
    {
     "name": "stdout",
     "output_type": "stream",
     "text": [
      "\u001b[2m\u001b[36m(launch_and_fit pid=16966)\u001b[0m 188/188 - 4s - loss: 0.0612 - accuracy: 0.9813 - 4s/epoch - 23ms/step\n",
      "\u001b[2m\u001b[36m(launch_and_evaluate pid=16966)\u001b[0m 32/32 - 2s - loss: 0.0434 - accuracy: 0.9870 - 2s/epoch - 50ms/step\n",
      "\u001b[2m\u001b[36m(launch_and_evaluate pid=16965)\u001b[0m 32/32 - 2s - loss: 0.0610 - accuracy: 0.9790 - 2s/epoch - 48ms/step\n",
      "\u001b[2m\u001b[36m(launch_and_evaluate pid=16965)\u001b[0m 32/32 - 1s - loss: 0.0447 - accuracy: 0.9830 - 1s/epoch - 39ms/step\n",
      "\u001b[2m\u001b[36m(launch_and_evaluate pid=16966)\u001b[0m 32/32 - 2s - loss: 0.0371 - accuracy: 0.9860 - 2s/epoch - 51ms/step\n",
      "\u001b[2m\u001b[36m(launch_and_evaluate pid=16965)\u001b[0m 32/32 - 1s - loss: 0.0432 - accuracy: 0.9860 - 951ms/epoch - 30ms/step\n",
      "\u001b[2m\u001b[36m(launch_and_evaluate pid=16966)\u001b[0m 32/32 - 1s - loss: 0.0499 - accuracy: 0.9810 - 833ms/epoch - 26ms/step\n",
      "\u001b[2m\u001b[36m(launch_and_evaluate pid=16965)\u001b[0m 32/32 - 1s - loss: 0.0563 - accuracy: 0.9810 - 810ms/epoch - 25ms/step\n",
      "\u001b[2m\u001b[36m(launch_and_evaluate pid=16966)\u001b[0m 32/32 - 1s - loss: 0.0472 - accuracy: 0.9840 - 810ms/epoch - 25ms/step\n"
     ]
    },
    {
     "name": "stderr",
     "output_type": "stream",
     "text": [
      "DEBUG flwr 2023-04-11 21:10:25,953 | server.py:179 | evaluate_round 10 received 10 results and 0 failures\n",
      "DEBUG:flwr:evaluate_round 10 received 10 results and 0 failures\n",
      "DEBUG flwr 2023-04-11 21:10:25,961 | server.py:215 | fit_round 11: strategy sampled 9 clients (out of 10)\n",
      "DEBUG:flwr:fit_round 11: strategy sampled 9 clients (out of 10)\n"
     ]
    },
    {
     "name": "stdout",
     "output_type": "stream",
     "text": [
      "\u001b[2m\u001b[36m(launch_and_evaluate pid=16965)\u001b[0m 32/32 - 1s - loss: 0.0403 - accuracy: 0.9850 - 844ms/epoch - 26ms/step\n",
      "\u001b[2m\u001b[36m(launch_and_evaluate pid=16966)\u001b[0m 32/32 - 1s - loss: 0.0560 - accuracy: 0.9800 - 707ms/epoch - 22ms/step\n",
      "\u001b[2m\u001b[36m(launch_and_fit pid=16966)\u001b[0m 188/188 - 8s - loss: 0.0558 - accuracy: 0.9833 - 8s/epoch - 44ms/step\n",
      "\u001b[2m\u001b[36m(launch_and_fit pid=16965)\u001b[0m 188/188 - 8s - loss: 0.0617 - accuracy: 0.9812 - 8s/epoch - 45ms/step\n",
      "\u001b[2m\u001b[36m(launch_and_fit pid=16965)\u001b[0m 188/188 - 8s - loss: 0.0634 - accuracy: 0.9795 - 8s/epoch - 44ms/step\n",
      "\u001b[2m\u001b[36m(launch_and_fit pid=16966)\u001b[0m 188/188 - 8s - loss: 0.0559 - accuracy: 0.9823 - 8s/epoch - 45ms/step\n",
      "\u001b[2m\u001b[36m(launch_and_fit pid=16966)\u001b[0m 188/188 - 10s - loss: 0.0506 - accuracy: 0.9848 - 10s/epoch - 53ms/step\n",
      "\u001b[2m\u001b[36m(launch_and_fit pid=16965)\u001b[0m 188/188 - 11s - loss: 0.0611 - accuracy: 0.9820 - 11s/epoch - 56ms/step\n",
      "\u001b[2m\u001b[36m(launch_and_fit pid=16966)\u001b[0m 188/188 - 7s - loss: 0.0631 - accuracy: 0.9813 - 7s/epoch - 38ms/step\n",
      "\u001b[2m\u001b[36m(launch_and_fit pid=16965)\u001b[0m 188/188 - 7s - loss: 0.0650 - accuracy: 0.9802 - 7s/epoch - 37ms/step\n"
     ]
    },
    {
     "name": "stderr",
     "output_type": "stream",
     "text": [
      "DEBUG flwr 2023-04-11 21:11:11,022 | server.py:229 | fit_round 11 received 9 results and 0 failures\n",
      "DEBUG:flwr:fit_round 11 received 9 results and 0 failures\n",
      "DEBUG flwr 2023-04-11 21:11:11,083 | server.py:165 | evaluate_round 11: strategy sampled 10 clients (out of 10)\n",
      "DEBUG:flwr:evaluate_round 11: strategy sampled 10 clients (out of 10)\n"
     ]
    },
    {
     "name": "stdout",
     "output_type": "stream",
     "text": [
      "\u001b[2m\u001b[36m(launch_and_fit pid=16966)\u001b[0m 188/188 - 7s - loss: 0.0609 - accuracy: 0.9815 - 7s/epoch - 35ms/step\n",
      "\u001b[2m\u001b[36m(launch_and_evaluate pid=16966)\u001b[0m 32/32 - 1s - loss: 0.0573 - accuracy: 0.9830 - 868ms/epoch - 27ms/step\n",
      "\u001b[2m\u001b[36m(launch_and_evaluate pid=16965)\u001b[0m 32/32 - 1s - loss: 0.0549 - accuracy: 0.9810 - 806ms/epoch - 25ms/step\n",
      "\u001b[2m\u001b[36m(launch_and_evaluate pid=16966)\u001b[0m 32/32 - 1s - loss: 0.0603 - accuracy: 0.9780 - 794ms/epoch - 25ms/step\n",
      "\u001b[2m\u001b[36m(launch_and_evaluate pid=16965)\u001b[0m 32/32 - 1s - loss: 0.0614 - accuracy: 0.9820 - 746ms/epoch - 23ms/step\n",
      "\u001b[2m\u001b[36m(launch_and_evaluate pid=16966)\u001b[0m 32/32 - 1s - loss: 0.0599 - accuracy: 0.9820 - 767ms/epoch - 24ms/step\n",
      "\u001b[2m\u001b[36m(launch_and_evaluate pid=16965)\u001b[0m 32/32 - 1s - loss: 0.0534 - accuracy: 0.9850 - 745ms/epoch - 23ms/step\n",
      "\u001b[2m\u001b[36m(launch_and_evaluate pid=16966)\u001b[0m 32/32 - 1s - loss: 0.0381 - accuracy: 0.9900 - 1s/epoch - 40ms/step\n",
      "\u001b[2m\u001b[36m(launch_and_evaluate pid=16965)\u001b[0m 32/32 - 1s - loss: 0.0567 - accuracy: 0.9810 - 1s/epoch - 46ms/step\n"
     ]
    },
    {
     "name": "stderr",
     "output_type": "stream",
     "text": [
      "DEBUG flwr 2023-04-11 21:11:19,767 | server.py:179 | evaluate_round 11 received 10 results and 0 failures\n",
      "DEBUG:flwr:evaluate_round 11 received 10 results and 0 failures\n",
      "DEBUG flwr 2023-04-11 21:11:19,771 | server.py:215 | fit_round 12: strategy sampled 9 clients (out of 10)\n",
      "DEBUG:flwr:fit_round 12: strategy sampled 9 clients (out of 10)\n"
     ]
    },
    {
     "name": "stdout",
     "output_type": "stream",
     "text": [
      "\u001b[2m\u001b[36m(launch_and_evaluate pid=16966)\u001b[0m 32/32 - 1s - loss: 0.0484 - accuracy: 0.9860 - 833ms/epoch - 26ms/step\n",
      "\u001b[2m\u001b[36m(launch_and_evaluate pid=16965)\u001b[0m 32/32 - 1s - loss: 0.0547 - accuracy: 0.9820 - 733ms/epoch - 23ms/step\n",
      "\u001b[2m\u001b[36m(launch_and_fit pid=16966)\u001b[0m 188/188 - 10s - loss: 0.0505 - accuracy: 0.9852 - 10s/epoch - 54ms/step\n",
      "\u001b[2m\u001b[36m(launch_and_fit pid=16965)\u001b[0m 188/188 - 10s - loss: 0.0603 - accuracy: 0.9798 - 10s/epoch - 56ms/step\n",
      "\u001b[2m\u001b[36m(launch_and_fit pid=16966)\u001b[0m 188/188 - 7s - loss: 0.0517 - accuracy: 0.9837 - 7s/epoch - 38ms/step\n",
      "\u001b[2m\u001b[36m(launch_and_fit pid=16965)\u001b[0m 188/188 - 7s - loss: 0.0507 - accuracy: 0.9837 - 7s/epoch - 39ms/step\n",
      "\u001b[2m\u001b[36m(launch_and_fit pid=16966)\u001b[0m 188/188 - 10s - loss: 0.0569 - accuracy: 0.9833 - 10s/epoch - 54ms/step\n",
      "\u001b[2m\u001b[36m(launch_and_fit pid=16965)\u001b[0m 188/188 - 10s - loss: 0.0526 - accuracy: 0.9835 - 10s/epoch - 56ms/step\n",
      "\u001b[2m\u001b[36m(launch_and_fit pid=16966)\u001b[0m 188/188 - 8s - loss: 0.0527 - accuracy: 0.9835 - 8s/epoch - 41ms/step\n",
      "\u001b[2m\u001b[36m(launch_and_fit pid=16965)\u001b[0m 188/188 - 8s - loss: 0.0553 - accuracy: 0.9830 - 8s/epoch - 44ms/step\n"
     ]
    },
    {
     "name": "stderr",
     "output_type": "stream",
     "text": [
      "DEBUG flwr 2023-04-11 21:12:04,948 | server.py:229 | fit_round 12 received 9 results and 0 failures\n",
      "DEBUG:flwr:fit_round 12 received 9 results and 0 failures\n",
      "DEBUG flwr 2023-04-11 21:12:04,989 | server.py:165 | evaluate_round 12: strategy sampled 10 clients (out of 10)\n",
      "DEBUG:flwr:evaluate_round 12: strategy sampled 10 clients (out of 10)\n"
     ]
    },
    {
     "name": "stdout",
     "output_type": "stream",
     "text": [
      "\u001b[2m\u001b[36m(launch_and_fit pid=16966)\u001b[0m 188/188 - 5s - loss: 0.0578 - accuracy: 0.9832 - 5s/epoch - 29ms/step\n",
      "\u001b[2m\u001b[36m(launch_and_evaluate pid=16966)\u001b[0m 32/32 - 1s - loss: 0.0467 - accuracy: 0.9810 - 766ms/epoch - 24ms/step\n",
      "\u001b[2m\u001b[36m(launch_and_evaluate pid=16965)\u001b[0m 32/32 - 1s - loss: 0.0594 - accuracy: 0.9820 - 813ms/epoch - 25ms/step\n",
      "\u001b[2m\u001b[36m(launch_and_evaluate pid=16966)\u001b[0m 32/32 - 1s - loss: 0.0493 - accuracy: 0.9830 - 785ms/epoch - 25ms/step\n",
      "\u001b[2m\u001b[36m(launch_and_evaluate pid=16965)\u001b[0m 32/32 - 1s - loss: 0.0570 - accuracy: 0.9860 - 760ms/epoch - 24ms/step\n",
      "\u001b[2m\u001b[36m(launch_and_evaluate pid=16966)\u001b[0m 32/32 - 1s - loss: 0.0539 - accuracy: 0.9800 - 820ms/epoch - 26ms/step\n",
      "\u001b[2m\u001b[36m(launch_and_evaluate pid=16965)\u001b[0m 32/32 - 1s - loss: 0.0405 - accuracy: 0.9890 - 778ms/epoch - 24ms/step\n",
      "\u001b[2m\u001b[36m(launch_and_evaluate pid=16966)\u001b[0m 32/32 - 1s - loss: 0.0540 - accuracy: 0.9790 - 747ms/epoch - 23ms/step\n",
      "\u001b[2m\u001b[36m(launch_and_evaluate pid=16965)\u001b[0m 32/32 - 1s - loss: 0.0469 - accuracy: 0.9870 - 741ms/epoch - 23ms/step\n"
     ]
    },
    {
     "name": "stderr",
     "output_type": "stream",
     "text": [
      "DEBUG flwr 2023-04-11 21:12:12,367 | server.py:179 | evaluate_round 12 received 10 results and 0 failures\n",
      "DEBUG:flwr:evaluate_round 12 received 10 results and 0 failures\n",
      "DEBUG flwr 2023-04-11 21:12:12,378 | server.py:215 | fit_round 13: strategy sampled 9 clients (out of 10)\n",
      "DEBUG:flwr:fit_round 13: strategy sampled 9 clients (out of 10)\n"
     ]
    },
    {
     "name": "stdout",
     "output_type": "stream",
     "text": [
      "\u001b[2m\u001b[36m(launch_and_evaluate pid=16966)\u001b[0m 32/32 - 1s - loss: 0.0475 - accuracy: 0.9830 - 807ms/epoch - 25ms/step\n",
      "\u001b[2m\u001b[36m(launch_and_evaluate pid=16965)\u001b[0m 32/32 - 1s - loss: 0.0423 - accuracy: 0.9860 - 773ms/epoch - 24ms/step\n",
      "\u001b[2m\u001b[36m(launch_and_fit pid=16966)\u001b[0m 188/188 - 10s - loss: 0.0516 - accuracy: 0.9860 - 10s/epoch - 55ms/step\n",
      "\u001b[2m\u001b[36m(launch_and_fit pid=16965)\u001b[0m 188/188 - 10s - loss: 0.0494 - accuracy: 0.9850 - 10s/epoch - 56ms/step\n",
      "\u001b[2m\u001b[36m(launch_and_fit pid=16966)\u001b[0m 188/188 - 8s - loss: 0.0596 - accuracy: 0.9837 - 8s/epoch - 42ms/step\n",
      "\u001b[2m\u001b[36m(launch_and_fit pid=16965)\u001b[0m 188/188 - 8s - loss: 0.0435 - accuracy: 0.9867 - 8s/epoch - 44ms/step\n",
      "\u001b[2m\u001b[36m(launch_and_fit pid=16966)\u001b[0m 188/188 - 9s - loss: 0.0562 - accuracy: 0.9822 - 9s/epoch - 46ms/step\n",
      "\u001b[2m\u001b[36m(launch_and_fit pid=16965)\u001b[0m 188/188 - 9s - loss: 0.0477 - accuracy: 0.9875 - 9s/epoch - 48ms/step\n",
      "\u001b[2m\u001b[36m(launch_and_fit pid=16966)\u001b[0m 188/188 - 10s - loss: 0.0554 - accuracy: 0.9835 - 10s/epoch - 52ms/step\n",
      "\u001b[2m\u001b[36m(launch_and_fit pid=16965)\u001b[0m 188/188 - 10s - loss: 0.0517 - accuracy: 0.9872 - 10s/epoch - 53ms/step\n"
     ]
    },
    {
     "name": "stderr",
     "output_type": "stream",
     "text": [
      "DEBUG flwr 2023-04-11 21:12:57,964 | server.py:229 | fit_round 13 received 9 results and 0 failures\n",
      "DEBUG:flwr:fit_round 13 received 9 results and 0 failures\n",
      "DEBUG flwr 2023-04-11 21:12:58,006 | server.py:165 | evaluate_round 13: strategy sampled 10 clients (out of 10)\n",
      "DEBUG:flwr:evaluate_round 13: strategy sampled 10 clients (out of 10)\n"
     ]
    },
    {
     "name": "stdout",
     "output_type": "stream",
     "text": [
      "\u001b[2m\u001b[36m(launch_and_fit pid=16966)\u001b[0m 188/188 - 4s - loss: 0.0448 - accuracy: 0.9860 - 4s/epoch - 21ms/step\n",
      "\u001b[2m\u001b[36m(launch_and_evaluate pid=16966)\u001b[0m 32/32 - 1s - loss: 0.0675 - accuracy: 0.9800 - 777ms/epoch - 24ms/step\n",
      "\u001b[2m\u001b[36m(launch_and_evaluate pid=16965)\u001b[0m 32/32 - 1s - loss: 0.0393 - accuracy: 0.9890 - 790ms/epoch - 25ms/step\n",
      "\u001b[2m\u001b[36m(launch_and_evaluate pid=16966)\u001b[0m 32/32 - 1s - loss: 0.0529 - accuracy: 0.9790 - 766ms/epoch - 24ms/step\n",
      "\u001b[2m\u001b[36m(launch_and_evaluate pid=16965)\u001b[0m 32/32 - 1s - loss: 0.0533 - accuracy: 0.9790 - 863ms/epoch - 27ms/step\n",
      "\u001b[2m\u001b[36m(launch_and_evaluate pid=16966)\u001b[0m 32/32 - 1s - loss: 0.0571 - accuracy: 0.9800 - 767ms/epoch - 24ms/step\n",
      "\u001b[2m\u001b[36m(launch_and_evaluate pid=16965)\u001b[0m 32/32 - 1s - loss: 0.0479 - accuracy: 0.9790 - 779ms/epoch - 24ms/step\n",
      "\u001b[2m\u001b[36m(launch_and_evaluate pid=16966)\u001b[0m 32/32 - 1s - loss: 0.0445 - accuracy: 0.9880 - 807ms/epoch - 25ms/step\n",
      "\u001b[2m\u001b[36m(launch_and_evaluate pid=16965)\u001b[0m 32/32 - 1s - loss: 0.0417 - accuracy: 0.9850 - 862ms/epoch - 27ms/step\n",
      "\u001b[2m\u001b[36m(launch_and_evaluate pid=16966)\u001b[0m 32/32 - 1s - loss: 0.0593 - accuracy: 0.9800 - 1s/epoch - 40ms/step\n"
     ]
    },
    {
     "name": "stderr",
     "output_type": "stream",
     "text": [
      "DEBUG flwr 2023-04-11 21:13:06,483 | server.py:179 | evaluate_round 13 received 10 results and 0 failures\n",
      "DEBUG:flwr:evaluate_round 13 received 10 results and 0 failures\n",
      "DEBUG flwr 2023-04-11 21:13:06,487 | server.py:215 | fit_round 14: strategy sampled 9 clients (out of 10)\n",
      "DEBUG:flwr:fit_round 14: strategy sampled 9 clients (out of 10)\n"
     ]
    },
    {
     "name": "stdout",
     "output_type": "stream",
     "text": [
      "\u001b[2m\u001b[36m(launch_and_evaluate pid=16965)\u001b[0m 32/32 - 1s - loss: 0.0471 - accuracy: 0.9840 - 1s/epoch - 44ms/step\n",
      "\u001b[2m\u001b[36m(launch_and_fit pid=16965)\u001b[0m 188/188 - 9s - loss: 0.0509 - accuracy: 0.9838 - 9s/epoch - 47ms/step\n",
      "\u001b[2m\u001b[36m(launch_and_fit pid=16966)\u001b[0m 188/188 - 9s - loss: 0.0508 - accuracy: 0.9858 - 9s/epoch - 47ms/step\n",
      "\u001b[2m\u001b[36m(launch_and_fit pid=16965)\u001b[0m 188/188 - 9s - loss: 0.0499 - accuracy: 0.9860 - 9s/epoch - 50ms/step\n",
      "\u001b[2m\u001b[36m(launch_and_fit pid=16966)\u001b[0m 188/188 - 11s - loss: 0.0524 - accuracy: 0.9843 - 11s/epoch - 58ms/step\n",
      "\u001b[2m\u001b[36m(launch_and_fit pid=16965)\u001b[0m 188/188 - 7s - loss: 0.0474 - accuracy: 0.9865 - 7s/epoch - 38ms/step\n",
      "\u001b[2m\u001b[36m(launch_and_fit pid=16966)\u001b[0m 188/188 - 7s - loss: 0.0545 - accuracy: 0.9848 - 7s/epoch - 38ms/step\n",
      "\u001b[2m\u001b[36m(launch_and_fit pid=16965)\u001b[0m 188/188 - 10s - loss: 0.0594 - accuracy: 0.9842 - 10s/epoch - 55ms/step\n",
      "\u001b[2m\u001b[36m(launch_and_fit pid=16966)\u001b[0m 188/188 - 11s - loss: 0.0468 - accuracy: 0.9863 - 11s/epoch - 56ms/step\n"
     ]
    },
    {
     "name": "stderr",
     "output_type": "stream",
     "text": [
      "DEBUG flwr 2023-04-11 21:13:51,932 | server.py:229 | fit_round 14 received 9 results and 0 failures\n",
      "DEBUG:flwr:fit_round 14 received 9 results and 0 failures\n",
      "DEBUG flwr 2023-04-11 21:13:51,972 | server.py:165 | evaluate_round 14: strategy sampled 10 clients (out of 10)\n",
      "DEBUG:flwr:evaluate_round 14: strategy sampled 10 clients (out of 10)\n"
     ]
    },
    {
     "name": "stdout",
     "output_type": "stream",
     "text": [
      "\u001b[2m\u001b[36m(launch_and_fit pid=16965)\u001b[0m 188/188 - 4s - loss: 0.0449 - accuracy: 0.9867 - 4s/epoch - 20ms/step\n",
      "\u001b[2m\u001b[36m(launch_and_evaluate pid=16965)\u001b[0m 32/32 - 1s - loss: 0.0542 - accuracy: 0.9820 - 767ms/epoch - 24ms/step\n",
      "\u001b[2m\u001b[36m(launch_and_evaluate pid=16966)\u001b[0m 32/32 - 1s - loss: 0.0442 - accuracy: 0.9890 - 797ms/epoch - 25ms/step\n",
      "\u001b[2m\u001b[36m(launch_and_evaluate pid=16965)\u001b[0m 32/32 - 1s - loss: 0.0384 - accuracy: 0.9900 - 788ms/epoch - 25ms/step\n",
      "\u001b[2m\u001b[36m(launch_and_evaluate pid=16966)\u001b[0m 32/32 - 1s - loss: 0.0513 - accuracy: 0.9810 - 748ms/epoch - 23ms/step\n",
      "\u001b[2m\u001b[36m(launch_and_evaluate pid=16966)\u001b[0m 32/32 - 1s - loss: 0.0348 - accuracy: 0.9890 - 1s/epoch - 33ms/step\n",
      "\u001b[2m\u001b[36m(launch_and_evaluate pid=16965)\u001b[0m 32/32 - 1s - loss: 0.0496 - accuracy: 0.9840 - 1s/epoch - 36ms/step\n",
      "\u001b[2m\u001b[36m(launch_and_evaluate pid=16966)\u001b[0m 32/32 - 1s - loss: 0.0471 - accuracy: 0.9870 - 1s/epoch - 42ms/step\n",
      "\u001b[2m\u001b[36m(launch_and_evaluate pid=16965)\u001b[0m 32/32 - 2s - loss: 0.0399 - accuracy: 0.9880 - 2s/epoch - 48ms/step\n",
      "\u001b[2m\u001b[36m(launch_and_evaluate pid=16966)\u001b[0m 32/32 - 1s - loss: 0.0461 - accuracy: 0.9840 - 1s/epoch - 40ms/step\n"
     ]
    },
    {
     "name": "stderr",
     "output_type": "stream",
     "text": [
      "DEBUG flwr 2023-04-11 21:14:02,569 | server.py:179 | evaluate_round 14 received 10 results and 0 failures\n",
      "DEBUG:flwr:evaluate_round 14 received 10 results and 0 failures\n",
      "DEBUG flwr 2023-04-11 21:14:02,573 | server.py:215 | fit_round 15: strategy sampled 9 clients (out of 10)\n",
      "DEBUG:flwr:fit_round 15: strategy sampled 9 clients (out of 10)\n"
     ]
    },
    {
     "name": "stdout",
     "output_type": "stream",
     "text": [
      "\u001b[2m\u001b[36m(launch_and_evaluate pid=16965)\u001b[0m 32/32 - 1s - loss: 0.0328 - accuracy: 0.9920 - 1s/epoch - 45ms/step\n",
      "\u001b[2m\u001b[36m(launch_and_fit pid=16965)\u001b[0m 188/188 - 7s - loss: 0.0466 - accuracy: 0.9862 - 7s/epoch - 37ms/step\n",
      "\u001b[2m\u001b[36m(launch_and_fit pid=16966)\u001b[0m 188/188 - 7s - loss: 0.0493 - accuracy: 0.9850 - 7s/epoch - 39ms/step\n",
      "\u001b[2m\u001b[36m(launch_and_fit pid=16965)\u001b[0m 188/188 - 10s - loss: 0.0493 - accuracy: 0.9857 - 10s/epoch - 55ms/step\n",
      "\u001b[2m\u001b[36m(launch_and_fit pid=16966)\u001b[0m 188/188 - 10s - loss: 0.0532 - accuracy: 0.9835 - 10s/epoch - 55ms/step\n",
      "\u001b[2m\u001b[36m(launch_and_fit pid=16965)\u001b[0m 188/188 - 7s - loss: 0.0563 - accuracy: 0.9828 - 7s/epoch - 38ms/step\n",
      "\u001b[2m\u001b[36m(launch_and_fit pid=16966)\u001b[0m 188/188 - 7s - loss: 0.0462 - accuracy: 0.9845 - 7s/epoch - 38ms/step\n",
      "\u001b[2m\u001b[36m(launch_and_fit pid=16965)\u001b[0m 188/188 - 10s - loss: 0.0478 - accuracy: 0.9858 - 10s/epoch - 53ms/step\n",
      "\u001b[2m\u001b[36m(launch_and_fit pid=16966)\u001b[0m 188/188 - 10s - loss: 0.0476 - accuracy: 0.9848 - 10s/epoch - 54ms/step\n"
     ]
    },
    {
     "name": "stderr",
     "output_type": "stream",
     "text": [
      "DEBUG flwr 2023-04-11 21:14:44,753 | server.py:229 | fit_round 15 received 9 results and 0 failures\n",
      "DEBUG:flwr:fit_round 15 received 9 results and 0 failures\n",
      "DEBUG flwr 2023-04-11 21:14:44,791 | server.py:165 | evaluate_round 15: strategy sampled 10 clients (out of 10)\n",
      "DEBUG:flwr:evaluate_round 15: strategy sampled 10 clients (out of 10)\n"
     ]
    },
    {
     "name": "stdout",
     "output_type": "stream",
     "text": [
      "\u001b[2m\u001b[36m(launch_and_fit pid=16965)\u001b[0m 188/188 - 4s - loss: 0.0449 - accuracy: 0.9862 - 4s/epoch - 21ms/step\n",
      "\u001b[2m\u001b[36m(launch_and_evaluate pid=16966)\u001b[0m 32/32 - 1s - loss: 0.0400 - accuracy: 0.9870 - 781ms/epoch - 24ms/step\n",
      "\u001b[2m\u001b[36m(launch_and_evaluate pid=16965)\u001b[0m 32/32 - 1s - loss: 0.0446 - accuracy: 0.9830 - 786ms/epoch - 25ms/step\n",
      "\u001b[2m\u001b[36m(launch_and_evaluate pid=16966)\u001b[0m 32/32 - 1s - loss: 0.0434 - accuracy: 0.9840 - 1s/epoch - 46ms/step\n",
      "\u001b[2m\u001b[36m(launch_and_evaluate pid=16965)\u001b[0m 32/32 - 2s - loss: 0.0345 - accuracy: 0.9900 - 2s/epoch - 49ms/step\n",
      "\u001b[2m\u001b[36m(launch_and_evaluate pid=16966)\u001b[0m 32/32 - 2s - loss: 0.0495 - accuracy: 0.9820 - 2s/epoch - 47ms/step\n",
      "\u001b[2m\u001b[36m(launch_and_evaluate pid=16965)\u001b[0m 32/32 - 1s - loss: 0.0377 - accuracy: 0.9860 - 1s/epoch - 46ms/step\n",
      "\u001b[2m\u001b[36m(launch_and_evaluate pid=16966)\u001b[0m 32/32 - 1s - loss: 0.0449 - accuracy: 0.9900 - 1s/epoch - 44ms/step\n",
      "\u001b[2m\u001b[36m(launch_and_evaluate pid=16965)\u001b[0m 32/32 - 1s - loss: 0.0493 - accuracy: 0.9800 - 1s/epoch - 40ms/step\n"
     ]
    },
    {
     "name": "stderr",
     "output_type": "stream",
     "text": [
      "DEBUG flwr 2023-04-11 21:14:55,331 | server.py:179 | evaluate_round 15 received 10 results and 0 failures\n",
      "DEBUG:flwr:evaluate_round 15 received 10 results and 0 failures\n",
      "INFO flwr 2023-04-11 21:14:55,334 | server.py:144 | FL finished in 810.3640451319998\n",
      "INFO:flwr:FL finished in 810.3640451319998\n",
      "INFO flwr 2023-04-11 21:14:55,338 | app.py:202 | app_fit: losses_distributed [(1, 0.2458474338054657), (2, 0.14654891639947892), (3, 0.11989339962601661), (4, 0.0902865894138813), (5, 0.07929064072668553), (6, 0.07490979023277759), (7, 0.06595495529472828), (8, 0.06768454350531102), (9, 0.06142357252538204), (10, 0.04792049154639244), (11, 0.05450842157006264), (12, 0.04973991401493549), (13, 0.05104969181120396), (14, 0.0438437607139349), (15, 0.04326391294598579)]\n",
      "INFO:flwr:app_fit: losses_distributed [(1, 0.2458474338054657), (2, 0.14654891639947892), (3, 0.11989339962601661), (4, 0.0902865894138813), (5, 0.07929064072668553), (6, 0.07490979023277759), (7, 0.06595495529472828), (8, 0.06768454350531102), (9, 0.06142357252538204), (10, 0.04792049154639244), (11, 0.05450842157006264), (12, 0.04973991401493549), (13, 0.05104969181120396), (14, 0.0438437607139349), (15, 0.04326391294598579)]\n",
      "INFO flwr 2023-04-11 21:14:55,343 | app.py:203 | app_fit: metrics_distributed {'accuracy': [(1, 0.9339999973773956), (2, 0.9565999984741211), (3, 0.9644999921321868), (4, 0.9728999972343445), (5, 0.975299996137619), (6, 0.9748000025749206), (7, 0.9777999997138977), (8, 0.978300005197525), (9, 0.9804999887943268), (10, 0.9832000017166138), (11, 0.98299999833107), (12, 0.9835999965667724), (13, 0.9823000013828278), (14, 0.9866000056266785), (15, 0.9850000023841858)]}\n",
      "INFO:flwr:app_fit: metrics_distributed {'accuracy': [(1, 0.9339999973773956), (2, 0.9565999984741211), (3, 0.9644999921321868), (4, 0.9728999972343445), (5, 0.975299996137619), (6, 0.9748000025749206), (7, 0.9777999997138977), (8, 0.978300005197525), (9, 0.9804999887943268), (10, 0.9832000017166138), (11, 0.98299999833107), (12, 0.9835999965667724), (13, 0.9823000013828278), (14, 0.9866000056266785), (15, 0.9850000023841858)]}\n",
      "INFO flwr 2023-04-11 21:14:55,345 | app.py:204 | app_fit: losses_centralized []\n",
      "INFO:flwr:app_fit: losses_centralized []\n",
      "INFO flwr 2023-04-11 21:14:55,347 | app.py:205 | app_fit: metrics_centralized {}\n",
      "INFO:flwr:app_fit: metrics_centralized {}\n"
     ]
    },
    {
     "name": "stdout",
     "output_type": "stream",
     "text": [
      "\u001b[2m\u001b[36m(launch_and_evaluate pid=16966)\u001b[0m 32/32 - 1s - loss: 0.0357 - accuracy: 0.9870 - 779ms/epoch - 24ms/step\n",
      "\u001b[2m\u001b[36m(launch_and_evaluate pid=16965)\u001b[0m 32/32 - 1s - loss: 0.0530 - accuracy: 0.9810 - 785ms/epoch - 25ms/step\n"
     ]
    }
   ],
   "source": [
    "history15 = fl.simulation.start_simulation(\n",
    "    client_fn=client_fn_random,\n",
    "    num_clients=num_clients,\n",
    "    config=fl.server.ServerConfig(num_rounds=15),\n",
    "    strategy=strategy,\n",
    ")"
   ]
  },
  {
   "cell_type": "code",
   "execution_count": 21,
   "metadata": {
    "colab": {
     "base_uri": "https://localhost:8080/",
     "height": 449
    },
    "id": "5Z03voP7GEDP",
    "outputId": "d01a3ad6-cae2-4c17-f779-c4457a5c5d08"
   },
   "outputs": [
    {
     "data": {
      "image/png": "[encoded data removed]",
      "text/plain": [
       "<Figure size 640x480 with 1 Axes>"
      ]
     },
     "metadata": {},
     "output_type": "display_data"
    }
   ],
   "source": [
    "plt.plot(*zip(*history15.metrics_distributed['accuracy']))\n",
    "plt.xlabel(\"Rounds\")\n",
    "plt.ylabel(\"Accuracy\")\n",
    "plt.show()"
   ]
  },
  {
   "cell_type": "markdown",
   "metadata": {
    "id": "RcsEUzI2GNms"
   },
   "source": [
    "##Simulação com 20 rouds"
   ]
  },
  {
   "cell_type": "code",
   "execution_count": null,
   "metadata": {
    "colab": {
     "base_uri": "https://localhost:8080/"
    },
    "id": "6RpYIP36GQnp",
    "outputId": "41f71317-3112-4168-aa46-6e872db4d340"
   },
   "outputs": [
    {
     "name": "stderr",
     "output_type": "stream",
     "text": [
      "INFO flwr 2023-04-11 21:15:59,695 | app.py:145 | Starting Flower simulation, config: ServerConfig(num_rounds=20, round_timeout=None)\n",
      "INFO:flwr:Starting Flower simulation, config: ServerConfig(num_rounds=20, round_timeout=None)\n",
      "2023-04-11 21:16:05,128\tINFO worker.py:1529 -- Started a local Ray instance. View the dashboard at \u001b[1m\u001b[32m127.0.0.1:8265 \u001b[39m\u001b[22m\n",
      "INFO flwr 2023-04-11 21:16:06,944 | app.py:179 | Flower VCE: Ray initialized with resources: {'memory': 7714519451.0, 'node:172.28.0.12': 1.0, 'CPU': 2.0, 'object_store_memory': 3857259724.0}\n",
      "INFO:flwr:Flower VCE: Ray initialized with resources: {'memory': 7714519451.0, 'node:172.28.0.12': 1.0, 'CPU': 2.0, 'object_store_memory': 3857259724.0}\n",
      "INFO flwr 2023-04-11 21:16:06,953 | server.py:86 | Initializing global parameters\n",
      "INFO:flwr:Initializing global parameters\n",
      "INFO flwr 2023-04-11 21:16:06,963 | server.py:270 | Requesting initial parameters from one random client\n",
      "INFO:flwr:Requesting initial parameters from one random client\n",
      "INFO flwr 2023-04-11 21:16:11,174 | server.py:274 | Received initial parameters from one random client\n",
      "INFO:flwr:Received initial parameters from one random client\n",
      "INFO flwr 2023-04-11 21:16:11,182 | server.py:88 | Evaluating initial parameters\n",
      "INFO:flwr:Evaluating initial parameters\n",
      "INFO flwr 2023-04-11 21:16:11,186 | server.py:101 | FL starting\n",
      "INFO:flwr:FL starting\n",
      "DEBUG flwr 2023-04-11 21:16:11,189 | server.py:215 | fit_round 1: strategy sampled 9 clients (out of 10)\n",
      "DEBUG:flwr:fit_round 1: strategy sampled 9 clients (out of 10)\n"
     ]
    },
    {
     "name": "stdout",
     "output_type": "stream",
     "text": [
      "\u001b[2m\u001b[36m(launch_and_fit pid=23355)\u001b[0m 188/188 - 9s - loss: 0.4678 - accuracy: 0.8528 - 9s/epoch - 49ms/step\n",
      "\u001b[2m\u001b[36m(launch_and_fit pid=23354)\u001b[0m 188/188 - 7s - loss: 0.4877 - accuracy: 0.8433 - 7s/epoch - 38ms/step\n",
      "\u001b[2m\u001b[36m(launch_and_fit pid=23355)\u001b[0m 188/188 - 7s - loss: 0.4938 - accuracy: 0.8425 - 7s/epoch - 38ms/step\n",
      "\u001b[2m\u001b[36m(launch_and_fit pid=23354)\u001b[0m 188/188 - 10s - loss: 0.4778 - accuracy: 0.8460 - 10s/epoch - 55ms/step\n",
      "\u001b[2m\u001b[36m(launch_and_fit pid=23355)\u001b[0m 188/188 - 10s - loss: 0.4805 - accuracy: 0.8457 - 10s/epoch - 55ms/step\n",
      "\u001b[2m\u001b[36m(launch_and_fit pid=23354)\u001b[0m 188/188 - 7s - loss: 0.4885 - accuracy: 0.8468 - 7s/epoch - 38ms/step\n",
      "\u001b[2m\u001b[36m(launch_and_fit pid=23355)\u001b[0m 188/188 - 7s - loss: 0.4856 - accuracy: 0.8480 - 7s/epoch - 38ms/step\n",
      "\u001b[2m\u001b[36m(launch_and_fit pid=23354)\u001b[0m 188/188 - 10s - loss: 0.4794 - accuracy: 0.8467 - 10s/epoch - 55ms/step\n"
     ]
    },
    {
     "name": "stderr",
     "output_type": "stream",
     "text": [
      "DEBUG flwr 2023-04-11 21:16:59,431 | server.py:229 | fit_round 1 received 9 results and 0 failures\n",
      "DEBUG:flwr:fit_round 1 received 9 results and 0 failures\n",
      "WARNING flwr 2023-04-11 21:16:59,479 | fedavg.py:242 | No fit_metrics_aggregation_fn provided\n",
      "WARNING:flwr:No fit_metrics_aggregation_fn provided\n",
      "DEBUG flwr 2023-04-11 21:16:59,484 | server.py:165 | evaluate_round 1: strategy sampled 10 clients (out of 10)\n",
      "DEBUG:flwr:evaluate_round 1: strategy sampled 10 clients (out of 10)\n"
     ]
    },
    {
     "name": "stdout",
     "output_type": "stream",
     "text": [
      "\u001b[2m\u001b[36m(launch_and_fit pid=23355)\u001b[0m 188/188 - 10s - loss: 0.4873 - accuracy: 0.8455 - 10s/epoch - 54ms/step\n",
      "\u001b[2m\u001b[36m(launch_and_evaluate pid=23355)\u001b[0m 32/32 - 1s - loss: 0.2516 - accuracy: 0.9270 - 859ms/epoch - 27ms/step\n",
      "\u001b[2m\u001b[36m(launch_and_evaluate pid=23354)\u001b[0m 32/32 - 1s - loss: 0.2347 - accuracy: 0.9330 - 866ms/epoch - 27ms/step\n",
      "\u001b[2m\u001b[36m(launch_and_evaluate pid=23354)\u001b[0m 32/32 - 1s - loss: 0.2490 - accuracy: 0.9370 - 763ms/epoch - 24ms/step\n",
      "\u001b[2m\u001b[36m(launch_and_evaluate pid=23355)\u001b[0m 32/32 - 1s - loss: 0.2505 - accuracy: 0.9360 - 800ms/epoch - 25ms/step\n",
      "\u001b[2m\u001b[36m(launch_and_evaluate pid=23355)\u001b[0m 32/32 - 1s - loss: 0.1997 - accuracy: 0.9450 - 775ms/epoch - 24ms/step\n",
      "\u001b[2m\u001b[36m(launch_and_evaluate pid=23354)\u001b[0m 32/32 - 1s - loss: 0.2206 - accuracy: 0.9410 - 821ms/epoch - 26ms/step\n",
      "\u001b[2m\u001b[36m(launch_and_evaluate pid=23355)\u001b[0m 32/32 - 1s - loss: 0.2275 - accuracy: 0.9390 - 789ms/epoch - 25ms/step\n",
      "\u001b[2m\u001b[36m(launch_and_evaluate pid=23354)\u001b[0m 32/32 - 1s - loss: 0.2757 - accuracy: 0.9260 - 780ms/epoch - 24ms/step\n",
      "\u001b[2m\u001b[36m(launch_and_evaluate pid=23354)\u001b[0m 32/32 - 1s - loss: 0.2435 - accuracy: 0.9330 - 1s/epoch - 40ms/step\n"
     ]
    },
    {
     "name": "stderr",
     "output_type": "stream",
     "text": [
      "DEBUG flwr 2023-04-11 21:17:08,176 | server.py:179 | evaluate_round 1 received 10 results and 0 failures\n",
      "DEBUG:flwr:evaluate_round 1 received 10 results and 0 failures\n",
      "DEBUG flwr 2023-04-11 21:17:08,181 | server.py:215 | fit_round 2: strategy sampled 9 clients (out of 10)\n",
      "DEBUG:flwr:fit_round 2: strategy sampled 9 clients (out of 10)\n"
     ]
    },
    {
     "name": "stdout",
     "output_type": "stream",
     "text": [
      "\u001b[2m\u001b[36m(launch_and_evaluate pid=23355)\u001b[0m 32/32 - 2s - loss: 0.2562 - accuracy: 0.9320 - 2s/epoch - 59ms/step\n",
      "\u001b[2m\u001b[36m(launch_and_fit pid=23354)\u001b[0m 188/188 - 9s - loss: 0.2140 - accuracy: 0.9338 - 9s/epoch - 46ms/step\n",
      "\u001b[2m\u001b[36m(launch_and_fit pid=23355)\u001b[0m 188/188 - 9s - loss: 0.2156 - accuracy: 0.9365 - 9s/epoch - 46ms/step\n",
      "\u001b[2m\u001b[36m(launch_and_fit pid=23355)\u001b[0m 188/188 - 10s - loss: 0.2103 - accuracy: 0.9378 - 10s/epoch - 54ms/step\n",
      "\u001b[2m\u001b[36m(launch_and_fit pid=23354)\u001b[0m 188/188 - 10s - loss: 0.2179 - accuracy: 0.9368 - 10s/epoch - 54ms/step\n",
      "\u001b[2m\u001b[36m(launch_and_fit pid=23355)\u001b[0m 188/188 - 7s - loss: 0.2118 - accuracy: 0.9368 - 7s/epoch - 37ms/step\n",
      "\u001b[2m\u001b[36m(launch_and_fit pid=23354)\u001b[0m 188/188 - 7s - loss: 0.2294 - accuracy: 0.9288 - 7s/epoch - 38ms/step\n",
      "\u001b[2m\u001b[36m(launch_and_fit pid=23354)\u001b[0m 188/188 - 10s - loss: 0.2295 - accuracy: 0.9283 - 10s/epoch - 54ms/step\n",
      "\u001b[2m\u001b[36m(launch_and_fit pid=23355)\u001b[0m 188/188 - 10s - loss: 0.2190 - accuracy: 0.9380 - 10s/epoch - 56ms/step\n"
     ]
    },
    {
     "name": "stderr",
     "output_type": "stream",
     "text": [
      "DEBUG flwr 2023-04-11 21:17:52,939 | server.py:229 | fit_round 2 received 9 results and 0 failures\n",
      "DEBUG:flwr:fit_round 2 received 9 results and 0 failures\n",
      "DEBUG flwr 2023-04-11 21:17:52,979 | server.py:165 | evaluate_round 2: strategy sampled 10 clients (out of 10)\n",
      "DEBUG:flwr:evaluate_round 2: strategy sampled 10 clients (out of 10)\n"
     ]
    },
    {
     "name": "stdout",
     "output_type": "stream",
     "text": [
      "\u001b[2m\u001b[36m(launch_and_fit pid=23354)\u001b[0m 188/188 - 4s - loss: 0.2137 - accuracy: 0.9325 - 4s/epoch - 20ms/step\n",
      "\u001b[2m\u001b[36m(launch_and_evaluate pid=23354)\u001b[0m 32/32 - 1s - loss: 0.1483 - accuracy: 0.9510 - 775ms/epoch - 24ms/step\n",
      "\u001b[2m\u001b[36m(launch_and_evaluate pid=23355)\u001b[0m 32/32 - 1s - loss: 0.1582 - accuracy: 0.9520 - 811ms/epoch - 25ms/step\n",
      "\u001b[2m\u001b[36m(launch_and_evaluate pid=23354)\u001b[0m 32/32 - 1s - loss: 0.1221 - accuracy: 0.9640 - 794ms/epoch - 25ms/step\n",
      "\u001b[2m\u001b[36m(launch_and_evaluate pid=23355)\u001b[0m 32/32 - 1s - loss: 0.1303 - accuracy: 0.9560 - 812ms/epoch - 25ms/step\n",
      "\u001b[2m\u001b[36m(launch_and_evaluate pid=23354)\u001b[0m 32/32 - 1s - loss: 0.1257 - accuracy: 0.9590 - 1s/epoch - 32ms/step\n",
      "\u001b[2m\u001b[36m(launch_and_evaluate pid=23355)\u001b[0m 32/32 - 1s - loss: 0.1329 - accuracy: 0.9610 - 1s/epoch - 36ms/step\n",
      "\u001b[2m\u001b[36m(launch_and_evaluate pid=23354)\u001b[0m 32/32 - 1s - loss: 0.1170 - accuracy: 0.9650 - 1s/epoch - 39ms/step\n",
      "\u001b[2m\u001b[36m(launch_and_evaluate pid=23355)\u001b[0m 32/32 - 2s - loss: 0.1430 - accuracy: 0.9540 - 2s/epoch - 51ms/step\n",
      "\u001b[2m\u001b[36m(launch_and_evaluate pid=23354)\u001b[0m 32/32 - 1s - loss: 0.1273 - accuracy: 0.9570 - 1s/epoch - 44ms/step\n"
     ]
    },
    {
     "name": "stderr",
     "output_type": "stream",
     "text": [
      "DEBUG flwr 2023-04-11 21:18:03,501 | server.py:179 | evaluate_round 2 received 10 results and 0 failures\n",
      "DEBUG:flwr:evaluate_round 2 received 10 results and 0 failures\n",
      "DEBUG flwr 2023-04-11 21:18:03,505 | server.py:215 | fit_round 3: strategy sampled 9 clients (out of 10)\n",
      "DEBUG:flwr:fit_round 3: strategy sampled 9 clients (out of 10)\n"
     ]
    },
    {
     "name": "stdout",
     "output_type": "stream",
     "text": [
      "\u001b[2m\u001b[36m(launch_and_evaluate pid=23355)\u001b[0m 32/32 - 1s - loss: 0.1359 - accuracy: 0.9630 - 1s/epoch - 39ms/step\n",
      "\u001b[2m\u001b[36m(launch_and_fit pid=23354)\u001b[0m 188/188 - 7s - loss: 0.1499 - accuracy: 0.9542 - 7s/epoch - 38ms/step\n",
      "\u001b[2m\u001b[36m(launch_and_fit pid=23355)\u001b[0m 188/188 - 7s - loss: 0.1519 - accuracy: 0.9553 - 7s/epoch - 38ms/step\n",
      "\u001b[2m\u001b[36m(launch_and_fit pid=23354)\u001b[0m 188/188 - 10s - loss: 0.1535 - accuracy: 0.9530 - 10s/epoch - 55ms/step\n",
      "\u001b[2m\u001b[36m(launch_and_fit pid=23355)\u001b[0m 188/188 - 10s - loss: 0.1541 - accuracy: 0.9540 - 10s/epoch - 55ms/step\n",
      "\u001b[2m\u001b[36m(launch_and_fit pid=23355)\u001b[0m 188/188 - 7s - loss: 0.1607 - accuracy: 0.9527 - 7s/epoch - 38ms/step\n",
      "\u001b[2m\u001b[36m(launch_and_fit pid=23354)\u001b[0m 188/188 - 7s - loss: 0.1514 - accuracy: 0.9575 - 7s/epoch - 38ms/step\n",
      "\u001b[2m\u001b[36m(launch_and_fit pid=23354)\u001b[0m 188/188 - 10s - loss: 0.1548 - accuracy: 0.9522 - 10s/epoch - 53ms/step\n",
      "\u001b[2m\u001b[36m(launch_and_fit pid=23355)\u001b[0m 188/188 - 10s - loss: 0.1690 - accuracy: 0.9473 - 10s/epoch - 54ms/step\n"
     ]
    },
    {
     "name": "stderr",
     "output_type": "stream",
     "text": [
      "DEBUG flwr 2023-04-11 21:18:45,933 | server.py:229 | fit_round 3 received 9 results and 0 failures\n",
      "DEBUG:flwr:fit_round 3 received 9 results and 0 failures\n",
      "DEBUG flwr 2023-04-11 21:18:45,972 | server.py:165 | evaluate_round 3: strategy sampled 10 clients (out of 10)\n",
      "DEBUG:flwr:evaluate_round 3: strategy sampled 10 clients (out of 10)\n"
     ]
    },
    {
     "name": "stdout",
     "output_type": "stream",
     "text": [
      "\u001b[2m\u001b[36m(launch_and_fit pid=23354)\u001b[0m 188/188 - 4s - loss: 0.1471 - accuracy: 0.9530 - 4s/epoch - 21ms/step\n",
      "\u001b[2m\u001b[36m(launch_and_evaluate pid=23355)\u001b[0m 32/32 - 1s - loss: 0.1039 - accuracy: 0.9650 - 817ms/epoch - 26ms/step\n",
      "\u001b[2m\u001b[36m(launch_and_evaluate pid=23354)\u001b[0m 32/32 - 1s - loss: 0.1124 - accuracy: 0.9670 - 790ms/epoch - 25ms/step\n",
      "\u001b[2m\u001b[36m(launch_and_evaluate pid=23354)\u001b[0m 32/32 - 1s - loss: 0.1013 - accuracy: 0.9700 - 1s/epoch - 39ms/step\n",
      "\u001b[2m\u001b[36m(launch_and_evaluate pid=23355)\u001b[0m 32/32 - 2s - loss: 0.1249 - accuracy: 0.9640 - 2s/epoch - 53ms/step\n",
      "\u001b[2m\u001b[36m(launch_and_evaluate pid=23354)\u001b[0m 32/32 - 1s - loss: 0.1003 - accuracy: 0.9730 - 1s/epoch - 42ms/step\n",
      "\u001b[2m\u001b[36m(launch_and_evaluate pid=23355)\u001b[0m 32/32 - 2s - loss: 0.0867 - accuracy: 0.9780 - 2s/epoch - 53ms/step\n",
      "\u001b[2m\u001b[36m(launch_and_evaluate pid=23354)\u001b[0m 32/32 - 1s - loss: 0.1096 - accuracy: 0.9660 - 1s/epoch - 38ms/step\n",
      "\u001b[2m\u001b[36m(launch_and_evaluate pid=23355)\u001b[0m 32/32 - 1s - loss: 0.0731 - accuracy: 0.9800 - 877ms/epoch - 27ms/step\n"
     ]
    },
    {
     "name": "stderr",
     "output_type": "stream",
     "text": [
      "DEBUG flwr 2023-04-11 21:18:56,676 | server.py:179 | evaluate_round 3 received 10 results and 0 failures\n",
      "DEBUG:flwr:evaluate_round 3 received 10 results and 0 failures\n",
      "DEBUG flwr 2023-04-11 21:18:56,680 | server.py:215 | fit_round 4: strategy sampled 9 clients (out of 10)\n",
      "DEBUG:flwr:fit_round 4: strategy sampled 9 clients (out of 10)\n"
     ]
    },
    {
     "name": "stdout",
     "output_type": "stream",
     "text": [
      "\u001b[2m\u001b[36m(launch_and_evaluate pid=23354)\u001b[0m 32/32 - 1s - loss: 0.0904 - accuracy: 0.9730 - 763ms/epoch - 24ms/step\n",
      "\u001b[2m\u001b[36m(launch_and_evaluate pid=23355)\u001b[0m 32/32 - 1s - loss: 0.1095 - accuracy: 0.9700 - 700ms/epoch - 22ms/step\n",
      "\u001b[2m\u001b[36m(launch_and_fit pid=23355)\u001b[0m 188/188 - 7s - loss: 0.1178 - accuracy: 0.9652 - 7s/epoch - 37ms/step\n",
      "\u001b[2m\u001b[36m(launch_and_fit pid=23354)\u001b[0m 188/188 - 7s - loss: 0.1095 - accuracy: 0.9678 - 7s/epoch - 39ms/step\n",
      "\u001b[2m\u001b[36m(launch_and_fit pid=23355)\u001b[0m 188/188 - 10s - loss: 0.1223 - accuracy: 0.9632 - 10s/epoch - 51ms/step\n",
      "\u001b[2m\u001b[36m(launch_and_fit pid=23354)\u001b[0m 188/188 - 10s - loss: 0.1187 - accuracy: 0.9668 - 10s/epoch - 52ms/step\n",
      "\u001b[2m\u001b[36m(launch_and_fit pid=23354)\u001b[0m 188/188 - 9s - loss: 0.1249 - accuracy: 0.9613 - 9s/epoch - 47ms/step\n",
      "\u001b[2m\u001b[36m(launch_and_fit pid=23355)\u001b[0m 188/188 - 10s - loss: 0.1220 - accuracy: 0.9625 - 10s/epoch - 52ms/step\n",
      "\u001b[2m\u001b[36m(launch_and_fit pid=23355)\u001b[0m 188/188 - 8s - loss: 0.1154 - accuracy: 0.9647 - 8s/epoch - 41ms/step\n",
      "\u001b[2m\u001b[36m(launch_and_fit pid=23354)\u001b[0m 188/188 - 8s - loss: 0.1147 - accuracy: 0.9645 - 8s/epoch - 41ms/step\n"
     ]
    },
    {
     "name": "stderr",
     "output_type": "stream",
     "text": [
      "DEBUG flwr 2023-04-11 21:19:40,384 | server.py:229 | fit_round 4 received 9 results and 0 failures\n",
      "DEBUG:flwr:fit_round 4 received 9 results and 0 failures\n",
      "DEBUG flwr 2023-04-11 21:19:40,438 | server.py:165 | evaluate_round 4: strategy sampled 10 clients (out of 10)\n",
      "DEBUG:flwr:evaluate_round 4: strategy sampled 10 clients (out of 10)\n"
     ]
    },
    {
     "name": "stdout",
     "output_type": "stream",
     "text": [
      "\u001b[2m\u001b[36m(launch_and_fit pid=23355)\u001b[0m 188/188 - 5s - loss: 0.1096 - accuracy: 0.9655 - 5s/epoch - 25ms/step\n",
      "\u001b[2m\u001b[36m(launch_and_evaluate pid=23355)\u001b[0m 32/32 - 1s - loss: 0.0646 - accuracy: 0.9840 - 1s/epoch - 43ms/step\n",
      "\u001b[2m\u001b[36m(launch_and_evaluate pid=23354)\u001b[0m 32/32 - 2s - loss: 0.0948 - accuracy: 0.9660 - 2s/epoch - 49ms/step\n",
      "\u001b[2m\u001b[36m(launch_and_evaluate pid=23355)\u001b[0m 32/32 - 1s - loss: 0.1023 - accuracy: 0.9640 - 1s/epoch - 35ms/step\n",
      "\u001b[2m\u001b[36m(launch_and_evaluate pid=23354)\u001b[0m 32/32 - 1s - loss: 0.0901 - accuracy: 0.9760 - 1s/epoch - 33ms/step\n",
      "\u001b[2m\u001b[36m(launch_and_evaluate pid=23355)\u001b[0m 32/32 - 1s - loss: 0.0784 - accuracy: 0.9830 - 800ms/epoch - 25ms/step\n",
      "\u001b[2m\u001b[36m(launch_and_evaluate pid=23354)\u001b[0m 32/32 - 1s - loss: 0.0913 - accuracy: 0.9690 - 851ms/epoch - 27ms/step\n",
      "\u001b[2m\u001b[36m(launch_and_evaluate pid=23355)\u001b[0m 32/32 - 1s - loss: 0.0715 - accuracy: 0.9820 - 748ms/epoch - 23ms/step\n",
      "\u001b[2m\u001b[36m(launch_and_evaluate pid=23354)\u001b[0m 32/32 - 1s - loss: 0.0808 - accuracy: 0.9760 - 800ms/epoch - 25ms/step\n"
     ]
    },
    {
     "name": "stderr",
     "output_type": "stream",
     "text": [
      "DEBUG flwr 2023-04-11 21:19:50,235 | server.py:179 | evaluate_round 4 received 10 results and 0 failures\n",
      "DEBUG:flwr:evaluate_round 4 received 10 results and 0 failures\n",
      "DEBUG flwr 2023-04-11 21:19:50,238 | server.py:215 | fit_round 5: strategy sampled 9 clients (out of 10)\n",
      "DEBUG:flwr:fit_round 5: strategy sampled 9 clients (out of 10)\n"
     ]
    },
    {
     "name": "stdout",
     "output_type": "stream",
     "text": [
      "\u001b[2m\u001b[36m(launch_and_evaluate pid=23355)\u001b[0m 32/32 - 1s - loss: 0.0685 - accuracy: 0.9780 - 764ms/epoch - 24ms/step\n",
      "\u001b[2m\u001b[36m(launch_and_evaluate pid=23354)\u001b[0m 32/32 - 1s - loss: 0.0815 - accuracy: 0.9790 - 732ms/epoch - 23ms/step\n",
      "\u001b[2m\u001b[36m(launch_and_fit pid=23354)\u001b[0m 188/188 - 9s - loss: 0.1139 - accuracy: 0.9657 - 9s/epoch - 49ms/step\n",
      "\u001b[2m\u001b[36m(launch_and_fit pid=23355)\u001b[0m 188/188 - 10s - loss: 0.0912 - accuracy: 0.9728 - 10s/epoch - 51ms/step\n",
      "\u001b[2m\u001b[36m(launch_and_fit pid=23354)\u001b[0m 188/188 - 8s - loss: 0.1038 - accuracy: 0.9708 - 8s/epoch - 40ms/step\n",
      "\u001b[2m\u001b[36m(launch_and_fit pid=23355)\u001b[0m 188/188 - 7s - loss: 0.1027 - accuracy: 0.9708 - 7s/epoch - 40ms/step\n",
      "\u001b[2m\u001b[36m(launch_and_fit pid=23355)\u001b[0m 188/188 - 10s - loss: 0.0899 - accuracy: 0.9743 - 10s/epoch - 54ms/step\n",
      "\u001b[2m\u001b[36m(launch_and_fit pid=23354)\u001b[0m 188/188 - 10s - loss: 0.0997 - accuracy: 0.9690 - 10s/epoch - 55ms/step\n",
      "\u001b[2m\u001b[36m(launch_and_fit pid=23355)\u001b[0m 188/188 - 7s - loss: 0.1006 - accuracy: 0.9670 - 7s/epoch - 38ms/step\n",
      "\u001b[2m\u001b[36m(launch_and_fit pid=23354)\u001b[0m 188/188 - 7s - loss: 0.0950 - accuracy: 0.9720 - 7s/epoch - 38ms/step\n"
     ]
    },
    {
     "name": "stderr",
     "output_type": "stream",
     "text": [
      "DEBUG flwr 2023-04-11 21:20:35,144 | server.py:229 | fit_round 5 received 9 results and 0 failures\n",
      "DEBUG:flwr:fit_round 5 received 9 results and 0 failures\n",
      "DEBUG flwr 2023-04-11 21:20:35,191 | server.py:165 | evaluate_round 5: strategy sampled 10 clients (out of 10)\n",
      "DEBUG:flwr:evaluate_round 5: strategy sampled 10 clients (out of 10)\n"
     ]
    },
    {
     "name": "stdout",
     "output_type": "stream",
     "text": [
      "\u001b[2m\u001b[36m(launch_and_fit pid=23355)\u001b[0m 188/188 - 6s - loss: 0.0986 - accuracy: 0.9705 - 6s/epoch - 34ms/step\n",
      "\u001b[2m\u001b[36m(launch_and_evaluate pid=23354)\u001b[0m 32/32 - 1s - loss: 0.0874 - accuracy: 0.9710 - 755ms/epoch - 24ms/step\n",
      "\u001b[2m\u001b[36m(launch_and_evaluate pid=23355)\u001b[0m 32/32 - 1s - loss: 0.0695 - accuracy: 0.9780 - 785ms/epoch - 25ms/step\n",
      "\u001b[2m\u001b[36m(launch_and_evaluate pid=23354)\u001b[0m 32/32 - 1s - loss: 0.0739 - accuracy: 0.9750 - 835ms/epoch - 26ms/step\n",
      "\u001b[2m\u001b[36m(launch_and_evaluate pid=23355)\u001b[0m 32/32 - 1s - loss: 0.0824 - accuracy: 0.9720 - 802ms/epoch - 25ms/step\n",
      "\u001b[2m\u001b[36m(launch_and_evaluate pid=23354)\u001b[0m 32/32 - 1s - loss: 0.0612 - accuracy: 0.9800 - 774ms/epoch - 24ms/step\n",
      "\u001b[2m\u001b[36m(launch_and_evaluate pid=23355)\u001b[0m 32/32 - 1s - loss: 0.0653 - accuracy: 0.9790 - 833ms/epoch - 26ms/step\n",
      "\u001b[2m\u001b[36m(launch_and_evaluate pid=23354)\u001b[0m 32/32 - 1s - loss: 0.0599 - accuracy: 0.9830 - 771ms/epoch - 24ms/step\n",
      "\u001b[2m\u001b[36m(launch_and_evaluate pid=23355)\u001b[0m 32/32 - 1s - loss: 0.0605 - accuracy: 0.9840 - 838ms/epoch - 26ms/step\n",
      "\u001b[2m\u001b[36m(launch_and_evaluate pid=23354)\u001b[0m 32/32 - 1s - loss: 0.0758 - accuracy: 0.9760 - 746ms/epoch - 23ms/step\n"
     ]
    },
    {
     "name": "stderr",
     "output_type": "stream",
     "text": [
      "DEBUG flwr 2023-04-11 21:20:43,065 | server.py:179 | evaluate_round 5 received 10 results and 0 failures\n",
      "DEBUG:flwr:evaluate_round 5 received 10 results and 0 failures\n",
      "DEBUG flwr 2023-04-11 21:20:43,073 | server.py:215 | fit_round 6: strategy sampled 9 clients (out of 10)\n",
      "DEBUG:flwr:fit_round 6: strategy sampled 9 clients (out of 10)\n"
     ]
    },
    {
     "name": "stdout",
     "output_type": "stream",
     "text": [
      "\u001b[2m\u001b[36m(launch_and_evaluate pid=23355)\u001b[0m 32/32 - 1s - loss: 0.0999 - accuracy: 0.9690 - 578ms/epoch - 18ms/step\n",
      "\u001b[2m\u001b[36m(launch_and_fit pid=23355)\u001b[0m 188/188 - 10s - loss: 0.0806 - accuracy: 0.9758 - 10s/epoch - 55ms/step\n",
      "\u001b[2m\u001b[36m(launch_and_fit pid=23354)\u001b[0m 188/188 - 10s - loss: 0.0876 - accuracy: 0.9737 - 10s/epoch - 55ms/step\n",
      "\u001b[2m\u001b[36m(launch_and_fit pid=23355)\u001b[0m 188/188 - 7s - loss: 0.0859 - accuracy: 0.9740 - 7s/epoch - 38ms/step\n",
      "\u001b[2m\u001b[36m(launch_and_fit pid=23354)\u001b[0m 188/188 - 7s - loss: 0.0858 - accuracy: 0.9748 - 7s/epoch - 38ms/step\n",
      "\u001b[2m\u001b[36m(launch_and_fit pid=23355)\u001b[0m 188/188 - 10s - loss: 0.0867 - accuracy: 0.9740 - 10s/epoch - 56ms/step\n",
      "\u001b[2m\u001b[36m(launch_and_fit pid=23354)\u001b[0m 188/188 - 10s - loss: 0.0876 - accuracy: 0.9747 - 10s/epoch - 56ms/step\n",
      "\u001b[2m\u001b[36m(launch_and_fit pid=23355)\u001b[0m 188/188 - 7s - loss: 0.0965 - accuracy: 0.9715 - 7s/epoch - 40ms/step\n",
      "\u001b[2m\u001b[36m(launch_and_fit pid=23354)\u001b[0m 188/188 - 8s - loss: 0.0868 - accuracy: 0.9725 - 8s/epoch - 42ms/step\n"
     ]
    },
    {
     "name": "stderr",
     "output_type": "stream",
     "text": [
      "DEBUG flwr 2023-04-11 21:21:28,229 | server.py:229 | fit_round 6 received 9 results and 0 failures\n",
      "DEBUG:flwr:fit_round 6 received 9 results and 0 failures\n",
      "DEBUG flwr 2023-04-11 21:21:28,271 | server.py:165 | evaluate_round 6: strategy sampled 10 clients (out of 10)\n",
      "DEBUG:flwr:evaluate_round 6: strategy sampled 10 clients (out of 10)\n"
     ]
    },
    {
     "name": "stdout",
     "output_type": "stream",
     "text": [
      "\u001b[2m\u001b[36m(launch_and_fit pid=23355)\u001b[0m 188/188 - 6s - loss: 0.0935 - accuracy: 0.9748 - 6s/epoch - 30ms/step\n",
      "\u001b[2m\u001b[36m(launch_and_evaluate pid=23355)\u001b[0m 32/32 - 1s - loss: 0.0570 - accuracy: 0.9810 - 762ms/epoch - 24ms/step\n",
      "\u001b[2m\u001b[36m(launch_and_evaluate pid=23354)\u001b[0m 32/32 - 1s - loss: 0.0566 - accuracy: 0.9850 - 813ms/epoch - 25ms/step\n",
      "\u001b[2m\u001b[36m(launch_and_evaluate pid=23354)\u001b[0m 32/32 - 1s - loss: 0.0731 - accuracy: 0.9750 - 732ms/epoch - 23ms/step\n",
      "\u001b[2m\u001b[36m(launch_and_evaluate pid=23355)\u001b[0m 32/32 - 1s - loss: 0.0669 - accuracy: 0.9780 - 1s/epoch - 44ms/step\n",
      "\u001b[2m\u001b[36m(launch_and_evaluate pid=23354)\u001b[0m 32/32 - 1s - loss: 0.0680 - accuracy: 0.9780 - 765ms/epoch - 24ms/step\n",
      "\u001b[2m\u001b[36m(launch_and_evaluate pid=23355)\u001b[0m 32/32 - 1s - loss: 0.0758 - accuracy: 0.9750 - 773ms/epoch - 24ms/step\n",
      "\u001b[2m\u001b[36m(launch_and_evaluate pid=23354)\u001b[0m 32/32 - 1s - loss: 0.0597 - accuracy: 0.9790 - 749ms/epoch - 23ms/step\n",
      "\u001b[2m\u001b[36m(launch_and_evaluate pid=23355)\u001b[0m 32/32 - 1s - loss: 0.0566 - accuracy: 0.9830 - 772ms/epoch - 24ms/step\n",
      "\u001b[2m\u001b[36m(launch_and_evaluate pid=23354)\u001b[0m 32/32 - 1s - loss: 0.0560 - accuracy: 0.9780 - 825ms/epoch - 26ms/step\n"
     ]
    },
    {
     "name": "stderr",
     "output_type": "stream",
     "text": [
      "DEBUG flwr 2023-04-11 21:21:36,072 | server.py:179 | evaluate_round 6 received 10 results and 0 failures\n",
      "DEBUG:flwr:evaluate_round 6 received 10 results and 0 failures\n",
      "DEBUG flwr 2023-04-11 21:21:36,079 | server.py:215 | fit_round 7: strategy sampled 9 clients (out of 10)\n",
      "DEBUG:flwr:fit_round 7: strategy sampled 9 clients (out of 10)\n"
     ]
    },
    {
     "name": "stdout",
     "output_type": "stream",
     "text": [
      "\u001b[2m\u001b[36m(launch_and_evaluate pid=23355)\u001b[0m 32/32 - 1s - loss: 0.0693 - accuracy: 0.9770 - 511ms/epoch - 16ms/step\n",
      "\u001b[2m\u001b[36m(launch_and_fit pid=23355)\u001b[0m 188/188 - 10s - loss: 0.0678 - accuracy: 0.9823 - 10s/epoch - 56ms/step\n",
      "\u001b[2m\u001b[36m(launch_and_fit pid=23354)\u001b[0m 188/188 - 10s - loss: 0.0770 - accuracy: 0.9763 - 10s/epoch - 55ms/step\n",
      "\u001b[2m\u001b[36m(launch_and_fit pid=23355)\u001b[0m 188/188 - 8s - loss: 0.0765 - accuracy: 0.9752 - 8s/epoch - 41ms/step\n",
      "\u001b[2m\u001b[36m(launch_and_fit pid=23354)\u001b[0m 188/188 - 9s - loss: 0.0876 - accuracy: 0.9733 - 9s/epoch - 48ms/step\n",
      "\u001b[2m\u001b[36m(launch_and_fit pid=23355)\u001b[0m 188/188 - 8s - loss: 0.0738 - accuracy: 0.9768 - 8s/epoch - 45ms/step\n",
      "\u001b[2m\u001b[36m(launch_and_fit pid=23354)\u001b[0m 188/188 - 9s - loss: 0.0768 - accuracy: 0.9777 - 9s/epoch - 49ms/step\n",
      "\u001b[2m\u001b[36m(launch_and_fit pid=23355)\u001b[0m 188/188 - 11s - loss: 0.0761 - accuracy: 0.9795 - 11s/epoch - 57ms/step\n",
      "\u001b[2m\u001b[36m(launch_and_fit pid=23354)\u001b[0m 188/188 - 10s - loss: 0.0872 - accuracy: 0.9732 - 10s/epoch - 55ms/step\n"
     ]
    },
    {
     "name": "stderr",
     "output_type": "stream",
     "text": [
      "DEBUG flwr 2023-04-11 21:22:22,639 | server.py:229 | fit_round 7 received 9 results and 0 failures\n",
      "DEBUG:flwr:fit_round 7 received 9 results and 0 failures\n",
      "DEBUG flwr 2023-04-11 21:22:22,683 | server.py:165 | evaluate_round 7: strategy sampled 10 clients (out of 10)\n",
      "DEBUG:flwr:evaluate_round 7: strategy sampled 10 clients (out of 10)\n"
     ]
    },
    {
     "name": "stdout",
     "output_type": "stream",
     "text": [
      "\u001b[2m\u001b[36m(launch_and_fit pid=23355)\u001b[0m 188/188 - 4s - loss: 0.0792 - accuracy: 0.9762 - 4s/epoch - 21ms/step\n",
      "\u001b[2m\u001b[36m(launch_and_evaluate pid=23355)\u001b[0m 32/32 - 1s - loss: 0.0720 - accuracy: 0.9770 - 749ms/epoch - 23ms/step\n",
      "\u001b[2m\u001b[36m(launch_and_evaluate pid=23354)\u001b[0m 32/32 - 1s - loss: 0.0545 - accuracy: 0.9810 - 854ms/epoch - 27ms/step\n",
      "\u001b[2m\u001b[36m(launch_and_evaluate pid=23355)\u001b[0m 32/32 - 1s - loss: 0.0562 - accuracy: 0.9790 - 766ms/epoch - 24ms/step\n",
      "\u001b[2m\u001b[36m(launch_and_evaluate pid=23354)\u001b[0m 32/32 - 1s - loss: 0.0717 - accuracy: 0.9770 - 780ms/epoch - 24ms/step\n",
      "\u001b[2m\u001b[36m(launch_and_evaluate pid=23355)\u001b[0m 32/32 - 1s - loss: 0.0680 - accuracy: 0.9780 - 754ms/epoch - 24ms/step\n",
      "\u001b[2m\u001b[36m(launch_and_evaluate pid=23354)\u001b[0m 32/32 - 1s - loss: 0.0665 - accuracy: 0.9770 - 827ms/epoch - 26ms/step\n",
      "\u001b[2m\u001b[36m(launch_and_evaluate pid=23355)\u001b[0m 32/32 - 1s - loss: 0.0785 - accuracy: 0.9700 - 930ms/epoch - 29ms/step\n",
      "\u001b[2m\u001b[36m(launch_and_evaluate pid=23354)\u001b[0m 32/32 - 1s - loss: 0.0588 - accuracy: 0.9790 - 1s/epoch - 33ms/step\n",
      "\u001b[2m\u001b[36m(launch_and_evaluate pid=23355)\u001b[0m 32/32 - 1s - loss: 0.0756 - accuracy: 0.9770 - 1s/epoch - 38ms/step\n"
     ]
    },
    {
     "name": "stderr",
     "output_type": "stream",
     "text": [
      "DEBUG flwr 2023-04-11 21:22:31,713 | server.py:179 | evaluate_round 7 received 10 results and 0 failures\n",
      "DEBUG:flwr:evaluate_round 7 received 10 results and 0 failures\n",
      "DEBUG flwr 2023-04-11 21:22:31,717 | server.py:215 | fit_round 8: strategy sampled 9 clients (out of 10)\n",
      "DEBUG:flwr:fit_round 8: strategy sampled 9 clients (out of 10)\n"
     ]
    },
    {
     "name": "stdout",
     "output_type": "stream",
     "text": [
      "\u001b[2m\u001b[36m(launch_and_evaluate pid=23354)\u001b[0m 32/32 - 1s - loss: 0.0525 - accuracy: 0.9830 - 1s/epoch - 41ms/step\n",
      "\u001b[2m\u001b[36m(launch_and_fit pid=23355)\u001b[0m 188/188 - 8s - loss: 0.0702 - accuracy: 0.9795 - 8s/epoch - 43ms/step\n",
      "\u001b[2m\u001b[36m(launch_and_fit pid=23354)\u001b[0m 188/188 - 8s - loss: 0.0715 - accuracy: 0.9762 - 8s/epoch - 43ms/step\n",
      "\u001b[2m\u001b[36m(launch_and_fit pid=23354)\u001b[0m 188/188 - 10s - loss: 0.0689 - accuracy: 0.9803 - 10s/epoch - 55ms/step\n",
      "\u001b[2m\u001b[36m(launch_and_fit pid=23355)\u001b[0m 188/188 - 11s - loss: 0.0649 - accuracy: 0.9815 - 11s/epoch - 56ms/step\n",
      "\u001b[2m\u001b[36m(launch_and_fit pid=23355)\u001b[0m 188/188 - 7s - loss: 0.0665 - accuracy: 0.9803 - 7s/epoch - 38ms/step\n",
      "\u001b[2m\u001b[36m(launch_and_fit pid=23354)\u001b[0m 188/188 - 7s - loss: 0.0680 - accuracy: 0.9798 - 7s/epoch - 38ms/step\n",
      "\u001b[2m\u001b[36m(launch_and_fit pid=23355)\u001b[0m 188/188 - 10s - loss: 0.0706 - accuracy: 0.9782 - 10s/epoch - 55ms/step\n",
      "\u001b[2m\u001b[36m(launch_and_fit pid=23354)\u001b[0m 188/188 - 10s - loss: 0.0701 - accuracy: 0.9792 - 10s/epoch - 56ms/step\n"
     ]
    },
    {
     "name": "stderr",
     "output_type": "stream",
     "text": [
      "DEBUG flwr 2023-04-11 21:23:15,688 | server.py:229 | fit_round 8 received 9 results and 0 failures\n",
      "DEBUG:flwr:fit_round 8 received 9 results and 0 failures\n",
      "DEBUG flwr 2023-04-11 21:23:15,729 | server.py:165 | evaluate_round 8: strategy sampled 10 clients (out of 10)\n",
      "DEBUG:flwr:evaluate_round 8: strategy sampled 10 clients (out of 10)\n"
     ]
    },
    {
     "name": "stdout",
     "output_type": "stream",
     "text": [
      "\u001b[2m\u001b[36m(launch_and_fit pid=23355)\u001b[0m 188/188 - 4s - loss: 0.0677 - accuracy: 0.9795 - 4s/epoch - 20ms/step\n",
      "\u001b[2m\u001b[36m(launch_and_evaluate pid=23354)\u001b[0m 32/32 - 1s - loss: 0.0497 - accuracy: 0.9850 - 743ms/epoch - 23ms/step\n",
      "\u001b[2m\u001b[36m(launch_and_evaluate pid=23355)\u001b[0m 32/32 - 1s - loss: 0.0573 - accuracy: 0.9810 - 783ms/epoch - 24ms/step\n",
      "\u001b[2m\u001b[36m(launch_and_evaluate pid=23354)\u001b[0m 32/32 - 1s - loss: 0.0336 - accuracy: 0.9910 - 845ms/epoch - 26ms/step\n",
      "\u001b[2m\u001b[36m(launch_and_evaluate pid=23355)\u001b[0m 32/32 - 1s - loss: 0.0448 - accuracy: 0.9870 - 832ms/epoch - 26ms/step\n",
      "\u001b[2m\u001b[36m(launch_and_evaluate pid=23354)\u001b[0m 32/32 - 1s - loss: 0.0596 - accuracy: 0.9830 - 1s/epoch - 40ms/step\n",
      "\u001b[2m\u001b[36m(launch_and_evaluate pid=23355)\u001b[0m 32/32 - 2s - loss: 0.0420 - accuracy: 0.9870 - 2s/epoch - 48ms/step\n",
      "\u001b[2m\u001b[36m(launch_and_evaluate pid=23355)\u001b[0m 32/32 - 2s - loss: 0.0531 - accuracy: 0.9860 - 2s/epoch - 48ms/step\n",
      "\u001b[2m\u001b[36m(launch_and_evaluate pid=23354)\u001b[0m 32/32 - 2s - loss: 0.0494 - accuracy: 0.9830 - 2s/epoch - 48ms/step\n",
      "\u001b[2m\u001b[36m(launch_and_evaluate pid=23354)\u001b[0m 32/32 - 1s - loss: 0.0437 - accuracy: 0.9840 - 1s/epoch - 42ms/step\n"
     ]
    },
    {
     "name": "stderr",
     "output_type": "stream",
     "text": [
      "DEBUG flwr 2023-04-11 21:23:26,474 | server.py:179 | evaluate_round 8 received 10 results and 0 failures\n",
      "DEBUG:flwr:evaluate_round 8 received 10 results and 0 failures\n",
      "DEBUG flwr 2023-04-11 21:23:26,479 | server.py:215 | fit_round 9: strategy sampled 9 clients (out of 10)\n",
      "DEBUG:flwr:fit_round 9: strategy sampled 9 clients (out of 10)\n"
     ]
    },
    {
     "name": "stdout",
     "output_type": "stream",
     "text": [
      "\u001b[2m\u001b[36m(launch_and_evaluate pid=23355)\u001b[0m 32/32 - 1s - loss: 0.0566 - accuracy: 0.9840 - 1s/epoch - 46ms/step\n",
      "\u001b[2m\u001b[36m(launch_and_fit pid=23355)\u001b[0m 188/188 - 7s - loss: 0.0638 - accuracy: 0.9803 - 7s/epoch - 37ms/step\n",
      "\u001b[2m\u001b[36m(launch_and_fit pid=23354)\u001b[0m 188/188 - 7s - loss: 0.0706 - accuracy: 0.9788 - 7s/epoch - 38ms/step\n",
      "\u001b[2m\u001b[36m(launch_and_fit pid=23354)\u001b[0m 188/188 - 10s - loss: 0.0697 - accuracy: 0.9788 - 10s/epoch - 55ms/step\n",
      "\u001b[2m\u001b[36m(launch_and_fit pid=23355)\u001b[0m 188/188 - 11s - loss: 0.0676 - accuracy: 0.9812 - 11s/epoch - 59ms/step\n",
      "\u001b[2m\u001b[36m(launch_and_fit pid=23354)\u001b[0m 188/188 - 7s - loss: 0.0624 - accuracy: 0.9812 - 7s/epoch - 38ms/step\n",
      "\u001b[2m\u001b[36m(launch_and_fit pid=23355)\u001b[0m 188/188 - 7s - loss: 0.0751 - accuracy: 0.9750 - 7s/epoch - 39ms/step\n",
      "\u001b[2m\u001b[36m(launch_and_fit pid=23354)\u001b[0m 188/188 - 10s - loss: 0.0671 - accuracy: 0.9810 - 10s/epoch - 51ms/step\n",
      "\u001b[2m\u001b[36m(launch_and_fit pid=23355)\u001b[0m 188/188 - 9s - loss: 0.0676 - accuracy: 0.9803 - 9s/epoch - 50ms/step\n"
     ]
    },
    {
     "name": "stderr",
     "output_type": "stream",
     "text": [
      "DEBUG flwr 2023-04-11 21:24:08,908 | server.py:229 | fit_round 9 received 9 results and 0 failures\n",
      "DEBUG:flwr:fit_round 9 received 9 results and 0 failures\n",
      "DEBUG flwr 2023-04-11 21:24:08,947 | server.py:165 | evaluate_round 9: strategy sampled 10 clients (out of 10)\n",
      "DEBUG:flwr:evaluate_round 9: strategy sampled 10 clients (out of 10)\n"
     ]
    },
    {
     "name": "stdout",
     "output_type": "stream",
     "text": [
      "\u001b[2m\u001b[36m(launch_and_fit pid=23354)\u001b[0m 188/188 - 4s - loss: 0.0670 - accuracy: 0.9802 - 4s/epoch - 21ms/step\n",
      "\u001b[2m\u001b[36m(launch_and_evaluate pid=23355)\u001b[0m 32/32 - 1s - loss: 0.0539 - accuracy: 0.9840 - 847ms/epoch - 26ms/step\n",
      "\u001b[2m\u001b[36m(launch_and_evaluate pid=23354)\u001b[0m 32/32 - 1s - loss: 0.0445 - accuracy: 0.9820 - 930ms/epoch - 29ms/step\n",
      "\u001b[2m\u001b[36m(launch_and_evaluate pid=23354)\u001b[0m 32/32 - 2s - loss: 0.0585 - accuracy: 0.9800 - 2s/epoch - 52ms/step\n",
      "\u001b[2m\u001b[36m(launch_and_evaluate pid=23355)\u001b[0m 32/32 - 2s - loss: 0.0501 - accuracy: 0.9870 - 2s/epoch - 52ms/step\n",
      "\u001b[2m\u001b[36m(launch_and_evaluate pid=23355)\u001b[0m 32/32 - 1s - loss: 0.0546 - accuracy: 0.9870 - 1s/epoch - 40ms/step\n",
      "\u001b[2m\u001b[36m(launch_and_evaluate pid=23354)\u001b[0m 32/32 - 2s - loss: 0.0449 - accuracy: 0.9840 - 2s/epoch - 76ms/step\n",
      "\u001b[2m\u001b[36m(launch_and_evaluate pid=23355)\u001b[0m 32/32 - 1s - loss: 0.0630 - accuracy: 0.9770 - 764ms/epoch - 24ms/step\n",
      "\u001b[2m\u001b[36m(launch_and_evaluate pid=23354)\u001b[0m 32/32 - 1s - loss: 0.0586 - accuracy: 0.9780 - 804ms/epoch - 25ms/step\n",
      "\u001b[2m\u001b[36m(launch_and_evaluate pid=23355)\u001b[0m 32/32 - 1s - loss: 0.0593 - accuracy: 0.9800 - 793ms/epoch - 25ms/step\n"
     ]
    },
    {
     "name": "stderr",
     "output_type": "stream",
     "text": [
      "DEBUG flwr 2023-04-11 21:24:19,912 | server.py:179 | evaluate_round 9 received 10 results and 0 failures\n",
      "DEBUG:flwr:evaluate_round 9 received 10 results and 0 failures\n",
      "DEBUG flwr 2023-04-11 21:24:19,919 | server.py:215 | fit_round 10: strategy sampled 9 clients (out of 10)\n",
      "DEBUG:flwr:fit_round 10: strategy sampled 9 clients (out of 10)\n"
     ]
    },
    {
     "name": "stdout",
     "output_type": "stream",
     "text": [
      "\u001b[2m\u001b[36m(launch_and_evaluate pid=23354)\u001b[0m 32/32 - 0s - loss: 0.0732 - accuracy: 0.9720 - 472ms/epoch - 15ms/step\n",
      "\u001b[2m\u001b[36m(launch_and_fit pid=23354)\u001b[0m 188/188 - 8s - loss: 0.0629 - accuracy: 0.9812 - 8s/epoch - 42ms/step\n",
      "\u001b[2m\u001b[36m(launch_and_fit pid=23355)\u001b[0m 188/188 - 8s - loss: 0.0626 - accuracy: 0.9833 - 8s/epoch - 43ms/step\n",
      "\u001b[2m\u001b[36m(launch_and_fit pid=23354)\u001b[0m 188/188 - 9s - loss: 0.0616 - accuracy: 0.9793 - 9s/epoch - 46ms/step\n",
      "\u001b[2m\u001b[36m(launch_and_fit pid=23355)\u001b[0m 188/188 - 9s - loss: 0.0599 - accuracy: 0.9812 - 9s/epoch - 47ms/step\n",
      "\u001b[2m\u001b[36m(launch_and_fit pid=23354)\u001b[0m 188/188 - 9s - loss: 0.0532 - accuracy: 0.9833 - 9s/epoch - 50ms/step\n",
      "\u001b[2m\u001b[36m(launch_and_fit pid=23355)\u001b[0m 188/188 - 10s - loss: 0.0675 - accuracy: 0.9810 - 10s/epoch - 51ms/step\n",
      "\u001b[2m\u001b[36m(launch_and_fit pid=23355)\u001b[0m 188/188 - 7s - loss: 0.0671 - accuracy: 0.9802 - 7s/epoch - 38ms/step\n",
      "\u001b[2m\u001b[36m(launch_and_fit pid=23354)\u001b[0m 188/188 - 7s - loss: 0.0546 - accuracy: 0.9837 - 7s/epoch - 39ms/step\n"
     ]
    },
    {
     "name": "stderr",
     "output_type": "stream",
     "text": [
      "DEBUG flwr 2023-04-11 21:25:03,070 | server.py:229 | fit_round 10 received 9 results and 0 failures\n",
      "DEBUG:flwr:fit_round 10 received 9 results and 0 failures\n",
      "DEBUG flwr 2023-04-11 21:25:03,144 | server.py:165 | evaluate_round 10: strategy sampled 10 clients (out of 10)\n",
      "DEBUG:flwr:evaluate_round 10: strategy sampled 10 clients (out of 10)\n"
     ]
    },
    {
     "name": "stdout",
     "output_type": "stream",
     "text": [
      "\u001b[2m\u001b[36m(launch_and_fit pid=23355)\u001b[0m 188/188 - 5s - loss: 0.0657 - accuracy: 0.9805 - 5s/epoch - 26ms/step\n",
      "\u001b[2m\u001b[36m(launch_and_evaluate pid=23355)\u001b[0m 32/32 - 1s - loss: 0.0539 - accuracy: 0.9860 - 1s/epoch - 43ms/step\n",
      "\u001b[2m\u001b[36m(launch_and_evaluate pid=23354)\u001b[0m 32/32 - 2s - loss: 0.0524 - accuracy: 0.9800 - 2s/epoch - 51ms/step\n",
      "\u001b[2m\u001b[36m(launch_and_evaluate pid=23355)\u001b[0m 32/32 - 1s - loss: 0.0375 - accuracy: 0.9870 - 757ms/epoch - 24ms/step\n",
      "\u001b[2m\u001b[36m(launch_and_evaluate pid=23354)\u001b[0m 32/32 - 1s - loss: 0.0579 - accuracy: 0.9790 - 805ms/epoch - 25ms/step\n",
      "\u001b[2m\u001b[36m(launch_and_evaluate pid=23355)\u001b[0m 32/32 - 1s - loss: 0.0484 - accuracy: 0.9840 - 750ms/epoch - 23ms/step\n",
      "\u001b[2m\u001b[36m(launch_and_evaluate pid=23354)\u001b[0m 32/32 - 1s - loss: 0.0491 - accuracy: 0.9870 - 768ms/epoch - 24ms/step\n",
      "\u001b[2m\u001b[36m(launch_and_evaluate pid=23355)\u001b[0m 32/32 - 1s - loss: 0.0612 - accuracy: 0.9800 - 762ms/epoch - 24ms/step\n",
      "\u001b[2m\u001b[36m(launch_and_evaluate pid=23354)\u001b[0m 32/32 - 1s - loss: 0.0503 - accuracy: 0.9840 - 791ms/epoch - 25ms/step\n"
     ]
    },
    {
     "name": "stderr",
     "output_type": "stream",
     "text": [
      "DEBUG flwr 2023-04-11 21:25:12,511 | server.py:179 | evaluate_round 10 received 10 results and 0 failures\n",
      "DEBUG:flwr:evaluate_round 10 received 10 results and 0 failures\n",
      "DEBUG flwr 2023-04-11 21:25:12,516 | server.py:215 | fit_round 11: strategy sampled 9 clients (out of 10)\n",
      "DEBUG:flwr:fit_round 11: strategy sampled 9 clients (out of 10)\n"
     ]
    },
    {
     "name": "stdout",
     "output_type": "stream",
     "text": [
      "\u001b[2m\u001b[36m(launch_and_evaluate pid=23355)\u001b[0m 32/32 - 1s - loss: 0.0489 - accuracy: 0.9850 - 783ms/epoch - 24ms/step\n",
      "\u001b[2m\u001b[36m(launch_and_evaluate pid=23354)\u001b[0m 32/32 - 1s - loss: 0.0404 - accuracy: 0.9900 - 716ms/epoch - 22ms/step\n",
      "\u001b[2m\u001b[36m(launch_and_fit pid=23355)\u001b[0m 188/188 - 10s - loss: 0.0575 - accuracy: 0.9827 - 10s/epoch - 51ms/step\n",
      "\u001b[2m\u001b[36m(launch_and_fit pid=23354)\u001b[0m 188/188 - 10s - loss: 0.0529 - accuracy: 0.9835 - 10s/epoch - 53ms/step\n",
      "\u001b[2m\u001b[36m(launch_and_fit pid=23355)\u001b[0m 188/188 - 7s - loss: 0.0526 - accuracy: 0.9838 - 7s/epoch - 38ms/step\n",
      "\u001b[2m\u001b[36m(launch_and_fit pid=23354)\u001b[0m 188/188 - 7s - loss: 0.0555 - accuracy: 0.9838 - 7s/epoch - 38ms/step\n",
      "\u001b[2m\u001b[36m(launch_and_fit pid=23355)\u001b[0m 188/188 - 10s - loss: 0.0518 - accuracy: 0.9852 - 10s/epoch - 54ms/step\n",
      "\u001b[2m\u001b[36m(launch_and_fit pid=23354)\u001b[0m 188/188 - 10s - loss: 0.0528 - accuracy: 0.9832 - 10s/epoch - 55ms/step\n",
      "\u001b[2m\u001b[36m(launch_and_fit pid=23355)\u001b[0m 188/188 - 7s - loss: 0.0512 - accuracy: 0.9863 - 7s/epoch - 38ms/step\n",
      "\u001b[2m\u001b[36m(launch_and_fit pid=23354)\u001b[0m 188/188 - 7s - loss: 0.0539 - accuracy: 0.9858 - 7s/epoch - 38ms/step\n"
     ]
    },
    {
     "name": "stderr",
     "output_type": "stream",
     "text": [
      "DEBUG flwr 2023-04-11 21:25:57,930 | server.py:229 | fit_round 11 received 9 results and 0 failures\n",
      "DEBUG:flwr:fit_round 11 received 9 results and 0 failures\n",
      "DEBUG flwr 2023-04-11 21:25:57,969 | server.py:165 | evaluate_round 11: strategy sampled 10 clients (out of 10)\n",
      "DEBUG:flwr:evaluate_round 11: strategy sampled 10 clients (out of 10)\n"
     ]
    },
    {
     "name": "stdout",
     "output_type": "stream",
     "text": [
      "\u001b[2m\u001b[36m(launch_and_fit pid=23355)\u001b[0m 188/188 - 7s - loss: 0.0504 - accuracy: 0.9832 - 7s/epoch - 38ms/step\n",
      "\u001b[2m\u001b[36m(launch_and_evaluate pid=23354)\u001b[0m 32/32 - 1s - loss: 0.0546 - accuracy: 0.9810 - 802ms/epoch - 25ms/step\n",
      "\u001b[2m\u001b[36m(launch_and_evaluate pid=23355)\u001b[0m 32/32 - 1s - loss: 0.0671 - accuracy: 0.9760 - 834ms/epoch - 26ms/step\n",
      "\u001b[2m\u001b[36m(launch_and_evaluate pid=23355)\u001b[0m 32/32 - 1s - loss: 0.0547 - accuracy: 0.9810 - 792ms/epoch - 25ms/step\n",
      "\u001b[2m\u001b[36m(launch_and_evaluate pid=23354)\u001b[0m 32/32 - 1s - loss: 0.0684 - accuracy: 0.9790 - 781ms/epoch - 24ms/step\n",
      "\u001b[2m\u001b[36m(launch_and_evaluate pid=23354)\u001b[0m 32/32 - 1s - loss: 0.0403 - accuracy: 0.9860 - 735ms/epoch - 23ms/step\n",
      "\u001b[2m\u001b[36m(launch_and_evaluate pid=23355)\u001b[0m 32/32 - 1s - loss: 0.0505 - accuracy: 0.9860 - 785ms/epoch - 25ms/step\n",
      "\u001b[2m\u001b[36m(launch_and_evaluate pid=23355)\u001b[0m 32/32 - 1s - loss: 0.0462 - accuracy: 0.9840 - 778ms/epoch - 24ms/step\n",
      "\u001b[2m\u001b[36m(launch_and_evaluate pid=23354)\u001b[0m 32/32 - 1s - loss: 0.0459 - accuracy: 0.9850 - 858ms/epoch - 27ms/step\n"
     ]
    },
    {
     "name": "stderr",
     "output_type": "stream",
     "text": [
      "DEBUG flwr 2023-04-11 21:26:06,088 | server.py:179 | evaluate_round 11 received 10 results and 0 failures\n",
      "DEBUG:flwr:evaluate_round 11 received 10 results and 0 failures\n",
      "DEBUG flwr 2023-04-11 21:26:06,097 | server.py:215 | fit_round 12: strategy sampled 9 clients (out of 10)\n",
      "DEBUG:flwr:fit_round 12: strategy sampled 9 clients (out of 10)\n"
     ]
    },
    {
     "name": "stdout",
     "output_type": "stream",
     "text": [
      "\u001b[2m\u001b[36m(launch_and_evaluate pid=23355)\u001b[0m 32/32 - 1s - loss: 0.0605 - accuracy: 0.9780 - 1s/epoch - 44ms/step\n",
      "\u001b[2m\u001b[36m(launch_and_evaluate pid=23354)\u001b[0m 32/32 - 1s - loss: 0.0464 - accuracy: 0.9850 - 1s/epoch - 47ms/step\n",
      "\u001b[2m\u001b[36m(launch_and_fit pid=23354)\u001b[0m 188/188 - 10s - loss: 0.0638 - accuracy: 0.9828 - 10s/epoch - 55ms/step\n",
      "\u001b[2m\u001b[36m(launch_and_fit pid=23355)\u001b[0m 188/188 - 10s - loss: 0.0617 - accuracy: 0.9808 - 10s/epoch - 55ms/step\n",
      "\u001b[2m\u001b[36m(launch_and_fit pid=23355)\u001b[0m 188/188 - 7s - loss: 0.0590 - accuracy: 0.9815 - 7s/epoch - 39ms/step\n",
      "\u001b[2m\u001b[36m(launch_and_fit pid=23354)\u001b[0m 188/188 - 8s - loss: 0.0582 - accuracy: 0.9845 - 8s/epoch - 41ms/step\n",
      "\u001b[2m\u001b[36m(launch_and_fit pid=23355)\u001b[0m 188/188 - 9s - loss: 0.0454 - accuracy: 0.9853 - 9s/epoch - 48ms/step\n",
      "\u001b[2m\u001b[36m(launch_and_fit pid=23354)\u001b[0m 188/188 - 9s - loss: 0.0464 - accuracy: 0.9868 - 9s/epoch - 50ms/step\n",
      "\u001b[2m\u001b[36m(launch_and_fit pid=23355)\u001b[0m 188/188 - 9s - loss: 0.0576 - accuracy: 0.9825 - 9s/epoch - 49ms/step\n",
      "\u001b[2m\u001b[36m(launch_and_fit pid=23354)\u001b[0m 188/188 - 10s - loss: 0.0443 - accuracy: 0.9857 - 10s/epoch - 52ms/step\n"
     ]
    },
    {
     "name": "stderr",
     "output_type": "stream",
     "text": [
      "DEBUG flwr 2023-04-11 21:26:51,575 | server.py:229 | fit_round 12 received 9 results and 0 failures\n",
      "DEBUG:flwr:fit_round 12 received 9 results and 0 failures\n",
      "DEBUG flwr 2023-04-11 21:26:51,618 | server.py:165 | evaluate_round 12: strategy sampled 10 clients (out of 10)\n",
      "DEBUG:flwr:evaluate_round 12: strategy sampled 10 clients (out of 10)\n"
     ]
    },
    {
     "name": "stdout",
     "output_type": "stream",
     "text": [
      "\u001b[2m\u001b[36m(launch_and_fit pid=23355)\u001b[0m 188/188 - 4s - loss: 0.0486 - accuracy: 0.9867 - 4s/epoch - 23ms/step\n",
      "\u001b[2m\u001b[36m(launch_and_evaluate pid=23355)\u001b[0m 32/32 - 1s - loss: 0.0472 - accuracy: 0.9830 - 831ms/epoch - 26ms/step\n",
      "\u001b[2m\u001b[36m(launch_and_evaluate pid=23354)\u001b[0m 32/32 - 1s - loss: 0.0511 - accuracy: 0.9790 - 823ms/epoch - 26ms/step\n",
      "\u001b[2m\u001b[36m(launch_and_evaluate pid=23355)\u001b[0m 32/32 - 1s - loss: 0.0437 - accuracy: 0.9840 - 755ms/epoch - 24ms/step\n",
      "\u001b[2m\u001b[36m(launch_and_evaluate pid=23354)\u001b[0m 32/32 - 1s - loss: 0.0536 - accuracy: 0.9850 - 781ms/epoch - 24ms/step\n",
      "\u001b[2m\u001b[36m(launch_and_evaluate pid=23355)\u001b[0m 32/32 - 1s - loss: 0.0451 - accuracy: 0.9890 - 812ms/epoch - 25ms/step\n",
      "\u001b[2m\u001b[36m(launch_and_evaluate pid=23354)\u001b[0m 32/32 - 1s - loss: 0.0318 - accuracy: 0.9910 - 794ms/epoch - 25ms/step\n",
      "\u001b[2m\u001b[36m(launch_and_evaluate pid=23355)\u001b[0m 32/32 - 1s - loss: 0.0427 - accuracy: 0.9870 - 746ms/epoch - 23ms/step\n",
      "\u001b[2m\u001b[36m(launch_and_evaluate pid=23354)\u001b[0m 32/32 - 1s - loss: 0.0343 - accuracy: 0.9880 - 763ms/epoch - 24ms/step\n",
      "\u001b[2m\u001b[36m(launch_and_evaluate pid=23355)\u001b[0m 32/32 - 1s - loss: 0.0422 - accuracy: 0.9830 - 964ms/epoch - 30ms/step\n"
     ]
    },
    {
     "name": "stderr",
     "output_type": "stream",
     "text": [
      "DEBUG flwr 2023-04-11 21:26:59,442 | server.py:179 | evaluate_round 12 received 10 results and 0 failures\n",
      "DEBUG:flwr:evaluate_round 12 received 10 results and 0 failures\n",
      "DEBUG flwr 2023-04-11 21:26:59,445 | server.py:215 | fit_round 13: strategy sampled 9 clients (out of 10)\n",
      "DEBUG:flwr:fit_round 13: strategy sampled 9 clients (out of 10)\n"
     ]
    },
    {
     "name": "stdout",
     "output_type": "stream",
     "text": [
      "\u001b[2m\u001b[36m(launch_and_evaluate pid=23354)\u001b[0m 32/32 - 1s - loss: 0.0410 - accuracy: 0.9860 - 1s/epoch - 35ms/step\n",
      "\u001b[2m\u001b[36m(launch_and_fit pid=23355)\u001b[0m 188/188 - 9s - loss: 0.0552 - accuracy: 0.9852 - 9s/epoch - 48ms/step\n",
      "\u001b[2m\u001b[36m(launch_and_fit pid=23354)\u001b[0m 188/188 - 9s - loss: 0.0577 - accuracy: 0.9832 - 9s/epoch - 49ms/step\n",
      "\u001b[2m\u001b[36m(launch_and_fit pid=23355)\u001b[0m 188/188 - 9s - loss: 0.0412 - accuracy: 0.9878 - 9s/epoch - 47ms/step\n",
      "\u001b[2m\u001b[36m(launch_and_fit pid=23354)\u001b[0m 188/188 - 9s - loss: 0.0444 - accuracy: 0.9877 - 9s/epoch - 50ms/step\n",
      "\u001b[2m\u001b[36m(launch_and_fit pid=23355)\u001b[0m 188/188 - 8s - loss: 0.0488 - accuracy: 0.9852 - 8s/epoch - 42ms/step\n",
      "\u001b[2m\u001b[36m(launch_and_fit pid=23354)\u001b[0m 188/188 - 8s - loss: 0.0468 - accuracy: 0.9878 - 8s/epoch - 40ms/step\n",
      "\u001b[2m\u001b[36m(launch_and_fit pid=23355)\u001b[0m 188/188 - 10s - loss: 0.0573 - accuracy: 0.9820 - 10s/epoch - 55ms/step\n",
      "\u001b[2m\u001b[36m(launch_and_fit pid=23354)\u001b[0m 188/188 - 10s - loss: 0.0462 - accuracy: 0.9878 - 10s/epoch - 55ms/step\n"
     ]
    },
    {
     "name": "stderr",
     "output_type": "stream",
     "text": [
      "DEBUG flwr 2023-04-11 21:27:44,680 | server.py:229 | fit_round 13 received 9 results and 0 failures\n",
      "DEBUG:flwr:fit_round 13 received 9 results and 0 failures\n",
      "DEBUG flwr 2023-04-11 21:27:44,724 | server.py:165 | evaluate_round 13: strategy sampled 10 clients (out of 10)\n",
      "DEBUG:flwr:evaluate_round 13: strategy sampled 10 clients (out of 10)\n"
     ]
    },
    {
     "name": "stdout",
     "output_type": "stream",
     "text": [
      "\u001b[2m\u001b[36m(launch_and_fit pid=23355)\u001b[0m 188/188 - 4s - loss: 0.0532 - accuracy: 0.9852 - 4s/epoch - 20ms/step\n",
      "\u001b[2m\u001b[36m(launch_and_evaluate pid=23355)\u001b[0m 32/32 - 1s - loss: 0.0419 - accuracy: 0.9880 - 779ms/epoch - 24ms/step\n",
      "\u001b[2m\u001b[36m(launch_and_evaluate pid=23354)\u001b[0m 32/32 - 1s - loss: 0.0433 - accuracy: 0.9850 - 770ms/epoch - 24ms/step\n",
      "\u001b[2m\u001b[36m(launch_and_evaluate pid=23355)\u001b[0m 32/32 - 1s - loss: 0.0460 - accuracy: 0.9850 - 785ms/epoch - 25ms/step\n",
      "\u001b[2m\u001b[36m(launch_and_evaluate pid=23354)\u001b[0m 32/32 - 1s - loss: 0.0557 - accuracy: 0.9820 - 837ms/epoch - 26ms/step\n",
      "\u001b[2m\u001b[36m(launch_and_evaluate pid=23355)\u001b[0m 32/32 - 1s - loss: 0.0559 - accuracy: 0.9800 - 775ms/epoch - 24ms/step\n",
      "\u001b[2m\u001b[36m(launch_and_evaluate pid=23354)\u001b[0m 32/32 - 1s - loss: 0.0390 - accuracy: 0.9840 - 780ms/epoch - 24ms/step\n",
      "\u001b[2m\u001b[36m(launch_and_evaluate pid=23354)\u001b[0m 32/32 - 1s - loss: 0.0470 - accuracy: 0.9840 - 1s/epoch - 41ms/step\n",
      "\u001b[2m\u001b[36m(launch_and_evaluate pid=23355)\u001b[0m 32/32 - 2s - loss: 0.0517 - accuracy: 0.9820 - 2s/epoch - 48ms/step\n"
     ]
    },
    {
     "name": "stderr",
     "output_type": "stream",
     "text": [
      "DEBUG flwr 2023-04-11 21:27:54,163 | server.py:179 | evaluate_round 13 received 10 results and 0 failures\n",
      "DEBUG:flwr:evaluate_round 13 received 10 results and 0 failures\n",
      "DEBUG flwr 2023-04-11 21:27:54,170 | server.py:215 | fit_round 14: strategy sampled 9 clients (out of 10)\n",
      "DEBUG:flwr:fit_round 14: strategy sampled 9 clients (out of 10)\n"
     ]
    },
    {
     "name": "stdout",
     "output_type": "stream",
     "text": [
      "\u001b[2m\u001b[36m(launch_and_evaluate pid=23355)\u001b[0m 32/32 - 1s - loss: 0.0373 - accuracy: 0.9870 - 1s/epoch - 44ms/step\n",
      "\u001b[2m\u001b[36m(launch_and_evaluate pid=23354)\u001b[0m 32/32 - 1s - loss: 0.0486 - accuracy: 0.9860 - 1s/epoch - 47ms/step\n",
      "\u001b[2m\u001b[36m(launch_and_fit pid=23354)\u001b[0m 188/188 - 8s - loss: 0.0461 - accuracy: 0.9865 - 8s/epoch - 41ms/step\n",
      "\u001b[2m\u001b[36m(launch_and_fit pid=23355)\u001b[0m 188/188 - 8s - loss: 0.0439 - accuracy: 0.9857 - 8s/epoch - 44ms/step\n",
      "\u001b[2m\u001b[36m(launch_and_fit pid=23354)\u001b[0m 188/188 - 10s - loss: 0.0435 - accuracy: 0.9863 - 10s/epoch - 55ms/step\n",
      "\u001b[2m\u001b[36m(launch_and_fit pid=23355)\u001b[0m 188/188 - 11s - loss: 0.0455 - accuracy: 0.9872 - 11s/epoch - 57ms/step\n",
      "\u001b[2m\u001b[36m(launch_and_fit pid=23354)\u001b[0m 188/188 - 7s - loss: 0.0469 - accuracy: 0.9865 - 7s/epoch - 38ms/step\n",
      "\u001b[2m\u001b[36m(launch_and_fit pid=23355)\u001b[0m 188/188 - 7s - loss: 0.0504 - accuracy: 0.9850 - 7s/epoch - 38ms/step\n",
      "\u001b[2m\u001b[36m(launch_and_fit pid=23355)\u001b[0m 188/188 - 10s - loss: 0.0364 - accuracy: 0.9893 - 10s/epoch - 55ms/step\n",
      "\u001b[2m\u001b[36m(launch_and_fit pid=23354)\u001b[0m 188/188 - 11s - loss: 0.0508 - accuracy: 0.9855 - 11s/epoch - 58ms/step\n"
     ]
    },
    {
     "name": "stderr",
     "output_type": "stream",
     "text": [
      "DEBUG flwr 2023-04-11 21:28:38,366 | server.py:229 | fit_round 14 received 9 results and 0 failures\n",
      "DEBUG:flwr:fit_round 14 received 9 results and 0 failures\n",
      "DEBUG flwr 2023-04-11 21:28:38,407 | server.py:165 | evaluate_round 14: strategy sampled 10 clients (out of 10)\n",
      "DEBUG:flwr:evaluate_round 14: strategy sampled 10 clients (out of 10)\n"
     ]
    },
    {
     "name": "stdout",
     "output_type": "stream",
     "text": [
      "\u001b[2m\u001b[36m(launch_and_fit pid=23354)\u001b[0m 188/188 - 4s - loss: 0.0465 - accuracy: 0.9858 - 4s/epoch - 20ms/step\n",
      "\u001b[2m\u001b[36m(launch_and_evaluate pid=23355)\u001b[0m 32/32 - 1s - loss: 0.0444 - accuracy: 0.9860 - 773ms/epoch - 24ms/step\n",
      "\u001b[2m\u001b[36m(launch_and_evaluate pid=23354)\u001b[0m 32/32 - 1s - loss: 0.0297 - accuracy: 0.9900 - 776ms/epoch - 24ms/step\n",
      "\u001b[2m\u001b[36m(launch_and_evaluate pid=23355)\u001b[0m 32/32 - 1s - loss: 0.0560 - accuracy: 0.9810 - 1s/epoch - 37ms/step\n",
      "\u001b[2m\u001b[36m(launch_and_evaluate pid=23354)\u001b[0m 32/32 - 1s - loss: 0.0452 - accuracy: 0.9840 - 1s/epoch - 42ms/step\n",
      "\u001b[2m\u001b[36m(launch_and_evaluate pid=23354)\u001b[0m 32/32 - 1s - loss: 0.0452 - accuracy: 0.9840 - 1s/epoch - 45ms/step\n",
      "\u001b[2m\u001b[36m(launch_and_evaluate pid=23355)\u001b[0m 32/32 - 2s - loss: 0.0274 - accuracy: 0.9930 - 2s/epoch - 52ms/step\n",
      "\u001b[2m\u001b[36m(launch_and_evaluate pid=23355)\u001b[0m 32/32 - 1s - loss: 0.0377 - accuracy: 0.9880 - 1s/epoch - 41ms/step\n",
      "\u001b[2m\u001b[36m(launch_and_evaluate pid=23354)\u001b[0m 32/32 - 1s - loss: 0.0545 - accuracy: 0.9810 - 1s/epoch - 44ms/step\n"
     ]
    },
    {
     "name": "stderr",
     "output_type": "stream",
     "text": [
      "DEBUG flwr 2023-04-11 21:28:49,024 | server.py:179 | evaluate_round 14 received 10 results and 0 failures\n",
      "DEBUG:flwr:evaluate_round 14 received 10 results and 0 failures\n",
      "DEBUG flwr 2023-04-11 21:28:49,035 | server.py:215 | fit_round 15: strategy sampled 9 clients (out of 10)\n",
      "DEBUG:flwr:fit_round 15: strategy sampled 9 clients (out of 10)\n"
     ]
    },
    {
     "name": "stdout",
     "output_type": "stream",
     "text": [
      "\u001b[2m\u001b[36m(launch_and_evaluate pid=23355)\u001b[0m 32/32 - 1s - loss: 0.0282 - accuracy: 0.9910 - 786ms/epoch - 25ms/step\n",
      "\u001b[2m\u001b[36m(launch_and_evaluate pid=23354)\u001b[0m 32/32 - 1s - loss: 0.0345 - accuracy: 0.9860 - 721ms/epoch - 23ms/step\n",
      "\u001b[2m\u001b[36m(launch_and_fit pid=23354)\u001b[0m 188/188 - 7s - loss: 0.0351 - accuracy: 0.9898 - 7s/epoch - 38ms/step\n",
      "\u001b[2m\u001b[36m(launch_and_fit pid=23355)\u001b[0m 188/188 - 7s - loss: 0.0412 - accuracy: 0.9877 - 7s/epoch - 38ms/step\n",
      "\u001b[2m\u001b[36m(launch_and_fit pid=23354)\u001b[0m 188/188 - 10s - loss: 0.0465 - accuracy: 0.9843 - 10s/epoch - 54ms/step\n",
      "\u001b[2m\u001b[36m(launch_and_fit pid=23355)\u001b[0m 188/188 - 10s - loss: 0.0428 - accuracy: 0.9873 - 10s/epoch - 55ms/step\n",
      "\u001b[2m\u001b[36m(launch_and_fit pid=23354)\u001b[0m 188/188 - 8s - loss: 0.0497 - accuracy: 0.9845 - 8s/epoch - 43ms/step\n",
      "\u001b[2m\u001b[36m(launch_and_fit pid=23355)\u001b[0m 188/188 - 8s - loss: 0.0585 - accuracy: 0.9832 - 8s/epoch - 44ms/step\n",
      "\u001b[2m\u001b[36m(launch_and_fit pid=23354)\u001b[0m 188/188 - 9s - loss: 0.0452 - accuracy: 0.9872 - 9s/epoch - 46ms/step\n",
      "\u001b[2m\u001b[36m(launch_and_fit pid=23355)\u001b[0m 188/188 - 9s - loss: 0.0476 - accuracy: 0.9855 - 9s/epoch - 46ms/step\n"
     ]
    },
    {
     "name": "stderr",
     "output_type": "stream",
     "text": [
      "DEBUG flwr 2023-04-11 21:29:31,373 | server.py:229 | fit_round 15 received 9 results and 0 failures\n",
      "DEBUG:flwr:fit_round 15 received 9 results and 0 failures\n",
      "DEBUG flwr 2023-04-11 21:29:31,411 | server.py:165 | evaluate_round 15: strategy sampled 10 clients (out of 10)\n",
      "DEBUG:flwr:evaluate_round 15: strategy sampled 10 clients (out of 10)\n"
     ]
    },
    {
     "name": "stdout",
     "output_type": "stream",
     "text": [
      "\u001b[2m\u001b[36m(launch_and_fit pid=23354)\u001b[0m 188/188 - 4s - loss: 0.0496 - accuracy: 0.9860 - 4s/epoch - 20ms/step\n",
      "\u001b[2m\u001b[36m(launch_and_evaluate pid=23355)\u001b[0m 32/32 - 1s - loss: 0.0427 - accuracy: 0.9880 - 1s/epoch - 42ms/step\n",
      "\u001b[2m\u001b[36m(launch_and_evaluate pid=23354)\u001b[0m 32/32 - 2s - loss: 0.0335 - accuracy: 0.9890 - 2s/epoch - 49ms/step\n",
      "\u001b[2m\u001b[36m(launch_and_evaluate pid=23355)\u001b[0m 32/32 - 1s - loss: 0.0457 - accuracy: 0.9840 - 1s/epoch - 40ms/step\n",
      "\u001b[2m\u001b[36m(launch_and_evaluate pid=23354)\u001b[0m 32/32 - 1s - loss: 0.0608 - accuracy: 0.9810 - 1s/epoch - 44ms/step\n",
      "\u001b[2m\u001b[36m(launch_and_evaluate pid=23355)\u001b[0m 32/32 - 1s - loss: 0.0313 - accuracy: 0.9870 - 1s/epoch - 33ms/step\n",
      "\u001b[2m\u001b[36m(launch_and_evaluate pid=23354)\u001b[0m 32/32 - 1s - loss: 0.0379 - accuracy: 0.9890 - 898ms/epoch - 28ms/step\n",
      "\u001b[2m\u001b[36m(launch_and_evaluate pid=23355)\u001b[0m 32/32 - 1s - loss: 0.0476 - accuracy: 0.9850 - 761ms/epoch - 24ms/step\n",
      "\u001b[2m\u001b[36m(launch_and_evaluate pid=23354)\u001b[0m 32/32 - 1s - loss: 0.0279 - accuracy: 0.9930 - 750ms/epoch - 23ms/step\n"
     ]
    },
    {
     "name": "stderr",
     "output_type": "stream",
     "text": [
      "DEBUG flwr 2023-04-11 21:29:41,993 | server.py:179 | evaluate_round 15 received 10 results and 0 failures\n",
      "DEBUG:flwr:evaluate_round 15 received 10 results and 0 failures\n",
      "DEBUG flwr 2023-04-11 21:29:42,004 | server.py:215 | fit_round 16: strategy sampled 9 clients (out of 10)\n",
      "DEBUG:flwr:fit_round 16: strategy sampled 9 clients (out of 10)\n"
     ]
    },
    {
     "name": "stdout",
     "output_type": "stream",
     "text": [
      "\u001b[2m\u001b[36m(launch_and_evaluate pid=23355)\u001b[0m 32/32 - 1s - loss: 0.0350 - accuracy: 0.9860 - 795ms/epoch - 25ms/step\n",
      "\u001b[2m\u001b[36m(launch_and_evaluate pid=23354)\u001b[0m 32/32 - 1s - loss: 0.0442 - accuracy: 0.9830 - 817ms/epoch - 26ms/step\n",
      "\u001b[2m\u001b[36m(launch_and_fit pid=23355)\u001b[0m 188/188 - 8s - loss: 0.0465 - accuracy: 0.9877 - 8s/epoch - 45ms/step\n",
      "\u001b[2m\u001b[36m(launch_and_fit pid=23354)\u001b[0m 188/188 - 8s - loss: 0.0343 - accuracy: 0.9897 - 8s/epoch - 45ms/step\n",
      "\u001b[2m\u001b[36m(launch_and_fit pid=23355)\u001b[0m 188/188 - 8s - loss: 0.0440 - accuracy: 0.9873 - 8s/epoch - 45ms/step\n",
      "\u001b[2m\u001b[36m(launch_and_fit pid=23354)\u001b[0m 188/188 - 9s - loss: 0.0497 - accuracy: 0.9842 - 9s/epoch - 46ms/step\n",
      "\u001b[2m\u001b[36m(launch_and_fit pid=23355)\u001b[0m 188/188 - 10s - loss: 0.0413 - accuracy: 0.9865 - 10s/epoch - 52ms/step\n",
      "\u001b[2m\u001b[36m(launch_and_fit pid=23354)\u001b[0m 188/188 - 10s - loss: 0.0363 - accuracy: 0.9892 - 10s/epoch - 53ms/step\n",
      "\u001b[2m\u001b[36m(launch_and_fit pid=23355)\u001b[0m 188/188 - 7s - loss: 0.0392 - accuracy: 0.9892 - 7s/epoch - 37ms/step\n",
      "\u001b[2m\u001b[36m(launch_and_fit pid=23354)\u001b[0m 188/188 - 7s - loss: 0.0429 - accuracy: 0.9877 - 7s/epoch - 37ms/step\n"
     ]
    },
    {
     "name": "stderr",
     "output_type": "stream",
     "text": [
      "DEBUG flwr 2023-04-11 21:30:26,525 | server.py:229 | fit_round 16 received 9 results and 0 failures\n",
      "DEBUG:flwr:fit_round 16 received 9 results and 0 failures\n",
      "DEBUG flwr 2023-04-11 21:30:26,585 | server.py:165 | evaluate_round 16: strategy sampled 10 clients (out of 10)\n",
      "DEBUG:flwr:evaluate_round 16: strategy sampled 10 clients (out of 10)\n"
     ]
    },
    {
     "name": "stdout",
     "output_type": "stream",
     "text": [
      "\u001b[2m\u001b[36m(launch_and_fit pid=23355)\u001b[0m 188/188 - 6s - loss: 0.0441 - accuracy: 0.9870 - 6s/epoch - 32ms/step\n",
      "\u001b[2m\u001b[36m(launch_and_evaluate pid=23354)\u001b[0m 32/32 - 1s - loss: 0.0276 - accuracy: 0.9910 - 1s/epoch - 42ms/step\n",
      "\u001b[2m\u001b[36m(launch_and_evaluate pid=23355)\u001b[0m 32/32 - 1s - loss: 0.0391 - accuracy: 0.9890 - 1s/epoch - 45ms/step\n",
      "\u001b[2m\u001b[36m(launch_and_evaluate pid=23354)\u001b[0m 32/32 - 1s - loss: 0.0373 - accuracy: 0.9870 - 807ms/epoch - 25ms/step\n",
      "\u001b[2m\u001b[36m(launch_and_evaluate pid=23355)\u001b[0m 32/32 - 1s - loss: 0.0318 - accuracy: 0.9910 - 848ms/epoch - 27ms/step\n",
      "\u001b[2m\u001b[36m(launch_and_evaluate pid=23354)\u001b[0m 32/32 - 1s - loss: 0.0361 - accuracy: 0.9860 - 782ms/epoch - 24ms/step\n",
      "\u001b[2m\u001b[36m(launch_and_evaluate pid=23355)\u001b[0m 32/32 - 1s - loss: 0.0662 - accuracy: 0.9820 - 782ms/epoch - 24ms/step\n",
      "\u001b[2m\u001b[36m(launch_and_evaluate pid=23354)\u001b[0m 32/32 - 1s - loss: 0.0407 - accuracy: 0.9840 - 786ms/epoch - 25ms/step\n",
      "\u001b[2m\u001b[36m(launch_and_evaluate pid=23355)\u001b[0m 32/32 - 1s - loss: 0.0481 - accuracy: 0.9860 - 855ms/epoch - 27ms/step\n"
     ]
    },
    {
     "name": "stderr",
     "output_type": "stream",
     "text": [
      "DEBUG flwr 2023-04-11 21:30:35,318 | server.py:179 | evaluate_round 16 received 10 results and 0 failures\n",
      "DEBUG:flwr:evaluate_round 16 received 10 results and 0 failures\n",
      "DEBUG flwr 2023-04-11 21:30:35,323 | server.py:215 | fit_round 17: strategy sampled 9 clients (out of 10)\n",
      "DEBUG:flwr:fit_round 17: strategy sampled 9 clients (out of 10)\n"
     ]
    },
    {
     "name": "stdout",
     "output_type": "stream",
     "text": [
      "\u001b[2m\u001b[36m(launch_and_evaluate pid=23354)\u001b[0m 32/32 - 1s - loss: 0.0613 - accuracy: 0.9750 - 778ms/epoch - 24ms/step\n",
      "\u001b[2m\u001b[36m(launch_and_evaluate pid=23355)\u001b[0m 32/32 - 1s - loss: 0.0369 - accuracy: 0.9870 - 683ms/epoch - 21ms/step\n",
      "\u001b[2m\u001b[36m(launch_and_fit pid=23355)\u001b[0m 188/188 - 10s - loss: 0.0435 - accuracy: 0.9862 - 10s/epoch - 55ms/step\n",
      "\u001b[2m\u001b[36m(launch_and_fit pid=23354)\u001b[0m 188/188 - 11s - loss: 0.0416 - accuracy: 0.9865 - 11s/epoch - 59ms/step\n",
      "\u001b[2m\u001b[36m(launch_and_fit pid=23355)\u001b[0m 188/188 - 7s - loss: 0.0370 - accuracy: 0.9887 - 7s/epoch - 38ms/step\n",
      "\u001b[2m\u001b[36m(launch_and_fit pid=23354)\u001b[0m 188/188 - 7s - loss: 0.0462 - accuracy: 0.9888 - 7s/epoch - 38ms/step\n",
      "\u001b[2m\u001b[36m(launch_and_fit pid=23355)\u001b[0m 188/188 - 10s - loss: 0.0493 - accuracy: 0.9872 - 10s/epoch - 55ms/step\n",
      "\u001b[2m\u001b[36m(launch_and_fit pid=23354)\u001b[0m 188/188 - 10s - loss: 0.0389 - accuracy: 0.9895 - 10s/epoch - 55ms/step\n",
      "\u001b[2m\u001b[36m(launch_and_fit pid=23355)\u001b[0m 188/188 - 7s - loss: 0.0422 - accuracy: 0.9868 - 7s/epoch - 38ms/step\n",
      "\u001b[2m\u001b[36m(launch_and_fit pid=23354)\u001b[0m 188/188 - 7s - loss: 0.0411 - accuracy: 0.9887 - 7s/epoch - 39ms/step\n"
     ]
    },
    {
     "name": "stderr",
     "output_type": "stream",
     "text": [
      "DEBUG flwr 2023-04-11 21:31:20,594 | server.py:229 | fit_round 17 received 9 results and 0 failures\n",
      "DEBUG:flwr:fit_round 17 received 9 results and 0 failures\n",
      "DEBUG flwr 2023-04-11 21:31:20,640 | server.py:165 | evaluate_round 17: strategy sampled 10 clients (out of 10)\n",
      "DEBUG:flwr:evaluate_round 17: strategy sampled 10 clients (out of 10)\n"
     ]
    },
    {
     "name": "stdout",
     "output_type": "stream",
     "text": [
      "\u001b[2m\u001b[36m(launch_and_fit pid=23355)\u001b[0m 188/188 - 6s - loss: 0.0418 - accuracy: 0.9870 - 6s/epoch - 33ms/step\n",
      "\u001b[2m\u001b[36m(launch_and_evaluate pid=23355)\u001b[0m 32/32 - 1s - loss: 0.0513 - accuracy: 0.9840 - 782ms/epoch - 24ms/step\n",
      "\u001b[2m\u001b[36m(launch_and_evaluate pid=23354)\u001b[0m 32/32 - 1s - loss: 0.0397 - accuracy: 0.9840 - 817ms/epoch - 26ms/step\n",
      "\u001b[2m\u001b[36m(launch_and_evaluate pid=23355)\u001b[0m 32/32 - 1s - loss: 0.0501 - accuracy: 0.9850 - 793ms/epoch - 25ms/step\n",
      "\u001b[2m\u001b[36m(launch_and_evaluate pid=23354)\u001b[0m 32/32 - 1s - loss: 0.0456 - accuracy: 0.9840 - 780ms/epoch - 24ms/step\n",
      "\u001b[2m\u001b[36m(launch_and_evaluate pid=23355)\u001b[0m 32/32 - 1s - loss: 0.0441 - accuracy: 0.9850 - 755ms/epoch - 24ms/step\n",
      "\u001b[2m\u001b[36m(launch_and_evaluate pid=23354)\u001b[0m 32/32 - 1s - loss: 0.0603 - accuracy: 0.9790 - 874ms/epoch - 27ms/step\n",
      "\u001b[2m\u001b[36m(launch_and_evaluate pid=23355)\u001b[0m 32/32 - 1s - loss: 0.0444 - accuracy: 0.9810 - 780ms/epoch - 24ms/step\n",
      "\u001b[2m\u001b[36m(launch_and_evaluate pid=23354)\u001b[0m 32/32 - 1s - loss: 0.0529 - accuracy: 0.9820 - 812ms/epoch - 25ms/step\n"
     ]
    },
    {
     "name": "stderr",
     "output_type": "stream",
     "text": [
      "DEBUG flwr 2023-04-11 21:31:28,200 | server.py:179 | evaluate_round 17 received 10 results and 0 failures\n",
      "DEBUG:flwr:evaluate_round 17 received 10 results and 0 failures\n",
      "DEBUG flwr 2023-04-11 21:31:28,207 | server.py:215 | fit_round 18: strategy sampled 9 clients (out of 10)\n",
      "DEBUG:flwr:fit_round 18: strategy sampled 9 clients (out of 10)\n"
     ]
    },
    {
     "name": "stdout",
     "output_type": "stream",
     "text": [
      "\u001b[2m\u001b[36m(launch_and_evaluate pid=23355)\u001b[0m 32/32 - 1s - loss: 0.0303 - accuracy: 0.9900 - 832ms/epoch - 26ms/step\n",
      "\u001b[2m\u001b[36m(launch_and_evaluate pid=23354)\u001b[0m 32/32 - 1s - loss: 0.0319 - accuracy: 0.9930 - 644ms/epoch - 20ms/step\n",
      "\u001b[2m\u001b[36m(launch_and_fit pid=23355)\u001b[0m 188/188 - 10s - loss: 0.0331 - accuracy: 0.9902 - 10s/epoch - 55ms/step\n",
      "\u001b[2m\u001b[36m(launch_and_fit pid=23354)\u001b[0m 188/188 - 10s - loss: 0.0306 - accuracy: 0.9925 - 10s/epoch - 55ms/step\n",
      "\u001b[2m\u001b[36m(launch_and_fit pid=23355)\u001b[0m 188/188 - 7s - loss: 0.0387 - accuracy: 0.9887 - 7s/epoch - 40ms/step\n",
      "\u001b[2m\u001b[36m(launch_and_fit pid=23354)\u001b[0m 188/188 - 8s - loss: 0.0384 - accuracy: 0.9883 - 8s/epoch - 40ms/step\n",
      "\u001b[2m\u001b[36m(launch_and_fit pid=23354)\u001b[0m 188/188 - 9s - loss: 0.0368 - accuracy: 0.9888 - 9s/epoch - 48ms/step\n",
      "\u001b[2m\u001b[36m(launch_and_fit pid=23355)\u001b[0m 188/188 - 9s - loss: 0.0340 - accuracy: 0.9905 - 9s/epoch - 50ms/step\n",
      "\u001b[2m\u001b[36m(launch_and_fit pid=23354)\u001b[0m 188/188 - 9s - loss: 0.0352 - accuracy: 0.9888 - 9s/epoch - 50ms/step\n",
      "\u001b[2m\u001b[36m(launch_and_fit pid=23355)\u001b[0m 188/188 - 9s - loss: 0.0387 - accuracy: 0.9888 - 9s/epoch - 49ms/step\n"
     ]
    },
    {
     "name": "stderr",
     "output_type": "stream",
     "text": [
      "DEBUG flwr 2023-04-11 21:32:13,197 | server.py:229 | fit_round 18 received 9 results and 0 failures\n",
      "DEBUG:flwr:fit_round 18 received 9 results and 0 failures\n",
      "DEBUG flwr 2023-04-11 21:32:13,235 | server.py:165 | evaluate_round 18: strategy sampled 10 clients (out of 10)\n",
      "DEBUG:flwr:evaluate_round 18: strategy sampled 10 clients (out of 10)\n"
     ]
    },
    {
     "name": "stdout",
     "output_type": "stream",
     "text": [
      "\u001b[2m\u001b[36m(launch_and_fit pid=23354)\u001b[0m 188/188 - 4s - loss: 0.0357 - accuracy: 0.9877 - 4s/epoch - 22ms/step\n",
      "\u001b[2m\u001b[36m(launch_and_evaluate pid=23354)\u001b[0m 32/32 - 1s - loss: 0.0432 - accuracy: 0.9870 - 766ms/epoch - 24ms/step\n",
      "\u001b[2m\u001b[36m(launch_and_evaluate pid=23355)\u001b[0m 32/32 - 1s - loss: 0.0418 - accuracy: 0.9850 - 837ms/epoch - 26ms/step\n",
      "\u001b[2m\u001b[36m(launch_and_evaluate pid=23354)\u001b[0m 32/32 - 1s - loss: 0.0437 - accuracy: 0.9840 - 738ms/epoch - 23ms/step\n",
      "\u001b[2m\u001b[36m(launch_and_evaluate pid=23355)\u001b[0m 32/32 - 1s - loss: 0.0291 - accuracy: 0.9890 - 781ms/epoch - 24ms/step\n",
      "\u001b[2m\u001b[36m(launch_and_evaluate pid=23354)\u001b[0m 32/32 - 1s - loss: 0.0284 - accuracy: 0.9910 - 813ms/epoch - 25ms/step\n",
      "\u001b[2m\u001b[36m(launch_and_evaluate pid=23355)\u001b[0m 32/32 - 1s - loss: 0.0292 - accuracy: 0.9890 - 765ms/epoch - 24ms/step\n",
      "\u001b[2m\u001b[36m(launch_and_evaluate pid=23354)\u001b[0m 32/32 - 1s - loss: 0.0471 - accuracy: 0.9820 - 754ms/epoch - 24ms/step\n",
      "\u001b[2m\u001b[36m(launch_and_evaluate pid=23355)\u001b[0m 32/32 - 1s - loss: 0.0512 - accuracy: 0.9770 - 771ms/epoch - 24ms/step\n"
     ]
    },
    {
     "name": "stderr",
     "output_type": "stream",
     "text": [
      "DEBUG flwr 2023-04-11 21:32:20,939 | server.py:179 | evaluate_round 18 received 10 results and 0 failures\n",
      "DEBUG:flwr:evaluate_round 18 received 10 results and 0 failures\n",
      "DEBUG flwr 2023-04-11 21:32:20,945 | server.py:215 | fit_round 19: strategy sampled 9 clients (out of 10)\n",
      "DEBUG:flwr:fit_round 19: strategy sampled 9 clients (out of 10)\n"
     ]
    },
    {
     "name": "stdout",
     "output_type": "stream",
     "text": [
      "\u001b[2m\u001b[36m(launch_and_evaluate pid=23354)\u001b[0m 32/32 - 1s - loss: 0.0347 - accuracy: 0.9890 - 1s/epoch - 32ms/step\n",
      "\u001b[2m\u001b[36m(launch_and_evaluate pid=23355)\u001b[0m 32/32 - 1s - loss: 0.0385 - accuracy: 0.9860 - 1s/epoch - 34ms/step\n",
      "\u001b[2m\u001b[36m(launch_and_fit pid=23355)\u001b[0m 188/188 - 9s - loss: 0.0313 - accuracy: 0.9900 - 9s/epoch - 49ms/step\n",
      "\u001b[2m\u001b[36m(launch_and_fit pid=23354)\u001b[0m 188/188 - 9s - loss: 0.0375 - accuracy: 0.9892 - 9s/epoch - 49ms/step\n",
      "\u001b[2m\u001b[36m(launch_and_fit pid=23354)\u001b[0m 188/188 - 9s - loss: 0.0437 - accuracy: 0.9863 - 9s/epoch - 48ms/step\n",
      "\u001b[2m\u001b[36m(launch_and_fit pid=23355)\u001b[0m 188/188 - 10s - loss: 0.0345 - accuracy: 0.9887 - 10s/epoch - 53ms/step\n",
      "\u001b[2m\u001b[36m(launch_and_fit pid=23354)\u001b[0m 188/188 - 8s - loss: 0.0316 - accuracy: 0.9903 - 8s/epoch - 41ms/step\n",
      "\u001b[2m\u001b[36m(launch_and_fit pid=23355)\u001b[0m 188/188 - 7s - loss: 0.0369 - accuracy: 0.9893 - 7s/epoch - 39ms/step\n",
      "\u001b[2m\u001b[36m(launch_and_fit pid=23354)\u001b[0m 188/188 - 10s - loss: 0.0400 - accuracy: 0.9882 - 10s/epoch - 55ms/step\n",
      "\u001b[2m\u001b[36m(launch_and_fit pid=23355)\u001b[0m 188/188 - 10s - loss: 0.0374 - accuracy: 0.9880 - 10s/epoch - 55ms/step\n"
     ]
    },
    {
     "name": "stderr",
     "output_type": "stream",
     "text": [
      "DEBUG flwr 2023-04-11 21:33:06,897 | server.py:229 | fit_round 19 received 9 results and 0 failures\n"
     ]
    }
   ],
   "source": [
    "history20 = fl.simulation.start_simulation(\n",
    "    client_fn=client_fn_random,\n",
    "    num_clients=num_clients,\n",
    "    config=fl.server.ServerConfig(num_rounds=20),\n",
    "    strategy=strategy,\n",
    ")"
   ]
  },
  {
   "cell_type": "code",
   "execution_count": null,
   "metadata": {
    "id": "sMbYbQ7NGQyk"
   },
   "outputs": [],
   "source": [
    "plt.plot(*zip(*history20.metrics_distributed['accuracy']))\n",
    "plt.xlabel(\"Rounds\")\n",
    "plt.ylabel(\"Accuracy\")\n",
    "plt.show()"
   ]
  },
  {
   "cell_type": "markdown",
   "metadata": {
    "id": "NjhS4hFxPoBt"
   },
   "source": [
    "**Atividade 2** \n",
    "\n",
    "Fizemos o aprendizado federado mediado por uma simulação, mas em um cenário real teríamos processos clientes, representando os treinadores, sendo executados em várias máquinas independentes, conectadas a um processo servidor (agregador) pela rede ou pela Internet, por exemplo. \n",
    "\n",
    "Como tarefa para casa deve-se  realizar o aprendizado federado de uma maneira mais próxima da realidade, usando processos diferentes para rodar os clientes e o servidor. \n",
    "\n",
    "Para isso será necessário criar 2 programas python, o *client.py* e o *server.py*: \n",
    "\n",
    "\n",
    "*   O *client.py* deve implementar uma classe que herda a classe  *NumpyClient*, fornecida pela biblioteca flower, instanciar um objeto dessa classe e se conectar ao servidor;\n",
    "*   O *server.py* deve configurar um servidor de aprendizado federado usando um objeto *strategy* e um objeto *serverConfigserverConfig*. Em seguida deve-se iniciar o servidor para realizar o aprendizado com (no mínimo) 5 clientes.\n",
    "\n",
    "O *server.py* e o *client.py* devem ser executados em terminais próprios. Isto é, deve se usar um minimo de  6 terminais na solução dessa tarefa: um para o  servidor e um para cada cliente (5 no mínimo). \n",
    "\n",
    "Ao final, plotar a acurácia para 2,5, 10, 20 e 40 *rounds* como a quantidade de clientes definida por você (mínimo  5).\n",
    "\n"
   ]
  },
  {
   "cell_type": "markdown",
   "metadata": {
    "id": "06-xKYJVd_t-"
   },
   "source": [
    "Dicas:\n",
    "\n",
    "\n",
    "\n",
    "*   Não é necessário utilizar várias máquinas para isso;\n",
    "\n",
    "*    Nesta atividade podemos emular uma rede por meio da interface de rede *localhost* (IP: 127.0.0.1) onde os processos treinadores e servidores podem ser executados em terminais Linux separados conectando-se pelo endereço IP 127.0.0.1;\n",
    "*   Como referência, usem a [documentação da biblioteca *flower*](https://flower.dev/docs/) na Seção QuickStart tutorials: tensorflow\n",
    "\n"
   ]
  },
  {
   "cell_type": "markdown",
   "metadata": {
    "id": "DhW_2IZKVy15"
   },
   "source": [
    "**Atividade 3**\\\n",
    "**Obrigatória apenas para a pós-graduação** \n",
    "\n",
    "Usamos até agora uma rede neural convolucional para gerar o modelo treinado, tanto localmente como de maneira federada, mas o treinamento federado pode ser realizado (teoricamente) com qualquer classe de rede neural. \n",
    "\n",
    "Nesta atividade vocês deverão definir pelo menos 2 redes neurais não convolucionais para resolver o problema de classificação de dígitos com o *dataset mnist* e comparar os resultados do treinamento local e federado para essas redes.\n",
    "\n",
    "Dicas:\n",
    "\n",
    "\n",
    "*   O treinamento federado pode ser feito tanto por simulação, como este laboratório, ou com os programas *client.py* e *server.py* feitos na atividade anterior.\n",
    "\n",
    "\n"
   ]
  }
 ],
 "metadata": {
  "colab": {
   "provenance": []
  },
  "kernelspec": {
   "display_name": "Python 3 (ipykernel)",
   "language": "python",
   "name": "python3"
  },
  "language_info": {
   "codemirror_mode": {
    "name": "ipython",
    "version": 3
   },
   "file_extension": ".py",
   "mimetype": "text/x-python",
   "name": "python",
   "nbconvert_exporter": "python",
   "pygments_lexer": "ipython3",
   "version": "3.9.2"
  }
 },
 "nbformat": 4,
 "nbformat_minor": 1
}
