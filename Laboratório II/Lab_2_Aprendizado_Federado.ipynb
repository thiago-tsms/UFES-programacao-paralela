{
 "cells": [
  {
   "cell_type": "markdown",
   "metadata": {
    "id": "nGCwhCOx_9BR"
   },
   "source": [
    "<h1><center>Sistemas Distribuídos – 2023/1\n",
    "\n",
    "Prof. Rodolfo da Silva Villaça – rodolfo.villaca@ufes.br \\\\\n",
    "Monitor: Eduardo M. Moraes Sarmento – eduardo.sarmento@ufes.br\n",
    "\n",
    "Laboratório II – Aprendizado Federado usando a biblioteca Flower</h1></center>"
   ]
  },
  {
   "cell_type": "markdown",
   "metadata": {
    "id": "HfbB0PxwAq-q"
   },
   "source": [
    "<u>Objetivo</u>:\\\n",
    "Experimentar o treinamento de modelos de aprendizado de máquina por meio do *framework* de aprendizado *flwr*, disponível na biblioteca *flower* Comparar os resultados atingidos pelo modelo treinado de maneira local e federada."
   ]
  },
  {
   "cell_type": "markdown",
   "metadata": {
    "id": "Uh8VLSKIFsFV"
   },
   "source": [
    "Este roteiro de laboratório foi testado usando o [Google Colab](https://colab.research.google.com/), ambiente de desenvolvimento colaborativo Python disponibilizado pelo Google como um serviço em nuvem.\\\n",
    "\\\n",
    "Para a execução do código deste roteiro são necessárias as bibliotecas *tensorflow* (versão 2.12.0), *numpy* (versão 1.22.4), *ray* (versão 2.2.0), *matplotlib* (versão 3.7.1) e *flower* (versão 1.3.0). As quatro primeiras já vem instaladas no **Google Colab**,. ntão, caso esteja executando por ele, não é necessária sua instalação. A biblioteca flower não vem instalada,  então precisamos instalá-la, e também o seu módulo de simulação, para podermos simular o treinamento federado no *notebook*."
   ]
  },
  {
   "cell_type": "markdown",
   "metadata": {
    "id": "CzNS6Vh14t8O"
   },
   "source": [
    "A célula seguinte executa a instalação de todas as bibliotecas necessárias. Caso esteja fora do Colab, é preciso descomentar as linhas de 3 a 5."
   ]
  },
  {
   "cell_type": "code",
   "execution_count": 1,
   "metadata": {
    "colab": {
     "base_uri": "https://localhost:8080/"
    },
    "id": "ZR5l58I7JhXc",
    "outputId": "02a37624-9f29-4452-8c44-205fe8cb714a",
    "scrolled": false
   },
   "outputs": [
    {
     "name": "stdout",
     "output_type": "stream",
     "text": [
      "Collecting flwr==1.3.0\n",
      "  Downloading flwr-1.3.0-py3-none-any.whl (139 kB)\n",
      "\u001b[K     |████████████████████████████████| 139 kB 659 kB/s eta 0:00:01\n",
      "\u001b[?25hCollecting iterators<0.0.3,>=0.0.2\n",
      "  Downloading iterators-0.0.2-py3-none-any.whl (3.9 kB)\n",
      "Requirement already satisfied: grpcio!=1.52.0,<2.0.0,>=1.43.0 in ./.venv/lib/python3.9/site-packages (from flwr==1.3.0) (1.53.0)\n",
      "Requirement already satisfied: numpy<2.0.0,>=1.21.0 in ./.venv/lib/python3.9/site-packages (from flwr==1.3.0) (1.23.5)\n",
      "Collecting protobuf<4.0.0,>=3.19.0\n",
      "  Downloading protobuf-3.20.3-cp39-cp39-manylinux_2_5_x86_64.manylinux1_x86_64.whl (1.0 MB)\n",
      "\u001b[K     |████████████████████████████████| 1.0 MB 1.5 MB/s eta 0:00:01\n",
      "\u001b[?25hInstalling collected packages: protobuf, iterators, flwr\n",
      "  Attempting uninstall: protobuf\n",
      "    Found existing installation: protobuf 4.22.3\n",
      "    Uninstalling protobuf-4.22.3:\n",
      "      Successfully uninstalled protobuf-4.22.3\n",
      "Successfully installed flwr-1.3.0 iterators-0.0.2 protobuf-3.20.3\n",
      "Requirement already satisfied: flwr[simulation] in ./.venv/lib/python3.9/site-packages (1.3.0)\n",
      "Collecting flwr[simulation]\n",
      "  Using cached flwr-1.3.0-py3-none-any.whl (139 kB)\n",
      "  Downloading flwr-1.2.0-py3-none-any.whl (133 kB)\n",
      "\u001b[K     |████████████████████████████████| 133 kB 1.7 MB/s eta 0:00:01\n",
      "\u001b[?25hRequirement already satisfied: protobuf<4.0.0,>=3.19.0 in ./.venv/lib/python3.9/site-packages (from flwr[simulation]) (3.20.3)\n",
      "Requirement already satisfied: numpy<2.0.0,>=1.21.0 in ./.venv/lib/python3.9/site-packages (from flwr[simulation]) (1.23.5)\n",
      "Requirement already satisfied: grpcio!=1.52.0,<2.0.0,>=1.43.0 in ./.venv/lib/python3.9/site-packages (from flwr[simulation]) (1.53.0)\n",
      "Requirement already satisfied: iterators<0.0.3,>=0.0.2 in ./.venv/lib/python3.9/site-packages (from flwr[simulation]) (0.0.2)\n",
      "Collecting ray[default]<2.3.0,>=2.2.0\n",
      "  Downloading ray-2.2.0-cp39-cp39-manylinux2014_x86_64.whl (57.4 MB)\n",
      "\u001b[K     |████████████████████████████████| 57.4 MB 3.6 MB/s eta 0:00:01\n",
      "\u001b[?25hRequirement already satisfied: filelock in ./.venv/lib/python3.9/site-packages (from ray[default]<2.3.0,>=2.2.0->flwr[simulation]) (3.11.0)\n",
      "Requirement already satisfied: click>=7.0 in ./.venv/lib/python3.9/site-packages (from ray[default]<2.3.0,>=2.2.0->flwr[simulation]) (8.1.3)\n",
      "Requirement already satisfied: aiosignal in ./.venv/lib/python3.9/site-packages (from ray[default]<2.3.0,>=2.2.0->flwr[simulation]) (1.3.1)\n",
      "Requirement already satisfied: msgpack<2.0.0,>=1.0.0 in ./.venv/lib/python3.9/site-packages (from ray[default]<2.3.0,>=2.2.0->flwr[simulation]) (1.0.5)\n",
      "Requirement already satisfied: requests in ./.venv/lib/python3.9/site-packages (from ray[default]<2.3.0,>=2.2.0->flwr[simulation]) (2.28.2)\n",
      "Requirement already satisfied: virtualenv>=20.0.24 in ./.venv/lib/python3.9/site-packages (from ray[default]<2.3.0,>=2.2.0->flwr[simulation]) (20.21.0)\n",
      "Requirement already satisfied: attrs in ./.venv/lib/python3.9/site-packages (from ray[default]<2.3.0,>=2.2.0->flwr[simulation]) (23.1.0)\n",
      "Requirement already satisfied: frozenlist in ./.venv/lib/python3.9/site-packages (from ray[default]<2.3.0,>=2.2.0->flwr[simulation]) (1.3.3)\n",
      "Requirement already satisfied: jsonschema in ./.venv/lib/python3.9/site-packages (from ray[default]<2.3.0,>=2.2.0->flwr[simulation]) (4.17.3)\n",
      "Requirement already satisfied: pyyaml in ./.venv/lib/python3.9/site-packages (from ray[default]<2.3.0,>=2.2.0->flwr[simulation]) (6.0)\n",
      "Collecting aiohttp-cors\n",
      "  Downloading aiohttp_cors-0.7.0-py3-none-any.whl (27 kB)\n",
      "Collecting colorful\n",
      "  Downloading colorful-0.5.5-py2.py3-none-any.whl (201 kB)\n",
      "\u001b[K     |████████████████████████████████| 201 kB 2.6 MB/s eta 0:00:01\n",
      "\u001b[?25hCollecting prometheus-client<0.14.0,>=0.7.1\n",
      "  Downloading prometheus_client-0.13.1-py3-none-any.whl (57 kB)\n",
      "\u001b[K     |████████████████████████████████| 57 kB 3.0 MB/s eta 0:00:01\n",
      "\u001b[?25hCollecting gpustat>=1.0.0\n",
      "  Downloading gpustat-1.1.tar.gz (97 kB)\n",
      "\u001b[K     |████████████████████████████████| 97 kB 2.7 MB/s eta 0:00:01\n",
      "\u001b[?25h  Installing build dependencies ... \u001b[?25ldone\n",
      "\u001b[?25h  Getting requirements to build wheel ... \u001b[?25ldone\n",
      "\u001b[?25h    Preparing wheel metadata ... \u001b[?25ldone\n",
      "\u001b[?25hCollecting smart-open\n",
      "  Downloading smart_open-6.3.0-py3-none-any.whl (56 kB)\n",
      "\u001b[K     |████████████████████████████████| 56 kB 3.0 MB/s eta 0:00:01\n",
      "\u001b[?25hCollecting opencensus\n",
      "  Downloading opencensus-0.11.2-py2.py3-none-any.whl (128 kB)\n",
      "\u001b[K     |████████████████████████████████| 128 kB 3.1 MB/s eta 0:00:01\n",
      "\u001b[?25hCollecting aiohttp>=3.7\n",
      "  Downloading aiohttp-3.8.4-cp39-cp39-manylinux_2_17_x86_64.manylinux2014_x86_64.whl (1.0 MB)\n",
      "\u001b[K     |████████████████████████████████| 1.0 MB 3.1 MB/s eta 0:00:01\n",
      "\u001b[?25hCollecting pydantic\n",
      "  Downloading pydantic-1.10.7-cp39-cp39-manylinux_2_17_x86_64.manylinux2014_x86_64.whl (3.2 MB)\n",
      "\u001b[K     |████████████████████████████████| 3.2 MB 2.5 MB/s eta 0:00:01\n",
      "\u001b[?25hCollecting py-spy>=0.2.0\n",
      "  Downloading py_spy-0.3.14-py2.py3-none-manylinux_2_5_x86_64.manylinux1_x86_64.whl (3.0 MB)\n",
      "\u001b[K     |████████████████████████████████| 3.0 MB 2.6 MB/s eta 0:00:01\n",
      "\u001b[?25hCollecting yarl<2.0,>=1.0\n",
      "  Downloading yarl-1.8.2-cp39-cp39-manylinux_2_17_x86_64.manylinux2014_x86_64.whl (264 kB)\n",
      "\u001b[K     |████████████████████████████████| 264 kB 2.8 MB/s eta 0:00:01\n",
      "\u001b[?25hRequirement already satisfied: charset-normalizer<4.0,>=2.0 in ./.venv/lib/python3.9/site-packages (from aiohttp>=3.7->ray[default]<2.3.0,>=2.2.0->flwr[simulation]) (3.1.0)\n",
      "Collecting async-timeout<5.0,>=4.0.0a3\n",
      "  Downloading async_timeout-4.0.2-py3-none-any.whl (5.8 kB)\n",
      "Collecting multidict<7.0,>=4.5\n",
      "  Downloading multidict-6.0.4-cp39-cp39-manylinux_2_17_x86_64.manylinux2014_x86_64.whl (114 kB)\n",
      "\u001b[K     |████████████████████████████████| 114 kB 3.7 MB/s eta 0:00:01\n",
      "\u001b[?25hRequirement already satisfied: psutil>=5.6.0 in ./.venv/lib/python3.9/site-packages (from gpustat>=1.0.0->ray[default]<2.3.0,>=2.2.0->flwr[simulation]) (5.9.4)\n",
      "Collecting nvidia-ml-py>=11.450.129\n",
      "  Downloading nvidia_ml_py-11.525.112-py3-none-any.whl (35 kB)\n",
      "Collecting blessed>=1.17.1\n",
      "  Downloading blessed-1.20.0-py2.py3-none-any.whl (58 kB)\n",
      "\u001b[K     |████████████████████████████████| 58 kB 2.1 MB/s eta 0:00:01\n",
      "\u001b[?25hRequirement already satisfied: wcwidth>=0.1.4 in ./.venv/lib/python3.9/site-packages (from blessed>=1.17.1->gpustat>=1.0.0->ray[default]<2.3.0,>=2.2.0->flwr[simulation]) (0.2.6)\n",
      "Requirement already satisfied: six>=1.9.0 in ./.venv/lib/python3.9/site-packages (from blessed>=1.17.1->gpustat>=1.0.0->ray[default]<2.3.0,>=2.2.0->flwr[simulation]) (1.16.0)\n",
      "Requirement already satisfied: platformdirs<4,>=2.4 in ./.venv/lib/python3.9/site-packages (from virtualenv>=20.0.24->ray[default]<2.3.0,>=2.2.0->flwr[simulation]) (3.2.0)\n",
      "Requirement already satisfied: distlib<1,>=0.3.6 in ./.venv/lib/python3.9/site-packages (from virtualenv>=20.0.24->ray[default]<2.3.0,>=2.2.0->flwr[simulation]) (0.3.6)\n",
      "Requirement already satisfied: idna>=2.0 in ./.venv/lib/python3.9/site-packages (from yarl<2.0,>=1.0->aiohttp>=3.7->ray[default]<2.3.0,>=2.2.0->flwr[simulation]) (3.4)\n",
      "Requirement already satisfied: pyrsistent!=0.17.0,!=0.17.1,!=0.17.2,>=0.14.0 in ./.venv/lib/python3.9/site-packages (from jsonschema->ray[default]<2.3.0,>=2.2.0->flwr[simulation]) (0.19.3)\n",
      "Collecting opencensus-context>=0.1.3\n",
      "  Downloading opencensus_context-0.1.3-py2.py3-none-any.whl (5.1 kB)\n",
      "Collecting google-api-core<3.0.0,>=1.0.0\n",
      "  Downloading google_api_core-2.11.0-py3-none-any.whl (120 kB)\n",
      "\u001b[K     |████████████████████████████████| 120 kB 2.0 MB/s eta 0:00:01\n",
      "\u001b[?25hCollecting googleapis-common-protos<2.0dev,>=1.56.2\n",
      "  Downloading googleapis_common_protos-1.59.0-py2.py3-none-any.whl (223 kB)\n",
      "\u001b[K     |████████████████████████████████| 223 kB 2.3 MB/s eta 0:00:01\n",
      "\u001b[?25hRequirement already satisfied: google-auth<3.0dev,>=2.14.1 in ./.venv/lib/python3.9/site-packages (from google-api-core<3.0.0,>=1.0.0->opencensus->ray[default]<2.3.0,>=2.2.0->flwr[simulation]) (2.17.3)\n",
      "Requirement already satisfied: cachetools<6.0,>=2.0.0 in ./.venv/lib/python3.9/site-packages (from google-auth<3.0dev,>=2.14.1->google-api-core<3.0.0,>=1.0.0->opencensus->ray[default]<2.3.0,>=2.2.0->flwr[simulation]) (5.3.0)\n",
      "Requirement already satisfied: rsa<5,>=3.1.4 in ./.venv/lib/python3.9/site-packages (from google-auth<3.0dev,>=2.14.1->google-api-core<3.0.0,>=1.0.0->opencensus->ray[default]<2.3.0,>=2.2.0->flwr[simulation]) (4.9)\n",
      "Requirement already satisfied: pyasn1-modules>=0.2.1 in ./.venv/lib/python3.9/site-packages (from google-auth<3.0dev,>=2.14.1->google-api-core<3.0.0,>=1.0.0->opencensus->ray[default]<2.3.0,>=2.2.0->flwr[simulation]) (0.2.8)\n",
      "Requirement already satisfied: pyasn1<0.5.0,>=0.4.6 in ./.venv/lib/python3.9/site-packages (from pyasn1-modules>=0.2.1->google-auth<3.0dev,>=2.14.1->google-api-core<3.0.0,>=1.0.0->opencensus->ray[default]<2.3.0,>=2.2.0->flwr[simulation]) (0.4.8)\n"
     ]
    },
    {
     "name": "stdout",
     "output_type": "stream",
     "text": [
      "Requirement already satisfied: certifi>=2017.4.17 in ./.venv/lib/python3.9/site-packages (from requests->ray[default]<2.3.0,>=2.2.0->flwr[simulation]) (2022.12.7)\n",
      "Requirement already satisfied: urllib3<1.27,>=1.21.1 in ./.venv/lib/python3.9/site-packages (from requests->ray[default]<2.3.0,>=2.2.0->flwr[simulation]) (1.26.15)\n",
      "Requirement already satisfied: typing-extensions>=4.2.0 in ./.venv/lib/python3.9/site-packages (from pydantic->ray[default]<2.3.0,>=2.2.0->flwr[simulation]) (4.5.0)\n",
      "Building wheels for collected packages: gpustat\n",
      "  Building wheel for gpustat (PEP 517) ... \u001b[?25ldone\n",
      "\u001b[?25h  Created wheel for gpustat: filename=gpustat-1.1-py3-none-any.whl size=26280 sha256=77bcbbbff6831600f539698115e9eccb577fbce6db98d627788e72f674408563\n",
      "  Stored in directory: /home/thiago/.cache/pip/wheels/91/f0/b3/8566d6821307110981a5db015cbf8fd88697446f81e5f40a27\n",
      "Successfully built gpustat\n",
      "Installing collected packages: multidict, yarl, googleapis-common-protos, async-timeout, opencensus-context, nvidia-ml-py, google-api-core, blessed, aiohttp, smart-open, ray, pydantic, py-spy, prometheus-client, opencensus, gpustat, colorful, aiohttp-cors\n",
      "  Attempting uninstall: ray\n",
      "    Found existing installation: ray 2.3.1\n",
      "    Uninstalling ray-2.3.1:\n",
      "      Successfully uninstalled ray-2.3.1\n",
      "  Attempting uninstall: prometheus-client\n",
      "    Found existing installation: prometheus-client 0.16.0\n",
      "    Uninstalling prometheus-client-0.16.0:\n",
      "      Successfully uninstalled prometheus-client-0.16.0\n",
      "Successfully installed aiohttp-3.8.4 aiohttp-cors-0.7.0 async-timeout-4.0.2 blessed-1.20.0 colorful-0.5.5 google-api-core-2.11.0 googleapis-common-protos-1.59.0 gpustat-1.1 multidict-6.0.4 nvidia-ml-py-11.525.112 opencensus-0.11.2 opencensus-context-0.1.3 prometheus-client-0.13.1 py-spy-0.3.14 pydantic-1.10.7 ray-2.2.0 smart-open-6.3.0 yarl-1.8.2\n"
     ]
    }
   ],
   "source": [
    "!pip install flwr==1.3.0\n",
    "!pip install -U flwr[\"simulation\"]\n",
    "#!pip install ray==2.2.0\n",
    "#!pip install tensorflow==2.12.0\n",
    "#!pip install numpy==1.22.4\n",
    "#!pip install matplotlib==3.7.1"
   ]
  },
  {
   "cell_type": "markdown",
   "metadata": {
    "id": "Xt4gBsQ7VYUA"
   },
   "source": [
    "###Célula de Importação "
   ]
  },
  {
   "cell_type": "markdown",
   "metadata": {
    "id": "6wD8STHmJcZZ"
   },
   "source": [
    "Importamos a biblioteca *os*, que lida com o sistema operacional. Utilizamos ela para configurar a *flag* \"TF_CPP_MIN_LOG_LEVEL\" com o valor 3, isto faz com que os logs do *tensorflow* sejam menos verbosos durante o treinamento.\\\n",
    "Depois, importamos as demais bibliotecas: \n",
    "\n",
    "1.   *flower*, para efetuar o aprendizado federado;\n",
    "2.   *tensorflow*, para definir uma arquitetura de rede neural, incluindo todas as camadas e otimizador que usaremos;\n",
    "3.   *numpy*, biblioteca de maniupulação eficiente de vetores numéricos;\n",
    "4.   *ray*, biblioteca utilizada pelo *flower* para instanciar a simulação do aprendizado federado.\n",
    "5.   *matplotlib*, biblioteca para plotar gráficos.\n",
    "\n",
    "\n",
    "\n"
   ]
  },
  {
   "cell_type": "code",
   "execution_count": 2,
   "metadata": {
    "id": "3dwfd_R6JSkE"
   },
   "outputs": [],
   "source": [
    "import os\n",
    "# Make TensorFlow logs less verbose\n",
    "os.environ[\"TF_CPP_MIN_LOG_LEVEL\"] = \"3\"\n",
    "import flwr as fl\n",
    "import tensorflow as tf\n",
    "from tensorflow.keras.models import Sequential\n",
    "from tensorflow.keras.layers import Conv2D, MaxPool2D,Flatten,Dense\n",
    "from tensorflow.keras.optimizers import SGD\n",
    "import numpy as np\n",
    "import ray\n",
    "from matplotlib import pyplot as plt"
   ]
  },
  {
   "cell_type": "markdown",
   "metadata": {
    "id": "WMrrg_-wTSSg"
   },
   "source": [
    "#### Importação e Pré-rocessamento dos Dados"
   ]
  },
  {
   "cell_type": "markdown",
   "metadata": {
    "id": "LpgFLN0YGu2P"
   },
   "source": [
    "Neste laboratório usaremos o *dataset* MNIST, muito usado como referência na literatura. Este *dataset* é composto por imagens monocromáticas de 28 por 28 píxels (*28x28*), representando dígitos de 0 a 9 escritos a mão e anotadas com o valor do dígito. Ele contém dois *subdatasets*: o de treino e o de teste. O *subdataset* de treino é formado por 60 mil imagens, enquanto o *subdataset* de treino contém 10 mil imagens.\n",
    "\n",
    "O *tensorflow* já nos provê esse *dataset*, separando os *subdatasets* de treino entre: atributos alvo, tambem chamados de classes ou *targets* (*y_train e y_test*), e atributos não alvo (*x_train* e *x_test*), ou *features*. Sendo assim, para carregar este *dataset* basta instanciar (atribuição da variavel *mnist*) e carregar (método *load_data*)."
   ]
  },
  {
   "cell_type": "code",
   "execution_count": 9,
   "metadata": {
    "colab": {
     "base_uri": "https://localhost:8080/"
    },
    "id": "Vh4cJYFwJuWl",
    "outputId": "7976451e-9bc9-45cb-80d6-f20aa64891ea"
   },
   "outputs": [],
   "source": [
    "mnist = tf.keras.datasets.mnist\n",
    "(x_train, y_train), (x_test, y_test) = mnist.load_data()"
   ]
  },
  {
   "cell_type": "markdown",
   "metadata": {
    "id": "7bhElqYx8io1"
   },
   "source": [
    "Plotamos, como exemplo, os 10 primeiros dígitos do *dataset* de treino com suas classes. Por meio desse *plot* conseguiremos visualizar bem o tipo de dado que o *dataset* descreve.\n",
    "\n",
    " Vemos que as classes são o valor numérico que o digito representa e as imagens são dígitos escritos a mão, em preto e branco."
   ]
  },
  {
   "cell_type": "code",
   "execution_count": 10,
   "metadata": {
    "colab": {
     "base_uri": "https://localhost:8080/",
     "height": 380
    },
    "id": "YqbYR3v-7DyU",
    "outputId": "ba89af59-87b9-411b-fa21-337bad7fd1f0"
   },
   "outputs": [
    {
     "data": {
      "image/png": "[encoded data removed]",
      "text/plain": [
       "<Figure size 750x400 with 10 Axes>"
      ]
     },
     "metadata": {},
     "output_type": "display_data"
    }
   ],
   "source": [
    "num = 10\n",
    "images = x_train[:num]\n",
    "labels = y_train[:num]\n",
    "num_row = 2\n",
    "num_col = 5\n",
    "# plot images\n",
    "fig, axes = plt.subplots(num_row, num_col, figsize=(1.5*num_col,2*num_row))\n",
    "for i in range(num):\n",
    "    ax = axes[i//num_col, i%num_col]\n",
    "    ax.imshow(images[i], cmap='gray')\n",
    "    ax.set_title('Label: {}'.format(labels[i]))\n",
    "plt.tight_layout()\n",
    "plt.show()"
   ]
  },
  {
   "cell_type": "markdown",
   "metadata": {
    "id": "__UjhTmBJBaY"
   },
   "source": [
    "**Pré-Processamento dos Dados**\n",
    "\n",
    " Primeiro trabalhamos com os dados dos atributos não alvo (*features*), checando o formato dos *datasets* nas variáveis *x_train e x_test*. emos que eles têm os formatos (60000, 28, 28) e (10000, 28, 28) respectivamente.\n",
    "\n",
    " O primeiro número indica a quantidade de imagens contidas em cada *dataset*: 60000 para o treino e 10000 para o teste. Os outros dois números são a quantidade de pixeis de cada imagem, 28 píxeis verticais e 28 píxeis horizontais.\n",
    "\n",
    "Sendo assim, cada imagem é representada como matrizes de números (28 x 28). Já que as imagens são monocromáticas, cada elemento da matriz significa a luminosidade doassociad àquela posição do *pixel*,em valores que vão de 0 a 255."
   ]
  },
  {
   "cell_type": "code",
   "execution_count": 11,
   "metadata": {
    "colab": {
     "base_uri": "https://localhost:8080/"
    },
    "id": "SU2vN7wXJpMR",
    "outputId": "9b3a3a99-1a33-41ed-9cc8-4a877cf0902a"
   },
   "outputs": [
    {
     "name": "stdout",
     "output_type": "stream",
     "text": [
      "(60000, 28, 28)\n",
      "(10000, 28, 28)\n"
     ]
    }
   ],
   "source": [
    "print(x_train.shape)\n",
    "print(x_test.shape)"
   ]
  },
  {
   "cell_type": "markdown",
   "metadata": {
    "id": "F2-4DkEMOfzR"
   },
   "source": [
    "Para usar os *datasets* no treinamento e teste de modelos de aprendizado de máquina é necessario, inicialmente, pré-processar os dados.\n",
    "\n",
    "Primeiro fazemos o *reshape*, incluindo uma nova dimensão que indica que as imagens são monocromaticas (*reshape(x_train.shape[0], x_train.shape[1], x_train.shape[2], 1)*). \n",
    "\n",
    "Depois normalizamos os dados dos atributos não alvo, dividindo os valores de luminosidade dos pixeis pelo maior valor possivel, *255*, com isso fazendo com que estes valores fiquem na faixa entre 0 e 1. \n",
    "\n",
    "Com essas duas ações encerramos  pré-processamento dos atributos não alvo (*features*)."
   ]
  },
  {
   "cell_type": "code",
   "execution_count": 12,
   "metadata": {
    "id": "HW1ZnGTP7BY3"
   },
   "outputs": [],
   "source": [
    "x_train=x_train.reshape(x_train.shape[0], x_train.shape[1], x_train.shape[2], 1)\n",
    "x_train=x_train / 255.0\n",
    "x_test = x_test.reshape(x_test.shape[0], x_test.shape[1], x_test.shape[2], 1)\n",
    "x_test=x_test/255.0"
   ]
  },
  {
   "cell_type": "markdown",
   "metadata": {
    "id": "FI_Yh2zuQTTx"
   },
   "source": [
    "Para os atributos alvo (*target*) é necessário fazer o *one hot enconding* das classes. Esta operação consistem em transformar as classes adicionando novas colunas, que indicam a presença ou não da classe. Isto é, como neste *dataset* as classes são os números de 0 a 9, adicionamos 9 novas colunas, numeradas de 0 a 9. Para cada amostra, cada uma destas novas colunas terá os valores 0 ou 1, onde 0 indica   que a amostra não é daquela classe e 1 indica que a amostra é daquela classe. \n",
    "\n",
    "Printamos a primeira amostra do conjunto de treinamento , antes e depois da aplicação da operação, para vermos seu efeito sobre a amostra."
   ]
  },
  {
   "cell_type": "code",
   "execution_count": 13,
   "metadata": {
    "colab": {
     "base_uri": "https://localhost:8080/"
    },
    "id": "zT-Dx92e4_IG",
    "outputId": "82ee97e5-5a1b-4639-a22a-da85acbb590a"
   },
   "outputs": [
    {
     "name": "stdout",
     "output_type": "stream",
     "text": [
      "5\n",
      "tf.Tensor([0. 0. 0. 0. 0. 1. 0. 0. 0. 0.], shape=(10,), dtype=float32)\n"
     ]
    }
   ],
   "source": [
    "print(y_train[0])\n",
    "y_train = tf.one_hot(y_train.astype(np.int32), depth=10)\n",
    "y_test = tf.one_hot(y_test.astype(np.int32), depth=10)\n",
    "print(y_train[0])"
   ]
  },
  {
   "cell_type": "markdown",
   "metadata": {
    "id": "OVboMW3UTdOp"
   },
   "source": [
    "#### Treinamento Local"
   ]
  },
  {
   "cell_type": "markdown",
   "metadata": {
    "id": "bgSqVuHrQcla"
   },
   "source": [
    "A técnica de aprendizado federado foi desenvolvida inicialmente para o treinamento de redes neurais, por isso precisamos definir uma rede neural para podermos usá-la localmente e,  futuramente, comparar os  resultados dos  modelos gerados localmente e federado.\n",
    "\n",
    "Esta próxima célula define uma função que monta uma rede neural convolucional simples, que usaremos na etapa de treinamento. A rede neural recebe como atributos: o formato dos dados de entrada (*input_shape*) e o numero de classes do problema (*num_classes*)."
   ]
  },
  {
   "cell_type": "code",
   "execution_count": 14,
   "metadata": {
    "id": "9WcxuXm3AK-n"
   },
   "outputs": [],
   "source": [
    "def define_model(input_shape,num_classes):\n",
    "  model = Sequential()\n",
    "  model.add(Conv2D(32, (3, 3), activation='relu', kernel_initializer='he_uniform', input_shape=input_shape))\n",
    "  model.add(MaxPool2D((2, 2)))\n",
    "  model.add(Flatten())\n",
    "  model.add(Dense(100, activation='relu', kernel_initializer='he_uniform'))\n",
    "  model.add(Dense(num_classes, activation='softmax'))\n",
    "  # compile model\n",
    "  opt = SGD(learning_rate=0.01, momentum=0.9)\n",
    "  model.compile(optimizer=opt, loss='categorical_crossentropy', metrics=['accuracy'])\n",
    "  return model"
   ]
  },
  {
   "cell_type": "markdown",
   "metadata": {
    "id": "xPW2kMNcRtzX"
   },
   "source": [
    "Conforme explicado anteriorment,  após o pré-processamento,  cada imagem do *dataset* terá o seguinte formato: 28 pixeis verticais, 28 pixeis horizontais e 1 canal de cor. Desta forma o formato de entrada dos dados é (28, 28, 1). \n",
    "\n",
    "Temos digitos de 0 a 9 em nosso *dataset*, ou seja, 10 possiveis classes. Com isso instanciamos uma rede neural usando a função *define_model* na variavel model."
   ]
  },
  {
   "cell_type": "code",
   "execution_count": 15,
   "metadata": {
    "id": "4GycOgcz7JFs"
   },
   "outputs": [],
   "source": [
    "input_shape = (28, 28, 1)\n",
    "num_classes = 10\n",
    "\n",
    "model = define_model(input_shape,num_classes)"
   ]
  },
  {
   "cell_type": "markdown",
   "metadata": {
    "id": "t0VpTq8oShd4"
   },
   "source": [
    "Inicialmente treinaremos a rede neural localmente para termos um *baseline* de comparação. A rede neural  é treinada por 5 épocas, usando 10% do *dataset* de treino para validação durante o treinamento. \n",
    "\n",
    "Usamos 64 como *batch_size*, isso significa que  expomos a rede neural a 64 amostras (lote, ou *batch*) antes de atualizarmos o valor da função de perda. Esse processo  é repetido até que todas as amostras tenham sido expostas à rede neural, terminando uma época de treinamento. "
   ]
  },
  {
   "cell_type": "code",
   "execution_count": 16,
   "metadata": {
    "colab": {
     "base_uri": "https://localhost:8080/"
    },
    "id": "SjWO0dJa7VL-",
    "outputId": "72de2b3b-f702-4ba0-87da-6ab1fa3cf977"
   },
   "outputs": [
    {
     "name": "stdout",
     "output_type": "stream",
     "text": [
      "Epoch 1/5\n",
      "844/844 [==============================] - 17s 19ms/step - loss: 0.2242 - accuracy: 0.9324 - val_loss: 0.0862 - val_accuracy: 0.9765\n",
      "Epoch 2/5\n",
      "844/844 [==============================] - 16s 19ms/step - loss: 0.0793 - accuracy: 0.9768 - val_loss: 0.0612 - val_accuracy: 0.9837\n",
      "Epoch 3/5\n",
      "844/844 [==============================] - 15s 18ms/step - loss: 0.0526 - accuracy: 0.9849 - val_loss: 0.0516 - val_accuracy: 0.9868\n",
      "Epoch 4/5\n",
      "844/844 [==============================] - 15s 18ms/step - loss: 0.0400 - accuracy: 0.9882 - val_loss: 0.0481 - val_accuracy: 0.9872\n",
      "Epoch 5/5\n",
      "844/844 [==============================] - 17s 20ms/step - loss: 0.0314 - accuracy: 0.9910 - val_loss: 0.0452 - val_accuracy: 0.9877\n"
     ]
    }
   ],
   "source": [
    "batch_size = 64\n",
    "epochs = 5\n",
    "history = model.fit(x_train, y_train,\n",
    "                    batch_size=batch_size,\n",
    "                    epochs=epochs,\n",
    "                    validation_split=0.1)"
   ]
  },
  {
   "cell_type": "markdown",
   "metadata": {
    "id": "WftT7AFCSud_"
   },
   "source": [
    "Como conclusão, com o conjunto de teste usado neste laboratório, e usando  o nosso modelo,  obtivemos uma acurácia de ~98,39%, que é um resultado aceitável com relação a este *dataset*, comparando-se com os resultados de referência encontrados na literatura. Ver [referência](https://paperswithcode.com/sota/image-classification-on-mnist)."
   ]
  },
  {
   "cell_type": "code",
   "execution_count": 17,
   "metadata": {
    "colab": {
     "base_uri": "https://localhost:8080/"
    },
    "id": "sXIiIk8d7eGS",
    "outputId": "6167f283-d53e-42ab-aac8-1f6f76dc410f"
   },
   "outputs": [
    {
     "name": "stdout",
     "output_type": "stream",
     "text": [
      "313/313 [==============================] - 2s 5ms/step - loss: 0.0430 - accuracy: 0.9868\n"
     ]
    }
   ],
   "source": [
    "test_loss, test_acc = model.evaluate(x_test, y_test)"
   ]
  },
  {
   "cell_type": "markdown",
   "metadata": {
    "id": "gR1XwzYWTiOa"
   },
   "source": [
    "#### Treinamento Federado"
   ]
  },
  {
   "cell_type": "markdown",
   "metadata": {
    "id": "b3dPiK8tVRn1"
   },
   "source": [
    "Agora começaremos o treinamento federado desta mesma rede neural usando a biblioteca *flower*. Esta biblioteca implementa a arquitetura de aprendizado federado, onde no treinamento temos dois agentes: o servidor e os clientes. \n",
    " \n",
    "* Os clientes (treinadores) têm como tarefa treinar seus modelos usando seus dados locais e, após o treinamento, enviar os pesos encontrados para o servidor de agregação. Quando receberem os pesos agregados pelo servidor, os clientes atualizam seus modelos locais com estes pesos e recomeçam o treinamento, assim iniciando uma nova rodada (época).\n",
    "* O servidor de agregação, por sua vez, recebe estes pesos e usa algum algoritmo para agregar os diferentes pesos dos modelos gerados pelos clientes treinadores. Em seguida o servidor deve enviar de volta os pesos agregados para os clientes. \n",
    "\n",
    "Ao final desse processo,  os  pesos agregados representam o modelo global que está sendo treinado por esse conjunto de treinadores.\n",
    "\n",
    "\n",
    "\n",
    "\n",
    "\n"
   ]
  },
  {
   "cell_type": "markdown",
   "metadata": {
    "id": "GTwlQHH6W5Fa"
   },
   "source": [
    "Sabendo disso, para o uso da biblioteca *flower* temos, como primeiro passo, que implementar o código dos clientes. Para isso definimos uma classe cliente que herda da super classe *NumPyClient* provida pela biblioteca *numpy*. Para seu uso temos que implementar obrigatoriamente 3 métodos em nosso cliente:\n",
    "\n",
    "\n",
    "1.  *get_parameters(self, config)*: este método recebe um dicionário de configuração e é chamado pelo servidor como um procedimento remoto. Ele retorna os pesos do modelo do cliente na rodada atual.\n",
    "2.  *fit(self, parameters, config)*: por este método, chamado via RPC pelo servidor, o cliente recebe os pesos do modelo global e um dicionário de configuração. Ele realiza o treinamento do modelo, primeiro setando os pesos do modelo com os recebidos pelo cliente do servidor e depois treinando um novo modelo com esses novos pesos iniciais. Ela retorna: os pesos encontrados após essa rodada de treinamento, o tamanho do conjunto de treinamento e um dicionário de métricas de avaliação do modelo. O dicionário pode ser retornado vazio.\n",
    "3.  *evaluate(self, parameters, config)*: por este método, chamado remotamente pelo servidor, o cliente recebe os pesos do modelo global e um dicionário de configuração. Ele avalia localmente o modelo treinado e retorna o valor da função de perda encontrado para este cliente, o tamanho do conjunto de teste e um dicionário de métricas de avaliação do modelo. Neste caso, retornaremos a acurácia.\n",
    "\n",
    "Também definimos um método opcional *\\_\\_init\\_\\_(self, model, x_train, y_train, x_test, y_test)* que é o de inicialização do objeto, recebendo o modelo pré-instanciado e os conjuntos de teste e treino.\n",
    "\n"
   ]
  },
  {
   "cell_type": "code",
   "execution_count": 18,
   "metadata": {
    "id": "Y9mL7lqLWQTG"
   },
   "outputs": [],
   "source": [
    "class FlowerClient(fl.client.NumPyClient):\n",
    "    def __init__(self, model, x_train, y_train, x_test, y_test) -> None:\n",
    "        self.model = model\n",
    "        self.x_train = x_train\n",
    "        self.y_train = y_train\n",
    "        self.x_test = x_test\n",
    "        self.y_test = y_test\n",
    "\n",
    "    def get_parameters(self, config):\n",
    "        return self.model.get_weights()\n",
    "\n",
    "    def fit(self, parameters, config):\n",
    "        self.model.set_weights(parameters)\n",
    "        self.model.fit(self.x_train, self.y_train, epochs=1, verbose=2)\n",
    "        return self.model.get_weights(), len(self.x_train), {}\n",
    "\n",
    "    def evaluate(self, parameters, config):\n",
    "        self.model.set_weights(parameters)\n",
    "        loss, acc = self.model.evaluate(self.x_test, self.y_test, verbose=2)\n",
    "        return loss, len(self.x_test), {\"accuracy\": acc}"
   ]
  },
  {
   "cell_type": "markdown",
   "metadata": {
    "id": "JkXB2eVJbeQk"
   },
   "source": [
    "Como estamos usando um *notebook*, não podemos instanciar clientes e servidores do *flower* diretamente. Por isso a biblioteca prove uma alternativa que é o módulo de simulação. Ele simula o aprendizado federado sem o uso de conexões de rede.\\\n",
    "\\\n",
    "Para o seu uso temos que definir uma função que instancias os clientes com a assinatura *fn(str) -> fl.client.Client*. Esta função recebe uma *string* que é um identificador único do cliente usado pela simulação e nos retorna o cliente instanciado. Internamente ela particiona o *dataset*, amostrando, sem reposição, um número aleatório de imagens, compondo um conjunto de dados que representa os dados locais daquele cliente. \n",
    "\n",
    "A seguir faremos os mesmos passos anteriores de pré-processamento e instanciamento da rede neural. Finalmente instanciaremos um cliente *flower* e retornamos."
   ]
  },
  {
   "cell_type": "code",
   "execution_count": 19,
   "metadata": {
    "id": "CHd05AShiI46"
   },
   "outputs": [],
   "source": [
    "def client_fn_random(cid: str) -> fl.client.Client:\n",
    "    input_shape = (28, 28, 1)\n",
    "    num_classes = 10\n",
    "    num_clients = 10\n",
    "    partition_size = 500\n",
    "    \n",
    "\n",
    "    (x_train, y_train), (x_test, y_test) = tf.keras.datasets.mnist.load_data()\n",
    "    #sample_size_train = int(cid) * partition_size\n",
    "    #sample_size_test = int(cid) * partition_size\n",
    "    sample_size_train = int((1/num_clients)*len(x_train))\n",
    "    sample_size_test = int((1/num_clients)*len(x_test))\n",
    "    idx_train = np.random.choice(np.arange(len(x_train)), sample_size_train, replace=False)\n",
    "    x_train = x_train[idx_train]/255.0\n",
    "    y_train = y_train[idx_train]\n",
    "    y_train = tf.one_hot(y_train.astype(np.int32), depth=10)\n",
    "    idx_test = np.random.choice(np.arange(len(x_test)), sample_size_test, replace=False)\n",
    "    x_test = x_test[idx_test]/255.0\n",
    "    y_test = y_test[idx_test]\n",
    "    y_test = tf.one_hot(y_test.astype(np.int32), depth=10)\n",
    "    model = define_model(input_shape,num_classes)\n",
    "    # Create and return client\n",
    "    return FlowerClient(model, x_train, y_train, x_test, y_test)"
   ]
  },
  {
   "cell_type": "markdown",
   "metadata": {
    "id": "Txp65BZCdFkD"
   },
   "source": [
    "Para a avaliação do modelo precisamos de uma função de agregação de métricas. Isto é necessário pois, a priori, a simulação não sabe que tipo de métrica será usada para avaliar o modelo. Por isso o programador tem que criar uma função que lide com a agregação dos valores de métricas que ele esta usando para avaliar seu modelo. Desta maneira esta função é usada para que a simulação consiga retornar a evolução dos valores das métricas em cada *round* usando um objeto do tipo *history*.\n",
    "\n",
    "\n",
    "Aqui definimos a função de agregação como a média ponderada da acurácia pelo tamanho do conjunto de dados de cada cliente."
   ]
  },
  {
   "cell_type": "code",
   "execution_count": 20,
   "metadata": {
    "id": "1ZZ0onPuExOM"
   },
   "outputs": [],
   "source": [
    "def weighted_average(metrics):\n",
    "    # Multiply accuracy of each client by number of examples used\n",
    "    acc = [num_examples * m[\"accuracy\"] for num_examples, m in metrics]\n",
    "    examples = [num_examples for num_examples, _ in metrics]\n",
    "\n",
    "    # Aggregate and return custom metric (weighted average)\n",
    "    results = {\"accuracy\": sum(acc) / sum(examples)}\n",
    "    return results"
   ]
  },
  {
   "cell_type": "markdown",
   "metadata": {
    "id": "1VQnCBXtd0fr"
   },
   "source": [
    "Precisamos agora definir o número de clientes que participação do aprendizado federado, 10 clientes neste exemplo, e uma estratégia de agregação dos pesos a ser usada pelo servidor.\n",
    "\n",
    "Esta estratégia é um objeto do tipo *strategy* da biblioteca *flower*. Além de definir o algoritmo de agregação dos pesos, no caso usamos o *Federated Average (FedAvg)*, também é preciso configurar o comportamento do servidor durante o processo de treinamento. Com essa biblioteca nós configuramos o servidor para:\n",
    "\n",
    "1.   Escolher aleatoriamente 90% dos clientes (9 clientes neste exemplo) para o treinamento (*fraction_fit*);\n",
    "2.   Usar todos os clientes para a avaliação do modelo (*fraction_evaluate*);\n",
    "3.   Nunca usar menos que 9 clientes para o treinamento (*min_fit_clients*);\n",
    "4.   Nunca usar menos que 9 clientes para a avaliação do modelo (*min_evaluate_clients*);\n",
    "5.   Esperar que tenha pelo menos 9 clientes prontos antes de começar o treinamento(*min_available_clients*);\n",
    "6.   Usar a função *weighted_average*, definida anteriormente, como função de agregação de métricas\n",
    "\n",
    "Finalmente iniciamos a simulação usando a função *fl.simulation.start_simulation*. Passamos para essa função a função de instanciamento de clientes (*client_fn_random*), o número de clientes (*num_clients*), um dicionário de configuração, que diz para o servidor quantos *rounds* de treinamento queremos (*fl.server.ServerConfig(num_rounds=5)*) e a estratégia de treinamento (*strategy*). \n"
   ]
  },
  {
   "cell_type": "code",
   "execution_count": 21,
   "metadata": {
    "colab": {
     "base_uri": "https://localhost:8080/"
    },
    "id": "MRvT4OOdXADa",
    "outputId": "c2c2ae57-16ce-4d84-bbae-68a97d6a99a5"
   },
   "outputs": [
    {
     "name": "stderr",
     "output_type": "stream",
     "text": [
      "INFO flwr 2023-04-16 18:19:26,064 | app.py:145 | Starting Flower simulation, config: ServerConfig(num_rounds=5, round_timeout=None)\n",
      "2023-04-16 18:19:28,354\tINFO worker.py:1529 -- Started a local Ray instance. View the dashboard at \u001b[1m\u001b[32m127.0.0.1:8265 \u001b[39m\u001b[22m\n",
      "INFO flwr 2023-04-16 18:19:29,460 | app.py:179 | Flower VCE: Ray initialized with resources: {'memory': 4076379342.0, 'CPU': 4.0, 'object_store_memory': 2038189670.0, 'node:192.168.42.146': 1.0}\n",
      "INFO flwr 2023-04-16 18:19:29,461 | server.py:86 | Initializing global parameters\n",
      "INFO flwr 2023-04-16 18:19:29,462 | server.py:270 | Requesting initial parameters from one random client\n",
      "INFO flwr 2023-04-16 18:19:32,047 | server.py:274 | Received initial parameters from one random client\n",
      "INFO flwr 2023-04-16 18:19:32,048 | server.py:88 | Evaluating initial parameters\n",
      "INFO flwr 2023-04-16 18:19:32,049 | server.py:101 | FL starting\n",
      "DEBUG flwr 2023-04-16 18:19:32,050 | server.py:215 | fit_round 1: strategy sampled 9 clients (out of 10)\n"
     ]
    },
    {
     "name": "stdout",
     "output_type": "stream",
     "text": [
      "\u001b[2m\u001b[36m(launch_and_fit pid=10716)\u001b[0m 188/188 - 6s - loss: 0.5251 - accuracy: 0.8348 - 6s/epoch - 34ms/step\n",
      "\u001b[2m\u001b[36m(launch_and_fit pid=10717)\u001b[0m 188/188 - 8s - loss: 0.5065 - accuracy: 0.8447 - 8s/epoch - 43ms/step\n",
      "\u001b[2m\u001b[36m(launch_and_fit pid=10718)\u001b[0m 188/188 - 8s - loss: 0.5013 - accuracy: 0.8357 - 8s/epoch - 44ms/step\n",
      "\u001b[2m\u001b[36m(launch_and_fit pid=10715)\u001b[0m 188/188 - 8s - loss: 0.5066 - accuracy: 0.8377 - 8s/epoch - 45ms/step\n",
      "\u001b[2m\u001b[36m(launch_and_fit pid=10716)\u001b[0m 188/188 - 9s - loss: 0.5070 - accuracy: 0.8392 - 9s/epoch - 47ms/step\n",
      "\u001b[2m\u001b[36m(launch_and_fit pid=10717)\u001b[0m 188/188 - 8s - loss: 0.5213 - accuracy: 0.8367 - 8s/epoch - 44ms/step\n",
      "\u001b[2m\u001b[36m(launch_and_fit pid=10718)\u001b[0m 188/188 - 9s - loss: 0.5201 - accuracy: 0.8342 - 9s/epoch - 46ms/step\n",
      "\u001b[2m\u001b[36m(launch_and_fit pid=10715)\u001b[0m 188/188 - 9s - loss: 0.5004 - accuracy: 0.8412 - 9s/epoch - 46ms/step\n"
     ]
    },
    {
     "name": "stderr",
     "output_type": "stream",
     "text": [
      "DEBUG flwr 2023-04-16 18:19:55,070 | server.py:229 | fit_round 1 received 9 results and 0 failures\n",
      "WARNING flwr 2023-04-16 18:19:55,120 | fedavg.py:242 | No fit_metrics_aggregation_fn provided\n",
      "DEBUG flwr 2023-04-16 18:19:55,121 | server.py:165 | evaluate_round 1: strategy sampled 10 clients (out of 10)\n"
     ]
    },
    {
     "name": "stdout",
     "output_type": "stream",
     "text": [
      "\u001b[2m\u001b[36m(launch_and_fit pid=10716)\u001b[0m 188/188 - 5s - loss: 0.4920 - accuracy: 0.8412 - 5s/epoch - 26ms/step\n",
      "\u001b[2m\u001b[36m(launch_and_evaluate pid=10716)\u001b[0m 32/32 - 1s - loss: 0.2901 - accuracy: 0.9100 - 615ms/epoch - 19ms/step\n",
      "\u001b[2m\u001b[36m(launch_and_evaluate pid=10718)\u001b[0m 32/32 - 1s - loss: 0.2765 - accuracy: 0.9200 - 658ms/epoch - 21ms/step\n",
      "\u001b[2m\u001b[36m(launch_and_evaluate pid=10715)\u001b[0m 32/32 - 1s - loss: 0.2874 - accuracy: 0.9190 - 689ms/epoch - 22ms/step\n",
      "\u001b[2m\u001b[36m(launch_and_evaluate pid=10717)\u001b[0m 32/32 - 1s - loss: 0.2608 - accuracy: 0.9280 - 674ms/epoch - 21ms/step\n",
      "\u001b[2m\u001b[36m(launch_and_evaluate pid=10716)\u001b[0m 32/32 - 1s - loss: 0.2649 - accuracy: 0.9220 - 579ms/epoch - 18ms/step\n",
      "\u001b[2m\u001b[36m(launch_and_evaluate pid=10717)\u001b[0m 32/32 - 1s - loss: 0.2677 - accuracy: 0.9200 - 584ms/epoch - 18ms/step\n",
      "\u001b[2m\u001b[36m(launch_and_evaluate pid=10718)\u001b[0m 32/32 - 1s - loss: 0.2789 - accuracy: 0.9140 - 619ms/epoch - 19ms/step\n",
      "\u001b[2m\u001b[36m(launch_and_evaluate pid=10715)\u001b[0m 32/32 - 1s - loss: 0.2659 - accuracy: 0.9340 - 657ms/epoch - 21ms/step\n"
     ]
    },
    {
     "name": "stderr",
     "output_type": "stream",
     "text": [
      "DEBUG flwr 2023-04-16 18:19:58,718 | server.py:179 | evaluate_round 1 received 10 results and 0 failures\n",
      "DEBUG flwr 2023-04-16 18:19:58,718 | server.py:215 | fit_round 2: strategy sampled 9 clients (out of 10)\n"
     ]
    },
    {
     "name": "stdout",
     "output_type": "stream",
     "text": [
      "\u001b[2m\u001b[36m(launch_and_evaluate pid=10716)\u001b[0m 32/32 - 0s - loss: 0.2950 - accuracy: 0.9130 - 418ms/epoch - 13ms/step\n",
      "\u001b[2m\u001b[36m(launch_and_evaluate pid=10717)\u001b[0m 32/32 - 0s - loss: 0.2652 - accuracy: 0.9170 - 437ms/epoch - 14ms/step\n",
      "\u001b[2m\u001b[36m(launch_and_fit pid=10716)\u001b[0m 188/188 - 8s - loss: 0.2660 - accuracy: 0.9185 - 8s/epoch - 41ms/step\n",
      "\u001b[2m\u001b[36m(launch_and_fit pid=10718)\u001b[0m 188/188 - 8s - loss: 0.2641 - accuracy: 0.9207 - 8s/epoch - 41ms/step\n",
      "\u001b[2m\u001b[36m(launch_and_fit pid=10717)\u001b[0m 188/188 - 8s - loss: 0.2851 - accuracy: 0.9167 - 8s/epoch - 41ms/step\n",
      "\u001b[2m\u001b[36m(launch_and_fit pid=10715)\u001b[0m 188/188 - 8s - loss: 0.2647 - accuracy: 0.9145 - 8s/epoch - 43ms/step\n",
      "\u001b[2m\u001b[36m(launch_and_fit pid=10717)\u001b[0m 188/188 - 8s - loss: 0.2791 - accuracy: 0.9180 - 8s/epoch - 41ms/step\n",
      "\u001b[2m\u001b[36m(launch_and_fit pid=10716)\u001b[0m 188/188 - 8s - loss: 0.2844 - accuracy: 0.9137 - 8s/epoch - 42ms/step\n",
      "\u001b[2m\u001b[36m(launch_and_fit pid=10718)\u001b[0m 188/188 - 8s - loss: 0.2676 - accuracy: 0.9202 - 8s/epoch - 42ms/step\n",
      "\u001b[2m\u001b[36m(launch_and_fit pid=10715)\u001b[0m 188/188 - 8s - loss: 0.2549 - accuracy: 0.9240 - 8s/epoch - 43ms/step\n"
     ]
    },
    {
     "name": "stderr",
     "output_type": "stream",
     "text": [
      "DEBUG flwr 2023-04-16 18:20:19,503 | server.py:229 | fit_round 2 received 9 results and 0 failures\n",
      "DEBUG flwr 2023-04-16 18:20:19,544 | server.py:165 | evaluate_round 2: strategy sampled 10 clients (out of 10)\n"
     ]
    },
    {
     "name": "stdout",
     "output_type": "stream",
     "text": [
      "\u001b[2m\u001b[36m(launch_and_fit pid=10717)\u001b[0m 188/188 - 3s - loss: 0.2553 - accuracy: 0.9190 - 3s/epoch - 17ms/step\n",
      "\u001b[2m\u001b[36m(launch_and_evaluate pid=10715)\u001b[0m 32/32 - 1s - loss: 0.2044 - accuracy: 0.9420 - 611ms/epoch - 19ms/step\n",
      "\u001b[2m\u001b[36m(launch_and_evaluate pid=10716)\u001b[0m 32/32 - 1s - loss: 0.1494 - accuracy: 0.9570 - 618ms/epoch - 19ms/step\n",
      "\u001b[2m\u001b[36m(launch_and_evaluate pid=10717)\u001b[0m 32/32 - 1s - loss: 0.1841 - accuracy: 0.9400 - 805ms/epoch - 25ms/step\n",
      "\u001b[2m\u001b[36m(launch_and_evaluate pid=10718)\u001b[0m 32/32 - 1s - loss: 0.1444 - accuracy: 0.9620 - 829ms/epoch - 26ms/step\n",
      "\u001b[2m\u001b[36m(launch_and_evaluate pid=10715)\u001b[0m 32/32 - 1s - loss: 0.1536 - accuracy: 0.9620 - 564ms/epoch - 18ms/step\n",
      "\u001b[2m\u001b[36m(launch_and_evaluate pid=10716)\u001b[0m 32/32 - 1s - loss: 0.1561 - accuracy: 0.9560 - 792ms/epoch - 25ms/step\n",
      "\u001b[2m\u001b[36m(launch_and_evaluate pid=10718)\u001b[0m 32/32 - 1s - loss: 0.1693 - accuracy: 0.9500 - 631ms/epoch - 20ms/step\n",
      "\u001b[2m\u001b[36m(launch_and_evaluate pid=10717)\u001b[0m 32/32 - 1s - loss: 0.1759 - accuracy: 0.9440 - 645ms/epoch - 20ms/step\n"
     ]
    },
    {
     "name": "stderr",
     "output_type": "stream",
     "text": [
      "DEBUG flwr 2023-04-16 18:20:23,393 | server.py:179 | evaluate_round 2 received 10 results and 0 failures\n",
      "DEBUG flwr 2023-04-16 18:20:23,394 | server.py:215 | fit_round 3: strategy sampled 9 clients (out of 10)\n"
     ]
    },
    {
     "name": "stdout",
     "output_type": "stream",
     "text": [
      "\u001b[2m\u001b[36m(launch_and_evaluate pid=10716)\u001b[0m 32/32 - 0s - loss: 0.1904 - accuracy: 0.9500 - 422ms/epoch - 13ms/step\n",
      "\u001b[2m\u001b[36m(launch_and_evaluate pid=10715)\u001b[0m 32/32 - 0s - loss: 0.1660 - accuracy: 0.9530 - 426ms/epoch - 13ms/step\n",
      "\u001b[2m\u001b[36m(launch_and_fit pid=10716)\u001b[0m 188/188 - 8s - loss: 0.1960 - accuracy: 0.9422 - 8s/epoch - 41ms/step\n",
      "\u001b[2m\u001b[36m(launch_and_fit pid=10717)\u001b[0m 188/188 - 8s - loss: 0.1810 - accuracy: 0.9422 - 8s/epoch - 43ms/step\n",
      "\u001b[2m\u001b[36m(launch_and_fit pid=10715)\u001b[0m 188/188 - 8s - loss: 0.2131 - accuracy: 0.9395 - 8s/epoch - 44ms/step\n",
      "\u001b[2m\u001b[36m(launch_and_fit pid=10718)\u001b[0m 188/188 - 8s - loss: 0.2073 - accuracy: 0.9382 - 8s/epoch - 44ms/step\n",
      "\u001b[2m\u001b[36m(launch_and_fit pid=10716)\u001b[0m 188/188 - 8s - loss: 0.1820 - accuracy: 0.9418 - 8s/epoch - 41ms/step\n",
      "\u001b[2m\u001b[36m(launch_and_fit pid=10715)\u001b[0m 188/188 - 8s - loss: 0.2018 - accuracy: 0.9368 - 8s/epoch - 44ms/step\n",
      "\u001b[2m\u001b[36m(launch_and_fit pid=10717)\u001b[0m 188/188 - 8s - loss: 0.2002 - accuracy: 0.9400 - 8s/epoch - 44ms/step\n",
      "\u001b[2m\u001b[36m(launch_and_fit pid=10718)\u001b[0m 188/188 - 9s - loss: 0.2006 - accuracy: 0.9412 - 9s/epoch - 45ms/step\n"
     ]
    },
    {
     "name": "stderr",
     "output_type": "stream",
     "text": [
      "DEBUG flwr 2023-04-16 18:20:45,372 | server.py:229 | fit_round 3 received 9 results and 0 failures\n",
      "DEBUG flwr 2023-04-16 18:20:45,413 | server.py:165 | evaluate_round 3: strategy sampled 10 clients (out of 10)\n"
     ]
    },
    {
     "name": "stdout",
     "output_type": "stream",
     "text": [
      "\u001b[2m\u001b[36m(launch_and_fit pid=10716)\u001b[0m 188/188 - 4s - loss: 0.1931 - accuracy: 0.9418 - 4s/epoch - 20ms/step\n",
      "\u001b[2m\u001b[36m(launch_and_evaluate pid=10716)\u001b[0m 32/32 - 1s - loss: 0.1515 - accuracy: 0.9510 - 823ms/epoch - 26ms/step\n",
      "\u001b[2m\u001b[36m(launch_and_evaluate pid=10717)\u001b[0m 32/32 - 1s - loss: 0.1386 - accuracy: 0.9520 - 787ms/epoch - 25ms/step\n",
      "\u001b[2m\u001b[36m(launch_and_evaluate pid=10718)\u001b[0m 32/32 - 1s - loss: 0.1334 - accuracy: 0.9630 - 866ms/epoch - 27ms/step\n",
      "\u001b[2m\u001b[36m(launch_and_evaluate pid=10715)\u001b[0m 32/32 - 1s - loss: 0.1130 - accuracy: 0.9660 - 830ms/epoch - 26ms/step\n",
      "\u001b[2m\u001b[36m(launch_and_evaluate pid=10716)\u001b[0m 32/32 - 1s - loss: 0.1183 - accuracy: 0.9610 - 595ms/epoch - 19ms/step\n",
      "\u001b[2m\u001b[36m(launch_and_evaluate pid=10718)\u001b[0m 32/32 - 1s - loss: 0.1502 - accuracy: 0.9550 - 609ms/epoch - 19ms/step\n",
      "\u001b[2m\u001b[36m(launch_and_evaluate pid=10717)\u001b[0m 32/32 - 1s - loss: 0.1509 - accuracy: 0.9510 - 708ms/epoch - 22ms/step\n",
      "\u001b[2m\u001b[36m(launch_and_evaluate pid=10715)\u001b[0m 32/32 - 1s - loss: 0.1252 - accuracy: 0.9640 - 649ms/epoch - 20ms/step\n"
     ]
    },
    {
     "name": "stderr",
     "output_type": "stream",
     "text": [
      "DEBUG flwr 2023-04-16 18:20:49,668 | server.py:179 | evaluate_round 3 received 10 results and 0 failures\n",
      "DEBUG flwr 2023-04-16 18:20:49,668 | server.py:215 | fit_round 4: strategy sampled 9 clients (out of 10)\n"
     ]
    },
    {
     "name": "stdout",
     "output_type": "stream",
     "text": [
      "\u001b[2m\u001b[36m(launch_and_evaluate pid=10716)\u001b[0m 32/32 - 1s - loss: 0.1303 - accuracy: 0.9610 - 660ms/epoch - 21ms/step\n",
      "\u001b[2m\u001b[36m(launch_and_evaluate pid=10717)\u001b[0m 32/32 - 1s - loss: 0.1299 - accuracy: 0.9600 - 593ms/epoch - 19ms/step\n",
      "\u001b[2m\u001b[36m(launch_and_fit pid=10716)\u001b[0m 188/188 - 9s - loss: 0.1569 - accuracy: 0.9500 - 9s/epoch - 49ms/step\n",
      "\u001b[2m\u001b[36m(launch_and_fit pid=10715)\u001b[0m 188/188 - 9s - loss: 0.1593 - accuracy: 0.9510 - 9s/epoch - 50ms/step\n",
      "\u001b[2m\u001b[36m(launch_and_fit pid=10717)\u001b[0m 188/188 - 9s - loss: 0.1625 - accuracy: 0.9528 - 9s/epoch - 50ms/step\n",
      "\u001b[2m\u001b[36m(launch_and_fit pid=10718)\u001b[0m 188/188 - 10s - loss: 0.1649 - accuracy: 0.9492 - 10s/epoch - 51ms/step\n",
      "\u001b[2m\u001b[36m(launch_and_fit pid=10716)\u001b[0m 188/188 - 8s - loss: 0.1641 - accuracy: 0.9482 - 8s/epoch - 42ms/step\n",
      "\u001b[2m\u001b[36m(launch_and_fit pid=10718)\u001b[0m 188/188 - 9s - loss: 0.1607 - accuracy: 0.9515 - 9s/epoch - 46ms/step\n",
      "\u001b[2m\u001b[36m(launch_and_fit pid=10717)\u001b[0m 188/188 - 9s - loss: 0.1517 - accuracy: 0.9545 - 9s/epoch - 46ms/step\n",
      "\u001b[2m\u001b[36m(launch_and_fit pid=10715)\u001b[0m 188/188 - 9s - loss: 0.1649 - accuracy: 0.9513 - 9s/epoch - 47ms/step\n"
     ]
    },
    {
     "name": "stderr",
     "output_type": "stream",
     "text": [
      "DEBUG flwr 2023-04-16 18:21:12,547 | server.py:229 | fit_round 4 received 9 results and 0 failures\n",
      "DEBUG flwr 2023-04-16 18:21:12,587 | server.py:165 | evaluate_round 4: strategy sampled 10 clients (out of 10)\n"
     ]
    },
    {
     "name": "stdout",
     "output_type": "stream",
     "text": [
      "\u001b[2m\u001b[36m(launch_and_fit pid=10716)\u001b[0m 188/188 - 3s - loss: 0.1718 - accuracy: 0.9505 - 3s/epoch - 17ms/step\n",
      "\u001b[2m\u001b[36m(launch_and_evaluate pid=10716)\u001b[0m 32/32 - 1s - loss: 0.1049 - accuracy: 0.9650 - 742ms/epoch - 23ms/step\n",
      "\u001b[2m\u001b[36m(launch_and_evaluate pid=10718)\u001b[0m 32/32 - 1s - loss: 0.1107 - accuracy: 0.9640 - 791ms/epoch - 25ms/step\n",
      "\u001b[2m\u001b[36m(launch_and_evaluate pid=10715)\u001b[0m 32/32 - 1s - loss: 0.1052 - accuracy: 0.9680 - 818ms/epoch - 26ms/step\n",
      "\u001b[2m\u001b[36m(launch_and_evaluate pid=10717)\u001b[0m 32/32 - 1s - loss: 0.1018 - accuracy: 0.9740 - 799ms/epoch - 25ms/step\n",
      "\u001b[2m\u001b[36m(launch_and_evaluate pid=10718)\u001b[0m 32/32 - 1s - loss: 0.1207 - accuracy: 0.9610 - 576ms/epoch - 18ms/step\n",
      "\u001b[2m\u001b[36m(launch_and_evaluate pid=10715)\u001b[0m 32/32 - 1s - loss: 0.1291 - accuracy: 0.9580 - 574ms/epoch - 18ms/step\n",
      "\u001b[2m\u001b[36m(launch_and_evaluate pid=10716)\u001b[0m 32/32 - 1s - loss: 0.1027 - accuracy: 0.9640 - 659ms/epoch - 21ms/step\n",
      "\u001b[2m\u001b[36m(launch_and_evaluate pid=10717)\u001b[0m 32/32 - 1s - loss: 0.1198 - accuracy: 0.9580 - 716ms/epoch - 22ms/step\n"
     ]
    },
    {
     "name": "stderr",
     "output_type": "stream",
     "text": [
      "DEBUG flwr 2023-04-16 18:21:16,343 | server.py:179 | evaluate_round 4 received 10 results and 0 failures\n",
      "DEBUG flwr 2023-04-16 18:21:16,346 | server.py:215 | fit_round 5: strategy sampled 9 clients (out of 10)\n"
     ]
    },
    {
     "name": "stdout",
     "output_type": "stream",
     "text": [
      "\u001b[2m\u001b[36m(launch_and_evaluate pid=10718)\u001b[0m 32/32 - 0s - loss: 0.1191 - accuracy: 0.9620 - 494ms/epoch - 15ms/step\n",
      "\u001b[2m\u001b[36m(launch_and_evaluate pid=10715)\u001b[0m 32/32 - 1s - loss: 0.1074 - accuracy: 0.9660 - 538ms/epoch - 17ms/step\n",
      "\u001b[2m\u001b[36m(launch_and_fit pid=10716)\u001b[0m 188/188 - 9s - loss: 0.1445 - accuracy: 0.9582 - 9s/epoch - 50ms/step\n",
      "\u001b[2m\u001b[36m(launch_and_fit pid=10715)\u001b[0m 188/188 - 10s - loss: 0.1332 - accuracy: 0.9598 - 10s/epoch - 51ms/step\n",
      "\u001b[2m\u001b[36m(launch_and_fit pid=10718)\u001b[0m 188/188 - 10s - loss: 0.1334 - accuracy: 0.9587 - 10s/epoch - 53ms/step\n",
      "\u001b[2m\u001b[36m(launch_and_fit pid=10717)\u001b[0m 188/188 - 10s - loss: 0.1301 - accuracy: 0.9617 - 10s/epoch - 55ms/step\n",
      "\u001b[2m\u001b[36m(launch_and_fit pid=10716)\u001b[0m 188/188 - 8s - loss: 0.1343 - accuracy: 0.9585 - 8s/epoch - 44ms/step\n",
      "\u001b[2m\u001b[36m(launch_and_fit pid=10715)\u001b[0m 188/188 - 9s - loss: 0.1309 - accuracy: 0.9620 - 9s/epoch - 46ms/step\n",
      "\u001b[2m\u001b[36m(launch_and_fit pid=10718)\u001b[0m 188/188 - 9s - loss: 0.1348 - accuracy: 0.9575 - 9s/epoch - 47ms/step\n",
      "\u001b[2m\u001b[36m(launch_and_fit pid=10717)\u001b[0m 188/188 - 9s - loss: 0.1391 - accuracy: 0.9593 - 9s/epoch - 49ms/step\n"
     ]
    },
    {
     "name": "stderr",
     "output_type": "stream",
     "text": [
      "DEBUG flwr 2023-04-16 18:21:40,304 | server.py:229 | fit_round 5 received 9 results and 0 failures\n",
      "DEBUG flwr 2023-04-16 18:21:40,356 | server.py:165 | evaluate_round 5: strategy sampled 10 clients (out of 10)\n"
     ]
    },
    {
     "name": "stdout",
     "output_type": "stream",
     "text": [
      "\u001b[2m\u001b[36m(launch_and_fit pid=10716)\u001b[0m 188/188 - 4s - loss: 0.1370 - accuracy: 0.9583 - 4s/epoch - 19ms/step\n",
      "\u001b[2m\u001b[36m(launch_and_evaluate pid=10717)\u001b[0m 32/32 - 1s - loss: 0.1039 - accuracy: 0.9680 - 691ms/epoch - 22ms/step\n",
      "\u001b[2m\u001b[36m(launch_and_evaluate pid=10718)\u001b[0m 32/32 - 1s - loss: 0.0947 - accuracy: 0.9750 - 740ms/epoch - 23ms/step\n",
      "\u001b[2m\u001b[36m(launch_and_evaluate pid=10715)\u001b[0m 32/32 - 1s - loss: 0.0709 - accuracy: 0.9770 - 910ms/epoch - 28ms/step\n",
      "\u001b[2m\u001b[36m(launch_and_evaluate pid=10716)\u001b[0m 32/32 - 1s - loss: 0.1159 - accuracy: 0.9620 - 1s/epoch - 36ms/step\n",
      "\u001b[2m\u001b[36m(launch_and_evaluate pid=10717)\u001b[0m 32/32 - 1s - loss: 0.0850 - accuracy: 0.9730 - 799ms/epoch - 25ms/step\n",
      "\u001b[2m\u001b[36m(launch_and_evaluate pid=10718)\u001b[0m 32/32 - 1s - loss: 0.1015 - accuracy: 0.9700 - 958ms/epoch - 30ms/step\n",
      "\u001b[2m\u001b[36m(launch_and_evaluate pid=10715)\u001b[0m 32/32 - 1s - loss: 0.0896 - accuracy: 0.9700 - 903ms/epoch - 28ms/step\n",
      "\u001b[2m\u001b[36m(launch_and_evaluate pid=10716)\u001b[0m 32/32 - 1s - loss: 0.0869 - accuracy: 0.9750 - 827ms/epoch - 26ms/step\n"
     ]
    },
    {
     "name": "stderr",
     "output_type": "stream",
     "text": [
      "DEBUG flwr 2023-04-16 18:21:44,651 | server.py:179 | evaluate_round 5 received 10 results and 0 failures\n",
      "INFO flwr 2023-04-16 18:21:44,651 | server.py:144 | FL finished in 132.60179025399702\n",
      "INFO flwr 2023-04-16 18:21:44,653 | app.py:202 | app_fit: losses_distributed [(1, 0.275236240029335), (2, 0.169368377327919), (3, 0.13412831202149392), (4, 0.11213160380721092), (5, 0.09163751602172851)]\n",
      "INFO flwr 2023-04-16 18:21:44,654 | app.py:203 | app_fit: metrics_distributed {'accuracy': [(1, 0.9197000026702881), (2, 0.9515999972820282), (3, 0.9583999991416932), (4, 0.9639999985694885), (5, 0.9724000096321106)]}\n",
      "INFO flwr 2023-04-16 18:21:44,654 | app.py:204 | app_fit: losses_centralized []\n",
      "INFO flwr 2023-04-16 18:21:44,656 | app.py:205 | app_fit: metrics_centralized {}\n"
     ]
    },
    {
     "name": "stdout",
     "output_type": "stream",
     "text": [
      "\u001b[2m\u001b[36m(launch_and_evaluate pid=10717)\u001b[0m 32/32 - 0s - loss: 0.0795 - accuracy: 0.9800 - 443ms/epoch - 14ms/step\n"
     ]
    }
   ],
   "source": [
    "num_clients = 10\n",
    "\n",
    "# Create FedAvg strategy\n",
    "strategy = fl.server.strategy.FedAvg(\n",
    "    fraction_fit=0.9,  \n",
    "    fraction_evaluate=1,  \n",
    "    min_fit_clients=9,  \n",
    "    min_evaluate_clients=9,  \n",
    "    min_available_clients=int(\n",
    "        num_clients * 0.9\n",
    "    ),  \n",
    "    evaluate_metrics_aggregation_fn=weighted_average,\n",
    ")\n",
    "\n",
    "# Start simulation\n",
    "history = fl.simulation.start_simulation(\n",
    "    client_fn=client_fn_random,\n",
    "    num_clients=num_clients,\n",
    "    config=fl.server.ServerConfig(num_rounds=5),\n",
    "    strategy=strategy,\n",
    "    \n",
    ")"
   ]
  },
  {
   "cell_type": "markdown",
   "metadata": {
    "id": "ZjQznojrgy46"
   },
   "source": [
    "Printamos os resultados do treinamento retornados no formato do objeto *history*. Ele tem dois atributos: um dicionário com a média da função de perda a cada *round* e um dicionário com os valores das métricas agregadas a cada *round*, calculadas pela função de agregação. \n",
    "\n",
    "Podemos observar a evolução destes dois valores a cada *round*. Para os 4 primeiros *rounds* tivemos uma melhora do valor da função de perda e da acurácia, mas no último *round* a função de perda diminuiu pouco e a acurácia se manteve estável.\n",
    "\n",
    "O número de *rounds* de treinamento é um valor muito importante para o aprendizado federado. Similar ao número de épocas de treinamento no aprendizado local, precisamos de *rounds* suficientes para que o modelo convirja com pesos adequados, mas temos que tomar cuidado para não causar o *overfitting* da rede, caso tenhamos muitos *rounds*."
   ]
  },
  {
   "cell_type": "code",
   "execution_count": 23,
   "metadata": {
    "colab": {
     "base_uri": "https://localhost:8080/"
    },
    "id": "DLw296UPIIIw",
    "outputId": "622775bf-2f62-46ee-f710-30719d6e9407"
   },
   "outputs": [
    {
     "name": "stdout",
     "output_type": "stream",
     "text": [
      "History (loss, distributed):\n",
      "\tround 1: 0.275236240029335\n",
      "\tround 2: 0.169368377327919\n",
      "\tround 3: 0.13412831202149392\n",
      "\tround 4: 0.11213160380721092\n",
      "\tround 5: 0.09163751602172851\n",
      "History (metrics, distributed):\n",
      "{'accuracy': [(1, 0.9197000026702881), (2, 0.9515999972820282), (3, 0.9583999991416932), (4, 0.9639999985694885), (5, 0.9724000096321106)]}\n",
      "\u001b[2m\u001b[36m(launch_and_evaluate pid=10718)\u001b[0m 32/32 - 0s - loss: 0.0885 - accuracy: 0.9740 - 417ms/epoch - 13ms/step\n"
     ]
    }
   ],
   "source": [
    "print(history)"
   ]
  },
  {
   "cell_type": "markdown",
   "metadata": {
    "id": "QbSgu-8-lDm5"
   },
   "source": [
    "A seguir plotaremos a acurácia por *round*. Observe que ela parece estar tendendo a aumentar a cada *round* e, **talvez**, se aumentássemos o numero de *rounds* teríamos uma acurácia ainda melhor."
   ]
  },
  {
   "cell_type": "code",
   "execution_count": 24,
   "metadata": {
    "colab": {
     "base_uri": "https://localhost:8080/",
     "height": 449
    },
    "id": "K0OJfjkxW9NX",
    "outputId": "d115a3bd-dddf-4306-9824-97364c6d7aee"
   },
   "outputs": [
    {
     "data": {
      "image/png": "[encoded data removed]",
      "text/plain": [
       "<Figure size 640x480 with 1 Axes>"
      ]
     },
     "metadata": {},
     "output_type": "display_data"
    }
   ],
   "source": [
    "plt.plot(*zip(*history.metrics_distributed['accuracy']))\n",
    "plt.xlabel(\"Rounds\")\n",
    "plt.ylabel(\"Accuracy\")\n",
    "plt.show()"
   ]
  },
  {
   "cell_type": "markdown",
   "metadata": {
    "id": "5R6RJStQTnCc"
   },
   "source": [
    "#### Atividades"
   ]
  },
  {
   "cell_type": "markdown",
   "metadata": {
    "id": "n8LqayNw6xLV"
   },
   "source": [
    "**Atividade 1** \n",
    "\n",
    "Durante a configuração do treinamento federado definimos valores para muitos hyper-parâmetros. Um dos mais importantes é foi o número de *rounds*. Por isso nesta tarefa vocês deverão treinar a rede de maneira federada variando o número de rounds em diferentes valores. \n",
    "\n",
    " \n",
    "\n",
    "*   Os valores a serem usados para o número de *rounds* são 10, 15, 20;\n",
    "*   Para cada valor deve-se plotar um gráfico de linha que relaciona o número de *rounds* com a acurácia obtida naquele número de *rounds*.\n",
    "\n",
    "Além   disso deve-se comparar a desempenho do modelo federado com os diferentes valores de *rounds* e o  desempenho encontrado quando treinamos localmente a rede neural.\n",
    "\n",
    "\n",
    "\n"
   ]
  },
  {
   "cell_type": "markdown",
   "metadata": {
    "id": "tkS1L8VxF3wz"
   },
   "source": [
    "## Simulação com 10 rounds"
   ]
  },
  {
   "cell_type": "code",
   "execution_count": 25,
   "metadata": {
    "colab": {
     "base_uri": "https://localhost:8080/"
    },
    "id": "0zJ4uBCWEsS1",
    "outputId": "2eb4136d-bd28-44f0-d6d8-9dece1b2e778"
   },
   "outputs": [
    {
     "name": "stderr",
     "output_type": "stream",
     "text": [
      "INFO flwr 2023-04-16 18:31:53,627 | app.py:145 | Starting Flower simulation, config: ServerConfig(num_rounds=10, round_timeout=None)\n",
      "2023-04-16 18:31:58,097\tINFO worker.py:1529 -- Started a local Ray instance. View the dashboard at \u001b[1m\u001b[32m127.0.0.1:8265 \u001b[39m\u001b[22m\n",
      "INFO flwr 2023-04-16 18:31:59,254 | app.py:179 | Flower VCE: Ray initialized with resources: {'memory': 4102103040.0, 'CPU': 4.0, 'object_store_memory': 2051051520.0, 'node:192.168.42.146': 1.0}\n",
      "INFO flwr 2023-04-16 18:31:59,257 | server.py:86 | Initializing global parameters\n",
      "INFO flwr 2023-04-16 18:31:59,258 | server.py:270 | Requesting initial parameters from one random client\n",
      "INFO flwr 2023-04-16 18:32:02,263 | server.py:274 | Received initial parameters from one random client\n",
      "INFO flwr 2023-04-16 18:32:02,263 | server.py:88 | Evaluating initial parameters\n",
      "INFO flwr 2023-04-16 18:32:02,265 | server.py:101 | FL starting\n",
      "DEBUG flwr 2023-04-16 18:32:02,265 | server.py:215 | fit_round 1: strategy sampled 9 clients (out of 10)\n"
     ]
    },
    {
     "name": "stdout",
     "output_type": "stream",
     "text": [
      "\u001b[2m\u001b[36m(launch_and_fit pid=12318)\u001b[0m 188/188 - 7s - loss: 0.5175 - accuracy: 0.8387 - 7s/epoch - 40ms/step\n",
      "\u001b[2m\u001b[36m(launch_and_fit pid=12317)\u001b[0m 188/188 - 8s - loss: 0.5062 - accuracy: 0.8407 - 8s/epoch - 40ms/step\n",
      "\u001b[2m\u001b[36m(launch_and_fit pid=12316)\u001b[0m 188/188 - 8s - loss: 0.4953 - accuracy: 0.8402 - 8s/epoch - 41ms/step\n",
      "\u001b[2m\u001b[36m(launch_and_fit pid=12315)\u001b[0m 188/188 - 8s - loss: 0.4784 - accuracy: 0.8513 - 8s/epoch - 41ms/step\n",
      "\u001b[2m\u001b[36m(launch_and_fit pid=12318)\u001b[0m 188/188 - 8s - loss: 0.4966 - accuracy: 0.8388 - 8s/epoch - 42ms/step\n",
      "\u001b[2m\u001b[36m(launch_and_fit pid=12316)\u001b[0m 188/188 - 8s - loss: 0.4757 - accuracy: 0.8495 - 8s/epoch - 44ms/step\n",
      "\u001b[2m\u001b[36m(launch_and_fit pid=12317)\u001b[0m 188/188 - 9s - loss: 0.4748 - accuracy: 0.8555 - 9s/epoch - 45ms/step\n",
      "\u001b[2m\u001b[36m(launch_and_fit pid=12315)\u001b[0m 188/188 - 9s - loss: 0.4903 - accuracy: 0.8435 - 9s/epoch - 46ms/step\n",
      "\u001b[2m\u001b[36m(launch_and_fit pid=12318)\u001b[0m 188/188 - 6s - loss: 0.5000 - accuracy: 0.8468 - 6s/epoch - 33ms/step\n"
     ]
    },
    {
     "name": "stderr",
     "output_type": "stream",
     "text": [
      "DEBUG flwr 2023-04-16 18:32:27,937 | server.py:229 | fit_round 1 received 9 results and 0 failures\n",
      "WARNING flwr 2023-04-16 18:32:27,987 | fedavg.py:242 | No fit_metrics_aggregation_fn provided\n",
      "DEBUG flwr 2023-04-16 18:32:27,988 | server.py:165 | evaluate_round 1: strategy sampled 10 clients (out of 10)\n"
     ]
    },
    {
     "name": "stdout",
     "output_type": "stream",
     "text": [
      "\u001b[2m\u001b[36m(launch_and_evaluate pid=12318)\u001b[0m 32/32 - 1s - loss: 0.2247 - accuracy: 0.9370 - 803ms/epoch - 25ms/step\n",
      "\u001b[2m\u001b[36m(launch_and_evaluate pid=12316)\u001b[0m 32/32 - 1s - loss: 0.2075 - accuracy: 0.9430 - 872ms/epoch - 27ms/step\n",
      "\u001b[2m\u001b[36m(launch_and_evaluate pid=12315)\u001b[0m 32/32 - 1s - loss: 0.2327 - accuracy: 0.9430 - 866ms/epoch - 27ms/step\n",
      "\u001b[2m\u001b[36m(launch_and_evaluate pid=12317)\u001b[0m 32/32 - 1s - loss: 0.2203 - accuracy: 0.9340 - 934ms/epoch - 29ms/step\n",
      "\u001b[2m\u001b[36m(launch_and_evaluate pid=12317)\u001b[0m 32/32 - 1s - loss: 0.2395 - accuracy: 0.9340 - 615ms/epoch - 19ms/step\n",
      "\u001b[2m\u001b[36m(launch_and_evaluate pid=12318)\u001b[0m 32/32 - 1s - loss: 0.2305 - accuracy: 0.9250 - 727ms/epoch - 23ms/step\n",
      "\u001b[2m\u001b[36m(launch_and_evaluate pid=12316)\u001b[0m 32/32 - 1s - loss: 0.1906 - accuracy: 0.9480 - 677ms/epoch - 21ms/step\n",
      "\u001b[2m\u001b[36m(launch_and_evaluate pid=12315)\u001b[0m 32/32 - 1s - loss: 0.2456 - accuracy: 0.9270 - 779ms/epoch - 24ms/step\n"
     ]
    },
    {
     "name": "stderr",
     "output_type": "stream",
     "text": [
      "DEBUG flwr 2023-04-16 18:32:31,953 | server.py:179 | evaluate_round 1 received 10 results and 0 failures\n",
      "DEBUG flwr 2023-04-16 18:32:31,953 | server.py:215 | fit_round 2: strategy sampled 9 clients (out of 10)\n"
     ]
    },
    {
     "name": "stdout",
     "output_type": "stream",
     "text": [
      "\u001b[2m\u001b[36m(launch_and_evaluate pid=12317)\u001b[0m 32/32 - 0s - loss: 0.2284 - accuracy: 0.9290 - 437ms/epoch - 14ms/step\n",
      "\u001b[2m\u001b[36m(launch_and_evaluate pid=12316)\u001b[0m 32/32 - 0s - loss: 0.2378 - accuracy: 0.9260 - 433ms/epoch - 14ms/step\n",
      "\u001b[2m\u001b[36m(launch_and_fit pid=12317)\u001b[0m 188/188 - 9s - loss: 0.2287 - accuracy: 0.9307 - 9s/epoch - 47ms/step\n",
      "\u001b[2m\u001b[36m(launch_and_fit pid=12316)\u001b[0m 188/188 - 9s - loss: 0.2418 - accuracy: 0.9217 - 9s/epoch - 47ms/step\n",
      "\u001b[2m\u001b[36m(launch_and_fit pid=12315)\u001b[0m 188/188 - 9s - loss: 0.2347 - accuracy: 0.9295 - 9s/epoch - 47ms/step\n",
      "\u001b[2m\u001b[36m(launch_and_fit pid=12318)\u001b[0m 188/188 - 9s - loss: 0.2483 - accuracy: 0.9247 - 9s/epoch - 48ms/step\n",
      "\u001b[2m\u001b[36m(launch_and_fit pid=12316)\u001b[0m 188/188 - 9s - loss: 0.2388 - accuracy: 0.9300 - 9s/epoch - 50ms/step\n",
      "\u001b[2m\u001b[36m(launch_and_fit pid=12317)\u001b[0m 188/188 - 9s - loss: 0.2259 - accuracy: 0.9322 - 9s/epoch - 50ms/step\n",
      "\u001b[2m\u001b[36m(launch_and_fit pid=12315)\u001b[0m 188/188 - 9s - loss: 0.2326 - accuracy: 0.9277 - 9s/epoch - 50ms/step\n",
      "\u001b[2m\u001b[36m(launch_and_fit pid=12318)\u001b[0m 188/188 - 10s - loss: 0.2241 - accuracy: 0.9298 - 10s/epoch - 52ms/step\n"
     ]
    },
    {
     "name": "stderr",
     "output_type": "stream",
     "text": [
      "DEBUG flwr 2023-04-16 18:32:54,814 | server.py:229 | fit_round 2 received 9 results and 0 failures\n",
      "DEBUG flwr 2023-04-16 18:32:54,874 | server.py:165 | evaluate_round 2: strategy sampled 10 clients (out of 10)\n"
     ]
    },
    {
     "name": "stdout",
     "output_type": "stream",
     "text": [
      "\u001b[2m\u001b[36m(launch_and_fit pid=12316)\u001b[0m 188/188 - 3s - loss: 0.2245 - accuracy: 0.9307 - 3s/epoch - 15ms/step\n",
      "\u001b[2m\u001b[36m(launch_and_evaluate pid=12317)\u001b[0m 32/32 - 1s - loss: 0.1475 - accuracy: 0.9600 - 557ms/epoch - 17ms/step\n",
      "\u001b[2m\u001b[36m(launch_and_evaluate pid=12318)\u001b[0m 32/32 - 1s - loss: 0.1235 - accuracy: 0.9590 - 622ms/epoch - 19ms/step\n",
      "\u001b[2m\u001b[36m(launch_and_evaluate pid=12316)\u001b[0m 32/32 - 1s - loss: 0.1515 - accuracy: 0.9630 - 636ms/epoch - 20ms/step\n",
      "\u001b[2m\u001b[36m(launch_and_evaluate pid=12315)\u001b[0m 32/32 - 1s - loss: 0.1323 - accuracy: 0.9630 - 587ms/epoch - 18ms/step\n",
      "\u001b[2m\u001b[36m(launch_and_evaluate pid=12315)\u001b[0m 32/32 - 1s - loss: 0.1617 - accuracy: 0.9480 - 864ms/epoch - 27ms/step\n",
      "\u001b[2m\u001b[36m(launch_and_evaluate pid=12316)\u001b[0m 32/32 - 1s - loss: 0.1084 - accuracy: 0.9680 - 1s/epoch - 33ms/step\n",
      "\u001b[2m\u001b[36m(launch_and_evaluate pid=12318)\u001b[0m 32/32 - 1s - loss: 0.1418 - accuracy: 0.9620 - 912ms/epoch - 28ms/step\n",
      "\u001b[2m\u001b[36m(launch_and_evaluate pid=12317)\u001b[0m 32/32 - 1s - loss: 0.1149 - accuracy: 0.9690 - 1s/epoch - 40ms/step\n"
     ]
    },
    {
     "name": "stderr",
     "output_type": "stream",
     "text": [
      "DEBUG flwr 2023-04-16 18:32:58,794 | server.py:179 | evaluate_round 2 received 10 results and 0 failures\n",
      "DEBUG flwr 2023-04-16 18:32:58,795 | server.py:215 | fit_round 3: strategy sampled 9 clients (out of 10)\n"
     ]
    },
    {
     "name": "stdout",
     "output_type": "stream",
     "text": [
      "\u001b[2m\u001b[36m(launch_and_evaluate pid=12315)\u001b[0m 32/32 - 0s - loss: 0.1472 - accuracy: 0.9620 - 408ms/epoch - 13ms/step\n",
      "\u001b[2m\u001b[36m(launch_and_evaluate pid=12317)\u001b[0m 32/32 - 0s - loss: 0.1330 - accuracy: 0.9650 - 383ms/epoch - 12ms/step\n",
      "\u001b[2m\u001b[36m(launch_and_fit pid=12316)\u001b[0m 188/188 - 7s - loss: 0.1693 - accuracy: 0.9502 - 7s/epoch - 35ms/step\n",
      "\u001b[2m\u001b[36m(launch_and_fit pid=12317)\u001b[0m 188/188 - 7s - loss: 0.1776 - accuracy: 0.9463 - 7s/epoch - 37ms/step\n",
      "\u001b[2m\u001b[36m(launch_and_fit pid=12315)\u001b[0m 188/188 - 7s - loss: 0.1640 - accuracy: 0.9507 - 7s/epoch - 37ms/step\n",
      "\u001b[2m\u001b[36m(launch_and_fit pid=12318)\u001b[0m 188/188 - 7s - loss: 0.1558 - accuracy: 0.9540 - 7s/epoch - 40ms/step\n",
      "\u001b[2m\u001b[36m(launch_and_fit pid=12316)\u001b[0m 188/188 - 7s - loss: 0.1523 - accuracy: 0.9582 - 7s/epoch - 36ms/step\n",
      "\u001b[2m\u001b[36m(launch_and_fit pid=12317)\u001b[0m 188/188 - 7s - loss: 0.1607 - accuracy: 0.9517 - 7s/epoch - 38ms/step\n",
      "\u001b[2m\u001b[36m(launch_and_fit pid=12315)\u001b[0m 188/188 - 7s - loss: 0.1617 - accuracy: 0.9508 - 7s/epoch - 37ms/step\n",
      "\u001b[2m\u001b[36m(launch_and_fit pid=12318)\u001b[0m 188/188 - 7s - loss: 0.1717 - accuracy: 0.9493 - 7s/epoch - 37ms/step\n"
     ]
    },
    {
     "name": "stderr",
     "output_type": "stream",
     "text": [
      "DEBUG flwr 2023-04-16 18:33:17,370 | server.py:229 | fit_round 3 received 9 results and 0 failures\n",
      "DEBUG flwr 2023-04-16 18:33:17,411 | server.py:165 | evaluate_round 3: strategy sampled 10 clients (out of 10)\n"
     ]
    },
    {
     "name": "stdout",
     "output_type": "stream",
     "text": [
      "\u001b[2m\u001b[36m(launch_and_fit pid=12316)\u001b[0m 188/188 - 3s - loss: 0.1761 - accuracy: 0.9472 - 3s/epoch - 14ms/step\n",
      "\u001b[2m\u001b[36m(launch_and_evaluate pid=12318)\u001b[0m 32/32 - 1s - loss: 0.1217 - accuracy: 0.9640 - 579ms/epoch - 18ms/step\n",
      "\u001b[2m\u001b[36m(launch_and_evaluate pid=12317)\u001b[0m 32/32 - 1s - loss: 0.1250 - accuracy: 0.9630 - 594ms/epoch - 19ms/step\n",
      "\u001b[2m\u001b[36m(launch_and_evaluate pid=12316)\u001b[0m 32/32 - 1s - loss: 0.0911 - accuracy: 0.9760 - 572ms/epoch - 18ms/step\n",
      "\u001b[2m\u001b[36m(launch_and_evaluate pid=12315)\u001b[0m 32/32 - 1s - loss: 0.1205 - accuracy: 0.9670 - 748ms/epoch - 23ms/step\n",
      "\u001b[2m\u001b[36m(launch_and_evaluate pid=12318)\u001b[0m 32/32 - 1s - loss: 0.0839 - accuracy: 0.9820 - 573ms/epoch - 18ms/step\n",
      "\u001b[2m\u001b[36m(launch_and_evaluate pid=12316)\u001b[0m 32/32 - 1s - loss: 0.0908 - accuracy: 0.9790 - 574ms/epoch - 18ms/step\n",
      "\u001b[2m\u001b[36m(launch_and_evaluate pid=12317)\u001b[0m 32/32 - 1s - loss: 0.1035 - accuracy: 0.9780 - 685ms/epoch - 21ms/step\n",
      "\u001b[2m\u001b[36m(launch_and_evaluate pid=12315)\u001b[0m 32/32 - 1s - loss: 0.1072 - accuracy: 0.9680 - 624ms/epoch - 20ms/step\n"
     ]
    },
    {
     "name": "stderr",
     "output_type": "stream",
     "text": [
      "DEBUG flwr 2023-04-16 18:33:20,720 | server.py:179 | evaluate_round 3 received 10 results and 0 failures\n",
      "DEBUG flwr 2023-04-16 18:33:20,721 | server.py:215 | fit_round 4: strategy sampled 9 clients (out of 10)\n"
     ]
    },
    {
     "name": "stdout",
     "output_type": "stream",
     "text": [
      "\u001b[2m\u001b[36m(launch_and_evaluate pid=12318)\u001b[0m 32/32 - 0s - loss: 0.1199 - accuracy: 0.9630 - 413ms/epoch - 13ms/step\n",
      "\u001b[2m\u001b[36m(launch_and_evaluate pid=12316)\u001b[0m 32/32 - 0s - loss: 0.1297 - accuracy: 0.9630 - 411ms/epoch - 13ms/step\n",
      "\u001b[2m\u001b[36m(launch_and_fit pid=12317)\u001b[0m 188/188 - 7s - loss: 0.1307 - accuracy: 0.9618 - 7s/epoch - 35ms/step\n",
      "\u001b[2m\u001b[36m(launch_and_fit pid=12318)\u001b[0m 188/188 - 7s - loss: 0.1270 - accuracy: 0.9587 - 7s/epoch - 37ms/step\n",
      "\u001b[2m\u001b[36m(launch_and_fit pid=12316)\u001b[0m 188/188 - 7s - loss: 0.1250 - accuracy: 0.9620 - 7s/epoch - 38ms/step\n",
      "\u001b[2m\u001b[36m(launch_and_fit pid=12315)\u001b[0m 188/188 - 7s - loss: 0.1242 - accuracy: 0.9613 - 7s/epoch - 38ms/step\n",
      "\u001b[2m\u001b[36m(launch_and_fit pid=12317)\u001b[0m 188/188 - 7s - loss: 0.1209 - accuracy: 0.9633 - 7s/epoch - 37ms/step\n",
      "\u001b[2m\u001b[36m(launch_and_fit pid=12318)\u001b[0m 188/188 - 7s - loss: 0.1244 - accuracy: 0.9647 - 7s/epoch - 38ms/step\n",
      "\u001b[2m\u001b[36m(launch_and_fit pid=12316)\u001b[0m 188/188 - 7s - loss: 0.1288 - accuracy: 0.9618 - 7s/epoch - 39ms/step\n",
      "\u001b[2m\u001b[36m(launch_and_fit pid=12315)\u001b[0m 188/188 - 7s - loss: 0.1318 - accuracy: 0.9615 - 7s/epoch - 39ms/step\n",
      "\u001b[2m\u001b[36m(launch_and_fit pid=12317)\u001b[0m 188/188 - 3s - loss: 0.1312 - accuracy: 0.9623 - 3s/epoch - 14ms/step\n"
     ]
    },
    {
     "name": "stderr",
     "output_type": "stream",
     "text": [
      "DEBUG flwr 2023-04-16 18:33:39,741 | server.py:229 | fit_round 4 received 9 results and 0 failures\n",
      "DEBUG flwr 2023-04-16 18:33:39,788 | server.py:165 | evaluate_round 4: strategy sampled 10 clients (out of 10)\n"
     ]
    },
    {
     "name": "stdout",
     "output_type": "stream",
     "text": [
      "\u001b[2m\u001b[36m(launch_and_evaluate pid=12318)\u001b[0m 32/32 - 1s - loss: 0.1201 - accuracy: 0.9590 - 572ms/epoch - 18ms/step\n",
      "\u001b[2m\u001b[36m(launch_and_evaluate pid=12317)\u001b[0m 32/32 - 1s - loss: 0.0869 - accuracy: 0.9710 - 634ms/epoch - 20ms/step\n",
      "\u001b[2m\u001b[36m(launch_and_evaluate pid=12316)\u001b[0m 32/32 - 1s - loss: 0.0736 - accuracy: 0.9730 - 593ms/epoch - 19ms/step\n",
      "\u001b[2m\u001b[36m(launch_and_evaluate pid=12315)\u001b[0m 32/32 - 1s - loss: 0.0810 - accuracy: 0.9760 - 658ms/epoch - 21ms/step\n",
      "\u001b[2m\u001b[36m(launch_and_evaluate pid=12318)\u001b[0m 32/32 - 1s - loss: 0.0775 - accuracy: 0.9790 - 567ms/epoch - 18ms/step\n",
      "\u001b[2m\u001b[36m(launch_and_evaluate pid=12317)\u001b[0m 32/32 - 1s - loss: 0.0793 - accuracy: 0.9790 - 572ms/epoch - 18ms/step\n",
      "\u001b[2m\u001b[36m(launch_and_evaluate pid=12316)\u001b[0m 32/32 - 1s - loss: 0.0907 - accuracy: 0.9720 - 600ms/epoch - 19ms/step\n",
      "\u001b[2m\u001b[36m(launch_and_evaluate pid=12315)\u001b[0m 32/32 - 1s - loss: 0.0604 - accuracy: 0.9800 - 582ms/epoch - 18ms/step\n"
     ]
    },
    {
     "name": "stderr",
     "output_type": "stream",
     "text": [
      "DEBUG flwr 2023-04-16 18:33:43,101 | server.py:179 | evaluate_round 4 received 10 results and 0 failures\n",
      "DEBUG flwr 2023-04-16 18:33:43,102 | server.py:215 | fit_round 5: strategy sampled 9 clients (out of 10)\n"
     ]
    },
    {
     "name": "stdout",
     "output_type": "stream",
     "text": [
      "\u001b[2m\u001b[36m(launch_and_evaluate pid=12317)\u001b[0m 32/32 - 0s - loss: 0.1030 - accuracy: 0.9710 - 451ms/epoch - 14ms/step\n",
      "\u001b[2m\u001b[36m(launch_and_evaluate pid=12316)\u001b[0m 32/32 - 0s - loss: 0.1097 - accuracy: 0.9720 - 435ms/epoch - 14ms/step\n",
      "\u001b[2m\u001b[36m(launch_and_fit pid=12318)\u001b[0m 188/188 - 7s - loss: 0.1101 - accuracy: 0.9668 - 7s/epoch - 36ms/step\n",
      "\u001b[2m\u001b[36m(launch_and_fit pid=12316)\u001b[0m 188/188 - 7s - loss: 0.1111 - accuracy: 0.9697 - 7s/epoch - 37ms/step\n",
      "\u001b[2m\u001b[36m(launch_and_fit pid=12315)\u001b[0m 188/188 - 7s - loss: 0.1084 - accuracy: 0.9687 - 7s/epoch - 37ms/step\n",
      "\u001b[2m\u001b[36m(launch_and_fit pid=12317)\u001b[0m 188/188 - 7s - loss: 0.1083 - accuracy: 0.9665 - 7s/epoch - 37ms/step\n",
      "\u001b[2m\u001b[36m(launch_and_fit pid=12318)\u001b[0m 188/188 - 7s - loss: 0.1028 - accuracy: 0.9692 - 7s/epoch - 36ms/step\n",
      "\u001b[2m\u001b[36m(launch_and_fit pid=12315)\u001b[0m 188/188 - 7s - loss: 0.1107 - accuracy: 0.9670 - 7s/epoch - 36ms/step\n",
      "\u001b[2m\u001b[36m(launch_and_fit pid=12316)\u001b[0m 188/188 - 7s - loss: 0.0973 - accuracy: 0.9728 - 7s/epoch - 37ms/step\n",
      "\u001b[2m\u001b[36m(launch_and_fit pid=12317)\u001b[0m 188/188 - 7s - loss: 0.1127 - accuracy: 0.9632 - 7s/epoch - 36ms/step\n"
     ]
    },
    {
     "name": "stderr",
     "output_type": "stream",
     "text": [
      "DEBUG flwr 2023-04-16 18:34:01,252 | server.py:229 | fit_round 5 received 9 results and 0 failures\n",
      "DEBUG flwr 2023-04-16 18:34:01,294 | server.py:165 | evaluate_round 5: strategy sampled 10 clients (out of 10)\n"
     ]
    },
    {
     "name": "stdout",
     "output_type": "stream",
     "text": [
      "\u001b[2m\u001b[36m(launch_and_fit pid=12318)\u001b[0m 188/188 - 3s - loss: 0.1142 - accuracy: 0.9657 - 3s/epoch - 15ms/step\n",
      "\u001b[2m\u001b[36m(launch_and_evaluate pid=12318)\u001b[0m 32/32 - 1s - loss: 0.0720 - accuracy: 0.9790 - 594ms/epoch - 19ms/step\n",
      "\u001b[2m\u001b[36m(launch_and_evaluate pid=12317)\u001b[0m 32/32 - 1s - loss: 0.0956 - accuracy: 0.9730 - 538ms/epoch - 17ms/step\n",
      "\u001b[2m\u001b[36m(launch_and_evaluate pid=12315)\u001b[0m 32/32 - 1s - loss: 0.0768 - accuracy: 0.9780 - 578ms/epoch - 18ms/step\n",
      "\u001b[2m\u001b[36m(launch_and_evaluate pid=12316)\u001b[0m 32/32 - 1s - loss: 0.0858 - accuracy: 0.9700 - 615ms/epoch - 19ms/step\n",
      "\u001b[2m\u001b[36m(launch_and_evaluate pid=12318)\u001b[0m 32/32 - 1s - loss: 0.0886 - accuracy: 0.9740 - 543ms/epoch - 17ms/step\n",
      "\u001b[2m\u001b[36m(launch_and_evaluate pid=12317)\u001b[0m 32/32 - 1s - loss: 0.0724 - accuracy: 0.9790 - 561ms/epoch - 18ms/step\n",
      "\u001b[2m\u001b[36m(launch_and_evaluate pid=12316)\u001b[0m 32/32 - 1s - loss: 0.0730 - accuracy: 0.9760 - 546ms/epoch - 17ms/step\n",
      "\u001b[2m\u001b[36m(launch_and_evaluate pid=12315)\u001b[0m 32/32 - 1s - loss: 0.0849 - accuracy: 0.9730 - 781ms/epoch - 24ms/step\n"
     ]
    },
    {
     "name": "stderr",
     "output_type": "stream",
     "text": [
      "DEBUG flwr 2023-04-16 18:34:04,680 | server.py:179 | evaluate_round 5 received 10 results and 0 failures\n",
      "DEBUG flwr 2023-04-16 18:34:04,681 | server.py:215 | fit_round 6: strategy sampled 9 clients (out of 10)\n"
     ]
    },
    {
     "name": "stdout",
     "output_type": "stream",
     "text": [
      "\u001b[2m\u001b[36m(launch_and_evaluate pid=12317)\u001b[0m 32/32 - 0s - loss: 0.0496 - accuracy: 0.9860 - 413ms/epoch - 13ms/step\n",
      "\u001b[2m\u001b[36m(launch_and_evaluate pid=12318)\u001b[0m 32/32 - 0s - loss: 0.0666 - accuracy: 0.9790 - 402ms/epoch - 13ms/step\n",
      "\u001b[2m\u001b[36m(launch_and_fit pid=12317)\u001b[0m 188/188 - 7s - loss: 0.0888 - accuracy: 0.9750 - 7s/epoch - 35ms/step\n",
      "\u001b[2m\u001b[36m(launch_and_fit pid=12318)\u001b[0m 188/188 - 7s - loss: 0.0844 - accuracy: 0.9742 - 7s/epoch - 37ms/step\n",
      "\u001b[2m\u001b[36m(launch_and_fit pid=12316)\u001b[0m 188/188 - 7s - loss: 0.0906 - accuracy: 0.9737 - 7s/epoch - 37ms/step\n",
      "\u001b[2m\u001b[36m(launch_and_fit pid=12315)\u001b[0m 188/188 - 7s - loss: 0.0967 - accuracy: 0.9705 - 7s/epoch - 37ms/step\n",
      "\u001b[2m\u001b[36m(launch_and_fit pid=12317)\u001b[0m 188/188 - 7s - loss: 0.0948 - accuracy: 0.9712 - 7s/epoch - 37ms/step\n",
      "\u001b[2m\u001b[36m(launch_and_fit pid=12316)\u001b[0m 188/188 - 7s - loss: 0.0892 - accuracy: 0.9743 - 7s/epoch - 36ms/step\n",
      "\u001b[2m\u001b[36m(launch_and_fit pid=12315)\u001b[0m 188/188 - 7s - loss: 0.0839 - accuracy: 0.9763 - 7s/epoch - 36ms/step\n",
      "\u001b[2m\u001b[36m(launch_and_fit pid=12318)\u001b[0m 188/188 - 7s - loss: 0.0907 - accuracy: 0.9743 - 7s/epoch - 37ms/step\n"
     ]
    },
    {
     "name": "stderr",
     "output_type": "stream",
     "text": [
      "DEBUG flwr 2023-04-16 18:34:22,951 | server.py:229 | fit_round 6 received 9 results and 0 failures\n",
      "DEBUG flwr 2023-04-16 18:34:22,992 | server.py:165 | evaluate_round 6: strategy sampled 10 clients (out of 10)\n"
     ]
    },
    {
     "name": "stdout",
     "output_type": "stream",
     "text": [
      "\u001b[2m\u001b[36m(launch_and_fit pid=12317)\u001b[0m 188/188 - 3s - loss: 0.0990 - accuracy: 0.9713 - 3s/epoch - 15ms/step\n",
      "\u001b[2m\u001b[36m(launch_and_evaluate pid=12318)\u001b[0m 32/32 - 1s - loss: 0.0845 - accuracy: 0.9700 - 584ms/epoch - 18ms/step\n",
      "\u001b[2m\u001b[36m(launch_and_evaluate pid=12317)\u001b[0m 32/32 - 1s - loss: 0.0712 - accuracy: 0.9840 - 668ms/epoch - 21ms/step\n",
      "\u001b[2m\u001b[36m(launch_and_evaluate pid=12315)\u001b[0m 32/32 - 1s - loss: 0.0931 - accuracy: 0.9710 - 601ms/epoch - 19ms/step\n",
      "\u001b[2m\u001b[36m(launch_and_evaluate pid=12316)\u001b[0m 32/32 - 1s - loss: 0.0549 - accuracy: 0.9850 - 990ms/epoch - 31ms/step\n",
      "\u001b[2m\u001b[36m(launch_and_evaluate pid=12315)\u001b[0m 32/32 - 1s - loss: 0.0650 - accuracy: 0.9790 - 577ms/epoch - 18ms/step\n",
      "\u001b[2m\u001b[36m(launch_and_evaluate pid=12318)\u001b[0m 32/32 - 1s - loss: 0.0764 - accuracy: 0.9760 - 608ms/epoch - 19ms/step\n",
      "\u001b[2m\u001b[36m(launch_and_evaluate pid=12317)\u001b[0m 32/32 - 1s - loss: 0.0786 - accuracy: 0.9760 - 573ms/epoch - 18ms/step\n",
      "\u001b[2m\u001b[36m(launch_and_evaluate pid=12316)\u001b[0m 32/32 - 1s - loss: 0.0618 - accuracy: 0.9830 - 600ms/epoch - 19ms/step\n"
     ]
    },
    {
     "name": "stderr",
     "output_type": "stream",
     "text": [
      "DEBUG flwr 2023-04-16 18:34:26,387 | server.py:179 | evaluate_round 6 received 10 results and 0 failures\n",
      "DEBUG flwr 2023-04-16 18:34:26,388 | server.py:215 | fit_round 7: strategy sampled 9 clients (out of 10)\n"
     ]
    },
    {
     "name": "stdout",
     "output_type": "stream",
     "text": [
      "\u001b[2m\u001b[36m(launch_and_evaluate pid=12318)\u001b[0m 32/32 - 0s - loss: 0.0696 - accuracy: 0.9770 - 459ms/epoch - 14ms/step\n",
      "\u001b[2m\u001b[36m(launch_and_evaluate pid=12315)\u001b[0m 32/32 - 0s - loss: 0.0629 - accuracy: 0.9800 - 458ms/epoch - 14ms/step\n",
      "\u001b[2m\u001b[36m(launch_and_fit pid=12315)\u001b[0m 188/188 - 7s - loss: 0.0774 - accuracy: 0.9778 - 7s/epoch - 36ms/step\n",
      "\u001b[2m\u001b[36m(launch_and_fit pid=12318)\u001b[0m 188/188 - 7s - loss: 0.0717 - accuracy: 0.9793 - 7s/epoch - 37ms/step\n",
      "\u001b[2m\u001b[36m(launch_and_fit pid=12316)\u001b[0m 188/188 - 7s - loss: 0.0840 - accuracy: 0.9770 - 7s/epoch - 37ms/step\n",
      "\u001b[2m\u001b[36m(launch_and_fit pid=12317)\u001b[0m 188/188 - 7s - loss: 0.0672 - accuracy: 0.9817 - 7s/epoch - 38ms/step\n",
      "\u001b[2m\u001b[36m(launch_and_fit pid=12317)\u001b[0m 188/188 - 7s - loss: 0.0812 - accuracy: 0.9768 - 7s/epoch - 37ms/step\n",
      "\u001b[2m\u001b[36m(launch_and_fit pid=12315)\u001b[0m 188/188 - 7s - loss: 0.0757 - accuracy: 0.9783 - 7s/epoch - 38ms/step\n",
      "\u001b[2m\u001b[36m(launch_and_fit pid=12316)\u001b[0m 188/188 - 7s - loss: 0.0829 - accuracy: 0.9755 - 7s/epoch - 37ms/step\n",
      "\u001b[2m\u001b[36m(launch_and_fit pid=12318)\u001b[0m 188/188 - 7s - loss: 0.0886 - accuracy: 0.9737 - 7s/epoch - 38ms/step\n"
     ]
    },
    {
     "name": "stderr",
     "output_type": "stream",
     "text": [
      "DEBUG flwr 2023-04-16 18:34:44,780 | server.py:229 | fit_round 7 received 9 results and 0 failures\n",
      "DEBUG flwr 2023-04-16 18:34:44,820 | server.py:165 | evaluate_round 7: strategy sampled 10 clients (out of 10)\n"
     ]
    },
    {
     "name": "stdout",
     "output_type": "stream",
     "text": [
      "\u001b[2m\u001b[36m(launch_and_fit pid=12315)\u001b[0m 188/188 - 3s - loss: 0.0835 - accuracy: 0.9753 - 3s/epoch - 14ms/step\n",
      "\u001b[2m\u001b[36m(launch_and_evaluate pid=12315)\u001b[0m 32/32 - 1s - loss: 0.0622 - accuracy: 0.9790 - 563ms/epoch - 18ms/step\n",
      "\u001b[2m\u001b[36m(launch_and_evaluate pid=12318)\u001b[0m 32/32 - 1s - loss: 0.0722 - accuracy: 0.9750 - 574ms/epoch - 18ms/step\n",
      "\u001b[2m\u001b[36m(launch_and_evaluate pid=12317)\u001b[0m 32/32 - 1s - loss: 0.0482 - accuracy: 0.9830 - 603ms/epoch - 19ms/step\n",
      "\u001b[2m\u001b[36m(launch_and_evaluate pid=12316)\u001b[0m 32/32 - 1s - loss: 0.0420 - accuracy: 0.9860 - 583ms/epoch - 18ms/step\n",
      "\u001b[2m\u001b[36m(launch_and_evaluate pid=12315)\u001b[0m 32/32 - 1s - loss: 0.0740 - accuracy: 0.9770 - 547ms/epoch - 17ms/step\n",
      "\u001b[2m\u001b[36m(launch_and_evaluate pid=12318)\u001b[0m 32/32 - 1s - loss: 0.0564 - accuracy: 0.9830 - 572ms/epoch - 18ms/step\n",
      "\u001b[2m\u001b[36m(launch_and_evaluate pid=12317)\u001b[0m 32/32 - 1s - loss: 0.0526 - accuracy: 0.9820 - 590ms/epoch - 18ms/step\n",
      "\u001b[2m\u001b[36m(launch_and_evaluate pid=12316)\u001b[0m 32/32 - 1s - loss: 0.0536 - accuracy: 0.9820 - 572ms/epoch - 18ms/step\n"
     ]
    },
    {
     "name": "stderr",
     "output_type": "stream",
     "text": [
      "DEBUG flwr 2023-04-16 18:34:48,077 | server.py:179 | evaluate_round 7 received 10 results and 0 failures\n",
      "DEBUG flwr 2023-04-16 18:34:48,078 | server.py:215 | fit_round 8: strategy sampled 9 clients (out of 10)\n"
     ]
    },
    {
     "name": "stdout",
     "output_type": "stream",
     "text": [
      "\u001b[2m\u001b[36m(launch_and_evaluate pid=12318)\u001b[0m 32/32 - 0s - loss: 0.0595 - accuracy: 0.9810 - 422ms/epoch - 13ms/step\n",
      "\u001b[2m\u001b[36m(launch_and_evaluate pid=12315)\u001b[0m 32/32 - 0s - loss: 0.0625 - accuracy: 0.9830 - 408ms/epoch - 13ms/step\n",
      "\u001b[2m\u001b[36m(launch_and_fit pid=12315)\u001b[0m 188/188 - 7s - loss: 0.0759 - accuracy: 0.9777 - 7s/epoch - 36ms/step\n",
      "\u001b[2m\u001b[36m(launch_and_fit pid=12317)\u001b[0m 188/188 - 7s - loss: 0.0752 - accuracy: 0.9778 - 7s/epoch - 36ms/step\n",
      "\u001b[2m\u001b[36m(launch_and_fit pid=12318)\u001b[0m 188/188 - 7s - loss: 0.0763 - accuracy: 0.9788 - 7s/epoch - 38ms/step\n",
      "\u001b[2m\u001b[36m(launch_and_fit pid=12316)\u001b[0m 188/188 - 7s - loss: 0.0709 - accuracy: 0.9798 - 7s/epoch - 38ms/step\n",
      "\u001b[2m\u001b[36m(launch_and_fit pid=12317)\u001b[0m 188/188 - 7s - loss: 0.0793 - accuracy: 0.9792 - 7s/epoch - 35ms/step\n",
      "\u001b[2m\u001b[36m(launch_and_fit pid=12315)\u001b[0m 188/188 - 7s - loss: 0.0714 - accuracy: 0.9802 - 7s/epoch - 38ms/step\n",
      "\u001b[2m\u001b[36m(launch_and_fit pid=12318)\u001b[0m 188/188 - 7s - loss: 0.0657 - accuracy: 0.9790 - 7s/epoch - 37ms/step\n",
      "\u001b[2m\u001b[36m(launch_and_fit pid=12316)\u001b[0m 188/188 - 7s - loss: 0.0697 - accuracy: 0.9793 - 7s/epoch - 37ms/step\n"
     ]
    },
    {
     "name": "stderr",
     "output_type": "stream",
     "text": [
      "DEBUG flwr 2023-04-16 18:35:06,272 | server.py:229 | fit_round 8 received 9 results and 0 failures\n",
      "DEBUG flwr 2023-04-16 18:35:06,308 | server.py:165 | evaluate_round 8: strategy sampled 10 clients (out of 10)\n"
     ]
    },
    {
     "name": "stdout",
     "output_type": "stream",
     "text": [
      "\u001b[2m\u001b[36m(launch_and_fit pid=12317)\u001b[0m 188/188 - 3s - loss: 0.0687 - accuracy: 0.9798 - 3s/epoch - 14ms/step\n",
      "\u001b[2m\u001b[36m(launch_and_evaluate pid=12317)\u001b[0m 32/32 - 1s - loss: 0.0782 - accuracy: 0.9750 - 563ms/epoch - 18ms/step\n",
      "\u001b[2m\u001b[36m(launch_and_evaluate pid=12316)\u001b[0m 32/32 - 1s - loss: 0.0698 - accuracy: 0.9800 - 550ms/epoch - 17ms/step\n",
      "\u001b[2m\u001b[36m(launch_and_evaluate pid=12315)\u001b[0m 32/32 - 1s - loss: 0.0609 - accuracy: 0.9780 - 593ms/epoch - 19ms/step\n",
      "\u001b[2m\u001b[36m(launch_and_evaluate pid=12318)\u001b[0m 32/32 - 1s - loss: 0.0540 - accuracy: 0.9810 - 664ms/epoch - 21ms/step\n",
      "\u001b[2m\u001b[36m(launch_and_evaluate pid=12317)\u001b[0m 32/32 - 1s - loss: 0.0494 - accuracy: 0.9820 - 611ms/epoch - 19ms/step\n",
      "\u001b[2m\u001b[36m(launch_and_evaluate pid=12316)\u001b[0m 32/32 - 1s - loss: 0.0589 - accuracy: 0.9810 - 542ms/epoch - 17ms/step\n",
      "\u001b[2m\u001b[36m(launch_and_evaluate pid=12315)\u001b[0m 32/32 - 1s - loss: 0.0760 - accuracy: 0.9730 - 573ms/epoch - 18ms/step\n",
      "\u001b[2m\u001b[36m(launch_and_evaluate pid=12318)\u001b[0m 32/32 - 1s - loss: 0.0641 - accuracy: 0.9770 - 619ms/epoch - 19ms/step\n"
     ]
    },
    {
     "name": "stderr",
     "output_type": "stream",
     "text": [
      "DEBUG flwr 2023-04-16 18:35:09,543 | server.py:179 | evaluate_round 8 received 10 results and 0 failures\n",
      "DEBUG flwr 2023-04-16 18:35:09,544 | server.py:215 | fit_round 9: strategy sampled 9 clients (out of 10)\n"
     ]
    },
    {
     "name": "stdout",
     "output_type": "stream",
     "text": [
      "\u001b[2m\u001b[36m(launch_and_evaluate pid=12317)\u001b[0m 32/32 - 0s - loss: 0.0587 - accuracy: 0.9830 - 406ms/epoch - 13ms/step\n",
      "\u001b[2m\u001b[36m(launch_and_evaluate pid=12316)\u001b[0m 32/32 - 0s - loss: 0.0414 - accuracy: 0.9870 - 419ms/epoch - 13ms/step\n",
      "\u001b[2m\u001b[36m(launch_and_fit pid=12316)\u001b[0m 188/188 - 7s - loss: 0.0616 - accuracy: 0.9815 - 7s/epoch - 37ms/step\n",
      "\u001b[2m\u001b[36m(launch_and_fit pid=12315)\u001b[0m 188/188 - 7s - loss: 0.0694 - accuracy: 0.9792 - 7s/epoch - 36ms/step\n",
      "\u001b[2m\u001b[36m(launch_and_fit pid=12318)\u001b[0m 188/188 - 7s - loss: 0.0652 - accuracy: 0.9812 - 7s/epoch - 37ms/step\n",
      "\u001b[2m\u001b[36m(launch_and_fit pid=12317)\u001b[0m 188/188 - 7s - loss: 0.0698 - accuracy: 0.9798 - 7s/epoch - 37ms/step\n",
      "\u001b[2m\u001b[36m(launch_and_fit pid=12316)\u001b[0m 188/188 - 7s - loss: 0.0753 - accuracy: 0.9773 - 7s/epoch - 36ms/step\n",
      "\u001b[2m\u001b[36m(launch_and_fit pid=12315)\u001b[0m 188/188 - 7s - loss: 0.0654 - accuracy: 0.9818 - 7s/epoch - 37ms/step\n",
      "\u001b[2m\u001b[36m(launch_and_fit pid=12318)\u001b[0m 188/188 - 7s - loss: 0.0656 - accuracy: 0.9787 - 7s/epoch - 37ms/step\n",
      "\u001b[2m\u001b[36m(launch_and_fit pid=12317)\u001b[0m 188/188 - 7s - loss: 0.0672 - accuracy: 0.9797 - 7s/epoch - 37ms/step\n"
     ]
    },
    {
     "name": "stderr",
     "output_type": "stream",
     "text": [
      "DEBUG flwr 2023-04-16 18:35:27,767 | server.py:229 | fit_round 9 received 9 results and 0 failures\n",
      "DEBUG flwr 2023-04-16 18:35:27,802 | server.py:165 | evaluate_round 9: strategy sampled 10 clients (out of 10)\n"
     ]
    },
    {
     "name": "stdout",
     "output_type": "stream",
     "text": [
      "\u001b[2m\u001b[36m(launch_and_fit pid=12316)\u001b[0m 188/188 - 3s - loss: 0.0612 - accuracy: 0.9842 - 3s/epoch - 14ms/step\n",
      "\u001b[2m\u001b[36m(launch_and_evaluate pid=12318)\u001b[0m 32/32 - 1s - loss: 0.0361 - accuracy: 0.9910 - 566ms/epoch - 18ms/step\n",
      "\u001b[2m\u001b[36m(launch_and_evaluate pid=12317)\u001b[0m 32/32 - 1s - loss: 0.0492 - accuracy: 0.9870 - 563ms/epoch - 18ms/step\n",
      "\u001b[2m\u001b[36m(launch_and_evaluate pid=12316)\u001b[0m 32/32 - 1s - loss: 0.0503 - accuracy: 0.9840 - 677ms/epoch - 21ms/step\n",
      "\u001b[2m\u001b[36m(launch_and_evaluate pid=12315)\u001b[0m 32/32 - 1s - loss: 0.0456 - accuracy: 0.9890 - 721ms/epoch - 23ms/step\n",
      "\u001b[2m\u001b[36m(launch_and_evaluate pid=12317)\u001b[0m 32/32 - 1s - loss: 0.0494 - accuracy: 0.9840 - 558ms/epoch - 17ms/step\n",
      "\u001b[2m\u001b[36m(launch_and_evaluate pid=12318)\u001b[0m 32/32 - 1s - loss: 0.0490 - accuracy: 0.9840 - 576ms/epoch - 18ms/step\n",
      "\u001b[2m\u001b[36m(launch_and_evaluate pid=12316)\u001b[0m 32/32 - 1s - loss: 0.0507 - accuracy: 0.9830 - 579ms/epoch - 18ms/step\n",
      "\u001b[2m\u001b[36m(launch_and_evaluate pid=12315)\u001b[0m 32/32 - 1s - loss: 0.0429 - accuracy: 0.9860 - 572ms/epoch - 18ms/step\n"
     ]
    },
    {
     "name": "stderr",
     "output_type": "stream",
     "text": [
      "DEBUG flwr 2023-04-16 18:35:31,155 | server.py:179 | evaluate_round 9 received 10 results and 0 failures\n",
      "DEBUG flwr 2023-04-16 18:35:31,155 | server.py:215 | fit_round 10: strategy sampled 9 clients (out of 10)\n"
     ]
    },
    {
     "name": "stdout",
     "output_type": "stream",
     "text": [
      "\u001b[2m\u001b[36m(launch_and_evaluate pid=12317)\u001b[0m 32/32 - 0s - loss: 0.0639 - accuracy: 0.9800 - 442ms/epoch - 14ms/step\n",
      "\u001b[2m\u001b[36m(launch_and_evaluate pid=12316)\u001b[0m 32/32 - 0s - loss: 0.0619 - accuracy: 0.9770 - 430ms/epoch - 13ms/step\n",
      "\u001b[2m\u001b[36m(launch_and_fit pid=12316)\u001b[0m 188/188 - 7s - loss: 0.0664 - accuracy: 0.9807 - 7s/epoch - 37ms/step\n",
      "\u001b[2m\u001b[36m(launch_and_fit pid=12315)\u001b[0m 188/188 - 7s - loss: 0.0615 - accuracy: 0.9818 - 7s/epoch - 37ms/step\n",
      "\u001b[2m\u001b[36m(launch_and_fit pid=12318)\u001b[0m 188/188 - 7s - loss: 0.0578 - accuracy: 0.9838 - 7s/epoch - 37ms/step\n",
      "\u001b[2m\u001b[36m(launch_and_fit pid=12317)\u001b[0m 188/188 - 7s - loss: 0.0594 - accuracy: 0.9840 - 7s/epoch - 39ms/step\n",
      "\u001b[2m\u001b[36m(launch_and_fit pid=12315)\u001b[0m 188/188 - 7s - loss: 0.0627 - accuracy: 0.9828 - 7s/epoch - 36ms/step\n",
      "\u001b[2m\u001b[36m(launch_and_fit pid=12316)\u001b[0m 188/188 - 7s - loss: 0.0599 - accuracy: 0.9828 - 7s/epoch - 39ms/step\n",
      "\u001b[2m\u001b[36m(launch_and_fit pid=12317)\u001b[0m 188/188 - 7s - loss: 0.0731 - accuracy: 0.9807 - 7s/epoch - 38ms/step\n",
      "\u001b[2m\u001b[36m(launch_and_fit pid=12318)\u001b[0m 188/188 - 7s - loss: 0.0653 - accuracy: 0.9797 - 7s/epoch - 40ms/step\n"
     ]
    },
    {
     "name": "stderr",
     "output_type": "stream",
     "text": [
      "DEBUG flwr 2023-04-16 18:35:49,645 | server.py:229 | fit_round 10 received 9 results and 0 failures\n",
      "DEBUG flwr 2023-04-16 18:35:49,680 | server.py:165 | evaluate_round 10: strategy sampled 10 clients (out of 10)\n"
     ]
    },
    {
     "name": "stdout",
     "output_type": "stream",
     "text": [
      "\u001b[2m\u001b[36m(launch_and_fit pid=12315)\u001b[0m 188/188 - 3s - loss: 0.0657 - accuracy: 0.9808 - 3s/epoch - 14ms/step\n",
      "\u001b[2m\u001b[36m(launch_and_evaluate pid=12317)\u001b[0m 32/32 - 1s - loss: 0.0349 - accuracy: 0.9890 - 570ms/epoch - 18ms/step\n",
      "\u001b[2m\u001b[36m(launch_and_evaluate pid=12315)\u001b[0m 32/32 - 1s - loss: 0.0362 - accuracy: 0.9910 - 544ms/epoch - 17ms/step\n",
      "\u001b[2m\u001b[36m(launch_and_evaluate pid=12318)\u001b[0m 32/32 - 1s - loss: 0.0512 - accuracy: 0.9830 - 614ms/epoch - 19ms/step\n",
      "\u001b[2m\u001b[36m(launch_and_evaluate pid=12316)\u001b[0m 32/32 - 1s - loss: 0.0599 - accuracy: 0.9740 - 602ms/epoch - 19ms/step\n",
      "\u001b[2m\u001b[36m(launch_and_evaluate pid=12317)\u001b[0m 32/32 - 1s - loss: 0.0468 - accuracy: 0.9840 - 541ms/epoch - 17ms/step\n",
      "\u001b[2m\u001b[36m(launch_and_evaluate pid=12316)\u001b[0m 32/32 - 1s - loss: 0.0553 - accuracy: 0.9820 - 596ms/epoch - 19ms/step\n",
      "\u001b[2m\u001b[36m(launch_and_evaluate pid=12315)\u001b[0m 32/32 - 1s - loss: 0.0602 - accuracy: 0.9770 - 574ms/epoch - 18ms/step\n",
      "\u001b[2m\u001b[36m(launch_and_evaluate pid=12318)\u001b[0m 32/32 - 1s - loss: 0.0684 - accuracy: 0.9760 - 745ms/epoch - 23ms/step\n",
      "\u001b[2m\u001b[36m(launch_and_evaluate pid=12317)\u001b[0m 32/32 - 0s - loss: 0.0589 - accuracy: 0.9750 - 425ms/epoch - 13ms/step\n"
     ]
    },
    {
     "name": "stderr",
     "output_type": "stream",
     "text": [
      "DEBUG flwr 2023-04-16 18:35:53,225 | server.py:179 | evaluate_round 10 received 10 results and 0 failures\n",
      "INFO flwr 2023-04-16 18:35:53,226 | server.py:144 | FL finished in 230.96113471699937\n",
      "INFO flwr 2023-04-16 18:35:53,227 | app.py:202 | app_fit: losses_distributed [(1, 0.2257576271891594), (2, 0.13617270365357398), (3, 0.10933101922273636), (4, 0.08821679800748825), (5, 0.0765241902321577), (6, 0.07179434262216092), (7, 0.05832494832575321), (8, 0.061133522912859915), (9, 0.04989884793758392), (10, 0.05227044187486172)]\n",
      "INFO flwr 2023-04-16 18:35:53,228 | app.py:203 | app_fit: metrics_distributed {'accuracy': [(1, 0.934600007534027), (2, 0.961899995803833), (3, 0.9702999949455261), (4, 0.973199999332428), (5, 0.9766999900341033), (6, 0.9781000077724457), (7, 0.9810999929904938), (8, 0.9796999990940094), (9, 0.9845000088214875), (10, 0.9816000044345856)]}\n",
      "INFO flwr 2023-04-16 18:35:53,228 | app.py:204 | app_fit: losses_centralized []\n",
      "INFO flwr 2023-04-16 18:35:53,229 | app.py:205 | app_fit: metrics_centralized {}\n"
     ]
    }
   ],
   "source": [
    "history10 = fl.simulation.start_simulation(\n",
    "    client_fn=client_fn_random,\n",
    "    num_clients=num_clients,\n",
    "    config=fl.server.ServerConfig(num_rounds=10),\n",
    "    strategy=strategy,\n",
    ")"
   ]
  },
  {
   "cell_type": "code",
   "execution_count": 26,
   "metadata": {
    "colab": {
     "base_uri": "https://localhost:8080/",
     "height": 449
    },
    "id": "64ZI1eIfFEXb",
    "outputId": "fd6dc0c6-1b2e-4820-c5d6-73e48baf41b1"
   },
   "outputs": [
    {
     "name": "stdout",
     "output_type": "stream",
     "text": [
      "\u001b[2m\u001b[36m(launch_and_evaluate pid=12315)\u001b[0m 32/32 - 1s - loss: 0.0508 - accuracy: 0.9850 - 605ms/epoch - 19ms/step\n"
     ]
    },
    {
     "data": {
      "image/png": "[encoded data removed]",
      "text/plain": [
       "<Figure size 640x480 with 1 Axes>"
      ]
     },
     "metadata": {},
     "output_type": "display_data"
    }
   ],
   "source": [
    "plt.plot(*zip(*history10.metrics_distributed['accuracy']))\n",
    "plt.xlabel(\"Rounds\")\n",
    "plt.ylabel(\"Accuracy\")\n",
    "plt.show()"
   ]
  },
  {
   "cell_type": "markdown",
   "metadata": {
    "id": "8oZ6hqQvGIc_"
   },
   "source": [
    "## Simulação com 15 rouds"
   ]
  },
  {
   "cell_type": "code",
   "execution_count": 27,
   "metadata": {
    "colab": {
     "base_uri": "https://localhost:8080/"
    },
    "id": "OakC344EF90g",
    "outputId": "93d4c239-4fe9-4ec3-f1c2-b6002a369806"
   },
   "outputs": [
    {
     "name": "stderr",
     "output_type": "stream",
     "text": [
      "INFO flwr 2023-04-16 18:35:53,464 | app.py:145 | Starting Flower simulation, config: ServerConfig(num_rounds=15, round_timeout=None)\n",
      "2023-04-16 18:35:58,164\tINFO worker.py:1529 -- Started a local Ray instance. View the dashboard at \u001b[1m\u001b[32m127.0.0.1:8265 \u001b[39m\u001b[22m\n",
      "INFO flwr 2023-04-16 18:35:59,275 | app.py:179 | Flower VCE: Ray initialized with resources: {'object_store_memory': 2038333440.0, 'node:192.168.42.146': 1.0, 'CPU': 4.0, 'memory': 4076666880.0}\n",
      "INFO flwr 2023-04-16 18:35:59,277 | server.py:86 | Initializing global parameters\n",
      "INFO flwr 2023-04-16 18:35:59,279 | server.py:270 | Requesting initial parameters from one random client\n",
      "INFO flwr 2023-04-16 18:36:01,869 | server.py:274 | Received initial parameters from one random client\n",
      "INFO flwr 2023-04-16 18:36:01,870 | server.py:88 | Evaluating initial parameters\n",
      "INFO flwr 2023-04-16 18:36:01,870 | server.py:101 | FL starting\n",
      "DEBUG flwr 2023-04-16 18:36:01,871 | server.py:215 | fit_round 1: strategy sampled 9 clients (out of 10)\n"
     ]
    },
    {
     "name": "stdout",
     "output_type": "stream",
     "text": [
      "\u001b[2m\u001b[36m(launch_and_fit pid=14689)\u001b[0m 188/188 - 6s - loss: 0.4910 - accuracy: 0.8487 - 6s/epoch - 34ms/step\n",
      "\u001b[2m\u001b[36m(launch_and_fit pid=14690)\u001b[0m 188/188 - 7s - loss: 0.4736 - accuracy: 0.8470 - 7s/epoch - 39ms/step\n",
      "\u001b[2m\u001b[36m(launch_and_fit pid=14688)\u001b[0m 188/188 - 8s - loss: 0.4738 - accuracy: 0.8505 - 8s/epoch - 40ms/step\n",
      "\u001b[2m\u001b[36m(launch_and_fit pid=14687)\u001b[0m 188/188 - 8s - loss: 0.4708 - accuracy: 0.8480 - 8s/epoch - 40ms/step\n",
      "\u001b[2m\u001b[36m(launch_and_fit pid=14689)\u001b[0m 188/188 - 8s - loss: 0.4796 - accuracy: 0.8523 - 8s/epoch - 42ms/step\n",
      "\u001b[2m\u001b[36m(launch_and_fit pid=14690)\u001b[0m 188/188 - 7s - loss: 0.4816 - accuracy: 0.8488 - 7s/epoch - 39ms/step\n",
      "\u001b[2m\u001b[36m(launch_and_fit pid=14688)\u001b[0m 188/188 - 7s - loss: 0.4665 - accuracy: 0.8615 - 7s/epoch - 40ms/step\n",
      "\u001b[2m\u001b[36m(launch_and_fit pid=14687)\u001b[0m 188/188 - 8s - loss: 0.4735 - accuracy: 0.8500 - 8s/epoch - 40ms/step\n"
     ]
    },
    {
     "name": "stderr",
     "output_type": "stream",
     "text": [
      "DEBUG flwr 2023-04-16 18:36:23,260 | server.py:229 | fit_round 1 received 9 results and 0 failures\n",
      "WARNING flwr 2023-04-16 18:36:23,297 | fedavg.py:242 | No fit_metrics_aggregation_fn provided\n",
      "DEBUG flwr 2023-04-16 18:36:23,298 | server.py:165 | evaluate_round 1: strategy sampled 10 clients (out of 10)\n"
     ]
    },
    {
     "name": "stdout",
     "output_type": "stream",
     "text": [
      "\u001b[2m\u001b[36m(launch_and_fit pid=14689)\u001b[0m 188/188 - 4s - loss: 0.4750 - accuracy: 0.8500 - 4s/epoch - 23ms/step\n",
      "\u001b[2m\u001b[36m(launch_and_evaluate pid=14690)\u001b[0m 32/32 - 1s - loss: 0.2026 - accuracy: 0.9410 - 584ms/epoch - 18ms/step\n",
      "\u001b[2m\u001b[36m(launch_and_evaluate pid=14688)\u001b[0m 32/32 - 1s - loss: 0.2181 - accuracy: 0.9390 - 699ms/epoch - 22ms/step\n",
      "\u001b[2m\u001b[36m(launch_and_evaluate pid=14687)\u001b[0m 32/32 - 1s - loss: 0.1966 - accuracy: 0.9470 - 605ms/epoch - 19ms/step\n",
      "\u001b[2m\u001b[36m(launch_and_evaluate pid=14689)\u001b[0m 32/32 - 1s - loss: 0.2280 - accuracy: 0.9350 - 692ms/epoch - 22ms/step\n",
      "\u001b[2m\u001b[36m(launch_and_evaluate pid=14690)\u001b[0m 32/32 - 1s - loss: 0.1879 - accuracy: 0.9440 - 573ms/epoch - 18ms/step\n",
      "\u001b[2m\u001b[36m(launch_and_evaluate pid=14689)\u001b[0m 32/32 - 1s - loss: 0.1992 - accuracy: 0.9410 - 559ms/epoch - 17ms/step\n",
      "\u001b[2m\u001b[36m(launch_and_evaluate pid=14688)\u001b[0m 32/32 - 1s - loss: 0.2111 - accuracy: 0.9490 - 607ms/epoch - 19ms/step\n",
      "\u001b[2m\u001b[36m(launch_and_evaluate pid=14687)\u001b[0m 32/32 - 1s - loss: 0.1902 - accuracy: 0.9440 - 614ms/epoch - 19ms/step\n"
     ]
    },
    {
     "name": "stderr",
     "output_type": "stream",
     "text": [
      "DEBUG flwr 2023-04-16 18:36:26,692 | server.py:179 | evaluate_round 1 received 10 results and 0 failures\n",
      "DEBUG flwr 2023-04-16 18:36:26,693 | server.py:215 | fit_round 2: strategy sampled 9 clients (out of 10)\n"
     ]
    },
    {
     "name": "stdout",
     "output_type": "stream",
     "text": [
      "\u001b[2m\u001b[36m(launch_and_evaluate pid=14689)\u001b[0m 32/32 - 0s - loss: 0.1851 - accuracy: 0.9500 - 422ms/epoch - 13ms/step\n",
      "\u001b[2m\u001b[36m(launch_and_evaluate pid=14690)\u001b[0m 32/32 - 0s - loss: 0.2007 - accuracy: 0.9470 - 426ms/epoch - 13ms/step\n",
      "\u001b[2m\u001b[36m(launch_and_fit pid=14688)\u001b[0m 188/188 - 7s - loss: 0.1927 - accuracy: 0.9412 - 7s/epoch - 38ms/step\n",
      "\u001b[2m\u001b[36m(launch_and_fit pid=14687)\u001b[0m 188/188 - 7s - loss: 0.2279 - accuracy: 0.9305 - 7s/epoch - 39ms/step\n",
      "\u001b[2m\u001b[36m(launch_and_fit pid=14689)\u001b[0m 188/188 - 8s - loss: 0.2241 - accuracy: 0.9332 - 8s/epoch - 40ms/step\n",
      "\u001b[2m\u001b[36m(launch_and_fit pid=14690)\u001b[0m 188/188 - 8s - loss: 0.2199 - accuracy: 0.9342 - 8s/epoch - 40ms/step\n",
      "\u001b[2m\u001b[36m(launch_and_fit pid=14688)\u001b[0m 188/188 - 7s - loss: 0.2175 - accuracy: 0.9353 - 7s/epoch - 39ms/step\n",
      "\u001b[2m\u001b[36m(launch_and_fit pid=14687)\u001b[0m 188/188 - 7s - loss: 0.2060 - accuracy: 0.9383 - 7s/epoch - 39ms/step\n",
      "\u001b[2m\u001b[36m(launch_and_fit pid=14690)\u001b[0m 188/188 - 7s - loss: 0.2085 - accuracy: 0.9387 - 7s/epoch - 38ms/step\n",
      "\u001b[2m\u001b[36m(launch_and_fit pid=14689)\u001b[0m 188/188 - 7s - loss: 0.2055 - accuracy: 0.9403 - 7s/epoch - 39ms/step\n"
     ]
    },
    {
     "name": "stderr",
     "output_type": "stream",
     "text": [
      "DEBUG flwr 2023-04-16 18:36:45,866 | server.py:229 | fit_round 2 received 9 results and 0 failures\n",
      "DEBUG flwr 2023-04-16 18:36:45,903 | server.py:165 | evaluate_round 2: strategy sampled 10 clients (out of 10)\n"
     ]
    },
    {
     "name": "stdout",
     "output_type": "stream",
     "text": [
      "\u001b[2m\u001b[36m(launch_and_fit pid=14687)\u001b[0m 188/188 - 3s - loss: 0.2006 - accuracy: 0.9397 - 3s/epoch - 14ms/step\n",
      "\u001b[2m\u001b[36m(launch_and_evaluate pid=14689)\u001b[0m 32/32 - 1s - loss: 0.1065 - accuracy: 0.9720 - 558ms/epoch - 17ms/step\n",
      "\u001b[2m\u001b[36m(launch_and_evaluate pid=14690)\u001b[0m 32/32 - 1s - loss: 0.1208 - accuracy: 0.9670 - 600ms/epoch - 19ms/step\n",
      "\u001b[2m\u001b[36m(launch_and_evaluate pid=14687)\u001b[0m 32/32 - 1s - loss: 0.1412 - accuracy: 0.9610 - 560ms/epoch - 18ms/step\n",
      "\u001b[2m\u001b[36m(launch_and_evaluate pid=14688)\u001b[0m 32/32 - 1s - loss: 0.1453 - accuracy: 0.9530 - 611ms/epoch - 19ms/step\n",
      "\u001b[2m\u001b[36m(launch_and_evaluate pid=14688)\u001b[0m 32/32 - 1s - loss: 0.1462 - accuracy: 0.9560 - 895ms/epoch - 28ms/step\n",
      "\u001b[2m\u001b[36m(launch_and_evaluate pid=14690)\u001b[0m 32/32 - 1s - loss: 0.1246 - accuracy: 0.9640 - 944ms/epoch - 30ms/step\n",
      "\u001b[2m\u001b[36m(launch_and_evaluate pid=14687)\u001b[0m 32/32 - 1s - loss: 0.1413 - accuracy: 0.9630 - 937ms/epoch - 29ms/step\n",
      "\u001b[2m\u001b[36m(launch_and_evaluate pid=14689)\u001b[0m 32/32 - 1s - loss: 0.1190 - accuracy: 0.9670 - 1s/epoch - 33ms/step\n"
     ]
    },
    {
     "name": "stderr",
     "output_type": "stream",
     "text": [
      "DEBUG flwr 2023-04-16 18:36:49,489 | server.py:179 | evaluate_round 2 received 10 results and 0 failures\n",
      "DEBUG flwr 2023-04-16 18:36:49,490 | server.py:215 | fit_round 3: strategy sampled 9 clients (out of 10)\n"
     ]
    },
    {
     "name": "stdout",
     "output_type": "stream",
     "text": [
      "\u001b[2m\u001b[36m(launch_and_evaluate pid=14690)\u001b[0m 32/32 - 0s - loss: 0.1206 - accuracy: 0.9680 - 423ms/epoch - 13ms/step\n",
      "\u001b[2m\u001b[36m(launch_and_evaluate pid=14687)\u001b[0m 32/32 - 0s - loss: 0.1502 - accuracy: 0.9570 - 414ms/epoch - 13ms/step\n",
      "\u001b[2m\u001b[36m(launch_and_fit pid=14687)\u001b[0m 188/188 - 8s - loss: 0.1549 - accuracy: 0.9532 - 8s/epoch - 45ms/step\n",
      "\u001b[2m\u001b[36m(launch_and_fit pid=14689)\u001b[0m 188/188 - 9s - loss: 0.1556 - accuracy: 0.9537 - 9s/epoch - 47ms/step\n",
      "\u001b[2m\u001b[36m(launch_and_fit pid=14690)\u001b[0m 188/188 - 9s - loss: 0.1582 - accuracy: 0.9543 - 9s/epoch - 48ms/step\n",
      "\u001b[2m\u001b[36m(launch_and_fit pid=14688)\u001b[0m 188/188 - 9s - loss: 0.1626 - accuracy: 0.9560 - 9s/epoch - 50ms/step\n",
      "\u001b[2m\u001b[36m(launch_and_fit pid=14687)\u001b[0m 188/188 - 9s - loss: 0.1536 - accuracy: 0.9530 - 9s/epoch - 46ms/step\n",
      "\u001b[2m\u001b[36m(launch_and_fit pid=14689)\u001b[0m 188/188 - 9s - loss: 0.1476 - accuracy: 0.9535 - 9s/epoch - 47ms/step\n",
      "\u001b[2m\u001b[36m(launch_and_fit pid=14690)\u001b[0m 188/188 - 9s - loss: 0.1542 - accuracy: 0.9507 - 9s/epoch - 47ms/step\n",
      "\u001b[2m\u001b[36m(launch_and_fit pid=14688)\u001b[0m 188/188 - 9s - loss: 0.1543 - accuracy: 0.9557 - 9s/epoch - 47ms/step\n"
     ]
    },
    {
     "name": "stderr",
     "output_type": "stream",
     "text": [
      "DEBUG flwr 2023-04-16 18:37:12,541 | server.py:229 | fit_round 3 received 9 results and 0 failures\n",
      "DEBUG flwr 2023-04-16 18:37:12,578 | server.py:165 | evaluate_round 3: strategy sampled 10 clients (out of 10)\n"
     ]
    },
    {
     "name": "stdout",
     "output_type": "stream",
     "text": [
      "\u001b[2m\u001b[36m(launch_and_fit pid=14687)\u001b[0m 188/188 - 3s - loss: 0.1535 - accuracy: 0.9542 - 3s/epoch - 18ms/step\n",
      "\u001b[2m\u001b[36m(launch_and_evaluate pid=14689)\u001b[0m 32/32 - 1s - loss: 0.1060 - accuracy: 0.9740 - 580ms/epoch - 18ms/step\n",
      "\u001b[2m\u001b[36m(launch_and_evaluate pid=14690)\u001b[0m 32/32 - 1s - loss: 0.1060 - accuracy: 0.9690 - 586ms/epoch - 18ms/step\n",
      "\u001b[2m\u001b[36m(launch_and_evaluate pid=14687)\u001b[0m 32/32 - 1s - loss: 0.1036 - accuracy: 0.9720 - 617ms/epoch - 19ms/step\n",
      "\u001b[2m\u001b[36m(launch_and_evaluate pid=14688)\u001b[0m 32/32 - 1s - loss: 0.1161 - accuracy: 0.9660 - 640ms/epoch - 20ms/step\n",
      "\u001b[2m\u001b[36m(launch_and_evaluate pid=14687)\u001b[0m 32/32 - 1s - loss: 0.0959 - accuracy: 0.9720 - 673ms/epoch - 21ms/step\n",
      "\u001b[2m\u001b[36m(launch_and_evaluate pid=14690)\u001b[0m 32/32 - 1s - loss: 0.0924 - accuracy: 0.9720 - 749ms/epoch - 23ms/step\n",
      "\u001b[2m\u001b[36m(launch_and_evaluate pid=14689)\u001b[0m 32/32 - 1s - loss: 0.1203 - accuracy: 0.9670 - 841ms/epoch - 26ms/step\n",
      "\u001b[2m\u001b[36m(launch_and_evaluate pid=14688)\u001b[0m 32/32 - 1s - loss: 0.0929 - accuracy: 0.9710 - 697ms/epoch - 22ms/step\n"
     ]
    },
    {
     "name": "stderr",
     "output_type": "stream",
     "text": [
      "DEBUG flwr 2023-04-16 18:37:16,412 | server.py:179 | evaluate_round 3 received 10 results and 0 failures\n",
      "DEBUG flwr 2023-04-16 18:37:16,413 | server.py:215 | fit_round 4: strategy sampled 9 clients (out of 10)\n"
     ]
    },
    {
     "name": "stdout",
     "output_type": "stream",
     "text": [
      "\u001b[2m\u001b[36m(launch_and_evaluate pid=14687)\u001b[0m 32/32 - 0s - loss: 0.1074 - accuracy: 0.9740 - 413ms/epoch - 13ms/step\n",
      "\u001b[2m\u001b[36m(launch_and_evaluate pid=14690)\u001b[0m 32/32 - 0s - loss: 0.1022 - accuracy: 0.9680 - 403ms/epoch - 13ms/step\n",
      "\u001b[2m\u001b[36m(launch_and_fit pid=14690)\u001b[0m 188/188 - 8s - loss: 0.1220 - accuracy: 0.9628 - 8s/epoch - 42ms/step\n",
      "\u001b[2m\u001b[36m(launch_and_fit pid=14688)\u001b[0m 188/188 - 8s - loss: 0.1326 - accuracy: 0.9608 - 8s/epoch - 42ms/step\n",
      "\u001b[2m\u001b[36m(launch_and_fit pid=14689)\u001b[0m 188/188 - 8s - loss: 0.1132 - accuracy: 0.9678 - 8s/epoch - 44ms/step\n",
      "\u001b[2m\u001b[36m(launch_and_fit pid=14687)\u001b[0m 188/188 - 9s - loss: 0.1220 - accuracy: 0.9645 - 9s/epoch - 45ms/step\n",
      "\u001b[2m\u001b[36m(launch_and_fit pid=14690)\u001b[0m 188/188 - 7s - loss: 0.1212 - accuracy: 0.9620 - 7s/epoch - 40ms/step\n",
      "\u001b[2m\u001b[36m(launch_and_fit pid=14688)\u001b[0m 188/188 - 8s - loss: 0.1207 - accuracy: 0.9642 - 8s/epoch - 41ms/step\n",
      "\u001b[2m\u001b[36m(launch_and_fit pid=14689)\u001b[0m 188/188 - 8s - loss: 0.1232 - accuracy: 0.9635 - 8s/epoch - 41ms/step\n",
      "\u001b[2m\u001b[36m(launch_and_fit pid=14687)\u001b[0m 188/188 - 8s - loss: 0.1233 - accuracy: 0.9627 - 8s/epoch - 41ms/step\n"
     ]
    },
    {
     "name": "stderr",
     "output_type": "stream",
     "text": [
      "DEBUG flwr 2023-04-16 18:37:37,355 | server.py:229 | fit_round 4 received 9 results and 0 failures\n",
      "DEBUG flwr 2023-04-16 18:37:37,391 | server.py:165 | evaluate_round 4: strategy sampled 10 clients (out of 10)\n"
     ]
    },
    {
     "name": "stdout",
     "output_type": "stream",
     "text": [
      "\u001b[2m\u001b[36m(launch_and_fit pid=14690)\u001b[0m 188/188 - 3s - loss: 0.1300 - accuracy: 0.9612 - 3s/epoch - 17ms/step\n",
      "\u001b[2m\u001b[36m(launch_and_evaluate pid=14690)\u001b[0m 32/32 - 1s - loss: 0.0912 - accuracy: 0.9730 - 706ms/epoch - 22ms/step\n",
      "\u001b[2m\u001b[36m(launch_and_evaluate pid=14687)\u001b[0m 32/32 - 1s - loss: 0.0922 - accuracy: 0.9730 - 730ms/epoch - 23ms/step\n",
      "\u001b[2m\u001b[36m(launch_and_evaluate pid=14689)\u001b[0m 32/32 - 1s - loss: 0.0848 - accuracy: 0.9760 - 842ms/epoch - 26ms/step\n",
      "\u001b[2m\u001b[36m(launch_and_evaluate pid=14688)\u001b[0m 32/32 - 1s - loss: 0.0887 - accuracy: 0.9740 - 1s/epoch - 34ms/step\n",
      "\u001b[2m\u001b[36m(launch_and_evaluate pid=14690)\u001b[0m 32/32 - 1s - loss: 0.0847 - accuracy: 0.9740 - 590ms/epoch - 18ms/step\n",
      "\u001b[2m\u001b[36m(launch_and_evaluate pid=14687)\u001b[0m 32/32 - 1s - loss: 0.1198 - accuracy: 0.9610 - 796ms/epoch - 25ms/step\n",
      "\u001b[2m\u001b[36m(launch_and_evaluate pid=14689)\u001b[0m 32/32 - 1s - loss: 0.0806 - accuracy: 0.9780 - 930ms/epoch - 29ms/step\n",
      "\u001b[2m\u001b[36m(launch_and_evaluate pid=14688)\u001b[0m 32/32 - 1s - loss: 0.0870 - accuracy: 0.9780 - 921ms/epoch - 29ms/step\n"
     ]
    },
    {
     "name": "stderr",
     "output_type": "stream",
     "text": [
      "DEBUG flwr 2023-04-16 18:37:41,529 | server.py:179 | evaluate_round 4 received 10 results and 0 failures\n",
      "DEBUG flwr 2023-04-16 18:37:41,530 | server.py:215 | fit_round 5: strategy sampled 9 clients (out of 10)\n"
     ]
    },
    {
     "name": "stdout",
     "output_type": "stream",
     "text": [
      "\u001b[2m\u001b[36m(launch_and_evaluate pid=14690)\u001b[0m 32/32 - 1s - loss: 0.1039 - accuracy: 0.9710 - 527ms/epoch - 16ms/step\n",
      "\u001b[2m\u001b[36m(launch_and_evaluate pid=14687)\u001b[0m 32/32 - 0s - loss: 0.0867 - accuracy: 0.9740 - 402ms/epoch - 13ms/step\n",
      "\u001b[2m\u001b[36m(launch_and_fit pid=14688)\u001b[0m 188/188 - 8s - loss: 0.1018 - accuracy: 0.9680 - 8s/epoch - 40ms/step\n",
      "\u001b[2m\u001b[36m(launch_and_fit pid=14689)\u001b[0m 188/188 - 8s - loss: 0.1034 - accuracy: 0.9688 - 8s/epoch - 40ms/step\n",
      "\u001b[2m\u001b[36m(launch_and_fit pid=14690)\u001b[0m 188/188 - 8s - loss: 0.1060 - accuracy: 0.9663 - 8s/epoch - 42ms/step\n",
      "\u001b[2m\u001b[36m(launch_and_fit pid=14687)\u001b[0m 188/188 - 8s - loss: 0.1061 - accuracy: 0.9712 - 8s/epoch - 44ms/step\n",
      "\u001b[2m\u001b[36m(launch_and_fit pid=14688)\u001b[0m 188/188 - 7s - loss: 0.1029 - accuracy: 0.9715 - 7s/epoch - 38ms/step\n",
      "\u001b[2m\u001b[36m(launch_and_fit pid=14689)\u001b[0m 188/188 - 8s - loss: 0.0967 - accuracy: 0.9720 - 8s/epoch - 40ms/step\n",
      "\u001b[2m\u001b[36m(launch_and_fit pid=14690)\u001b[0m 188/188 - 8s - loss: 0.1080 - accuracy: 0.9697 - 8s/epoch - 40ms/step\n",
      "\u001b[2m\u001b[36m(launch_and_fit pid=14687)\u001b[0m 188/188 - 8s - loss: 0.1109 - accuracy: 0.9703 - 8s/epoch - 41ms/step\n"
     ]
    },
    {
     "name": "stderr",
     "output_type": "stream",
     "text": [
      "DEBUG flwr 2023-04-16 18:38:01,378 | server.py:229 | fit_round 5 received 9 results and 0 failures\n",
      "DEBUG flwr 2023-04-16 18:38:01,413 | server.py:165 | evaluate_round 5: strategy sampled 10 clients (out of 10)\n"
     ]
    },
    {
     "name": "stdout",
     "output_type": "stream",
     "text": [
      "\u001b[2m\u001b[36m(launch_and_fit pid=14688)\u001b[0m 188/188 - 3s - loss: 0.1126 - accuracy: 0.9660 - 3s/epoch - 16ms/step\n",
      "\u001b[2m\u001b[36m(launch_and_evaluate pid=14688)\u001b[0m 32/32 - 1s - loss: 0.0665 - accuracy: 0.9810 - 563ms/epoch - 18ms/step\n",
      "\u001b[2m\u001b[36m(launch_and_evaluate pid=14687)\u001b[0m 32/32 - 1s - loss: 0.0648 - accuracy: 0.9810 - 582ms/epoch - 18ms/step\n",
      "\u001b[2m\u001b[36m(launch_and_evaluate pid=14689)\u001b[0m 32/32 - 1s - loss: 0.0662 - accuracy: 0.9770 - 602ms/epoch - 19ms/step\n",
      "\u001b[2m\u001b[36m(launch_and_evaluate pid=14690)\u001b[0m 32/32 - 1s - loss: 0.0673 - accuracy: 0.9770 - 609ms/epoch - 19ms/step\n",
      "\u001b[2m\u001b[36m(launch_and_evaluate pid=14689)\u001b[0m 32/32 - 1s - loss: 0.0634 - accuracy: 0.9830 - 608ms/epoch - 19ms/step\n",
      "\u001b[2m\u001b[36m(launch_and_evaluate pid=14688)\u001b[0m 32/32 - 1s - loss: 0.0738 - accuracy: 0.9790 - 571ms/epoch - 18ms/step\n",
      "\u001b[2m\u001b[36m(launch_and_evaluate pid=14687)\u001b[0m 32/32 - 1s - loss: 0.0629 - accuracy: 0.9830 - 562ms/epoch - 18ms/step\n",
      "\u001b[2m\u001b[36m(launch_and_evaluate pid=14690)\u001b[0m 32/32 - 1s - loss: 0.0821 - accuracy: 0.9740 - 657ms/epoch - 21ms/step\n"
     ]
    },
    {
     "name": "stderr",
     "output_type": "stream",
     "text": [
      "DEBUG flwr 2023-04-16 18:38:04,722 | server.py:179 | evaluate_round 5 received 10 results and 0 failures\n",
      "DEBUG flwr 2023-04-16 18:38:04,723 | server.py:215 | fit_round 6: strategy sampled 9 clients (out of 10)\n"
     ]
    },
    {
     "name": "stdout",
     "output_type": "stream",
     "text": [
      "\u001b[2m\u001b[36m(launch_and_evaluate pid=14688)\u001b[0m 32/32 - 0s - loss: 0.0916 - accuracy: 0.9750 - 424ms/epoch - 13ms/step\n",
      "\u001b[2m\u001b[36m(launch_and_evaluate pid=14687)\u001b[0m 32/32 - 0s - loss: 0.0790 - accuracy: 0.9720 - 426ms/epoch - 13ms/step\n",
      "\u001b[2m\u001b[36m(launch_and_fit pid=14687)\u001b[0m 188/188 - 7s - loss: 0.0936 - accuracy: 0.9700 - 7s/epoch - 40ms/step\n",
      "\u001b[2m\u001b[36m(launch_and_fit pid=14689)\u001b[0m 188/188 - 7s - loss: 0.0835 - accuracy: 0.9777 - 7s/epoch - 40ms/step\n",
      "\u001b[2m\u001b[36m(launch_and_fit pid=14688)\u001b[0m 188/188 - 8s - loss: 0.0941 - accuracy: 0.9715 - 8s/epoch - 40ms/step\n",
      "\u001b[2m\u001b[36m(launch_and_fit pid=14690)\u001b[0m 188/188 - 8s - loss: 0.0923 - accuracy: 0.9745 - 8s/epoch - 40ms/step\n",
      "\u001b[2m\u001b[36m(launch_and_fit pid=14690)\u001b[0m 188/188 - 7s - loss: 0.0841 - accuracy: 0.9748 - 7s/epoch - 38ms/step\n",
      "\u001b[2m\u001b[36m(launch_and_fit pid=14689)\u001b[0m 188/188 - 7s - loss: 0.0844 - accuracy: 0.9758 - 7s/epoch - 40ms/step\n",
      "\u001b[2m\u001b[36m(launch_and_fit pid=14688)\u001b[0m 188/188 - 8s - loss: 0.0877 - accuracy: 0.9733 - 8s/epoch - 40ms/step\n",
      "\u001b[2m\u001b[36m(launch_and_fit pid=14687)\u001b[0m 188/188 - 8s - loss: 0.0780 - accuracy: 0.9768 - 8s/epoch - 41ms/step\n"
     ]
    },
    {
     "name": "stderr",
     "output_type": "stream",
     "text": [
      "DEBUG flwr 2023-04-16 18:38:24,450 | server.py:229 | fit_round 6 received 9 results and 0 failures\n",
      "DEBUG flwr 2023-04-16 18:38:24,486 | server.py:165 | evaluate_round 6: strategy sampled 10 clients (out of 10)\n"
     ]
    },
    {
     "name": "stdout",
     "output_type": "stream",
     "text": [
      "\u001b[2m\u001b[36m(launch_and_fit pid=14690)\u001b[0m 188/188 - 3s - loss: 0.0976 - accuracy: 0.9730 - 3s/epoch - 17ms/step\n",
      "\u001b[2m\u001b[36m(launch_and_evaluate pid=14689)\u001b[0m 32/32 - 1s - loss: 0.0798 - accuracy: 0.9760 - 664ms/epoch - 21ms/step\n",
      "\u001b[2m\u001b[36m(launch_and_evaluate pid=14687)\u001b[0m 32/32 - 1s - loss: 0.0711 - accuracy: 0.9770 - 639ms/epoch - 20ms/step\n",
      "\u001b[2m\u001b[36m(launch_and_evaluate pid=14690)\u001b[0m 32/32 - 1s - loss: 0.0676 - accuracy: 0.9780 - 880ms/epoch - 28ms/step\n",
      "\u001b[2m\u001b[36m(launch_and_evaluate pid=14688)\u001b[0m 32/32 - 1s - loss: 0.0611 - accuracy: 0.9810 - 816ms/epoch - 26ms/step\n",
      "\u001b[2m\u001b[36m(launch_and_evaluate pid=14687)\u001b[0m 32/32 - 1s - loss: 0.0470 - accuracy: 0.9840 - 672ms/epoch - 21ms/step\n",
      "\u001b[2m\u001b[36m(launch_and_evaluate pid=14688)\u001b[0m 32/32 - 1s - loss: 0.0650 - accuracy: 0.9790 - 649ms/epoch - 20ms/step\n",
      "\u001b[2m\u001b[36m(launch_and_evaluate pid=14689)\u001b[0m 32/32 - 1s - loss: 0.0689 - accuracy: 0.9720 - 931ms/epoch - 29ms/step\n",
      "\u001b[2m\u001b[36m(launch_and_evaluate pid=14690)\u001b[0m 32/32 - 1s - loss: 0.0574 - accuracy: 0.9860 - 854ms/epoch - 27ms/step\n"
     ]
    },
    {
     "name": "stderr",
     "output_type": "stream",
     "text": [
      "DEBUG flwr 2023-04-16 18:38:28,525 | server.py:179 | evaluate_round 6 received 10 results and 0 failures\n",
      "DEBUG flwr 2023-04-16 18:38:28,526 | server.py:215 | fit_round 7: strategy sampled 9 clients (out of 10)\n"
     ]
    },
    {
     "name": "stdout",
     "output_type": "stream",
     "text": [
      "\u001b[2m\u001b[36m(launch_and_evaluate pid=14688)\u001b[0m 32/32 - 1s - loss: 0.0709 - accuracy: 0.9750 - 543ms/epoch - 17ms/step\n",
      "\u001b[2m\u001b[36m(launch_and_evaluate pid=14687)\u001b[0m 32/32 - 1s - loss: 0.0597 - accuracy: 0.9800 - 583ms/epoch - 18ms/step\n",
      "\u001b[2m\u001b[36m(launch_and_fit pid=14687)\u001b[0m 188/188 - 7s - loss: 0.0796 - accuracy: 0.9773 - 7s/epoch - 39ms/step\n",
      "\u001b[2m\u001b[36m(launch_and_fit pid=14690)\u001b[0m 188/188 - 8s - loss: 0.0775 - accuracy: 0.9775 - 8s/epoch - 40ms/step\n",
      "\u001b[2m\u001b[36m(launch_and_fit pid=14688)\u001b[0m 188/188 - 8s - loss: 0.0908 - accuracy: 0.9727 - 8s/epoch - 42ms/step\n",
      "\u001b[2m\u001b[36m(launch_and_fit pid=14689)\u001b[0m 188/188 - 8s - loss: 0.0829 - accuracy: 0.9757 - 8s/epoch - 41ms/step\n",
      "\u001b[2m\u001b[36m(launch_and_fit pid=14687)\u001b[0m 188/188 - 8s - loss: 0.0759 - accuracy: 0.9772 - 8s/epoch - 41ms/step\n",
      "\u001b[2m\u001b[36m(launch_and_fit pid=14690)\u001b[0m 188/188 - 8s - loss: 0.0833 - accuracy: 0.9760 - 8s/epoch - 40ms/step\n",
      "\u001b[2m\u001b[36m(launch_and_fit pid=14689)\u001b[0m 188/188 - 7s - loss: 0.0776 - accuracy: 0.9772 - 7s/epoch - 39ms/step\n",
      "\u001b[2m\u001b[36m(launch_and_fit pid=14688)\u001b[0m 188/188 - 8s - loss: 0.0724 - accuracy: 0.9802 - 8s/epoch - 41ms/step\n"
     ]
    },
    {
     "name": "stderr",
     "output_type": "stream",
     "text": [
      "DEBUG flwr 2023-04-16 18:38:48,777 | server.py:229 | fit_round 7 received 9 results and 0 failures\n",
      "DEBUG flwr 2023-04-16 18:38:48,810 | server.py:165 | evaluate_round 7: strategy sampled 10 clients (out of 10)\n"
     ]
    },
    {
     "name": "stdout",
     "output_type": "stream",
     "text": [
      "\u001b[2m\u001b[36m(launch_and_fit pid=14687)\u001b[0m 188/188 - 3s - loss: 0.0834 - accuracy: 0.9755 - 3s/epoch - 17ms/step\n",
      "\u001b[2m\u001b[36m(launch_and_evaluate pid=14687)\u001b[0m 32/32 - 1s - loss: 0.0564 - accuracy: 0.9850 - 534ms/epoch - 17ms/step\n",
      "\u001b[2m\u001b[36m(launch_and_evaluate pid=14689)\u001b[0m 32/32 - 1s - loss: 0.0462 - accuracy: 0.9870 - 658ms/epoch - 21ms/step\n",
      "\u001b[2m\u001b[36m(launch_and_evaluate pid=14690)\u001b[0m 32/32 - 1s - loss: 0.0730 - accuracy: 0.9740 - 689ms/epoch - 22ms/step\n",
      "\u001b[2m\u001b[36m(launch_and_evaluate pid=14688)\u001b[0m 32/32 - 1s - loss: 0.0560 - accuracy: 0.9780 - 733ms/epoch - 23ms/step\n",
      "\u001b[2m\u001b[36m(launch_and_evaluate pid=14687)\u001b[0m 32/32 - 1s - loss: 0.0623 - accuracy: 0.9750 - 565ms/epoch - 18ms/step\n",
      "\u001b[2m\u001b[36m(launch_and_evaluate pid=14689)\u001b[0m 32/32 - 1s - loss: 0.0617 - accuracy: 0.9820 - 569ms/epoch - 18ms/step\n",
      "\u001b[2m\u001b[36m(launch_and_evaluate pid=14688)\u001b[0m 32/32 - 1s - loss: 0.0896 - accuracy: 0.9710 - 596ms/epoch - 19ms/step\n",
      "\u001b[2m\u001b[36m(launch_and_evaluate pid=14690)\u001b[0m 32/32 - 1s - loss: 0.0543 - accuracy: 0.9840 - 641ms/epoch - 20ms/step\n"
     ]
    },
    {
     "name": "stderr",
     "output_type": "stream",
     "text": [
      "DEBUG flwr 2023-04-16 18:38:52,173 | server.py:179 | evaluate_round 7 received 10 results and 0 failures\n",
      "DEBUG flwr 2023-04-16 18:38:52,174 | server.py:215 | fit_round 8: strategy sampled 9 clients (out of 10)\n"
     ]
    },
    {
     "name": "stdout",
     "output_type": "stream",
     "text": [
      "\u001b[2m\u001b[36m(launch_and_evaluate pid=14687)\u001b[0m 32/32 - 0s - loss: 0.0517 - accuracy: 0.9820 - 407ms/epoch - 13ms/step\n",
      "\u001b[2m\u001b[36m(launch_and_evaluate pid=14689)\u001b[0m 32/32 - 0s - loss: 0.0536 - accuracy: 0.9830 - 409ms/epoch - 13ms/step\n",
      "\u001b[2m\u001b[36m(launch_and_fit pid=14689)\u001b[0m 188/188 - 8s - loss: 0.0695 - accuracy: 0.9767 - 8s/epoch - 41ms/step\n",
      "\u001b[2m\u001b[36m(launch_and_fit pid=14688)\u001b[0m 188/188 - 8s - loss: 0.0754 - accuracy: 0.9763 - 8s/epoch - 41ms/step\n",
      "\u001b[2m\u001b[36m(launch_and_fit pid=14690)\u001b[0m 188/188 - 8s - loss: 0.0781 - accuracy: 0.9767 - 8s/epoch - 43ms/step\n",
      "\u001b[2m\u001b[36m(launch_and_fit pid=14687)\u001b[0m 188/188 - 8s - loss: 0.0673 - accuracy: 0.9778 - 8s/epoch - 44ms/step\n",
      "\u001b[2m\u001b[36m(launch_and_fit pid=14689)\u001b[0m 188/188 - 7s - loss: 0.0727 - accuracy: 0.9790 - 7s/epoch - 39ms/step\n",
      "\u001b[2m\u001b[36m(launch_and_fit pid=14688)\u001b[0m 188/188 - 8s - loss: 0.0730 - accuracy: 0.9805 - 8s/epoch - 40ms/step\n",
      "\u001b[2m\u001b[36m(launch_and_fit pid=14690)\u001b[0m 188/188 - 8s - loss: 0.0733 - accuracy: 0.9782 - 8s/epoch - 40ms/step\n",
      "\u001b[2m\u001b[36m(launch_and_fit pid=14687)\u001b[0m 188/188 - 8s - loss: 0.0644 - accuracy: 0.9792 - 8s/epoch - 41ms/step\n"
     ]
    },
    {
     "name": "stderr",
     "output_type": "stream",
     "text": [
      "DEBUG flwr 2023-04-16 18:39:12,603 | server.py:229 | fit_round 8 received 9 results and 0 failures\n",
      "DEBUG flwr 2023-04-16 18:39:12,636 | server.py:165 | evaluate_round 8: strategy sampled 10 clients (out of 10)\n"
     ]
    },
    {
     "name": "stdout",
     "output_type": "stream",
     "text": [
      "\u001b[2m\u001b[36m(launch_and_fit pid=14689)\u001b[0m 188/188 - 3s - loss: 0.0779 - accuracy: 0.9780 - 3s/epoch - 17ms/step\n",
      "\u001b[2m\u001b[36m(launch_and_evaluate pid=14688)\u001b[0m 32/32 - 1s - loss: 0.0586 - accuracy: 0.9760 - 581ms/epoch - 18ms/step\n",
      "\u001b[2m\u001b[36m(launch_and_evaluate pid=14687)\u001b[0m 32/32 - 1s - loss: 0.0490 - accuracy: 0.9830 - 581ms/epoch - 18ms/step\n",
      "\u001b[2m\u001b[36m(launch_and_evaluate pid=14689)\u001b[0m 32/32 - 1s - loss: 0.0373 - accuracy: 0.9870 - 671ms/epoch - 21ms/step\n",
      "\u001b[2m\u001b[36m(launch_and_evaluate pid=14690)\u001b[0m 32/32 - 1s - loss: 0.0528 - accuracy: 0.9860 - 687ms/epoch - 21ms/step\n",
      "\u001b[2m\u001b[36m(launch_and_evaluate pid=14690)\u001b[0m 32/32 - 1s - loss: 0.0608 - accuracy: 0.9810 - 567ms/epoch - 18ms/step\n",
      "\u001b[2m\u001b[36m(launch_and_evaluate pid=14687)\u001b[0m 32/32 - 1s - loss: 0.0576 - accuracy: 0.9810 - 666ms/epoch - 21ms/step\n",
      "\u001b[2m\u001b[36m(launch_and_evaluate pid=14688)\u001b[0m 32/32 - 1s - loss: 0.0456 - accuracy: 0.9860 - 792ms/epoch - 25ms/step\n",
      "\u001b[2m\u001b[36m(launch_and_evaluate pid=14689)\u001b[0m 32/32 - 1s - loss: 0.0502 - accuracy: 0.9860 - 736ms/epoch - 23ms/step\n"
     ]
    },
    {
     "name": "stderr",
     "output_type": "stream",
     "text": [
      "DEBUG flwr 2023-04-16 18:39:16,224 | server.py:179 | evaluate_round 8 received 10 results and 0 failures\n",
      "DEBUG flwr 2023-04-16 18:39:16,225 | server.py:215 | fit_round 9: strategy sampled 9 clients (out of 10)\n"
     ]
    },
    {
     "name": "stdout",
     "output_type": "stream",
     "text": [
      "\u001b[2m\u001b[36m(launch_and_evaluate pid=14687)\u001b[0m 32/32 - 0s - loss: 0.0498 - accuracy: 0.9840 - 408ms/epoch - 13ms/step\n",
      "\u001b[2m\u001b[36m(launch_and_evaluate pid=14690)\u001b[0m 32/32 - 0s - loss: 0.0496 - accuracy: 0.9780 - 424ms/epoch - 13ms/step\n",
      "\u001b[2m\u001b[36m(launch_and_fit pid=14689)\u001b[0m 188/188 - 8s - loss: 0.0812 - accuracy: 0.9742 - 8s/epoch - 44ms/step\n",
      "\u001b[2m\u001b[36m(launch_and_fit pid=14687)\u001b[0m 188/188 - 8s - loss: 0.0658 - accuracy: 0.9822 - 8s/epoch - 44ms/step\n",
      "\u001b[2m\u001b[36m(launch_and_fit pid=14688)\u001b[0m 188/188 - 8s - loss: 0.0587 - accuracy: 0.9820 - 8s/epoch - 45ms/step\n",
      "\u001b[2m\u001b[36m(launch_and_fit pid=14690)\u001b[0m 188/188 - 8s - loss: 0.0605 - accuracy: 0.9810 - 8s/epoch - 45ms/step\n",
      "\u001b[2m\u001b[36m(launch_and_fit pid=14687)\u001b[0m 188/188 - 10s - loss: 0.0535 - accuracy: 0.9852 - 10s/epoch - 51ms/step\n",
      "\u001b[2m\u001b[36m(launch_and_fit pid=14689)\u001b[0m 188/188 - 10s - loss: 0.0681 - accuracy: 0.9790 - 10s/epoch - 54ms/step\n",
      "\u001b[2m\u001b[36m(launch_and_fit pid=14688)\u001b[0m 188/188 - 10s - loss: 0.0575 - accuracy: 0.9815 - 10s/epoch - 54ms/step\n",
      "\u001b[2m\u001b[36m(launch_and_fit pid=14690)\u001b[0m 188/188 - 10s - loss: 0.0652 - accuracy: 0.9808 - 10s/epoch - 54ms/step\n"
     ]
    },
    {
     "name": "stderr",
     "output_type": "stream",
     "text": [
      "DEBUG flwr 2023-04-16 18:39:38,894 | server.py:229 | fit_round 9 received 9 results and 0 failures\n",
      "DEBUG flwr 2023-04-16 18:39:38,927 | server.py:165 | evaluate_round 9: strategy sampled 10 clients (out of 10)\n"
     ]
    },
    {
     "name": "stdout",
     "output_type": "stream",
     "text": [
      "\u001b[2m\u001b[36m(launch_and_fit pid=14687)\u001b[0m 188/188 - 3s - loss: 0.0632 - accuracy: 0.9798 - 3s/epoch - 15ms/step\n",
      "\u001b[2m\u001b[36m(launch_and_evaluate pid=14689)\u001b[0m 32/32 - 1s - loss: 0.0486 - accuracy: 0.9780 - 603ms/epoch - 19ms/step\n",
      "\u001b[2m\u001b[36m(launch_and_evaluate pid=14688)\u001b[0m 32/32 - 1s - loss: 0.0485 - accuracy: 0.9820 - 586ms/epoch - 18ms/step\n",
      "\u001b[2m\u001b[36m(launch_and_evaluate pid=14690)\u001b[0m 32/32 - 1s - loss: 0.0454 - accuracy: 0.9820 - 587ms/epoch - 18ms/step\n",
      "\u001b[2m\u001b[36m(launch_and_evaluate pid=14687)\u001b[0m 32/32 - 1s - loss: 0.0664 - accuracy: 0.9780 - 921ms/epoch - 29ms/step\n",
      "\u001b[2m\u001b[36m(launch_and_evaluate pid=14690)\u001b[0m 32/32 - 1s - loss: 0.0472 - accuracy: 0.9820 - 615ms/epoch - 19ms/step\n",
      "\u001b[2m\u001b[36m(launch_and_evaluate pid=14689)\u001b[0m 32/32 - 1s - loss: 0.0558 - accuracy: 0.9810 - 614ms/epoch - 19ms/step\n",
      "\u001b[2m\u001b[36m(launch_and_evaluate pid=14688)\u001b[0m 32/32 - 1s - loss: 0.0349 - accuracy: 0.9910 - 679ms/epoch - 21ms/step\n",
      "\u001b[2m\u001b[36m(launch_and_evaluate pid=14687)\u001b[0m 32/32 - 1s - loss: 0.0580 - accuracy: 0.9790 - 666ms/epoch - 21ms/step\n"
     ]
    },
    {
     "name": "stderr",
     "output_type": "stream",
     "text": [
      "DEBUG flwr 2023-04-16 18:39:42,263 | server.py:179 | evaluate_round 9 received 10 results and 0 failures\n",
      "DEBUG flwr 2023-04-16 18:39:42,263 | server.py:215 | fit_round 10: strategy sampled 9 clients (out of 10)\n"
     ]
    },
    {
     "name": "stdout",
     "output_type": "stream",
     "text": [
      "\u001b[2m\u001b[36m(launch_and_evaluate pid=14690)\u001b[0m 32/32 - 0s - loss: 0.0375 - accuracy: 0.9850 - 478ms/epoch - 15ms/step\n",
      "\u001b[2m\u001b[36m(launch_and_evaluate pid=14689)\u001b[0m 32/32 - 0s - loss: 0.0469 - accuracy: 0.9860 - 481ms/epoch - 15ms/step\n",
      "\u001b[2m\u001b[36m(launch_and_fit pid=14689)\u001b[0m 188/188 - 10s - loss: 0.0516 - accuracy: 0.9852 - 10s/epoch - 52ms/step\n",
      "\u001b[2m\u001b[36m(launch_and_fit pid=14690)\u001b[0m 188/188 - 10s - loss: 0.0583 - accuracy: 0.9842 - 10s/epoch - 53ms/step\n",
      "\u001b[2m\u001b[36m(launch_and_fit pid=14688)\u001b[0m 188/188 - 10s - loss: 0.0602 - accuracy: 0.9827 - 10s/epoch - 56ms/step\n",
      "\u001b[2m\u001b[36m(launch_and_fit pid=14687)\u001b[0m 188/188 - 10s - loss: 0.0635 - accuracy: 0.9827 - 10s/epoch - 54ms/step\n",
      "\u001b[2m\u001b[36m(launch_and_fit pid=14689)\u001b[0m 188/188 - 9s - loss: 0.0631 - accuracy: 0.9818 - 9s/epoch - 48ms/step\n",
      "\u001b[2m\u001b[36m(launch_and_fit pid=14687)\u001b[0m 188/188 - 9s - loss: 0.0677 - accuracy: 0.9808 - 9s/epoch - 47ms/step\n",
      "\u001b[2m\u001b[36m(launch_and_fit pid=14688)\u001b[0m 188/188 - 9s - loss: 0.0658 - accuracy: 0.9803 - 9s/epoch - 48ms/step\n",
      "\u001b[2m\u001b[36m(launch_and_fit pid=14690)\u001b[0m 188/188 - 9s - loss: 0.0617 - accuracy: 0.9808 - 9s/epoch - 50ms/step\n"
     ]
    },
    {
     "name": "stderr",
     "output_type": "stream",
     "text": [
      "DEBUG flwr 2023-04-16 18:40:06,271 | server.py:229 | fit_round 10 received 9 results and 0 failures\n",
      "DEBUG flwr 2023-04-16 18:40:06,303 | server.py:165 | evaluate_round 10: strategy sampled 10 clients (out of 10)\n"
     ]
    },
    {
     "name": "stdout",
     "output_type": "stream",
     "text": [
      "\u001b[2m\u001b[36m(launch_and_fit pid=14689)\u001b[0m 188/188 - 3s - loss: 0.0606 - accuracy: 0.9838 - 3s/epoch - 15ms/step\n",
      "\u001b[2m\u001b[36m(launch_and_evaluate pid=14689)\u001b[0m 32/32 - 1s - loss: 0.0650 - accuracy: 0.9770 - 593ms/epoch - 19ms/step\n",
      "\u001b[2m\u001b[36m(launch_and_evaluate pid=14690)\u001b[0m 32/32 - 1s - loss: 0.0520 - accuracy: 0.9830 - 573ms/epoch - 18ms/step\n",
      "\u001b[2m\u001b[36m(launch_and_evaluate pid=14688)\u001b[0m 32/32 - 1s - loss: 0.0493 - accuracy: 0.9860 - 610ms/epoch - 19ms/step\n",
      "\u001b[2m\u001b[36m(launch_and_evaluate pid=14687)\u001b[0m 32/32 - 1s - loss: 0.0657 - accuracy: 0.9790 - 647ms/epoch - 20ms/step\n",
      "\u001b[2m\u001b[36m(launch_and_evaluate pid=14689)\u001b[0m 32/32 - 1s - loss: 0.0652 - accuracy: 0.9810 - 632ms/epoch - 20ms/step\n",
      "\u001b[2m\u001b[36m(launch_and_evaluate pid=14690)\u001b[0m 32/32 - 1s - loss: 0.0515 - accuracy: 0.9840 - 586ms/epoch - 18ms/step\n",
      "\u001b[2m\u001b[36m(launch_and_evaluate pid=14688)\u001b[0m 32/32 - 1s - loss: 0.0612 - accuracy: 0.9800 - 603ms/epoch - 19ms/step\n",
      "\u001b[2m\u001b[36m(launch_and_evaluate pid=14687)\u001b[0m 32/32 - 1s - loss: 0.0503 - accuracy: 0.9830 - 620ms/epoch - 19ms/step\n"
     ]
    },
    {
     "name": "stderr",
     "output_type": "stream",
     "text": [
      "DEBUG flwr 2023-04-16 18:40:09,479 | server.py:179 | evaluate_round 10 received 10 results and 0 failures\n",
      "DEBUG flwr 2023-04-16 18:40:09,480 | server.py:215 | fit_round 11: strategy sampled 9 clients (out of 10)\n"
     ]
    },
    {
     "name": "stdout",
     "output_type": "stream",
     "text": [
      "\u001b[2m\u001b[36m(launch_and_evaluate pid=14689)\u001b[0m 32/32 - 0s - loss: 0.0465 - accuracy: 0.9850 - 431ms/epoch - 13ms/step\n",
      "\u001b[2m\u001b[36m(launch_and_evaluate pid=14690)\u001b[0m 32/32 - 0s - loss: 0.0440 - accuracy: 0.9860 - 424ms/epoch - 13ms/step\n",
      "\u001b[2m\u001b[36m(launch_and_fit pid=14689)\u001b[0m 188/188 - 8s - loss: 0.0478 - accuracy: 0.9867 - 8s/epoch - 45ms/step\n",
      "\u001b[2m\u001b[36m(launch_and_fit pid=14688)\u001b[0m 188/188 - 9s - loss: 0.0573 - accuracy: 0.9808 - 9s/epoch - 46ms/step\n",
      "\u001b[2m\u001b[36m(launch_and_fit pid=14690)\u001b[0m 188/188 - 9s - loss: 0.0522 - accuracy: 0.9850 - 9s/epoch - 45ms/step\n",
      "\u001b[2m\u001b[36m(launch_and_fit pid=14687)\u001b[0m 188/188 - 9s - loss: 0.0524 - accuracy: 0.9855 - 9s/epoch - 47ms/step\n",
      "\u001b[2m\u001b[36m(launch_and_fit pid=14688)\u001b[0m 188/188 - 7s - loss: 0.0530 - accuracy: 0.9845 - 7s/epoch - 36ms/step\n",
      "\u001b[2m\u001b[36m(launch_and_fit pid=14690)\u001b[0m 188/188 - 7s - loss: 0.0565 - accuracy: 0.9830 - 7s/epoch - 37ms/step\n",
      "\u001b[2m\u001b[36m(launch_and_fit pid=14687)\u001b[0m 188/188 - 7s - loss: 0.0595 - accuracy: 0.9825 - 7s/epoch - 37ms/step\n",
      "\u001b[2m\u001b[36m(launch_and_fit pid=14689)\u001b[0m 188/188 - 6s - loss: 0.0587 - accuracy: 0.9832 - 6s/epoch - 31ms/step\n"
     ]
    },
    {
     "name": "stderr",
     "output_type": "stream",
     "text": [
      "DEBUG flwr 2023-04-16 18:40:30,541 | server.py:229 | fit_round 11 received 9 results and 0 failures\n",
      "DEBUG flwr 2023-04-16 18:40:30,577 | server.py:165 | evaluate_round 11: strategy sampled 10 clients (out of 10)\n"
     ]
    },
    {
     "name": "stdout",
     "output_type": "stream",
     "text": [
      "\u001b[2m\u001b[36m(launch_and_fit pid=14688)\u001b[0m 188/188 - 3s - loss: 0.0450 - accuracy: 0.9862 - 3s/epoch - 18ms/step\n",
      "\u001b[2m\u001b[36m(launch_and_evaluate pid=14689)\u001b[0m 32/32 - 1s - loss: 0.0348 - accuracy: 0.9890 - 581ms/epoch - 18ms/step\n",
      "\u001b[2m\u001b[36m(launch_and_evaluate pid=14690)\u001b[0m 32/32 - 1s - loss: 0.0350 - accuracy: 0.9890 - 617ms/epoch - 19ms/step\n",
      "\u001b[2m\u001b[36m(launch_and_evaluate pid=14687)\u001b[0m 32/32 - 1s - loss: 0.0629 - accuracy: 0.9790 - 628ms/epoch - 20ms/step\n",
      "\u001b[2m\u001b[36m(launch_and_evaluate pid=14688)\u001b[0m 32/32 - 1s - loss: 0.0503 - accuracy: 0.9810 - 685ms/epoch - 21ms/step\n",
      "\u001b[2m\u001b[36m(launch_and_evaluate pid=14690)\u001b[0m 32/32 - 1s - loss: 0.0459 - accuracy: 0.9860 - 559ms/epoch - 17ms/step\n",
      "\u001b[2m\u001b[36m(launch_and_evaluate pid=14689)\u001b[0m 32/32 - 1s - loss: 0.0355 - accuracy: 0.9890 - 576ms/epoch - 18ms/step\n",
      "\u001b[2m\u001b[36m(launch_and_evaluate pid=14687)\u001b[0m 32/32 - 1s - loss: 0.0732 - accuracy: 0.9740 - 633ms/epoch - 20ms/step\n",
      "\u001b[2m\u001b[36m(launch_and_evaluate pid=14688)\u001b[0m 32/32 - 1s - loss: 0.0610 - accuracy: 0.9800 - 710ms/epoch - 22ms/step\n"
     ]
    },
    {
     "name": "stderr",
     "output_type": "stream",
     "text": [
      "DEBUG flwr 2023-04-16 18:40:33,977 | server.py:179 | evaluate_round 11 received 10 results and 0 failures\n",
      "DEBUG flwr 2023-04-16 18:40:33,980 | server.py:215 | fit_round 12: strategy sampled 9 clients (out of 10)\n"
     ]
    },
    {
     "name": "stdout",
     "output_type": "stream",
     "text": [
      "\u001b[2m\u001b[36m(launch_and_evaluate pid=14689)\u001b[0m 32/32 - 0s - loss: 0.0419 - accuracy: 0.9830 - 420ms/epoch - 13ms/step\n",
      "\u001b[2m\u001b[36m(launch_and_evaluate pid=14690)\u001b[0m 32/32 - 0s - loss: 0.0399 - accuracy: 0.9890 - 432ms/epoch - 14ms/step\n",
      "\u001b[2m\u001b[36m(launch_and_fit pid=14689)\u001b[0m 188/188 - 8s - loss: 0.0502 - accuracy: 0.9842 - 8s/epoch - 41ms/step\n",
      "\u001b[2m\u001b[36m(launch_and_fit pid=14687)\u001b[0m 188/188 - 8s - loss: 0.0558 - accuracy: 0.9835 - 8s/epoch - 41ms/step\n",
      "\u001b[2m\u001b[36m(launch_and_fit pid=14690)\u001b[0m 188/188 - 8s - loss: 0.0510 - accuracy: 0.9855 - 8s/epoch - 41ms/step\n",
      "\u001b[2m\u001b[36m(launch_and_fit pid=14688)\u001b[0m 188/188 - 8s - loss: 0.0559 - accuracy: 0.9810 - 8s/epoch - 42ms/step\n",
      "\u001b[2m\u001b[36m(launch_and_fit pid=14687)\u001b[0m 188/188 - 8s - loss: 0.0508 - accuracy: 0.9865 - 8s/epoch - 41ms/step\n",
      "\u001b[2m\u001b[36m(launch_and_fit pid=14690)\u001b[0m 188/188 - 8s - loss: 0.0585 - accuracy: 0.9827 - 8s/epoch - 41ms/step\n",
      "\u001b[2m\u001b[36m(launch_and_fit pid=14688)\u001b[0m 188/188 - 8s - loss: 0.0541 - accuracy: 0.9827 - 8s/epoch - 42ms/step\n",
      "\u001b[2m\u001b[36m(launch_and_fit pid=14689)\u001b[0m 188/188 - 8s - loss: 0.0597 - accuracy: 0.9827 - 8s/epoch - 45ms/step\n"
     ]
    },
    {
     "name": "stderr",
     "output_type": "stream",
     "text": [
      "DEBUG flwr 2023-04-16 18:40:54,401 | server.py:229 | fit_round 12 received 9 results and 0 failures\n",
      "DEBUG flwr 2023-04-16 18:40:54,440 | server.py:165 | evaluate_round 12: strategy sampled 10 clients (out of 10)\n"
     ]
    },
    {
     "name": "stdout",
     "output_type": "stream",
     "text": [
      "\u001b[2m\u001b[36m(launch_and_fit pid=14687)\u001b[0m 188/188 - 3s - loss: 0.0534 - accuracy: 0.9847 - 3s/epoch - 15ms/step\n",
      "\u001b[2m\u001b[36m(launch_and_evaluate pid=14689)\u001b[0m 32/32 - 1s - loss: 0.0338 - accuracy: 0.9900 - 726ms/epoch - 23ms/step\n",
      "\u001b[2m\u001b[36m(launch_and_evaluate pid=14690)\u001b[0m 32/32 - 1s - loss: 0.0586 - accuracy: 0.9790 - 639ms/epoch - 20ms/step\n",
      "\u001b[2m\u001b[36m(launch_and_evaluate pid=14687)\u001b[0m 32/32 - 1s - loss: 0.0459 - accuracy: 0.9850 - 726ms/epoch - 23ms/step\n",
      "\u001b[2m\u001b[36m(launch_and_evaluate pid=14688)\u001b[0m 32/32 - 1s - loss: 0.0455 - accuracy: 0.9870 - 731ms/epoch - 23ms/step\n",
      "\u001b[2m\u001b[36m(launch_and_evaluate pid=14690)\u001b[0m 32/32 - 1s - loss: 0.0479 - accuracy: 0.9850 - 625ms/epoch - 20ms/step\n",
      "\u001b[2m\u001b[36m(launch_and_evaluate pid=14687)\u001b[0m 32/32 - 1s - loss: 0.0537 - accuracy: 0.9840 - 560ms/epoch - 17ms/step\n",
      "\u001b[2m\u001b[36m(launch_and_evaluate pid=14688)\u001b[0m 32/32 - 1s - loss: 0.0446 - accuracy: 0.9850 - 753ms/epoch - 24ms/step\n",
      "\u001b[2m\u001b[36m(launch_and_evaluate pid=14689)\u001b[0m 32/32 - 1s - loss: 0.0594 - accuracy: 0.9790 - 730ms/epoch - 23ms/step\n"
     ]
    },
    {
     "name": "stderr",
     "output_type": "stream",
     "text": [
      "DEBUG flwr 2023-04-16 18:40:57,947 | server.py:179 | evaluate_round 12 received 10 results and 0 failures\n",
      "DEBUG flwr 2023-04-16 18:40:57,948 | server.py:215 | fit_round 13: strategy sampled 9 clients (out of 10)\n"
     ]
    },
    {
     "name": "stdout",
     "output_type": "stream",
     "text": [
      "\u001b[2m\u001b[36m(launch_and_evaluate pid=14690)\u001b[0m 32/32 - 0s - loss: 0.0549 - accuracy: 0.9790 - 415ms/epoch - 13ms/step\n",
      "\u001b[2m\u001b[36m(launch_and_evaluate pid=14687)\u001b[0m 32/32 - 0s - loss: 0.0528 - accuracy: 0.9840 - 421ms/epoch - 13ms/step\n",
      "\u001b[2m\u001b[36m(launch_and_fit pid=14688)\u001b[0m 188/188 - 8s - loss: 0.0521 - accuracy: 0.9857 - 8s/epoch - 41ms/step\n",
      "\u001b[2m\u001b[36m(launch_and_fit pid=14690)\u001b[0m 188/188 - 8s - loss: 0.0566 - accuracy: 0.9825 - 8s/epoch - 41ms/step\n",
      "\u001b[2m\u001b[36m(launch_and_fit pid=14689)\u001b[0m 188/188 - 8s - loss: 0.0470 - accuracy: 0.9862 - 8s/epoch - 42ms/step\n",
      "\u001b[2m\u001b[36m(launch_and_fit pid=14687)\u001b[0m 188/188 - 8s - loss: 0.0543 - accuracy: 0.9828 - 8s/epoch - 42ms/step\n",
      "\u001b[2m\u001b[36m(launch_and_fit pid=14688)\u001b[0m 188/188 - 8s - loss: 0.0434 - accuracy: 0.9882 - 8s/epoch - 42ms/step\n",
      "\u001b[2m\u001b[36m(launch_and_fit pid=14689)\u001b[0m 188/188 - 8s - loss: 0.0438 - accuracy: 0.9873 - 8s/epoch - 43ms/step\n",
      "\u001b[2m\u001b[36m(launch_and_fit pid=14690)\u001b[0m 188/188 - 8s - loss: 0.0480 - accuracy: 0.9843 - 8s/epoch - 43ms/step\n",
      "\u001b[2m\u001b[36m(launch_and_fit pid=14687)\u001b[0m 188/188 - 8s - loss: 0.0433 - accuracy: 0.9873 - 8s/epoch - 44ms/step\n"
     ]
    },
    {
     "name": "stderr",
     "output_type": "stream",
     "text": [
      "DEBUG flwr 2023-04-16 18:41:18,447 | server.py:229 | fit_round 13 received 9 results and 0 failures\n",
      "DEBUG flwr 2023-04-16 18:41:18,478 | server.py:165 | evaluate_round 13: strategy sampled 10 clients (out of 10)\n"
     ]
    },
    {
     "name": "stdout",
     "output_type": "stream",
     "text": [
      "\u001b[2m\u001b[36m(launch_and_fit pid=14690)\u001b[0m 188/188 - 3s - loss: 0.0502 - accuracy: 0.9857 - 3s/epoch - 15ms/step\n",
      "\u001b[2m\u001b[36m(launch_and_evaluate pid=14689)\u001b[0m 32/32 - 1s - loss: 0.0550 - accuracy: 0.9820 - 675ms/epoch - 21ms/step\n",
      "\u001b[2m\u001b[36m(launch_and_evaluate pid=14690)\u001b[0m 32/32 - 1s - loss: 0.0436 - accuracy: 0.9840 - 648ms/epoch - 20ms/step\n",
      "\u001b[2m\u001b[36m(launch_and_evaluate pid=14687)\u001b[0m 32/32 - 1s - loss: 0.0529 - accuracy: 0.9830 - 725ms/epoch - 23ms/step\n",
      "\u001b[2m\u001b[36m(launch_and_evaluate pid=14688)\u001b[0m 32/32 - 1s - loss: 0.0384 - accuracy: 0.9860 - 659ms/epoch - 21ms/step\n",
      "\u001b[2m\u001b[36m(launch_and_evaluate pid=14689)\u001b[0m 32/32 - 1s - loss: 0.0346 - accuracy: 0.9900 - 671ms/epoch - 21ms/step\n",
      "\u001b[2m\u001b[36m(launch_and_evaluate pid=14690)\u001b[0m 32/32 - 1s - loss: 0.0421 - accuracy: 0.9880 - 645ms/epoch - 20ms/step\n",
      "\u001b[2m\u001b[36m(launch_and_evaluate pid=14687)\u001b[0m 32/32 - 1s - loss: 0.0498 - accuracy: 0.9810 - 673ms/epoch - 21ms/step\n",
      "\u001b[2m\u001b[36m(launch_and_evaluate pid=14688)\u001b[0m 32/32 - 1s - loss: 0.0453 - accuracy: 0.9860 - 698ms/epoch - 22ms/step\n",
      "\u001b[2m\u001b[36m(launch_and_evaluate pid=14689)\u001b[0m 32/32 - 1s - loss: 0.0347 - accuracy: 0.9830 - 694ms/epoch - 22ms/step\n"
     ]
    },
    {
     "name": "stderr",
     "output_type": "stream",
     "text": [
      "DEBUG flwr 2023-04-16 18:41:22,515 | server.py:179 | evaluate_round 13 received 10 results and 0 failures\n",
      "DEBUG flwr 2023-04-16 18:41:22,518 | server.py:215 | fit_round 14: strategy sampled 9 clients (out of 10)\n"
     ]
    },
    {
     "name": "stdout",
     "output_type": "stream",
     "text": [
      "\u001b[2m\u001b[36m(launch_and_evaluate pid=14690)\u001b[0m 32/32 - 1s - loss: 0.0465 - accuracy: 0.9810 - 777ms/epoch - 24ms/step\n",
      "\u001b[2m\u001b[36m(launch_and_fit pid=14689)\u001b[0m 188/188 - 9s - loss: 0.0362 - accuracy: 0.9898 - 9s/epoch - 50ms/step\n",
      "\u001b[2m\u001b[36m(launch_and_fit pid=14688)\u001b[0m 188/188 - 10s - loss: 0.0536 - accuracy: 0.9842 - 10s/epoch - 52ms/step\n",
      "\u001b[2m\u001b[36m(launch_and_fit pid=14690)\u001b[0m 188/188 - 10s - loss: 0.0485 - accuracy: 0.9863 - 10s/epoch - 52ms/step\n",
      "\u001b[2m\u001b[36m(launch_and_fit pid=14687)\u001b[0m 188/188 - 10s - loss: 0.0490 - accuracy: 0.9855 - 10s/epoch - 55ms/step\n",
      "\u001b[2m\u001b[36m(launch_and_fit pid=14688)\u001b[0m 188/188 - 8s - loss: 0.0461 - accuracy: 0.9857 - 8s/epoch - 45ms/step\n",
      "\u001b[2m\u001b[36m(launch_and_fit pid=14690)\u001b[0m 188/188 - 9s - loss: 0.0413 - accuracy: 0.9890 - 9s/epoch - 46ms/step\n",
      "\u001b[2m\u001b[36m(launch_and_fit pid=14689)\u001b[0m 188/188 - 9s - loss: 0.0470 - accuracy: 0.9852 - 9s/epoch - 50ms/step\n",
      "\u001b[2m\u001b[36m(launch_and_fit pid=14687)\u001b[0m 188/188 - 9s - loss: 0.0450 - accuracy: 0.9867 - 9s/epoch - 46ms/step\n"
     ]
    },
    {
     "name": "stderr",
     "output_type": "stream",
     "text": [
      "DEBUG flwr 2023-04-16 18:41:46,528 | server.py:229 | fit_round 14 received 9 results and 0 failures\n",
      "DEBUG flwr 2023-04-16 18:41:46,562 | server.py:165 | evaluate_round 14: strategy sampled 10 clients (out of 10)\n"
     ]
    },
    {
     "name": "stdout",
     "output_type": "stream",
     "text": [
      "\u001b[2m\u001b[36m(launch_and_fit pid=14688)\u001b[0m 188/188 - 3s - loss: 0.0536 - accuracy: 0.9848 - 3s/epoch - 18ms/step\n",
      "\u001b[2m\u001b[36m(launch_and_evaluate pid=14688)\u001b[0m 32/32 - 1s - loss: 0.0573 - accuracy: 0.9820 - 594ms/epoch - 19ms/step\n",
      "\u001b[2m\u001b[36m(launch_and_evaluate pid=14690)\u001b[0m 32/32 - 1s - loss: 0.0390 - accuracy: 0.9850 - 586ms/epoch - 18ms/step\n",
      "\u001b[2m\u001b[36m(launch_and_evaluate pid=14689)\u001b[0m 32/32 - 1s - loss: 0.0450 - accuracy: 0.9850 - 613ms/epoch - 19ms/step\n",
      "\u001b[2m\u001b[36m(launch_and_evaluate pid=14687)\u001b[0m 32/32 - 1s - loss: 0.0322 - accuracy: 0.9900 - 614ms/epoch - 19ms/step\n",
      "\u001b[2m\u001b[36m(launch_and_evaluate pid=14690)\u001b[0m 32/32 - 1s - loss: 0.0330 - accuracy: 0.9910 - 606ms/epoch - 19ms/step\n",
      "\u001b[2m\u001b[36m(launch_and_evaluate pid=14688)\u001b[0m 32/32 - 1s - loss: 0.0419 - accuracy: 0.9860 - 670ms/epoch - 21ms/step\n",
      "\u001b[2m\u001b[36m(launch_and_evaluate pid=14689)\u001b[0m 32/32 - 1s - loss: 0.0467 - accuracy: 0.9810 - 680ms/epoch - 21ms/step\n",
      "\u001b[2m\u001b[36m(launch_and_evaluate pid=14687)\u001b[0m 32/32 - 1s - loss: 0.0382 - accuracy: 0.9900 - 692ms/epoch - 22ms/step\n"
     ]
    },
    {
     "name": "stderr",
     "output_type": "stream",
     "text": [
      "DEBUG flwr 2023-04-16 18:41:50,138 | server.py:179 | evaluate_round 14 received 10 results and 0 failures\n",
      "DEBUG flwr 2023-04-16 18:41:50,139 | server.py:215 | fit_round 15: strategy sampled 9 clients (out of 10)\n"
     ]
    },
    {
     "name": "stdout",
     "output_type": "stream",
     "text": [
      "\u001b[2m\u001b[36m(launch_and_evaluate pid=14688)\u001b[0m 32/32 - 0s - loss: 0.0400 - accuracy: 0.9890 - 444ms/epoch - 14ms/step\n",
      "\u001b[2m\u001b[36m(launch_and_evaluate pid=14690)\u001b[0m 32/32 - 0s - loss: 0.0458 - accuracy: 0.9830 - 438ms/epoch - 14ms/step\n",
      "\u001b[2m\u001b[36m(launch_and_fit pid=14690)\u001b[0m 188/188 - 9s - loss: 0.0450 - accuracy: 0.9873 - 9s/epoch - 48ms/step\n",
      "\u001b[2m\u001b[36m(launch_and_fit pid=14689)\u001b[0m 188/188 - 9s - loss: 0.0428 - accuracy: 0.9870 - 9s/epoch - 49ms/step\n",
      "\u001b[2m\u001b[36m(launch_and_fit pid=14687)\u001b[0m 188/188 - 9s - loss: 0.0442 - accuracy: 0.9862 - 9s/epoch - 50ms/step\n",
      "\u001b[2m\u001b[36m(launch_and_fit pid=14688)\u001b[0m 188/188 - 10s - loss: 0.0452 - accuracy: 0.9865 - 10s/epoch - 54ms/step\n",
      "\u001b[2m\u001b[36m(launch_and_fit pid=14690)\u001b[0m 188/188 - 8s - loss: 0.0470 - accuracy: 0.9867 - 8s/epoch - 41ms/step\n",
      "\u001b[2m\u001b[36m(launch_and_fit pid=14689)\u001b[0m 188/188 - 8s - loss: 0.0460 - accuracy: 0.9858 - 8s/epoch - 41ms/step\n",
      "\u001b[2m\u001b[36m(launch_and_fit pid=14687)\u001b[0m 188/188 - 8s - loss: 0.0448 - accuracy: 0.9868 - 8s/epoch - 41ms/step\n",
      "\u001b[2m\u001b[36m(launch_and_fit pid=14688)\u001b[0m 188/188 - 8s - loss: 0.0437 - accuracy: 0.9897 - 8s/epoch - 41ms/step\n"
     ]
    },
    {
     "name": "stderr",
     "output_type": "stream",
     "text": [
      "DEBUG flwr 2023-04-16 18:42:11,652 | server.py:229 | fit_round 15 received 9 results and 0 failures\n",
      "DEBUG flwr 2023-04-16 18:42:11,681 | server.py:165 | evaluate_round 15: strategy sampled 10 clients (out of 10)\n"
     ]
    },
    {
     "name": "stdout",
     "output_type": "stream",
     "text": [
      "\u001b[2m\u001b[36m(launch_and_fit pid=14690)\u001b[0m 188/188 - 3s - loss: 0.0500 - accuracy: 0.9853 - 3s/epoch - 14ms/step\n",
      "\u001b[2m\u001b[36m(launch_and_evaluate pid=14690)\u001b[0m 32/32 - 1s - loss: 0.0470 - accuracy: 0.9850 - 527ms/epoch - 16ms/step\n",
      "\u001b[2m\u001b[36m(launch_and_evaluate pid=14688)\u001b[0m 32/32 - 1s - loss: 0.0414 - accuracy: 0.9840 - 629ms/epoch - 20ms/step\n",
      "\u001b[2m\u001b[36m(launch_and_evaluate pid=14687)\u001b[0m 32/32 - 1s - loss: 0.0402 - accuracy: 0.9860 - 604ms/epoch - 19ms/step\n",
      "\u001b[2m\u001b[36m(launch_and_evaluate pid=14689)\u001b[0m 32/32 - 1s - loss: 0.0557 - accuracy: 0.9800 - 669ms/epoch - 21ms/step\n",
      "\u001b[2m\u001b[36m(launch_and_evaluate pid=14690)\u001b[0m 32/32 - 1s - loss: 0.0412 - accuracy: 0.9860 - 680ms/epoch - 21ms/step\n",
      "\u001b[2m\u001b[36m(launch_and_evaluate pid=14688)\u001b[0m 32/32 - 1s - loss: 0.0514 - accuracy: 0.9810 - 833ms/epoch - 26ms/step\n",
      "\u001b[2m\u001b[36m(launch_and_evaluate pid=14687)\u001b[0m 32/32 - 1s - loss: 0.0450 - accuracy: 0.9830 - 866ms/epoch - 27ms/step\n",
      "\u001b[2m\u001b[36m(launch_and_evaluate pid=14689)\u001b[0m 32/32 - 1s - loss: 0.0520 - accuracy: 0.9820 - 861ms/epoch - 27ms/step\n"
     ]
    },
    {
     "name": "stderr",
     "output_type": "stream",
     "text": [
      "DEBUG flwr 2023-04-16 18:42:15,214 | server.py:179 | evaluate_round 15 received 10 results and 0 failures\n",
      "INFO flwr 2023-04-16 18:42:15,215 | server.py:144 | FL finished in 373.3437106429992\n",
      "INFO flwr 2023-04-16 18:42:15,215 | app.py:202 | app_fit: losses_distributed [(1, 0.2019519954919815), (2, 0.13158478885889052), (3, 0.10427858754992485), (4, 0.09196495413780212), (5, 0.07175712138414383), (6, 0.06485278531908989), (7, 0.06048215255141258), (8, 0.05113604217767716), (9, 0.04892141371965408), (10, 0.055062797665596006), (11, 0.048051030933856965), (12, 0.049721595644950864), (13, 0.04427334219217301), (14, 0.04191206693649292), (15, 0.046728169173002244)]\n",
      "INFO flwr 2023-04-16 18:42:15,216 | app.py:203 | app_fit: metrics_distributed {'accuracy': [(1, 0.9437000036239624), (2, 0.9628000020980835), (3, 0.9704999983310699), (4, 0.9731999933719635), (5, 0.9781999945640564), (6, 0.9788000047206878), (7, 0.9800999999046326), (8, 0.9828000009059906), (9, 0.982399994134903), (10, 0.9824000000953674), (11, 0.9839000046253205), (12, 0.9837000012397766), (13, 0.9843999981880188), (14, 0.9862000048160553), (15, 0.9836000025272369)]}\n",
      "INFO flwr 2023-04-16 18:42:15,216 | app.py:204 | app_fit: losses_centralized []\n",
      "INFO flwr 2023-04-16 18:42:15,218 | app.py:205 | app_fit: metrics_centralized {}\n"
     ]
    },
    {
     "name": "stdout",
     "output_type": "stream",
     "text": [
      "\u001b[2m\u001b[36m(launch_and_evaluate pid=14690)\u001b[0m 32/32 - 0s - loss: 0.0405 - accuracy: 0.9880 - 429ms/epoch - 13ms/step\n"
     ]
    }
   ],
   "source": [
    "history15 = fl.simulation.start_simulation(\n",
    "    client_fn=client_fn_random,\n",
    "    num_clients=num_clients,\n",
    "    config=fl.server.ServerConfig(num_rounds=15),\n",
    "    strategy=strategy,\n",
    ")"
   ]
  },
  {
   "cell_type": "code",
   "execution_count": 28,
   "metadata": {
    "colab": {
     "base_uri": "https://localhost:8080/",
     "height": 449
    },
    "id": "5Z03voP7GEDP",
    "outputId": "d01a3ad6-cae2-4c17-f779-c4457a5c5d08"
   },
   "outputs": [
    {
     "name": "stdout",
     "output_type": "stream",
     "text": [
      "\u001b[2m\u001b[36m(launch_and_evaluate pid=14688)\u001b[0m 32/32 - 0s - loss: 0.0530 - accuracy: 0.9810 - 427ms/epoch - 13ms/step\n"
     ]
    },
    {
     "data": {
      "image/png": "[encoded data removed]",
      "text/plain": [
       "<Figure size 640x480 with 1 Axes>"
      ]
     },
     "metadata": {},
     "output_type": "display_data"
    }
   ],
   "source": [
    "plt.plot(*zip(*history15.metrics_distributed['accuracy']))\n",
    "plt.xlabel(\"Rounds\")\n",
    "plt.ylabel(\"Accuracy\")\n",
    "plt.show()"
   ]
  },
  {
   "cell_type": "markdown",
   "metadata": {
    "id": "RcsEUzI2GNms"
   },
   "source": [
    "## Simulação com 20 rouds"
   ]
  },
  {
   "cell_type": "code",
   "execution_count": 29,
   "metadata": {
    "colab": {
     "base_uri": "https://localhost:8080/"
    },
    "id": "6RpYIP36GQnp",
    "outputId": "41f71317-3112-4168-aa46-6e872db4d340"
   },
   "outputs": [
    {
     "name": "stderr",
     "output_type": "stream",
     "text": [
      "INFO flwr 2023-04-16 18:42:15,492 | app.py:145 | Starting Flower simulation, config: ServerConfig(num_rounds=20, round_timeout=None)\n",
      "2023-04-16 18:42:20,172\tINFO worker.py:1529 -- Started a local Ray instance. View the dashboard at \u001b[1m\u001b[32m127.0.0.1:8265 \u001b[39m\u001b[22m\n",
      "INFO flwr 2023-04-16 18:42:21,273 | app.py:179 | Flower VCE: Ray initialized with resources: {'CPU': 4.0, 'object_store_memory': 1927056998.0, 'memory': 3854113998.0, 'node:192.168.42.146': 1.0}\n",
      "INFO flwr 2023-04-16 18:42:21,274 | server.py:86 | Initializing global parameters\n",
      "INFO flwr 2023-04-16 18:42:21,274 | server.py:270 | Requesting initial parameters from one random client\n",
      "INFO flwr 2023-04-16 18:42:23,850 | server.py:274 | Received initial parameters from one random client\n",
      "INFO flwr 2023-04-16 18:42:23,853 | server.py:88 | Evaluating initial parameters\n",
      "INFO flwr 2023-04-16 18:42:23,854 | server.py:101 | FL starting\n",
      "DEBUG flwr 2023-04-16 18:42:23,855 | server.py:215 | fit_round 1: strategy sampled 9 clients (out of 10)\n"
     ]
    },
    {
     "name": "stdout",
     "output_type": "stream",
     "text": [
      "\u001b[2m\u001b[36m(launch_and_fit pid=18167)\u001b[0m 188/188 - 7s - loss: 0.4463 - accuracy: 0.8602 - 7s/epoch - 35ms/step\n",
      "\u001b[2m\u001b[36m(launch_and_fit pid=18168)\u001b[0m 188/188 - 8s - loss: 0.4759 - accuracy: 0.8483 - 8s/epoch - 41ms/step\n",
      "\u001b[2m\u001b[36m(launch_and_fit pid=18165)\u001b[0m 188/188 - 8s - loss: 0.4973 - accuracy: 0.8385 - 8s/epoch - 42ms/step\n",
      "\u001b[2m\u001b[36m(launch_and_fit pid=18166)\u001b[0m 188/188 - 8s - loss: 0.4737 - accuracy: 0.8527 - 8s/epoch - 41ms/step\n",
      "\u001b[2m\u001b[36m(launch_and_fit pid=18167)\u001b[0m 188/188 - 7s - loss: 0.4808 - accuracy: 0.8478 - 7s/epoch - 40ms/step\n",
      "\u001b[2m\u001b[36m(launch_and_fit pid=18165)\u001b[0m 188/188 - 7s - loss: 0.4859 - accuracy: 0.8468 - 7s/epoch - 39ms/step\n",
      "\u001b[2m\u001b[36m(launch_and_fit pid=18166)\u001b[0m 188/188 - 7s - loss: 0.4621 - accuracy: 0.8505 - 7s/epoch - 39ms/step\n",
      "\u001b[2m\u001b[36m(launch_and_fit pid=18168)\u001b[0m 188/188 - 7s - loss: 0.4640 - accuracy: 0.8575 - 7s/epoch - 40ms/step\n"
     ]
    },
    {
     "name": "stderr",
     "output_type": "stream",
     "text": [
      "DEBUG flwr 2023-04-16 18:42:45,205 | server.py:229 | fit_round 1 received 9 results and 0 failures\n",
      "WARNING flwr 2023-04-16 18:42:45,236 | fedavg.py:242 | No fit_metrics_aggregation_fn provided\n",
      "DEBUG flwr 2023-04-16 18:42:45,237 | server.py:165 | evaluate_round 1: strategy sampled 10 clients (out of 10)\n"
     ]
    },
    {
     "name": "stdout",
     "output_type": "stream",
     "text": [
      "\u001b[2m\u001b[36m(launch_and_fit pid=18167)\u001b[0m 188/188 - 5s - loss: 0.4721 - accuracy: 0.8527 - 5s/epoch - 25ms/step\n",
      "\u001b[2m\u001b[36m(launch_and_evaluate pid=18165)\u001b[0m 32/32 - 1s - loss: 0.1874 - accuracy: 0.9500 - 589ms/epoch - 18ms/step\n",
      "\u001b[2m\u001b[36m(launch_and_evaluate pid=18168)\u001b[0m 32/32 - 1s - loss: 0.2044 - accuracy: 0.9500 - 619ms/epoch - 19ms/step\n",
      "\u001b[2m\u001b[36m(launch_and_evaluate pid=18167)\u001b[0m 32/32 - 1s - loss: 0.2261 - accuracy: 0.9330 - 643ms/epoch - 20ms/step\n",
      "\u001b[2m\u001b[36m(launch_and_evaluate pid=18166)\u001b[0m 32/32 - 1s - loss: 0.2306 - accuracy: 0.9320 - 658ms/epoch - 21ms/step\n",
      "\u001b[2m\u001b[36m(launch_and_evaluate pid=18165)\u001b[0m 32/32 - 1s - loss: 0.2010 - accuracy: 0.9320 - 566ms/epoch - 18ms/step\n",
      "\u001b[2m\u001b[36m(launch_and_evaluate pid=18168)\u001b[0m 32/32 - 1s - loss: 0.2235 - accuracy: 0.9350 - 589ms/epoch - 18ms/step\n",
      "\u001b[2m\u001b[36m(launch_and_evaluate pid=18167)\u001b[0m 32/32 - 1s - loss: 0.2501 - accuracy: 0.9290 - 613ms/epoch - 19ms/step\n",
      "\u001b[2m\u001b[36m(launch_and_evaluate pid=18166)\u001b[0m 32/32 - 1s - loss: 0.2442 - accuracy: 0.9270 - 639ms/epoch - 20ms/step\n"
     ]
    },
    {
     "name": "stderr",
     "output_type": "stream",
     "text": [
      "DEBUG flwr 2023-04-16 18:42:48,488 | server.py:179 | evaluate_round 1 received 10 results and 0 failures\n",
      "DEBUG flwr 2023-04-16 18:42:48,489 | server.py:215 | fit_round 2: strategy sampled 9 clients (out of 10)\n"
     ]
    },
    {
     "name": "stdout",
     "output_type": "stream",
     "text": [
      "\u001b[2m\u001b[36m(launch_and_evaluate pid=18165)\u001b[0m 32/32 - 0s - loss: 0.2250 - accuracy: 0.9390 - 430ms/epoch - 13ms/step\n",
      "\u001b[2m\u001b[36m(launch_and_evaluate pid=18168)\u001b[0m 32/32 - 0s - loss: 0.2118 - accuracy: 0.9390 - 423ms/epoch - 13ms/step\n",
      "\u001b[2m\u001b[36m(launch_and_fit pid=18168)\u001b[0m 188/188 - 7s - loss: 0.2060 - accuracy: 0.9375 - 7s/epoch - 39ms/step\n",
      "\u001b[2m\u001b[36m(launch_and_fit pid=18166)\u001b[0m 188/188 - 7s - loss: 0.2277 - accuracy: 0.9312 - 7s/epoch - 39ms/step\n",
      "\u001b[2m\u001b[36m(launch_and_fit pid=18167)\u001b[0m 188/188 - 7s - loss: 0.2278 - accuracy: 0.9315 - 7s/epoch - 39ms/step\n",
      "\u001b[2m\u001b[36m(launch_and_fit pid=18165)\u001b[0m 188/188 - 8s - loss: 0.2222 - accuracy: 0.9307 - 8s/epoch - 40ms/step\n",
      "\u001b[2m\u001b[36m(launch_and_fit pid=18168)\u001b[0m 188/188 - 8s - loss: 0.2243 - accuracy: 0.9318 - 8s/epoch - 41ms/step\n",
      "\u001b[2m\u001b[36m(launch_and_fit pid=18166)\u001b[0m 188/188 - 8s - loss: 0.2186 - accuracy: 0.9333 - 8s/epoch - 43ms/step\n",
      "\u001b[2m\u001b[36m(launch_and_fit pid=18167)\u001b[0m 188/188 - 8s - loss: 0.2261 - accuracy: 0.9317 - 8s/epoch - 44ms/step\n",
      "\u001b[2m\u001b[36m(launch_and_fit pid=18165)\u001b[0m 188/188 - 8s - loss: 0.2167 - accuracy: 0.9323 - 8s/epoch - 44ms/step\n"
     ]
    },
    {
     "name": "stderr",
     "output_type": "stream",
     "text": [
      "DEBUG flwr 2023-04-16 18:43:08,122 | server.py:229 | fit_round 2 received 9 results and 0 failures\n",
      "DEBUG flwr 2023-04-16 18:43:08,154 | server.py:165 | evaluate_round 2: strategy sampled 10 clients (out of 10)\n"
     ]
    },
    {
     "name": "stdout",
     "output_type": "stream",
     "text": [
      "\u001b[2m\u001b[36m(launch_and_fit pid=18168)\u001b[0m 188/188 - 3s - loss: 0.2355 - accuracy: 0.9275 - 3s/epoch - 14ms/step\n",
      "\u001b[2m\u001b[36m(launch_and_evaluate pid=18167)\u001b[0m 32/32 - 1s - loss: 0.1170 - accuracy: 0.9660 - 593ms/epoch - 19ms/step\n",
      "\u001b[2m\u001b[36m(launch_and_evaluate pid=18165)\u001b[0m 32/32 - 1s - loss: 0.1305 - accuracy: 0.9660 - 585ms/epoch - 18ms/step\n",
      "\u001b[2m\u001b[36m(launch_and_evaluate pid=18166)\u001b[0m 32/32 - 1s - loss: 0.1085 - accuracy: 0.9710 - 585ms/epoch - 18ms/step\n",
      "\u001b[2m\u001b[36m(launch_and_evaluate pid=18168)\u001b[0m 32/32 - 1s - loss: 0.1169 - accuracy: 0.9620 - 637ms/epoch - 20ms/step\n",
      "\u001b[2m\u001b[36m(launch_and_evaluate pid=18167)\u001b[0m 32/32 - 1s - loss: 0.1400 - accuracy: 0.9600 - 655ms/epoch - 20ms/step\n",
      "\u001b[2m\u001b[36m(launch_and_evaluate pid=18165)\u001b[0m 32/32 - 1s - loss: 0.1473 - accuracy: 0.9560 - 626ms/epoch - 20ms/step\n",
      "\u001b[2m\u001b[36m(launch_and_evaluate pid=18166)\u001b[0m 32/32 - 1s - loss: 0.1331 - accuracy: 0.9610 - 637ms/epoch - 20ms/step\n",
      "\u001b[2m\u001b[36m(launch_and_evaluate pid=18168)\u001b[0m 32/32 - 1s - loss: 0.1228 - accuracy: 0.9640 - 624ms/epoch - 19ms/step\n"
     ]
    },
    {
     "name": "stderr",
     "output_type": "stream",
     "text": [
      "DEBUG flwr 2023-04-16 18:43:11,426 | server.py:179 | evaluate_round 2 received 10 results and 0 failures\n",
      "DEBUG flwr 2023-04-16 18:43:11,428 | server.py:215 | fit_round 3: strategy sampled 9 clients (out of 10)\n"
     ]
    },
    {
     "name": "stdout",
     "output_type": "stream",
     "text": [
      "\u001b[2m\u001b[36m(launch_and_evaluate pid=18165)\u001b[0m 32/32 - 0s - loss: 0.1456 - accuracy: 0.9580 - 425ms/epoch - 13ms/step\n",
      "\u001b[2m\u001b[36m(launch_and_evaluate pid=18166)\u001b[0m 32/32 - 0s - loss: 0.1489 - accuracy: 0.9530 - 426ms/epoch - 13ms/step\n",
      "\u001b[2m\u001b[36m(launch_and_fit pid=18165)\u001b[0m 188/188 - 7s - loss: 0.1591 - accuracy: 0.9507 - 7s/epoch - 39ms/step\n",
      "\u001b[2m\u001b[36m(launch_and_fit pid=18168)\u001b[0m 188/188 - 7s - loss: 0.1588 - accuracy: 0.9518 - 7s/epoch - 39ms/step\n",
      "\u001b[2m\u001b[36m(launch_and_fit pid=18166)\u001b[0m 188/188 - 8s - loss: 0.1500 - accuracy: 0.9527 - 8s/epoch - 40ms/step\n",
      "\u001b[2m\u001b[36m(launch_and_fit pid=18167)\u001b[0m 188/188 - 8s - loss: 0.1644 - accuracy: 0.9503 - 8s/epoch - 41ms/step\n",
      "\u001b[2m\u001b[36m(launch_and_fit pid=18166)\u001b[0m 188/188 - 7s - loss: 0.1596 - accuracy: 0.9523 - 7s/epoch - 39ms/step\n",
      "\u001b[2m\u001b[36m(launch_and_fit pid=18165)\u001b[0m 188/188 - 8s - loss: 0.1498 - accuracy: 0.9565 - 8s/epoch - 40ms/step\n",
      "\u001b[2m\u001b[36m(launch_and_fit pid=18168)\u001b[0m 188/188 - 7s - loss: 0.1468 - accuracy: 0.9563 - 7s/epoch - 38ms/step\n",
      "\u001b[2m\u001b[36m(launch_and_fit pid=18167)\u001b[0m 188/188 - 8s - loss: 0.1607 - accuracy: 0.9518 - 8s/epoch - 40ms/step\n",
      "\u001b[2m\u001b[36m(launch_and_fit pid=18165)\u001b[0m 188/188 - 3s - loss: 0.1537 - accuracy: 0.9532 - 3s/epoch - 14ms/step\n"
     ]
    },
    {
     "name": "stderr",
     "output_type": "stream",
     "text": [
      "DEBUG flwr 2023-04-16 18:43:31,153 | server.py:229 | fit_round 3 received 9 results and 0 failures\n",
      "DEBUG flwr 2023-04-16 18:43:31,202 | server.py:165 | evaluate_round 3: strategy sampled 10 clients (out of 10)\n"
     ]
    },
    {
     "name": "stdout",
     "output_type": "stream",
     "text": [
      "\u001b[2m\u001b[36m(launch_and_evaluate pid=18167)\u001b[0m 32/32 - 1s - loss: 0.1398 - accuracy: 0.9540 - 583ms/epoch - 18ms/step\n",
      "\u001b[2m\u001b[36m(launch_and_evaluate pid=18165)\u001b[0m 32/32 - 1s - loss: 0.1138 - accuracy: 0.9640 - 600ms/epoch - 19ms/step\n",
      "\u001b[2m\u001b[36m(launch_and_evaluate pid=18168)\u001b[0m 32/32 - 1s - loss: 0.1383 - accuracy: 0.9530 - 566ms/epoch - 18ms/step\n",
      "\u001b[2m\u001b[36m(launch_and_evaluate pid=18166)\u001b[0m 32/32 - 1s - loss: 0.1027 - accuracy: 0.9670 - 714ms/epoch - 22ms/step\n",
      "\u001b[2m\u001b[36m(launch_and_evaluate pid=18167)\u001b[0m 32/32 - 1s - loss: 0.0851 - accuracy: 0.9750 - 576ms/epoch - 18ms/step\n",
      "\u001b[2m\u001b[36m(launch_and_evaluate pid=18165)\u001b[0m 32/32 - 1s - loss: 0.1223 - accuracy: 0.9620 - 574ms/epoch - 18ms/step\n",
      "\u001b[2m\u001b[36m(launch_and_evaluate pid=18168)\u001b[0m 32/32 - 1s - loss: 0.0915 - accuracy: 0.9740 - 599ms/epoch - 19ms/step\n",
      "\u001b[2m\u001b[36m(launch_and_evaluate pid=18166)\u001b[0m 32/32 - 1s - loss: 0.0864 - accuracy: 0.9740 - 602ms/epoch - 19ms/step\n"
     ]
    },
    {
     "name": "stderr",
     "output_type": "stream",
     "text": [
      "DEBUG flwr 2023-04-16 18:43:34,423 | server.py:179 | evaluate_round 3 received 10 results and 0 failures\n",
      "DEBUG flwr 2023-04-16 18:43:34,424 | server.py:215 | fit_round 4: strategy sampled 9 clients (out of 10)\n"
     ]
    },
    {
     "name": "stdout",
     "output_type": "stream",
     "text": [
      "\u001b[2m\u001b[36m(launch_and_evaluate pid=18167)\u001b[0m 32/32 - 0s - loss: 0.1109 - accuracy: 0.9650 - 439ms/epoch - 14ms/step\n",
      "\u001b[2m\u001b[36m(launch_and_evaluate pid=18165)\u001b[0m 32/32 - 0s - loss: 0.1494 - accuracy: 0.9520 - 446ms/epoch - 14ms/step\n",
      "\u001b[2m\u001b[36m(launch_and_fit pid=18167)\u001b[0m 188/188 - 8s - loss: 0.1389 - accuracy: 0.9577 - 8s/epoch - 43ms/step\n",
      "\u001b[2m\u001b[36m(launch_and_fit pid=18165)\u001b[0m 188/188 - 8s - loss: 0.1222 - accuracy: 0.9633 - 8s/epoch - 45ms/step\n",
      "\u001b[2m\u001b[36m(launch_and_fit pid=18166)\u001b[0m 188/188 - 8s - loss: 0.1217 - accuracy: 0.9650 - 8s/epoch - 44ms/step\n",
      "\u001b[2m\u001b[36m(launch_and_fit pid=18168)\u001b[0m 188/188 - 9s - loss: 0.1338 - accuracy: 0.9618 - 9s/epoch - 47ms/step\n",
      "\u001b[2m\u001b[36m(launch_and_fit pid=18167)\u001b[0m 188/188 - 9s - loss: 0.1357 - accuracy: 0.9585 - 9s/epoch - 45ms/step\n",
      "\u001b[2m\u001b[36m(launch_and_fit pid=18166)\u001b[0m 188/188 - 9s - loss: 0.1212 - accuracy: 0.9610 - 9s/epoch - 48ms/step\n",
      "\u001b[2m\u001b[36m(launch_and_fit pid=18165)\u001b[0m 188/188 - 9s - loss: 0.1299 - accuracy: 0.9642 - 9s/epoch - 49ms/step\n",
      "\u001b[2m\u001b[36m(launch_and_fit pid=18168)\u001b[0m 188/188 - 9s - loss: 0.1262 - accuracy: 0.9628 - 9s/epoch - 48ms/step\n"
     ]
    },
    {
     "name": "stderr",
     "output_type": "stream",
     "text": [
      "DEBUG flwr 2023-04-16 18:43:56,896 | server.py:229 | fit_round 4 received 9 results and 0 failures\n",
      "DEBUG flwr 2023-04-16 18:43:56,933 | server.py:165 | evaluate_round 4: strategy sampled 10 clients (out of 10)\n"
     ]
    },
    {
     "name": "stdout",
     "output_type": "stream",
     "text": [
      "\u001b[2m\u001b[36m(launch_and_fit pid=18167)\u001b[0m 188/188 - 3s - loss: 0.1255 - accuracy: 0.9607 - 3s/epoch - 18ms/step\n",
      "\u001b[2m\u001b[36m(launch_and_evaluate pid=18167)\u001b[0m 32/32 - 1s - loss: 0.0711 - accuracy: 0.9830 - 616ms/epoch - 19ms/step\n",
      "\u001b[2m\u001b[36m(launch_and_evaluate pid=18165)\u001b[0m 32/32 - 1s - loss: 0.1089 - accuracy: 0.9620 - 640ms/epoch - 20ms/step\n",
      "\u001b[2m\u001b[36m(launch_and_evaluate pid=18166)\u001b[0m 32/32 - 1s - loss: 0.1056 - accuracy: 0.9640 - 679ms/epoch - 21ms/step\n",
      "\u001b[2m\u001b[36m(launch_and_evaluate pid=18168)\u001b[0m 32/32 - 1s - loss: 0.0794 - accuracy: 0.9800 - 661ms/epoch - 21ms/step\n",
      "\u001b[2m\u001b[36m(launch_and_evaluate pid=18167)\u001b[0m 32/32 - 1s - loss: 0.0703 - accuracy: 0.9770 - 592ms/epoch - 18ms/step\n",
      "\u001b[2m\u001b[36m(launch_and_evaluate pid=18166)\u001b[0m 32/32 - 1s - loss: 0.0846 - accuracy: 0.9760 - 617ms/epoch - 19ms/step\n",
      "\u001b[2m\u001b[36m(launch_and_evaluate pid=18165)\u001b[0m 32/32 - 1s - loss: 0.0816 - accuracy: 0.9810 - 691ms/epoch - 22ms/step\n",
      "\u001b[2m\u001b[36m(launch_and_evaluate pid=18168)\u001b[0m 32/32 - 1s - loss: 0.0954 - accuracy: 0.9740 - 652ms/epoch - 20ms/step\n"
     ]
    },
    {
     "name": "stderr",
     "output_type": "stream",
     "text": [
      "DEBUG flwr 2023-04-16 18:44:00,512 | server.py:179 | evaluate_round 4 received 10 results and 0 failures\n",
      "DEBUG flwr 2023-04-16 18:44:00,513 | server.py:215 | fit_round 5: strategy sampled 9 clients (out of 10)\n"
     ]
    },
    {
     "name": "stdout",
     "output_type": "stream",
     "text": [
      "\u001b[2m\u001b[36m(launch_and_evaluate pid=18167)\u001b[0m 32/32 - 0s - loss: 0.0979 - accuracy: 0.9740 - 434ms/epoch - 14ms/step\n",
      "\u001b[2m\u001b[36m(launch_and_evaluate pid=18166)\u001b[0m 32/32 - 0s - loss: 0.0799 - accuracy: 0.9780 - 438ms/epoch - 14ms/step\n",
      "\u001b[2m\u001b[36m(launch_and_fit pid=18167)\u001b[0m 188/188 - 8s - loss: 0.1084 - accuracy: 0.9678 - 8s/epoch - 42ms/step\n",
      "\u001b[2m\u001b[36m(launch_and_fit pid=18166)\u001b[0m 188/188 - 8s - loss: 0.0935 - accuracy: 0.9715 - 8s/epoch - 42ms/step\n",
      "\u001b[2m\u001b[36m(launch_and_fit pid=18165)\u001b[0m 188/188 - 8s - loss: 0.1156 - accuracy: 0.9677 - 8s/epoch - 43ms/step\n",
      "\u001b[2m\u001b[36m(launch_and_fit pid=18168)\u001b[0m 188/188 - 8s - loss: 0.1026 - accuracy: 0.9713 - 8s/epoch - 43ms/step\n",
      "\u001b[2m\u001b[36m(launch_and_fit pid=18167)\u001b[0m 188/188 - 8s - loss: 0.1174 - accuracy: 0.9638 - 8s/epoch - 43ms/step\n",
      "\u001b[2m\u001b[36m(launch_and_fit pid=18165)\u001b[0m 188/188 - 8s - loss: 0.0992 - accuracy: 0.9687 - 8s/epoch - 43ms/step\n",
      "\u001b[2m\u001b[36m(launch_and_fit pid=18166)\u001b[0m 188/188 - 8s - loss: 0.1014 - accuracy: 0.9703 - 8s/epoch - 45ms/step\n",
      "\u001b[2m\u001b[36m(launch_and_fit pid=18168)\u001b[0m 188/188 - 8s - loss: 0.1089 - accuracy: 0.9677 - 8s/epoch - 44ms/step\n"
     ]
    },
    {
     "name": "stderr",
     "output_type": "stream",
     "text": [
      "DEBUG flwr 2023-04-16 18:44:21,484 | server.py:229 | fit_round 5 received 9 results and 0 failures\n",
      "DEBUG flwr 2023-04-16 18:44:21,522 | server.py:165 | evaluate_round 5: strategy sampled 10 clients (out of 10)\n"
     ]
    },
    {
     "name": "stdout",
     "output_type": "stream",
     "text": [
      "\u001b[2m\u001b[36m(launch_and_fit pid=18167)\u001b[0m 188/188 - 3s - loss: 0.1081 - accuracy: 0.9655 - 3s/epoch - 15ms/step\n",
      "\u001b[2m\u001b[36m(launch_and_evaluate pid=18166)\u001b[0m 32/32 - 1s - loss: 0.0906 - accuracy: 0.9700 - 759ms/epoch - 24ms/step\n",
      "\u001b[2m\u001b[36m(launch_and_evaluate pid=18168)\u001b[0m 32/32 - 1s - loss: 0.0706 - accuracy: 0.9770 - 853ms/epoch - 27ms/step\n",
      "\u001b[2m\u001b[36m(launch_and_evaluate pid=18167)\u001b[0m 32/32 - 1s - loss: 0.0827 - accuracy: 0.9740 - 956ms/epoch - 30ms/step\n",
      "\u001b[2m\u001b[36m(launch_and_evaluate pid=18165)\u001b[0m 32/32 - 1s - loss: 0.0681 - accuracy: 0.9840 - 1s/epoch - 33ms/step\n",
      "\u001b[2m\u001b[36m(launch_and_evaluate pid=18166)\u001b[0m 32/32 - 1s - loss: 0.0833 - accuracy: 0.9750 - 637ms/epoch - 20ms/step\n",
      "\u001b[2m\u001b[36m(launch_and_evaluate pid=18168)\u001b[0m 32/32 - 1s - loss: 0.0730 - accuracy: 0.9720 - 702ms/epoch - 22ms/step\n",
      "\u001b[2m\u001b[36m(launch_and_evaluate pid=18167)\u001b[0m 32/32 - 1s - loss: 0.0674 - accuracy: 0.9780 - 651ms/epoch - 20ms/step\n",
      "\u001b[2m\u001b[36m(launch_and_evaluate pid=18165)\u001b[0m 32/32 - 1s - loss: 0.0769 - accuracy: 0.9710 - 656ms/epoch - 20ms/step\n"
     ]
    },
    {
     "name": "stderr",
     "output_type": "stream",
     "text": [
      "DEBUG flwr 2023-04-16 18:44:25,539 | server.py:179 | evaluate_round 5 received 10 results and 0 failures\n",
      "DEBUG flwr 2023-04-16 18:44:25,540 | server.py:215 | fit_round 6: strategy sampled 9 clients (out of 10)\n"
     ]
    },
    {
     "name": "stdout",
     "output_type": "stream",
     "text": [
      "\u001b[2m\u001b[36m(launch_and_evaluate pid=18166)\u001b[0m 32/32 - 0s - loss: 0.0762 - accuracy: 0.9780 - 473ms/epoch - 15ms/step\n",
      "\u001b[2m\u001b[36m(launch_and_evaluate pid=18168)\u001b[0m 32/32 - 0s - loss: 0.0801 - accuracy: 0.9710 - 472ms/epoch - 15ms/step\n",
      "\u001b[2m\u001b[36m(launch_and_fit pid=18166)\u001b[0m 188/188 - 7s - loss: 0.0987 - accuracy: 0.9708 - 7s/epoch - 39ms/step\n",
      "\u001b[2m\u001b[36m(launch_and_fit pid=18167)\u001b[0m 188/188 - 8s - loss: 0.0901 - accuracy: 0.9727 - 8s/epoch - 40ms/step\n",
      "\u001b[2m\u001b[36m(launch_and_fit pid=18168)\u001b[0m 188/188 - 8s - loss: 0.0915 - accuracy: 0.9722 - 8s/epoch - 41ms/step\n",
      "\u001b[2m\u001b[36m(launch_and_fit pid=18165)\u001b[0m 188/188 - 8s - loss: 0.1017 - accuracy: 0.9740 - 8s/epoch - 42ms/step\n",
      "\u001b[2m\u001b[36m(launch_and_fit pid=18167)\u001b[0m 188/188 - 8s - loss: 0.0976 - accuracy: 0.9693 - 8s/epoch - 41ms/step\n",
      "\u001b[2m\u001b[36m(launch_and_fit pid=18168)\u001b[0m 188/188 - 8s - loss: 0.0959 - accuracy: 0.9708 - 8s/epoch - 41ms/step\n",
      "\u001b[2m\u001b[36m(launch_and_fit pid=18165)\u001b[0m 188/188 - 8s - loss: 0.1123 - accuracy: 0.9693 - 8s/epoch - 44ms/step\n",
      "\u001b[2m\u001b[36m(launch_and_fit pid=18166)\u001b[0m 188/188 - 7s - loss: 0.0898 - accuracy: 0.9725 - 7s/epoch - 36ms/step\n"
     ]
    },
    {
     "name": "stderr",
     "output_type": "stream",
     "text": [
      "DEBUG flwr 2023-04-16 18:44:46,880 | server.py:229 | fit_round 6 received 9 results and 0 failures\n",
      "DEBUG flwr 2023-04-16 18:44:46,922 | server.py:165 | evaluate_round 6: strategy sampled 10 clients (out of 10)\n"
     ]
    },
    {
     "name": "stdout",
     "output_type": "stream",
     "text": [
      "\u001b[2m\u001b[36m(launch_and_fit pid=18167)\u001b[0m 188/188 - 4s - loss: 0.0930 - accuracy: 0.9708 - 4s/epoch - 19ms/step\n",
      "\u001b[2m\u001b[36m(launch_and_evaluate pid=18167)\u001b[0m 32/32 - 1s - loss: 0.0660 - accuracy: 0.9840 - 675ms/epoch - 21ms/step\n",
      "\u001b[2m\u001b[36m(launch_and_evaluate pid=18165)\u001b[0m 32/32 - 1s - loss: 0.0554 - accuracy: 0.9800 - 794ms/epoch - 25ms/step\n",
      "\u001b[2m\u001b[36m(launch_and_evaluate pid=18166)\u001b[0m 32/32 - 1s - loss: 0.0732 - accuracy: 0.9730 - 839ms/epoch - 26ms/step\n",
      "\u001b[2m\u001b[36m(launch_and_evaluate pid=18168)\u001b[0m 32/32 - 1s - loss: 0.0795 - accuracy: 0.9740 - 826ms/epoch - 26ms/step\n",
      "\u001b[2m\u001b[36m(launch_and_evaluate pid=18167)\u001b[0m 32/32 - 1s - loss: 0.0692 - accuracy: 0.9780 - 844ms/epoch - 26ms/step\n",
      "\u001b[2m\u001b[36m(launch_and_evaluate pid=18165)\u001b[0m 32/32 - 1s - loss: 0.0820 - accuracy: 0.9730 - 814ms/epoch - 25ms/step\n",
      "\u001b[2m\u001b[36m(launch_and_evaluate pid=18166)\u001b[0m 32/32 - 1s - loss: 0.0888 - accuracy: 0.9660 - 776ms/epoch - 24ms/step\n",
      "\u001b[2m\u001b[36m(launch_and_evaluate pid=18168)\u001b[0m 32/32 - 1s - loss: 0.0762 - accuracy: 0.9760 - 823ms/epoch - 26ms/step\n"
     ]
    },
    {
     "name": "stderr",
     "output_type": "stream",
     "text": [
      "DEBUG flwr 2023-04-16 18:44:51,178 | server.py:179 | evaluate_round 6 received 10 results and 0 failures\n",
      "DEBUG flwr 2023-04-16 18:44:51,179 | server.py:215 | fit_round 7: strategy sampled 9 clients (out of 10)\n"
     ]
    },
    {
     "name": "stdout",
     "output_type": "stream",
     "text": [
      "\u001b[2m\u001b[36m(launch_and_evaluate pid=18167)\u001b[0m 32/32 - 1s - loss: 0.0592 - accuracy: 0.9830 - 563ms/epoch - 18ms/step\n",
      "\u001b[2m\u001b[36m(launch_and_evaluate pid=18165)\u001b[0m 32/32 - 1s - loss: 0.0897 - accuracy: 0.9740 - 563ms/epoch - 18ms/step\n",
      "\u001b[2m\u001b[36m(launch_and_fit pid=18167)\u001b[0m 188/188 - 8s - loss: 0.0864 - accuracy: 0.9757 - 8s/epoch - 44ms/step\n",
      "\u001b[2m\u001b[36m(launch_and_fit pid=18165)\u001b[0m 188/188 - 8s - loss: 0.0862 - accuracy: 0.9750 - 8s/epoch - 44ms/step\n",
      "\u001b[2m\u001b[36m(launch_and_fit pid=18166)\u001b[0m 188/188 - 8s - loss: 0.0832 - accuracy: 0.9733 - 8s/epoch - 44ms/step\n",
      "\u001b[2m\u001b[36m(launch_and_fit pid=18168)\u001b[0m 188/188 - 8s - loss: 0.0845 - accuracy: 0.9743 - 8s/epoch - 44ms/step\n",
      "\u001b[2m\u001b[36m(launch_and_fit pid=18167)\u001b[0m 188/188 - 7s - loss: 0.0826 - accuracy: 0.9760 - 7s/epoch - 38ms/step\n",
      "\u001b[2m\u001b[36m(launch_and_fit pid=18165)\u001b[0m 188/188 - 7s - loss: 0.0709 - accuracy: 0.9780 - 7s/epoch - 38ms/step\n",
      "\u001b[2m\u001b[36m(launch_and_fit pid=18166)\u001b[0m 188/188 - 7s - loss: 0.0845 - accuracy: 0.9742 - 7s/epoch - 40ms/step\n",
      "\u001b[2m\u001b[36m(launch_and_fit pid=18168)\u001b[0m 188/188 - 8s - loss: 0.0859 - accuracy: 0.9770 - 8s/epoch - 41ms/step\n"
     ]
    },
    {
     "name": "stderr",
     "output_type": "stream",
     "text": [
      "DEBUG flwr 2023-04-16 18:45:11,366 | server.py:229 | fit_round 7 received 9 results and 0 failures\n",
      "DEBUG flwr 2023-04-16 18:45:11,397 | server.py:165 | evaluate_round 7: strategy sampled 10 clients (out of 10)\n"
     ]
    },
    {
     "name": "stdout",
     "output_type": "stream",
     "text": [
      "\u001b[2m\u001b[36m(launch_and_fit pid=18167)\u001b[0m 188/188 - 3s - loss: 0.0852 - accuracy: 0.9752 - 3s/epoch - 14ms/step\n",
      "\u001b[2m\u001b[36m(launch_and_evaluate pid=18168)\u001b[0m 32/32 - 1s - loss: 0.0779 - accuracy: 0.9740 - 618ms/epoch - 19ms/step\n",
      "\u001b[2m\u001b[36m(launch_and_evaluate pid=18167)\u001b[0m 32/32 - 1s - loss: 0.0745 - accuracy: 0.9700 - 747ms/epoch - 23ms/step\n",
      "\u001b[2m\u001b[36m(launch_and_evaluate pid=18165)\u001b[0m 32/32 - 1s - loss: 0.0750 - accuracy: 0.9730 - 742ms/epoch - 23ms/step\n",
      "\u001b[2m\u001b[36m(launch_and_evaluate pid=18166)\u001b[0m 32/32 - 1s - loss: 0.0471 - accuracy: 0.9880 - 696ms/epoch - 22ms/step\n",
      "\u001b[2m\u001b[36m(launch_and_evaluate pid=18168)\u001b[0m 32/32 - 1s - loss: 0.0742 - accuracy: 0.9750 - 567ms/epoch - 18ms/step\n",
      "\u001b[2m\u001b[36m(launch_and_evaluate pid=18165)\u001b[0m 32/32 - 1s - loss: 0.0489 - accuracy: 0.9850 - 572ms/epoch - 18ms/step\n",
      "\u001b[2m\u001b[36m(launch_and_evaluate pid=18167)\u001b[0m 32/32 - 1s - loss: 0.0618 - accuracy: 0.9780 - 640ms/epoch - 20ms/step\n",
      "\u001b[2m\u001b[36m(launch_and_evaluate pid=18166)\u001b[0m 32/32 - 1s - loss: 0.0644 - accuracy: 0.9770 - 620ms/epoch - 19ms/step\n"
     ]
    },
    {
     "name": "stderr",
     "output_type": "stream",
     "text": [
      "DEBUG flwr 2023-04-16 18:45:14,780 | server.py:179 | evaluate_round 7 received 10 results and 0 failures\n",
      "DEBUG flwr 2023-04-16 18:45:14,781 | server.py:215 | fit_round 8: strategy sampled 9 clients (out of 10)\n"
     ]
    },
    {
     "name": "stdout",
     "output_type": "stream",
     "text": [
      "\u001b[2m\u001b[36m(launch_and_evaluate pid=18168)\u001b[0m 32/32 - 0s - loss: 0.0666 - accuracy: 0.9770 - 481ms/epoch - 15ms/step\n",
      "\u001b[2m\u001b[36m(launch_and_evaluate pid=18165)\u001b[0m 32/32 - 0s - loss: 0.0502 - accuracy: 0.9860 - 456ms/epoch - 14ms/step\n",
      "\u001b[2m\u001b[36m(launch_and_fit pid=18167)\u001b[0m 188/188 - 9s - loss: 0.0759 - accuracy: 0.9783 - 9s/epoch - 45ms/step\n",
      "\u001b[2m\u001b[36m(launch_and_fit pid=18166)\u001b[0m 188/188 - 9s - loss: 0.0830 - accuracy: 0.9748 - 9s/epoch - 48ms/step\n",
      "\u001b[2m\u001b[36m(launch_and_fit pid=18165)\u001b[0m 188/188 - 9s - loss: 0.0719 - accuracy: 0.9778 - 9s/epoch - 48ms/step\n",
      "\u001b[2m\u001b[36m(launch_and_fit pid=18168)\u001b[0m 188/188 - 9s - loss: 0.0647 - accuracy: 0.9798 - 9s/epoch - 48ms/step\n",
      "\u001b[2m\u001b[36m(launch_and_fit pid=18167)\u001b[0m 188/188 - 7s - loss: 0.0805 - accuracy: 0.9783 - 7s/epoch - 39ms/step\n",
      "\u001b[2m\u001b[36m(launch_and_fit pid=18166)\u001b[0m 188/188 - 8s - loss: 0.0735 - accuracy: 0.9777 - 8s/epoch - 40ms/step\n",
      "\u001b[2m\u001b[36m(launch_and_fit pid=18165)\u001b[0m 188/188 - 8s - loss: 0.0807 - accuracy: 0.9778 - 8s/epoch - 41ms/step\n",
      "\u001b[2m\u001b[36m(launch_and_fit pid=18168)\u001b[0m 188/188 - 8s - loss: 0.0817 - accuracy: 0.9755 - 8s/epoch - 41ms/step\n"
     ]
    },
    {
     "name": "stderr",
     "output_type": "stream",
     "text": [
      "DEBUG flwr 2023-04-16 18:45:35,961 | server.py:229 | fit_round 8 received 9 results and 0 failures\n",
      "DEBUG flwr 2023-04-16 18:45:35,992 | server.py:165 | evaluate_round 8: strategy sampled 10 clients (out of 10)\n"
     ]
    },
    {
     "name": "stdout",
     "output_type": "stream",
     "text": [
      "\u001b[2m\u001b[36m(launch_and_fit pid=18167)\u001b[0m 188/188 - 3s - loss: 0.0769 - accuracy: 0.9758 - 3s/epoch - 16ms/step\n",
      "\u001b[2m\u001b[36m(launch_and_evaluate pid=18167)\u001b[0m 32/32 - 1s - loss: 0.0549 - accuracy: 0.9850 - 789ms/epoch - 25ms/step\n",
      "\u001b[2m\u001b[36m(launch_and_evaluate pid=18165)\u001b[0m 32/32 - 1s - loss: 0.0516 - accuracy: 0.9850 - 738ms/epoch - 23ms/step\n",
      "\u001b[2m\u001b[36m(launch_and_evaluate pid=18166)\u001b[0m 32/32 - 1s - loss: 0.0598 - accuracy: 0.9820 - 796ms/epoch - 25ms/step\n",
      "\u001b[2m\u001b[36m(launch_and_evaluate pid=18168)\u001b[0m 32/32 - 1s - loss: 0.0694 - accuracy: 0.9770 - 841ms/epoch - 26ms/step\n",
      "\u001b[2m\u001b[36m(launch_and_evaluate pid=18165)\u001b[0m 32/32 - 1s - loss: 0.0594 - accuracy: 0.9830 - 613ms/epoch - 19ms/step\n",
      "\u001b[2m\u001b[36m(launch_and_evaluate pid=18167)\u001b[0m 32/32 - 1s - loss: 0.0543 - accuracy: 0.9850 - 611ms/epoch - 19ms/step\n",
      "\u001b[2m\u001b[36m(launch_and_evaluate pid=18166)\u001b[0m 32/32 - 1s - loss: 0.0614 - accuracy: 0.9800 - 607ms/epoch - 19ms/step\n",
      "\u001b[2m\u001b[36m(launch_and_evaluate pid=18168)\u001b[0m 32/32 - 1s - loss: 0.0660 - accuracy: 0.9740 - 640ms/epoch - 20ms/step\n"
     ]
    },
    {
     "name": "stderr",
     "output_type": "stream",
     "text": [
      "DEBUG flwr 2023-04-16 18:45:39,888 | server.py:179 | evaluate_round 8 received 10 results and 0 failures\n",
      "DEBUG flwr 2023-04-16 18:45:39,890 | server.py:215 | fit_round 9: strategy sampled 9 clients (out of 10)\n"
     ]
    },
    {
     "name": "stdout",
     "output_type": "stream",
     "text": [
      "\u001b[2m\u001b[36m(launch_and_evaluate pid=18165)\u001b[0m 32/32 - 0s - loss: 0.0673 - accuracy: 0.9750 - 441ms/epoch - 14ms/step\n",
      "\u001b[2m\u001b[36m(launch_and_evaluate pid=18166)\u001b[0m 32/32 - 0s - loss: 0.0635 - accuracy: 0.9760 - 477ms/epoch - 15ms/step\n",
      "\u001b[2m\u001b[36m(launch_and_fit pid=18168)\u001b[0m 188/188 - 7s - loss: 0.0715 - accuracy: 0.9783 - 7s/epoch - 40ms/step\n",
      "\u001b[2m\u001b[36m(launch_and_fit pid=18165)\u001b[0m 188/188 - 8s - loss: 0.0701 - accuracy: 0.9802 - 8s/epoch - 43ms/step\n",
      "\u001b[2m\u001b[36m(launch_and_fit pid=18166)\u001b[0m 188/188 - 8s - loss: 0.0706 - accuracy: 0.9770 - 8s/epoch - 42ms/step\n",
      "\u001b[2m\u001b[36m(launch_and_fit pid=18167)\u001b[0m 188/188 - 8s - loss: 0.0691 - accuracy: 0.9800 - 8s/epoch - 44ms/step\n",
      "\u001b[2m\u001b[36m(launch_and_fit pid=18168)\u001b[0m 188/188 - 9s - loss: 0.0665 - accuracy: 0.9787 - 9s/epoch - 46ms/step\n",
      "\u001b[2m\u001b[36m(launch_and_fit pid=18166)\u001b[0m 188/188 - 9s - loss: 0.0699 - accuracy: 0.9803 - 9s/epoch - 46ms/step\n",
      "\u001b[2m\u001b[36m(launch_and_fit pid=18165)\u001b[0m 188/188 - 9s - loss: 0.0596 - accuracy: 0.9820 - 9s/epoch - 46ms/step\n",
      "\u001b[2m\u001b[36m(launch_and_fit pid=18167)\u001b[0m 188/188 - 9s - loss: 0.0580 - accuracy: 0.9813 - 9s/epoch - 48ms/step\n"
     ]
    },
    {
     "name": "stderr",
     "output_type": "stream",
     "text": [
      "DEBUG flwr 2023-04-16 18:46:01,167 | server.py:229 | fit_round 9 received 9 results and 0 failures\n",
      "DEBUG flwr 2023-04-16 18:46:01,199 | server.py:165 | evaluate_round 9: strategy sampled 10 clients (out of 10)\n"
     ]
    },
    {
     "name": "stdout",
     "output_type": "stream",
     "text": [
      "\u001b[2m\u001b[36m(launch_and_fit pid=18168)\u001b[0m 188/188 - 3s - loss: 0.0713 - accuracy: 0.9778 - 3s/epoch - 16ms/step\n",
      "\u001b[2m\u001b[36m(launch_and_evaluate pid=18165)\u001b[0m 32/32 - 1s - loss: 0.0425 - accuracy: 0.9840 - 598ms/epoch - 19ms/step\n",
      "\u001b[2m\u001b[36m(launch_and_evaluate pid=18166)\u001b[0m 32/32 - 1s - loss: 0.0507 - accuracy: 0.9860 - 590ms/epoch - 18ms/step\n",
      "\u001b[2m\u001b[36m(launch_and_evaluate pid=18168)\u001b[0m 32/32 - 1s - loss: 0.0594 - accuracy: 0.9820 - 609ms/epoch - 19ms/step\n",
      "\u001b[2m\u001b[36m(launch_and_evaluate pid=18167)\u001b[0m 32/32 - 1s - loss: 0.0448 - accuracy: 0.9860 - 644ms/epoch - 20ms/step\n",
      "\u001b[2m\u001b[36m(launch_and_evaluate pid=18167)\u001b[0m 32/32 - 1s - loss: 0.0583 - accuracy: 0.9740 - 663ms/epoch - 21ms/step\n",
      "\u001b[2m\u001b[36m(launch_and_evaluate pid=18165)\u001b[0m 32/32 - 1s - loss: 0.0451 - accuracy: 0.9860 - 625ms/epoch - 20ms/step\n",
      "\u001b[2m\u001b[36m(launch_and_evaluate pid=18166)\u001b[0m 32/32 - 1s - loss: 0.0503 - accuracy: 0.9860 - 608ms/epoch - 19ms/step\n",
      "\u001b[2m\u001b[36m(launch_and_evaluate pid=18168)\u001b[0m 32/32 - 1s - loss: 0.0643 - accuracy: 0.9780 - 709ms/epoch - 22ms/step\n"
     ]
    },
    {
     "name": "stderr",
     "output_type": "stream",
     "text": [
      "DEBUG flwr 2023-04-16 18:46:04,654 | server.py:179 | evaluate_round 9 received 10 results and 0 failures\n",
      "DEBUG flwr 2023-04-16 18:46:04,654 | server.py:215 | fit_round 10: strategy sampled 9 clients (out of 10)\n"
     ]
    },
    {
     "name": "stdout",
     "output_type": "stream",
     "text": [
      "\u001b[2m\u001b[36m(launch_and_evaluate pid=18165)\u001b[0m 32/32 - 0s - loss: 0.0642 - accuracy: 0.9730 - 476ms/epoch - 15ms/step\n",
      "\u001b[2m\u001b[36m(launch_and_evaluate pid=18166)\u001b[0m 32/32 - 0s - loss: 0.0676 - accuracy: 0.9830 - 472ms/epoch - 15ms/step\n",
      "\u001b[2m\u001b[36m(launch_and_fit pid=18165)\u001b[0m 188/188 - 8s - loss: 0.0579 - accuracy: 0.9832 - 8s/epoch - 43ms/step\n",
      "\u001b[2m\u001b[36m(launch_and_fit pid=18166)\u001b[0m 188/188 - 8s - loss: 0.0570 - accuracy: 0.9837 - 8s/epoch - 44ms/step\n",
      "\u001b[2m\u001b[36m(launch_and_fit pid=18168)\u001b[0m 188/188 - 8s - loss: 0.0593 - accuracy: 0.9822 - 8s/epoch - 45ms/step\n",
      "\u001b[2m\u001b[36m(launch_and_fit pid=18167)\u001b[0m 188/188 - 8s - loss: 0.0584 - accuracy: 0.9812 - 8s/epoch - 45ms/step\n",
      "\u001b[2m\u001b[36m(launch_and_fit pid=18165)\u001b[0m 188/188 - 8s - loss: 0.0630 - accuracy: 0.9800 - 8s/epoch - 42ms/step\n",
      "\u001b[2m\u001b[36m(launch_and_fit pid=18166)\u001b[0m 188/188 - 8s - loss: 0.0631 - accuracy: 0.9815 - 8s/epoch - 43ms/step\n",
      "\u001b[2m\u001b[36m(launch_and_fit pid=18167)\u001b[0m 188/188 - 8s - loss: 0.0564 - accuracy: 0.9840 - 8s/epoch - 43ms/step\n",
      "\u001b[2m\u001b[36m(launch_and_fit pid=18168)\u001b[0m 188/188 - 8s - loss: 0.0648 - accuracy: 0.9805 - 8s/epoch - 44ms/step\n"
     ]
    },
    {
     "name": "stderr",
     "output_type": "stream",
     "text": [
      "DEBUG flwr 2023-04-16 18:46:25,810 | server.py:229 | fit_round 10 received 9 results and 0 failures\n",
      "DEBUG flwr 2023-04-16 18:46:25,842 | server.py:165 | evaluate_round 10: strategy sampled 10 clients (out of 10)\n"
     ]
    },
    {
     "name": "stdout",
     "output_type": "stream",
     "text": [
      "\u001b[2m\u001b[36m(launch_and_fit pid=18165)\u001b[0m 188/188 - 3s - loss: 0.0592 - accuracy: 0.9817 - 3s/epoch - 15ms/step\n",
      "\u001b[2m\u001b[36m(launch_and_evaluate pid=18166)\u001b[0m 32/32 - 1s - loss: 0.0410 - accuracy: 0.9880 - 640ms/epoch - 20ms/step\n",
      "\u001b[2m\u001b[36m(launch_and_evaluate pid=18167)\u001b[0m 32/32 - 1s - loss: 0.0568 - accuracy: 0.9850 - 618ms/epoch - 19ms/step\n",
      "\u001b[2m\u001b[36m(launch_and_evaluate pid=18165)\u001b[0m 32/32 - 1s - loss: 0.0499 - accuracy: 0.9810 - 653ms/epoch - 20ms/step\n",
      "\u001b[2m\u001b[36m(launch_and_evaluate pid=18168)\u001b[0m 32/32 - 1s - loss: 0.0643 - accuracy: 0.9790 - 652ms/epoch - 20ms/step\n",
      "\u001b[2m\u001b[36m(launch_and_evaluate pid=18166)\u001b[0m 32/32 - 1s - loss: 0.0580 - accuracy: 0.9810 - 678ms/epoch - 21ms/step\n",
      "\u001b[2m\u001b[36m(launch_and_evaluate pid=18168)\u001b[0m 32/32 - 1s - loss: 0.0496 - accuracy: 0.9820 - 683ms/epoch - 21ms/step\n",
      "\u001b[2m\u001b[36m(launch_and_evaluate pid=18167)\u001b[0m 32/32 - 1s - loss: 0.0501 - accuracy: 0.9820 - 725ms/epoch - 23ms/step\n",
      "\u001b[2m\u001b[36m(launch_and_evaluate pid=18165)\u001b[0m 32/32 - 1s - loss: 0.0666 - accuracy: 0.9800 - 736ms/epoch - 23ms/step\n"
     ]
    },
    {
     "name": "stderr",
     "output_type": "stream",
     "text": [
      "DEBUG flwr 2023-04-16 18:46:29,641 | server.py:179 | evaluate_round 10 received 10 results and 0 failures\n",
      "DEBUG flwr 2023-04-16 18:46:29,642 | server.py:215 | fit_round 11: strategy sampled 9 clients (out of 10)\n"
     ]
    },
    {
     "name": "stdout",
     "output_type": "stream",
     "text": [
      "\u001b[2m\u001b[36m(launch_and_evaluate pid=18168)\u001b[0m 32/32 - 1s - loss: 0.0573 - accuracy: 0.9810 - 560ms/epoch - 17ms/step\n",
      "\u001b[2m\u001b[36m(launch_and_evaluate pid=18165)\u001b[0m 32/32 - 1s - loss: 0.0571 - accuracy: 0.9800 - 538ms/epoch - 17ms/step\n",
      "\u001b[2m\u001b[36m(launch_and_fit pid=18166)\u001b[0m 188/188 - 9s - loss: 0.0597 - accuracy: 0.9803 - 9s/epoch - 45ms/step\n",
      "\u001b[2m\u001b[36m(launch_and_fit pid=18165)\u001b[0m 188/188 - 9s - loss: 0.0585 - accuracy: 0.9827 - 9s/epoch - 47ms/step\n",
      "\u001b[2m\u001b[36m(launch_and_fit pid=18167)\u001b[0m 188/188 - 9s - loss: 0.0601 - accuracy: 0.9822 - 9s/epoch - 49ms/step\n",
      "\u001b[2m\u001b[36m(launch_and_fit pid=18168)\u001b[0m 188/188 - 9s - loss: 0.0592 - accuracy: 0.9817 - 9s/epoch - 50ms/step\n",
      "\u001b[2m\u001b[36m(launch_and_fit pid=18166)\u001b[0m 188/188 - 7s - loss: 0.0684 - accuracy: 0.9803 - 7s/epoch - 39ms/step\n",
      "\u001b[2m\u001b[36m(launch_and_fit pid=18165)\u001b[0m 188/188 - 8s - loss: 0.0542 - accuracy: 0.9830 - 8s/epoch - 43ms/step\n",
      "\u001b[2m\u001b[36m(launch_and_fit pid=18168)\u001b[0m 188/188 - 8s - loss: 0.0568 - accuracy: 0.9825 - 8s/epoch - 43ms/step\n",
      "\u001b[2m\u001b[36m(launch_and_fit pid=18167)\u001b[0m 188/188 - 8s - loss: 0.0581 - accuracy: 0.9830 - 8s/epoch - 44ms/step\n"
     ]
    },
    {
     "name": "stderr",
     "output_type": "stream",
     "text": [
      "DEBUG flwr 2023-04-16 18:46:51,496 | server.py:229 | fit_round 11 received 9 results and 0 failures\n",
      "DEBUG flwr 2023-04-16 18:46:51,529 | server.py:165 | evaluate_round 11: strategy sampled 10 clients (out of 10)\n"
     ]
    },
    {
     "name": "stdout",
     "output_type": "stream",
     "text": [
      "\u001b[2m\u001b[36m(launch_and_fit pid=18166)\u001b[0m 188/188 - 3s - loss: 0.0540 - accuracy: 0.9857 - 3s/epoch - 16ms/step\n",
      "\u001b[2m\u001b[36m(launch_and_evaluate pid=18167)\u001b[0m 32/32 - 1s - loss: 0.0518 - accuracy: 0.9840 - 740ms/epoch - 23ms/step\n",
      "\u001b[2m\u001b[36m(launch_and_evaluate pid=18165)\u001b[0m 32/32 - 1s - loss: 0.0592 - accuracy: 0.9810 - 709ms/epoch - 22ms/step\n",
      "\u001b[2m\u001b[36m(launch_and_evaluate pid=18166)\u001b[0m 32/32 - 1s - loss: 0.0629 - accuracy: 0.9820 - 682ms/epoch - 21ms/step\n",
      "\u001b[2m\u001b[36m(launch_and_evaluate pid=18168)\u001b[0m 32/32 - 1s - loss: 0.0502 - accuracy: 0.9850 - 639ms/epoch - 20ms/step\n",
      "\u001b[2m\u001b[36m(launch_and_evaluate pid=18167)\u001b[0m 32/32 - 1s - loss: 0.0506 - accuracy: 0.9870 - 588ms/epoch - 18ms/step\n",
      "\u001b[2m\u001b[36m(launch_and_evaluate pid=18165)\u001b[0m 32/32 - 1s - loss: 0.0476 - accuracy: 0.9820 - 591ms/epoch - 18ms/step\n",
      "\u001b[2m\u001b[36m(launch_and_evaluate pid=18166)\u001b[0m 32/32 - 1s - loss: 0.0612 - accuracy: 0.9820 - 599ms/epoch - 19ms/step\n",
      "\u001b[2m\u001b[36m(launch_and_evaluate pid=18168)\u001b[0m 32/32 - 1s - loss: 0.0439 - accuracy: 0.9880 - 605ms/epoch - 19ms/step\n"
     ]
    },
    {
     "name": "stderr",
     "output_type": "stream",
     "text": [
      "DEBUG flwr 2023-04-16 18:46:54,858 | server.py:179 | evaluate_round 11 received 10 results and 0 failures\n",
      "DEBUG flwr 2023-04-16 18:46:54,858 | server.py:215 | fit_round 12: strategy sampled 9 clients (out of 10)\n"
     ]
    },
    {
     "name": "stdout",
     "output_type": "stream",
     "text": [
      "\u001b[2m\u001b[36m(launch_and_evaluate pid=18167)\u001b[0m 32/32 - 0s - loss: 0.0372 - accuracy: 0.9890 - 448ms/epoch - 14ms/step\n",
      "\u001b[2m\u001b[36m(launch_and_evaluate pid=18166)\u001b[0m 32/32 - 0s - loss: 0.0490 - accuracy: 0.9790 - 440ms/epoch - 14ms/step\n",
      "\u001b[2m\u001b[36m(launch_and_fit pid=18167)\u001b[0m 188/188 - 8s - loss: 0.0495 - accuracy: 0.9853 - 8s/epoch - 43ms/step\n",
      "\u001b[2m\u001b[36m(launch_and_fit pid=18165)\u001b[0m 188/188 - 8s - loss: 0.0549 - accuracy: 0.9833 - 8s/epoch - 44ms/step\n",
      "\u001b[2m\u001b[36m(launch_and_fit pid=18166)\u001b[0m 188/188 - 8s - loss: 0.0432 - accuracy: 0.9867 - 8s/epoch - 45ms/step\n",
      "\u001b[2m\u001b[36m(launch_and_fit pid=18168)\u001b[0m 188/188 - 8s - loss: 0.0685 - accuracy: 0.9780 - 8s/epoch - 45ms/step\n",
      "\u001b[2m\u001b[36m(launch_and_fit pid=18167)\u001b[0m 188/188 - 8s - loss: 0.0510 - accuracy: 0.9865 - 8s/epoch - 42ms/step\n",
      "\u001b[2m\u001b[36m(launch_and_fit pid=18168)\u001b[0m 188/188 - 8s - loss: 0.0660 - accuracy: 0.9793 - 8s/epoch - 41ms/step\n",
      "\u001b[2m\u001b[36m(launch_and_fit pid=18166)\u001b[0m 188/188 - 8s - loss: 0.0473 - accuracy: 0.9858 - 8s/epoch - 40ms/step\n",
      "\u001b[2m\u001b[36m(launch_and_fit pid=18165)\u001b[0m 188/188 - 8s - loss: 0.0488 - accuracy: 0.9878 - 8s/epoch - 41ms/step\n"
     ]
    },
    {
     "name": "stderr",
     "output_type": "stream",
     "text": [
      "DEBUG flwr 2023-04-16 18:47:15,900 | server.py:229 | fit_round 12 received 9 results and 0 failures\n",
      "DEBUG flwr 2023-04-16 18:47:15,933 | server.py:165 | evaluate_round 12: strategy sampled 10 clients (out of 10)\n"
     ]
    },
    {
     "name": "stdout",
     "output_type": "stream",
     "text": [
      "\u001b[2m\u001b[36m(launch_and_fit pid=18167)\u001b[0m 188/188 - 3s - loss: 0.0484 - accuracy: 0.9853 - 3s/epoch - 17ms/step\n",
      "\u001b[2m\u001b[36m(launch_and_evaluate pid=18166)\u001b[0m 32/32 - 1s - loss: 0.0689 - accuracy: 0.9790 - 667ms/epoch - 21ms/step\n",
      "\u001b[2m\u001b[36m(launch_and_evaluate pid=18167)\u001b[0m 32/32 - 1s - loss: 0.0449 - accuracy: 0.9840 - 715ms/epoch - 22ms/step\n",
      "\u001b[2m\u001b[36m(launch_and_evaluate pid=18168)\u001b[0m 32/32 - 1s - loss: 0.0546 - accuracy: 0.9810 - 697ms/epoch - 22ms/step\n",
      "\u001b[2m\u001b[36m(launch_and_evaluate pid=18165)\u001b[0m 32/32 - 1s - loss: 0.0590 - accuracy: 0.9790 - 762ms/epoch - 24ms/step\n",
      "\u001b[2m\u001b[36m(launch_and_evaluate pid=18166)\u001b[0m 32/32 - 1s - loss: 0.0413 - accuracy: 0.9880 - 548ms/epoch - 17ms/step\n",
      "\u001b[2m\u001b[36m(launch_and_evaluate pid=18165)\u001b[0m 32/32 - 1s - loss: 0.0574 - accuracy: 0.9830 - 606ms/epoch - 19ms/step\n",
      "\u001b[2m\u001b[36m(launch_and_evaluate pid=18167)\u001b[0m 32/32 - 1s - loss: 0.0512 - accuracy: 0.9840 - 705ms/epoch - 22ms/step\n",
      "\u001b[2m\u001b[36m(launch_and_evaluate pid=18168)\u001b[0m 32/32 - 1s - loss: 0.0440 - accuracy: 0.9850 - 735ms/epoch - 23ms/step\n",
      "\u001b[2m\u001b[36m(launch_and_evaluate pid=18166)\u001b[0m 32/32 - 0s - loss: 0.0549 - accuracy: 0.9840 - 411ms/epoch - 13ms/step\n"
     ]
    },
    {
     "name": "stderr",
     "output_type": "stream",
     "text": [
      "DEBUG flwr 2023-04-16 18:47:19,773 | server.py:179 | evaluate_round 12 received 10 results and 0 failures\n",
      "DEBUG flwr 2023-04-16 18:47:19,774 | server.py:215 | fit_round 13: strategy sampled 9 clients (out of 10)\n"
     ]
    },
    {
     "name": "stdout",
     "output_type": "stream",
     "text": [
      "\u001b[2m\u001b[36m(launch_and_evaluate pid=18165)\u001b[0m 32/32 - 0s - loss: 0.0420 - accuracy: 0.9850 - 426ms/epoch - 13ms/step\n",
      "\u001b[2m\u001b[36m(launch_and_fit pid=18167)\u001b[0m 188/188 - 8s - loss: 0.0512 - accuracy: 0.9855 - 8s/epoch - 43ms/step\n",
      "\u001b[2m\u001b[36m(launch_and_fit pid=18166)\u001b[0m 188/188 - 8s - loss: 0.0455 - accuracy: 0.9883 - 8s/epoch - 43ms/step\n",
      "\u001b[2m\u001b[36m(launch_and_fit pid=18168)\u001b[0m 188/188 - 8s - loss: 0.0499 - accuracy: 0.9832 - 8s/epoch - 43ms/step\n",
      "\u001b[2m\u001b[36m(launch_and_fit pid=18165)\u001b[0m 188/188 - 8s - loss: 0.0565 - accuracy: 0.9830 - 8s/epoch - 44ms/step\n",
      "\u001b[2m\u001b[36m(launch_and_fit pid=18166)\u001b[0m 188/188 - 8s - loss: 0.0538 - accuracy: 0.9842 - 8s/epoch - 42ms/step\n",
      "\u001b[2m\u001b[36m(launch_and_fit pid=18167)\u001b[0m 188/188 - 8s - loss: 0.0482 - accuracy: 0.9850 - 8s/epoch - 42ms/step\n",
      "\u001b[2m\u001b[36m(launch_and_fit pid=18165)\u001b[0m 188/188 - 8s - loss: 0.0467 - accuracy: 0.9877 - 8s/epoch - 42ms/step\n",
      "\u001b[2m\u001b[36m(launch_and_fit pid=18168)\u001b[0m 188/188 - 8s - loss: 0.0474 - accuracy: 0.9840 - 8s/epoch - 42ms/step\n"
     ]
    },
    {
     "name": "stderr",
     "output_type": "stream",
     "text": [
      "DEBUG flwr 2023-04-16 18:47:40,888 | server.py:229 | fit_round 13 received 9 results and 0 failures\n",
      "DEBUG flwr 2023-04-16 18:47:40,920 | server.py:165 | evaluate_round 13: strategy sampled 10 clients (out of 10)\n"
     ]
    },
    {
     "name": "stdout",
     "output_type": "stream",
     "text": [
      "\u001b[2m\u001b[36m(launch_and_fit pid=18166)\u001b[0m 188/188 - 3s - loss: 0.0488 - accuracy: 0.9868 - 3s/epoch - 17ms/step\n",
      "\u001b[2m\u001b[36m(launch_and_evaluate pid=18166)\u001b[0m 32/32 - 1s - loss: 0.0602 - accuracy: 0.9820 - 696ms/epoch - 22ms/step\n",
      "\u001b[2m\u001b[36m(launch_and_evaluate pid=18168)\u001b[0m 32/32 - 1s - loss: 0.0433 - accuracy: 0.9840 - 668ms/epoch - 21ms/step\n",
      "\u001b[2m\u001b[36m(launch_and_evaluate pid=18165)\u001b[0m 32/32 - 1s - loss: 0.0470 - accuracy: 0.9850 - 717ms/epoch - 22ms/step\n",
      "\u001b[2m\u001b[36m(launch_and_evaluate pid=18167)\u001b[0m 32/32 - 1s - loss: 0.0444 - accuracy: 0.9880 - 955ms/epoch - 30ms/step\n",
      "\u001b[2m\u001b[36m(launch_and_evaluate pid=18168)\u001b[0m 32/32 - 1s - loss: 0.0360 - accuracy: 0.9870 - 598ms/epoch - 19ms/step\n",
      "\u001b[2m\u001b[36m(launch_and_evaluate pid=18165)\u001b[0m 32/32 - 1s - loss: 0.0468 - accuracy: 0.9790 - 650ms/epoch - 20ms/step\n",
      "\u001b[2m\u001b[36m(launch_and_evaluate pid=18166)\u001b[0m 32/32 - 1s - loss: 0.0376 - accuracy: 0.9900 - 644ms/epoch - 20ms/step\n",
      "\u001b[2m\u001b[36m(launch_and_evaluate pid=18167)\u001b[0m 32/32 - 1s - loss: 0.0391 - accuracy: 0.9890 - 640ms/epoch - 20ms/step\n"
     ]
    },
    {
     "name": "stderr",
     "output_type": "stream",
     "text": [
      "DEBUG flwr 2023-04-16 18:47:44,520 | server.py:179 | evaluate_round 13 received 10 results and 0 failures\n",
      "DEBUG flwr 2023-04-16 18:47:44,520 | server.py:215 | fit_round 14: strategy sampled 9 clients (out of 10)\n"
     ]
    },
    {
     "name": "stdout",
     "output_type": "stream",
     "text": [
      "\u001b[2m\u001b[36m(launch_and_evaluate pid=18168)\u001b[0m 32/32 - 0s - loss: 0.0613 - accuracy: 0.9790 - 445ms/epoch - 14ms/step\n",
      "\u001b[2m\u001b[36m(launch_and_evaluate pid=18166)\u001b[0m 32/32 - 0s - loss: 0.0412 - accuracy: 0.9840 - 443ms/epoch - 14ms/step\n",
      "\u001b[2m\u001b[36m(launch_and_fit pid=18168)\u001b[0m 188/188 - 8s - loss: 0.0550 - accuracy: 0.9837 - 8s/epoch - 41ms/step\n",
      "\u001b[2m\u001b[36m(launch_and_fit pid=18167)\u001b[0m 188/188 - 8s - loss: 0.0537 - accuracy: 0.9853 - 8s/epoch - 42ms/step\n",
      "\u001b[2m\u001b[36m(launch_and_fit pid=18165)\u001b[0m 188/188 - 8s - loss: 0.0464 - accuracy: 0.9858 - 8s/epoch - 43ms/step\n",
      "\u001b[2m\u001b[36m(launch_and_fit pid=18166)\u001b[0m 188/188 - 8s - loss: 0.0477 - accuracy: 0.9875 - 8s/epoch - 44ms/step\n",
      "\u001b[2m\u001b[36m(launch_and_fit pid=18168)\u001b[0m 188/188 - 7s - loss: 0.0477 - accuracy: 0.9848 - 7s/epoch - 40ms/step\n",
      "\u001b[2m\u001b[36m(launch_and_fit pid=18167)\u001b[0m 188/188 - 8s - loss: 0.0566 - accuracy: 0.9818 - 8s/epoch - 40ms/step\n",
      "\u001b[2m\u001b[36m(launch_and_fit pid=18166)\u001b[0m 188/188 - 8s - loss: 0.0418 - accuracy: 0.9877 - 8s/epoch - 40ms/step\n",
      "\u001b[2m\u001b[36m(launch_and_fit pid=18165)\u001b[0m 188/188 - 8s - loss: 0.0539 - accuracy: 0.9818 - 8s/epoch - 41ms/step\n"
     ]
    },
    {
     "name": "stderr",
     "output_type": "stream",
     "text": [
      "DEBUG flwr 2023-04-16 18:48:04,550 | server.py:229 | fit_round 14 received 9 results and 0 failures\n",
      "DEBUG flwr 2023-04-16 18:48:04,580 | server.py:165 | evaluate_round 14: strategy sampled 10 clients (out of 10)\n"
     ]
    },
    {
     "name": "stdout",
     "output_type": "stream",
     "text": [
      "\u001b[2m\u001b[36m(launch_and_fit pid=18168)\u001b[0m 188/188 - 3s - loss: 0.0536 - accuracy: 0.9842 - 3s/epoch - 15ms/step\n",
      "\u001b[2m\u001b[36m(launch_and_evaluate pid=18166)\u001b[0m 32/32 - 1s - loss: 0.0366 - accuracy: 0.9880 - 581ms/epoch - 18ms/step\n",
      "\u001b[2m\u001b[36m(launch_and_evaluate pid=18168)\u001b[0m 32/32 - 1s - loss: 0.0505 - accuracy: 0.9850 - 604ms/epoch - 19ms/step\n",
      "\u001b[2m\u001b[36m(launch_and_evaluate pid=18167)\u001b[0m 32/32 - 1s - loss: 0.0529 - accuracy: 0.9840 - 633ms/epoch - 20ms/step\n",
      "\u001b[2m\u001b[36m(launch_and_evaluate pid=18165)\u001b[0m 32/32 - 1s - loss: 0.0434 - accuracy: 0.9860 - 639ms/epoch - 20ms/step\n",
      "\u001b[2m\u001b[36m(launch_and_evaluate pid=18168)\u001b[0m 32/32 - 1s - loss: 0.0518 - accuracy: 0.9850 - 593ms/epoch - 19ms/step\n",
      "\u001b[2m\u001b[36m(launch_and_evaluate pid=18167)\u001b[0m 32/32 - 1s - loss: 0.0512 - accuracy: 0.9850 - 608ms/epoch - 19ms/step\n",
      "\u001b[2m\u001b[36m(launch_and_evaluate pid=18165)\u001b[0m 32/32 - 1s - loss: 0.0478 - accuracy: 0.9850 - 606ms/epoch - 19ms/step\n",
      "\u001b[2m\u001b[36m(launch_and_evaluate pid=18166)\u001b[0m 32/32 - 1s - loss: 0.0278 - accuracy: 0.9920 - 620ms/epoch - 19ms/step\n"
     ]
    },
    {
     "name": "stderr",
     "output_type": "stream",
     "text": [
      "DEBUG flwr 2023-04-16 18:48:08,237 | server.py:179 | evaluate_round 14 received 10 results and 0 failures\n",
      "DEBUG flwr 2023-04-16 18:48:08,239 | server.py:215 | fit_round 15: strategy sampled 9 clients (out of 10)\n"
     ]
    },
    {
     "name": "stdout",
     "output_type": "stream",
     "text": [
      "\u001b[2m\u001b[36m(launch_and_evaluate pid=18165)\u001b[0m 32/32 - 0s - loss: 0.0256 - accuracy: 0.9950 - 426ms/epoch - 13ms/step\n",
      "\u001b[2m\u001b[36m(launch_and_evaluate pid=18168)\u001b[0m 32/32 - 1s - loss: 0.0557 - accuracy: 0.9810 - 635ms/epoch - 20ms/step\n",
      "\u001b[2m\u001b[36m(launch_and_fit pid=18167)\u001b[0m 188/188 - 8s - loss: 0.0460 - accuracy: 0.9877 - 8s/epoch - 43ms/step\n",
      "\u001b[2m\u001b[36m(launch_and_fit pid=18165)\u001b[0m 188/188 - 8s - loss: 0.0472 - accuracy: 0.9848 - 8s/epoch - 44ms/step\n",
      "\u001b[2m\u001b[36m(launch_and_fit pid=18166)\u001b[0m 188/188 - 8s - loss: 0.0533 - accuracy: 0.9830 - 8s/epoch - 44ms/step\n",
      "\u001b[2m\u001b[36m(launch_and_fit pid=18168)\u001b[0m 188/188 - 8s - loss: 0.0408 - accuracy: 0.9877 - 8s/epoch - 44ms/step\n",
      "\u001b[2m\u001b[36m(launch_and_fit pid=18167)\u001b[0m 188/188 - 9s - loss: 0.0380 - accuracy: 0.9875 - 9s/epoch - 46ms/step\n",
      "\u001b[2m\u001b[36m(launch_and_fit pid=18166)\u001b[0m 188/188 - 9s - loss: 0.0453 - accuracy: 0.9875 - 9s/epoch - 50ms/step\n",
      "\u001b[2m\u001b[36m(launch_and_fit pid=18168)\u001b[0m 188/188 - 9s - loss: 0.0408 - accuracy: 0.9883 - 9s/epoch - 50ms/step\n",
      "\u001b[2m\u001b[36m(launch_and_fit pid=18165)\u001b[0m 188/188 - 9s - loss: 0.0475 - accuracy: 0.9852 - 9s/epoch - 50ms/step\n"
     ]
    },
    {
     "name": "stderr",
     "output_type": "stream",
     "text": [
      "DEBUG flwr 2023-04-16 18:48:30,740 | server.py:229 | fit_round 15 received 9 results and 0 failures\n",
      "DEBUG flwr 2023-04-16 18:48:30,775 | server.py:165 | evaluate_round 15: strategy sampled 10 clients (out of 10)\n"
     ]
    },
    {
     "name": "stdout",
     "output_type": "stream",
     "text": [
      "\u001b[2m\u001b[36m(launch_and_fit pid=18167)\u001b[0m 188/188 - 4s - loss: 0.0343 - accuracy: 0.9907 - 4s/epoch - 19ms/step\n",
      "\u001b[2m\u001b[36m(launch_and_evaluate pid=18167)\u001b[0m 32/32 - 1s - loss: 0.0436 - accuracy: 0.9850 - 794ms/epoch - 25ms/step\n",
      "\u001b[2m\u001b[36m(launch_and_evaluate pid=18168)\u001b[0m 32/32 - 1s - loss: 0.0557 - accuracy: 0.9800 - 699ms/epoch - 22ms/step\n",
      "\u001b[2m\u001b[36m(launch_and_evaluate pid=18165)\u001b[0m 32/32 - 1s - loss: 0.0451 - accuracy: 0.9840 - 900ms/epoch - 28ms/step\n",
      "\u001b[2m\u001b[36m(launch_and_evaluate pid=18166)\u001b[0m 32/32 - 1s - loss: 0.0426 - accuracy: 0.9860 - 955ms/epoch - 30ms/step\n",
      "\u001b[2m\u001b[36m(launch_and_evaluate pid=18168)\u001b[0m 32/32 - 1s - loss: 0.0486 - accuracy: 0.9780 - 966ms/epoch - 30ms/step\n",
      "\u001b[2m\u001b[36m(launch_and_evaluate pid=18167)\u001b[0m 32/32 - 2s - loss: 0.0492 - accuracy: 0.9850 - 2s/epoch - 49ms/step\n",
      "\u001b[2m\u001b[36m(launch_and_evaluate pid=18165)\u001b[0m 32/32 - 1s - loss: 0.0568 - accuracy: 0.9790 - 1s/epoch - 45ms/step\n",
      "\u001b[2m\u001b[36m(launch_and_evaluate pid=18166)\u001b[0m 32/32 - 2s - loss: 0.0465 - accuracy: 0.9870 - 2s/epoch - 59ms/step\n",
      "\u001b[2m\u001b[36m(launch_and_evaluate pid=18168)\u001b[0m 32/32 - 1s - loss: 0.0332 - accuracy: 0.9900 - 1s/epoch - 33ms/step\n"
     ]
    },
    {
     "name": "stderr",
     "output_type": "stream",
     "text": [
      "DEBUG flwr 2023-04-16 18:48:37,445 | server.py:179 | evaluate_round 15 received 10 results and 0 failures\n",
      "DEBUG flwr 2023-04-16 18:48:37,446 | server.py:215 | fit_round 16: strategy sampled 9 clients (out of 10)\n"
     ]
    },
    {
     "name": "stdout",
     "output_type": "stream",
     "text": [
      "\u001b[2m\u001b[36m(launch_and_evaluate pid=18165)\u001b[0m 32/32 - 1s - loss: 0.0498 - accuracy: 0.9840 - 989ms/epoch - 31ms/step\n",
      "\u001b[2m\u001b[36m(launch_and_fit pid=18168)\u001b[0m 188/188 - 10s - loss: 0.0463 - accuracy: 0.9848 - 10s/epoch - 54ms/step\n",
      "\u001b[2m\u001b[36m(launch_and_fit pid=18166)\u001b[0m 188/188 - 10s - loss: 0.0464 - accuracy: 0.9858 - 10s/epoch - 54ms/step\n",
      "\u001b[2m\u001b[36m(launch_and_fit pid=18167)\u001b[0m 188/188 - 10s - loss: 0.0486 - accuracy: 0.9853 - 10s/epoch - 55ms/step\n",
      "\u001b[2m\u001b[36m(launch_and_fit pid=18165)\u001b[0m 188/188 - 11s - loss: 0.0428 - accuracy: 0.9863 - 11s/epoch - 56ms/step\n",
      "\u001b[2m\u001b[36m(launch_and_fit pid=18166)\u001b[0m 188/188 - 7s - loss: 0.0473 - accuracy: 0.9847 - 7s/epoch - 39ms/step\n",
      "\u001b[2m\u001b[36m(launch_and_fit pid=18167)\u001b[0m 188/188 - 7s - loss: 0.0377 - accuracy: 0.9888 - 7s/epoch - 39ms/step\n",
      "\u001b[2m\u001b[36m(launch_and_fit pid=18165)\u001b[0m 188/188 - 8s - loss: 0.0395 - accuracy: 0.9888 - 8s/epoch - 41ms/step\n",
      "\u001b[2m\u001b[36m(launch_and_fit pid=18168)\u001b[0m 188/188 - 7s - loss: 0.0484 - accuracy: 0.9875 - 7s/epoch - 40ms/step\n"
     ]
    },
    {
     "name": "stderr",
     "output_type": "stream",
     "text": [
      "DEBUG flwr 2023-04-16 18:48:59,733 | server.py:229 | fit_round 16 received 9 results and 0 failures\n",
      "DEBUG flwr 2023-04-16 18:48:59,765 | server.py:165 | evaluate_round 16: strategy sampled 10 clients (out of 10)\n"
     ]
    },
    {
     "name": "stdout",
     "output_type": "stream",
     "text": [
      "\u001b[2m\u001b[36m(launch_and_fit pid=18166)\u001b[0m 188/188 - 3s - loss: 0.0387 - accuracy: 0.9895 - 3s/epoch - 14ms/step\n",
      "\u001b[2m\u001b[36m(launch_and_evaluate pid=18165)\u001b[0m 32/32 - 1s - loss: 0.0452 - accuracy: 0.9850 - 696ms/epoch - 22ms/step\n",
      "\u001b[2m\u001b[36m(launch_and_evaluate pid=18166)\u001b[0m 32/32 - 1s - loss: 0.0345 - accuracy: 0.9870 - 692ms/epoch - 22ms/step\n",
      "\u001b[2m\u001b[36m(launch_and_evaluate pid=18168)\u001b[0m 32/32 - 1s - loss: 0.0488 - accuracy: 0.9810 - 612ms/epoch - 19ms/step\n",
      "\u001b[2m\u001b[36m(launch_and_evaluate pid=18167)\u001b[0m 32/32 - 1s - loss: 0.0373 - accuracy: 0.9890 - 738ms/epoch - 23ms/step\n",
      "\u001b[2m\u001b[36m(launch_and_evaluate pid=18165)\u001b[0m 32/32 - 1s - loss: 0.0454 - accuracy: 0.9830 - 603ms/epoch - 19ms/step\n",
      "\u001b[2m\u001b[36m(launch_and_evaluate pid=18166)\u001b[0m 32/32 - 1s - loss: 0.0276 - accuracy: 0.9910 - 643ms/epoch - 20ms/step\n",
      "\u001b[2m\u001b[36m(launch_and_evaluate pid=18168)\u001b[0m 32/32 - 1s - loss: 0.0359 - accuracy: 0.9900 - 637ms/epoch - 20ms/step\n",
      "\u001b[2m\u001b[36m(launch_and_evaluate pid=18167)\u001b[0m 32/32 - 1s - loss: 0.0475 - accuracy: 0.9860 - 610ms/epoch - 19ms/step\n"
     ]
    },
    {
     "name": "stderr",
     "output_type": "stream",
     "text": [
      "DEBUG flwr 2023-04-16 18:49:03,291 | server.py:179 | evaluate_round 16 received 10 results and 0 failures\n",
      "DEBUG flwr 2023-04-16 18:49:03,292 | server.py:215 | fit_round 17: strategy sampled 9 clients (out of 10)\n"
     ]
    },
    {
     "name": "stdout",
     "output_type": "stream",
     "text": [
      "\u001b[2m\u001b[36m(launch_and_evaluate pid=18165)\u001b[0m 32/32 - 0s - loss: 0.0293 - accuracy: 0.9890 - 460ms/epoch - 14ms/step\n",
      "\u001b[2m\u001b[36m(launch_and_evaluate pid=18168)\u001b[0m 32/32 - 0s - loss: 0.0422 - accuracy: 0.9840 - 445ms/epoch - 14ms/step\n",
      "\u001b[2m\u001b[36m(launch_and_fit pid=18167)\u001b[0m 188/188 - 8s - loss: 0.0495 - accuracy: 0.9862 - 8s/epoch - 42ms/step\n",
      "\u001b[2m\u001b[36m(launch_and_fit pid=18166)\u001b[0m 188/188 - 8s - loss: 0.0429 - accuracy: 0.9885 - 8s/epoch - 43ms/step\n",
      "\u001b[2m\u001b[36m(launch_and_fit pid=18168)\u001b[0m 188/188 - 8s - loss: 0.0442 - accuracy: 0.9860 - 8s/epoch - 43ms/step\n",
      "\u001b[2m\u001b[36m(launch_and_fit pid=18165)\u001b[0m 188/188 - 8s - loss: 0.0345 - accuracy: 0.9892 - 8s/epoch - 43ms/step\n",
      "\u001b[2m\u001b[36m(launch_and_fit pid=18166)\u001b[0m 188/188 - 8s - loss: 0.0397 - accuracy: 0.9877 - 8s/epoch - 40ms/step\n",
      "\u001b[2m\u001b[36m(launch_and_fit pid=18165)\u001b[0m 188/188 - 8s - loss: 0.0456 - accuracy: 0.9865 - 8s/epoch - 42ms/step\n",
      "\u001b[2m\u001b[36m(launch_and_fit pid=18168)\u001b[0m 188/188 - 8s - loss: 0.0429 - accuracy: 0.9882 - 8s/epoch - 43ms/step\n",
      "\u001b[2m\u001b[36m(launch_and_fit pid=18167)\u001b[0m 188/188 - 8s - loss: 0.0386 - accuracy: 0.9882 - 8s/epoch - 44ms/step\n"
     ]
    },
    {
     "name": "stderr",
     "output_type": "stream",
     "text": [
      "DEBUG flwr 2023-04-16 18:49:23,504 | server.py:229 | fit_round 17 received 9 results and 0 failures\n",
      "DEBUG flwr 2023-04-16 18:49:23,536 | server.py:165 | evaluate_round 17: strategy sampled 10 clients (out of 10)\n"
     ]
    },
    {
     "name": "stdout",
     "output_type": "stream",
     "text": [
      "\u001b[2m\u001b[36m(launch_and_fit pid=18166)\u001b[0m 188/188 - 3s - loss: 0.0429 - accuracy: 0.9875 - 3s/epoch - 14ms/step\n",
      "\u001b[2m\u001b[36m(launch_and_evaluate pid=18167)\u001b[0m 32/32 - 1s - loss: 0.0389 - accuracy: 0.9870 - 584ms/epoch - 18ms/step\n",
      "\u001b[2m\u001b[36m(launch_and_evaluate pid=18165)\u001b[0m 32/32 - 1s - loss: 0.0383 - accuracy: 0.9890 - 608ms/epoch - 19ms/step\n",
      "\u001b[2m\u001b[36m(launch_and_evaluate pid=18168)\u001b[0m 32/32 - 1s - loss: 0.0448 - accuracy: 0.9830 - 558ms/epoch - 17ms/step\n",
      "\u001b[2m\u001b[36m(launch_and_evaluate pid=18166)\u001b[0m 32/32 - 1s - loss: 0.0288 - accuracy: 0.9940 - 663ms/epoch - 21ms/step\n",
      "\u001b[2m\u001b[36m(launch_and_evaluate pid=18167)\u001b[0m 32/32 - 1s - loss: 0.0365 - accuracy: 0.9870 - 615ms/epoch - 19ms/step\n",
      "\u001b[2m\u001b[36m(launch_and_evaluate pid=18165)\u001b[0m 32/32 - 1s - loss: 0.0472 - accuracy: 0.9860 - 573ms/epoch - 18ms/step\n",
      "\u001b[2m\u001b[36m(launch_and_evaluate pid=18168)\u001b[0m 32/32 - 1s - loss: 0.0426 - accuracy: 0.9850 - 565ms/epoch - 18ms/step\n",
      "\u001b[2m\u001b[36m(launch_and_evaluate pid=18166)\u001b[0m 32/32 - 1s - loss: 0.0579 - accuracy: 0.9830 - 574ms/epoch - 18ms/step\n"
     ]
    },
    {
     "name": "stderr",
     "output_type": "stream",
     "text": [
      "DEBUG flwr 2023-04-16 18:49:26,898 | server.py:179 | evaluate_round 17 received 10 results and 0 failures\n",
      "DEBUG flwr 2023-04-16 18:49:26,899 | server.py:215 | fit_round 18: strategy sampled 9 clients (out of 10)\n"
     ]
    },
    {
     "name": "stdout",
     "output_type": "stream",
     "text": [
      "\u001b[2m\u001b[36m(launch_and_evaluate pid=18168)\u001b[0m 32/32 - 0s - loss: 0.0347 - accuracy: 0.9850 - 429ms/epoch - 13ms/step\n",
      "\u001b[2m\u001b[36m(launch_and_evaluate pid=18165)\u001b[0m 32/32 - 1s - loss: 0.0513 - accuracy: 0.9840 - 608ms/epoch - 19ms/step\n",
      "\u001b[2m\u001b[36m(launch_and_fit pid=18168)\u001b[0m 188/188 - 7s - loss: 0.0286 - accuracy: 0.9920 - 7s/epoch - 39ms/step\n",
      "\u001b[2m\u001b[36m(launch_and_fit pid=18165)\u001b[0m 188/188 - 7s - loss: 0.0398 - accuracy: 0.9880 - 7s/epoch - 40ms/step\n",
      "\u001b[2m\u001b[36m(launch_and_fit pid=18167)\u001b[0m 188/188 - 8s - loss: 0.0410 - accuracy: 0.9875 - 8s/epoch - 42ms/step\n",
      "\u001b[2m\u001b[36m(launch_and_fit pid=18166)\u001b[0m 188/188 - 8s - loss: 0.0336 - accuracy: 0.9912 - 8s/epoch - 43ms/step\n",
      "\u001b[2m\u001b[36m(launch_and_fit pid=18168)\u001b[0m 188/188 - 7s - loss: 0.0379 - accuracy: 0.9893 - 7s/epoch - 39ms/step\n",
      "\u001b[2m\u001b[36m(launch_and_fit pid=18165)\u001b[0m 188/188 - 8s - loss: 0.0488 - accuracy: 0.9853 - 8s/epoch - 40ms/step\n",
      "\u001b[2m\u001b[36m(launch_and_fit pid=18167)\u001b[0m 188/188 - 8s - loss: 0.0371 - accuracy: 0.9897 - 8s/epoch - 40ms/step\n",
      "\u001b[2m\u001b[36m(launch_and_fit pid=18166)\u001b[0m 188/188 - 8s - loss: 0.0361 - accuracy: 0.9883 - 8s/epoch - 41ms/step\n"
     ]
    },
    {
     "name": "stderr",
     "output_type": "stream",
     "text": [
      "DEBUG flwr 2023-04-16 18:49:46,616 | server.py:229 | fit_round 18 received 9 results and 0 failures\n",
      "DEBUG flwr 2023-04-16 18:49:46,646 | server.py:165 | evaluate_round 18: strategy sampled 10 clients (out of 10)\n"
     ]
    },
    {
     "name": "stdout",
     "output_type": "stream",
     "text": [
      "\u001b[2m\u001b[36m(launch_and_fit pid=18168)\u001b[0m 188/188 - 3s - loss: 0.0414 - accuracy: 0.9877 - 3s/epoch - 15ms/step\n",
      "\u001b[2m\u001b[36m(launch_and_evaluate pid=18167)\u001b[0m 32/32 - 1s - loss: 0.0332 - accuracy: 0.9910 - 585ms/epoch - 18ms/step\n",
      "\u001b[2m\u001b[36m(launch_and_evaluate pid=18166)\u001b[0m 32/32 - 1s - loss: 0.0276 - accuracy: 0.9910 - 600ms/epoch - 19ms/step\n",
      "\u001b[2m\u001b[36m(launch_and_evaluate pid=18168)\u001b[0m 32/32 - 1s - loss: 0.0398 - accuracy: 0.9880 - 625ms/epoch - 20ms/step\n",
      "\u001b[2m\u001b[36m(launch_and_evaluate pid=18165)\u001b[0m 32/32 - 1s - loss: 0.0384 - accuracy: 0.9870 - 781ms/epoch - 24ms/step\n",
      "\u001b[2m\u001b[36m(launch_and_evaluate pid=18167)\u001b[0m 32/32 - 1s - loss: 0.0503 - accuracy: 0.9880 - 637ms/epoch - 20ms/step\n",
      "\u001b[2m\u001b[36m(launch_and_evaluate pid=18166)\u001b[0m 32/32 - 1s - loss: 0.0466 - accuracy: 0.9830 - 613ms/epoch - 19ms/step\n",
      "\u001b[2m\u001b[36m(launch_and_evaluate pid=18168)\u001b[0m 32/32 - 1s - loss: 0.0330 - accuracy: 0.9900 - 609ms/epoch - 19ms/step\n",
      "\u001b[2m\u001b[36m(launch_and_evaluate pid=18165)\u001b[0m 32/32 - 1s - loss: 0.0345 - accuracy: 0.9850 - 617ms/epoch - 19ms/step\n"
     ]
    },
    {
     "name": "stderr",
     "output_type": "stream",
     "text": [
      "DEBUG flwr 2023-04-16 18:49:49,869 | server.py:179 | evaluate_round 18 received 10 results and 0 failures\n",
      "DEBUG flwr 2023-04-16 18:49:49,870 | server.py:215 | fit_round 19: strategy sampled 9 clients (out of 10)\n"
     ]
    },
    {
     "name": "stdout",
     "output_type": "stream",
     "text": [
      "\u001b[2m\u001b[36m(launch_and_evaluate pid=18166)\u001b[0m 32/32 - 0s - loss: 0.0368 - accuracy: 0.9910 - 438ms/epoch - 14ms/step\n",
      "\u001b[2m\u001b[36m(launch_and_evaluate pid=18168)\u001b[0m 32/32 - 0s - loss: 0.0595 - accuracy: 0.9760 - 448ms/epoch - 14ms/step\n",
      "\u001b[2m\u001b[36m(launch_and_fit pid=18165)\u001b[0m 188/188 - 8s - loss: 0.0278 - accuracy: 0.9927 - 8s/epoch - 42ms/step\n",
      "\u001b[2m\u001b[36m(launch_and_fit pid=18166)\u001b[0m 188/188 - 8s - loss: 0.0340 - accuracy: 0.9890 - 8s/epoch - 44ms/step\n",
      "\u001b[2m\u001b[36m(launch_and_fit pid=18167)\u001b[0m 188/188 - 8s - loss: 0.0406 - accuracy: 0.9887 - 8s/epoch - 44ms/step\n",
      "\u001b[2m\u001b[36m(launch_and_fit pid=18168)\u001b[0m 188/188 - 9s - loss: 0.0331 - accuracy: 0.9907 - 9s/epoch - 46ms/step\n",
      "\u001b[2m\u001b[36m(launch_and_fit pid=18165)\u001b[0m 188/188 - 7s - loss: 0.0305 - accuracy: 0.9908 - 7s/epoch - 39ms/step\n",
      "\u001b[2m\u001b[36m(launch_and_fit pid=18167)\u001b[0m 188/188 - 8s - loss: 0.0416 - accuracy: 0.9868 - 8s/epoch - 43ms/step\n",
      "\u001b[2m\u001b[36m(launch_and_fit pid=18166)\u001b[0m 188/188 - 8s - loss: 0.0365 - accuracy: 0.9895 - 8s/epoch - 44ms/step\n",
      "\u001b[2m\u001b[36m(launch_and_fit pid=18168)\u001b[0m 188/188 - 8s - loss: 0.0369 - accuracy: 0.9895 - 8s/epoch - 42ms/step\n"
     ]
    },
    {
     "name": "stderr",
     "output_type": "stream",
     "text": [
      "DEBUG flwr 2023-04-16 18:50:10,344 | server.py:229 | fit_round 19 received 9 results and 0 failures\n",
      "DEBUG flwr 2023-04-16 18:50:10,380 | server.py:165 | evaluate_round 19: strategy sampled 10 clients (out of 10)\n"
     ]
    },
    {
     "name": "stdout",
     "output_type": "stream",
     "text": [
      "\u001b[2m\u001b[36m(launch_and_fit pid=18165)\u001b[0m 188/188 - 3s - loss: 0.0348 - accuracy: 0.9892 - 3s/epoch - 16ms/step\n",
      "\u001b[2m\u001b[36m(launch_and_evaluate pid=18167)\u001b[0m 32/32 - 1s - loss: 0.0326 - accuracy: 0.9860 - 721ms/epoch - 23ms/step\n",
      "\u001b[2m\u001b[36m(launch_and_evaluate pid=18166)\u001b[0m 32/32 - 1s - loss: 0.0275 - accuracy: 0.9900 - 626ms/epoch - 20ms/step\n",
      "\u001b[2m\u001b[36m(launch_and_evaluate pid=18168)\u001b[0m 32/32 - 1s - loss: 0.0411 - accuracy: 0.9870 - 646ms/epoch - 20ms/step\n",
      "\u001b[2m\u001b[36m(launch_and_evaluate pid=18165)\u001b[0m 32/32 - 1s - loss: 0.0567 - accuracy: 0.9810 - 717ms/epoch - 22ms/step\n",
      "\u001b[2m\u001b[36m(launch_and_evaluate pid=18166)\u001b[0m 32/32 - 1s - loss: 0.0418 - accuracy: 0.9860 - 640ms/epoch - 20ms/step\n",
      "\u001b[2m\u001b[36m(launch_and_evaluate pid=18168)\u001b[0m 32/32 - 1s - loss: 0.0434 - accuracy: 0.9850 - 635ms/epoch - 20ms/step\n",
      "\u001b[2m\u001b[36m(launch_and_evaluate pid=18167)\u001b[0m 32/32 - 1s - loss: 0.0247 - accuracy: 0.9920 - 664ms/epoch - 21ms/step\n",
      "\u001b[2m\u001b[36m(launch_and_evaluate pid=18165)\u001b[0m 32/32 - 1s - loss: 0.0249 - accuracy: 0.9920 - 624ms/epoch - 19ms/step\n"
     ]
    },
    {
     "name": "stderr",
     "output_type": "stream",
     "text": [
      "DEBUG flwr 2023-04-16 18:50:14,096 | server.py:179 | evaluate_round 19 received 10 results and 0 failures\n",
      "DEBUG flwr 2023-04-16 18:50:14,097 | server.py:215 | fit_round 20: strategy sampled 9 clients (out of 10)\n"
     ]
    },
    {
     "name": "stdout",
     "output_type": "stream",
     "text": [
      "\u001b[2m\u001b[36m(launch_and_evaluate pid=18166)\u001b[0m 32/32 - 0s - loss: 0.0419 - accuracy: 0.9850 - 498ms/epoch - 16ms/step\n",
      "\u001b[2m\u001b[36m(launch_and_evaluate pid=18168)\u001b[0m 32/32 - 1s - loss: 0.0268 - accuracy: 0.9900 - 534ms/epoch - 17ms/step\n",
      "\u001b[2m\u001b[36m(launch_and_fit pid=18167)\u001b[0m 188/188 - 8s - loss: 0.0395 - accuracy: 0.9872 - 8s/epoch - 41ms/step\n",
      "\u001b[2m\u001b[36m(launch_and_fit pid=18166)\u001b[0m 188/188 - 8s - loss: 0.0257 - accuracy: 0.9927 - 8s/epoch - 42ms/step\n",
      "\u001b[2m\u001b[36m(launch_and_fit pid=18165)\u001b[0m 188/188 - 8s - loss: 0.0332 - accuracy: 0.9903 - 8s/epoch - 43ms/step\n",
      "\u001b[2m\u001b[36m(launch_and_fit pid=18168)\u001b[0m 188/188 - 8s - loss: 0.0355 - accuracy: 0.9905 - 8s/epoch - 43ms/step\n",
      "\u001b[2m\u001b[36m(launch_and_fit pid=18166)\u001b[0m 188/188 - 8s - loss: 0.0436 - accuracy: 0.9853 - 8s/epoch - 45ms/step\n",
      "\u001b[2m\u001b[36m(launch_and_fit pid=18167)\u001b[0m 188/188 - 9s - loss: 0.0338 - accuracy: 0.9907 - 9s/epoch - 47ms/step\n",
      "\u001b[2m\u001b[36m(launch_and_fit pid=18165)\u001b[0m 188/188 - 9s - loss: 0.0339 - accuracy: 0.9888 - 9s/epoch - 46ms/step\n",
      "\u001b[2m\u001b[36m(launch_and_fit pid=18168)\u001b[0m 188/188 - 9s - loss: 0.0353 - accuracy: 0.9900 - 9s/epoch - 47ms/step\n"
     ]
    },
    {
     "name": "stderr",
     "output_type": "stream",
     "text": [
      "DEBUG flwr 2023-04-16 18:50:35,459 | server.py:229 | fit_round 20 received 9 results and 0 failures\n",
      "DEBUG flwr 2023-04-16 18:50:35,490 | server.py:165 | evaluate_round 20: strategy sampled 10 clients (out of 10)\n"
     ]
    },
    {
     "name": "stdout",
     "output_type": "stream",
     "text": [
      "\u001b[2m\u001b[36m(launch_and_fit pid=18166)\u001b[0m 188/188 - 3s - loss: 0.0300 - accuracy: 0.9908 - 3s/epoch - 14ms/step\n",
      "\u001b[2m\u001b[36m(launch_and_evaluate pid=18167)\u001b[0m 32/32 - 1s - loss: 0.0285 - accuracy: 0.9930 - 610ms/epoch - 19ms/step\n",
      "\u001b[2m\u001b[36m(launch_and_evaluate pid=18165)\u001b[0m 32/32 - 1s - loss: 0.0376 - accuracy: 0.9870 - 576ms/epoch - 18ms/step\n",
      "\u001b[2m\u001b[36m(launch_and_evaluate pid=18166)\u001b[0m 32/32 - 1s - loss: 0.0353 - accuracy: 0.9890 - 644ms/epoch - 20ms/step\n",
      "\u001b[2m\u001b[36m(launch_and_evaluate pid=18168)\u001b[0m 32/32 - 1s - loss: 0.0371 - accuracy: 0.9900 - 612ms/epoch - 19ms/step\n",
      "\u001b[2m\u001b[36m(launch_and_evaluate pid=18167)\u001b[0m 32/32 - 1s - loss: 0.0335 - accuracy: 0.9890 - 625ms/epoch - 20ms/step\n",
      "\u001b[2m\u001b[36m(launch_and_evaluate pid=18165)\u001b[0m 32/32 - 1s - loss: 0.0532 - accuracy: 0.9830 - 665ms/epoch - 21ms/step\n",
      "\u001b[2m\u001b[36m(launch_and_evaluate pid=18166)\u001b[0m 32/32 - 1s - loss: 0.0397 - accuracy: 0.9890 - 591ms/epoch - 18ms/step\n",
      "\u001b[2m\u001b[36m(launch_and_evaluate pid=18168)\u001b[0m 32/32 - 1s - loss: 0.0436 - accuracy: 0.9910 - 577ms/epoch - 18ms/step\n"
     ]
    },
    {
     "name": "stderr",
     "output_type": "stream",
     "text": [
      "DEBUG flwr 2023-04-16 18:50:38,771 | server.py:179 | evaluate_round 20 received 10 results and 0 failures\n",
      "INFO flwr 2023-04-16 18:50:38,772 | server.py:144 | FL finished in 494.9172661730008\n",
      "INFO flwr 2023-04-16 18:50:38,773 | app.py:202 | app_fit: losses_distributed [(1, 0.2204069435596466), (2, 0.1310589276254177), (3, 0.11402957513928413), (4, 0.08745625615119934), (5, 0.0768874891102314), (6, 0.07392590753734112), (7, 0.0640633288770914), (8, 0.06075552999973297), (9, 0.05473022200167179), (10, 0.05507858395576477), (11, 0.05134987272322178), (12, 0.05181870087981224), (13, 0.04568491205573082), (14, 0.04432231467217207), (15, 0.04711736217141151), (16, 0.03936232291162014), (17, 0.04211579710245132), (18, 0.03995877280831337), (19, 0.036141260713338855), (20, 0.039538876712322236)]\n",
      "INFO flwr 2023-04-16 18:50:38,773 | app.py:203 | app_fit: metrics_distributed {'accuracy': [(1, 0.936599999666214), (2, 0.9617000043392181), (3, 0.9639999985694885), (4, 0.9748999953269959), (5, 0.9750000059604644), (6, 0.9760999977588654), (7, 0.9782999992370606), (8, 0.9802000045776367), (9, 0.9817999958992004), (10, 0.9819000005722046), (11, 0.983899998664856), (12, 0.9832000017166138), (13, 0.9847000002861023), (14, 0.9866000056266785), (15, 0.9838000059127807), (16, 0.9865000069141387), (17, 0.9863000035285949), (18, 0.9869999945163727), (19, 0.9874000012874603), (20, 0.9888000011444091)]}\n",
      "INFO flwr 2023-04-16 18:50:38,774 | app.py:204 | app_fit: losses_centralized []\n",
      "INFO flwr 2023-04-16 18:50:38,774 | app.py:205 | app_fit: metrics_centralized {}\n"
     ]
    }
   ],
   "source": [
    "history20 = fl.simulation.start_simulation(\n",
    "    client_fn=client_fn_random,\n",
    "    num_clients=num_clients,\n",
    "    config=fl.server.ServerConfig(num_rounds=20),\n",
    "    strategy=strategy,\n",
    ")"
   ]
  },
  {
   "cell_type": "code",
   "execution_count": 30,
   "metadata": {
    "id": "sMbYbQ7NGQyk"
   },
   "outputs": [
    {
     "name": "stdout",
     "output_type": "stream",
     "text": [
      "\u001b[2m\u001b[36m(launch_and_evaluate pid=18167)\u001b[0m 32/32 - 0s - loss: 0.0466 - accuracy: 0.9870 - 438ms/epoch - 14ms/step\n",
      "\u001b[2m\u001b[36m(launch_and_evaluate pid=18168)\u001b[0m 32/32 - 0s - loss: 0.0404 - accuracy: 0.9900 - 445ms/epoch - 14ms/step\n"
     ]
    },
    {
     "data": {
      "image/png": "[encoded data removed]",
      "text/plain": [
       "<Figure size 640x480 with 1 Axes>"
      ]
     },
     "metadata": {},
     "output_type": "display_data"
    }
   ],
   "source": [
    "plt.plot(*zip(*history20.metrics_distributed['accuracy']))\n",
    "plt.xlabel(\"Rounds\")\n",
    "plt.ylabel(\"Accuracy\")\n",
    "plt.show()"
   ]
  },
  {
   "cell_type": "markdown",
   "metadata": {
    "id": "NjhS4hFxPoBt"
   },
   "source": [
    "**Atividade 2** \n",
    "\n",
    "Fizemos o aprendizado federado mediado por uma simulação, mas em um cenário real teríamos processos clientes, representando os treinadores, sendo executados em várias máquinas independentes, conectadas a um processo servidor (agregador) pela rede ou pela Internet, por exemplo. \n",
    "\n",
    "Como tarefa para casa deve-se  realizar o aprendizado federado de uma maneira mais próxima da realidade, usando processos diferentes para rodar os clientes e o servidor. \n",
    "\n",
    "Para isso será necessário criar 2 programas python, o *client.py* e o *server.py*: \n",
    "\n",
    "\n",
    "*   O *client.py* deve implementar uma classe que herda a classe  *NumpyClient*, fornecida pela biblioteca flower, instanciar um objeto dessa classe e se conectar ao servidor;\n",
    "*   O *server.py* deve configurar um servidor de aprendizado federado usando um objeto *strategy* e um objeto *serverConfigserverConfig*. Em seguida deve-se iniciar o servidor para realizar o aprendizado com (no mínimo) 5 clientes.\n",
    "\n",
    "O *server.py* e o *client.py* devem ser executados em terminais próprios. Isto é, deve se usar um minimo de  6 terminais na solução dessa tarefa: um para o  servidor e um para cada cliente (5 no mínimo). \n",
    "\n",
    "Ao final, plotar a acurácia para 2,5, 10, 20 e 40 *rounds* como a quantidade de clientes definida por você (mínimo  5).\n",
    "\n"
   ]
  },
  {
   "cell_type": "markdown",
   "metadata": {
    "id": "06-xKYJVd_t-"
   },
   "source": [
    "Dicas:\n",
    "\n",
    "\n",
    "\n",
    "*   Não é necessário utilizar várias máquinas para isso;\n",
    "\n",
    "*    Nesta atividade podemos emular uma rede por meio da interface de rede *localhost* (IP: 127.0.0.1) onde os processos treinadores e servidores podem ser executados em terminais Linux separados conectando-se pelo endereço IP 127.0.0.1;\n",
    "*   Como referência, usem a [documentação da biblioteca *flower*](https://flower.dev/docs/) na Seção QuickStart tutorials: tensorflow\n",
    "\n"
   ]
  },
  {
   "cell_type": "markdown",
   "metadata": {
    "id": "DhW_2IZKVy15"
   },
   "source": [
    "**Atividade 3**\\\n",
    "**Obrigatória apenas para a pós-graduação** \n",
    "\n",
    "Usamos até agora uma rede neural convolucional para gerar o modelo treinado, tanto localmente como de maneira federada, mas o treinamento federado pode ser realizado (teoricamente) com qualquer classe de rede neural. \n",
    "\n",
    "Nesta atividade vocês deverão definir pelo menos 2 redes neurais não convolucionais para resolver o problema de classificação de dígitos com o *dataset mnist* e comparar os resultados do treinamento local e federado para essas redes.\n",
    "\n",
    "Dicas:\n",
    "\n",
    "\n",
    "*   O treinamento federado pode ser feito tanto por simulação, como este laboratório, ou com os programas *client.py* e *server.py* feitos na atividade anterior.\n",
    "\n",
    "\n"
   ]
  }
 ],
 "metadata": {
  "colab": {
   "provenance": []
  },
  "kernelspec": {
   "display_name": "Python 3 (ipykernel)",
   "language": "python",
   "name": "python3"
  },
  "language_info": {
   "codemirror_mode": {
    "name": "ipython",
    "version": 3
   },
   "file_extension": ".py",
   "mimetype": "text/x-python",
   "name": "python",
   "nbconvert_exporter": "python",
   "pygments_lexer": "ipython3",
   "version": "3.9.2"
  }
 },
 "nbformat": 4,
 "nbformat_minor": 1
}
